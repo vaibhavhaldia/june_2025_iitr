{
 "cells": [
  {
   "cell_type": "code",
   "execution_count": 1,
   "id": "c0f67840",
   "metadata": {},
   "outputs": [
    {
     "data": {
      "text/plain": [
       "4534534546"
      ]
     },
     "execution_count": 1,
     "metadata": {},
     "output_type": "execute_result"
    }
   ],
   "source": [
    "1+4534534545"
   ]
  },
  {
   "cell_type": "code",
   "execution_count": null,
   "id": "80e33952",
   "metadata": {},
   "outputs": [
    {
     "name": "stdout",
     "output_type": "stream",
     "text": [
      "All numbers in base 12:\n",
      "['0', '1', '2', '3', '4', '5', '6', '7', '8', '9', 'A', 'B', '10', '11', '12', '13', '14', '15', '16', '17', '18', '19', '1A', '1B', '20', '21', '22', '23', '24', '25', '26', '27', '28', '29', '2A', '2B', '30', '31', '32', '33', '34', '35', '36', '37', '38', '39', '3A', '3B', '40', '41', '42', '43', '44', '45', '46', '47', '48', '49', '4A', '4B', '50', '51', '52', '53', '54', '55', '56', '57', '58', '59', '5A', '5B', '60', '61', '62', '63', '64', '65', '66', '67', '68', '69', '6A', '6B', '70', '71', '72', '73', '74', '75', '76', '77', '78', '79', '7A', '7B', '80', '81', '82', '83', '84', '85', '86', '87', '88', '89', '8A', '8B', '90', '91', '92', '93', '94', '95', '96', '97', '98', '99', '9A', '9B', 'A0', 'A1', 'A2', 'A3', 'A4', 'A5', 'A6', 'A7', 'A8', 'A9', 'AA', 'AB', 'B0', 'B1', 'B2', 'B3', 'B4', 'B5', 'B6', 'B7', 'B8', 'B9', 'BA', 'BB', '100', '101', '102', '103', '104', '105', '106', '107', '108', '109', '10A', '10B', '110', '111', '112', '113', '114', '115', '116', '117', '118', '119', '11A', '11B', '120', '121', '122', '123', '124', '125', '126', '127', '128', '129', '12A', '12B', '130', '131', '132', '133', '134', '135', '136', '137', '138', '139', '13A', '13B', '140', '141', '142', '143', '144', '145', '146', '147', '148', '149', '14A', '14B', '150', '151', '152', '153', '154', '155', '156', '157', '158', '159', '15A', '15B', '160', '161', '162', '163', '164', '165', '166', '167', '168', '169', '16A', '16B', '170', '171', '172', '173', '174', '175', '176', '177', '178', '179', '17A', '17B', '180', '181', '182', '183', '184', '185', '186', '187', '188', '189', '18A', '18B', '190', '191', '192', '193', '194', '195', '196', '197', '198', '199', '19A', '19B', '1A0', '1A1', '1A2', '1A3', '1A4', '1A5', '1A6', '1A7', '1A8', '1A9', '1AA', '1AB', '1B0', '1B1', '1B2', '1B3', '1B4', '1B5', '1B6', '1B7', '1B8', '1B9', '1BA', '1BB', '200', '201', '202', '203', '204', '205', '206', '207', '208', '209', '20A', '20B', '210', '211', '212', '213', '214', '215', '216', '217', '218', '219', '21A', '21B', '220', '221', '222', '223', '224', '225', '226', '227', '228', '229', '22A', '22B', '230', '231', '232', '233', '234', '235', '236', '237', '238', '239', '23A', '23B', '240', '241', '242', '243', '244', '245', '246', '247', '248', '249', '24A', '24B', '250', '251', '252', '253', '254', '255', '256', '257', '258', '259', '25A', '25B', '260', '261', '262', '263', '264', '265', '266', '267', '268', '269', '26A', '26B', '270', '271', '272', '273', '274', '275', '276', '277', '278', '279', '27A', '27B', '280', '281', '282', '283', '284', '285', '286', '287', '288', '289', '28A', '28B', '290', '291', '292', '293', '294', '295', '296', '297', '298', '299', '29A', '29B', '2A0', '2A1', '2A2', '2A3', '2A4', '2A5', '2A6', '2A7', '2A8', '2A9', '2AA', '2AB', '2B0', '2B1', '2B2', '2B3', '2B4', '2B5', '2B6', '2B7', '2B8', '2B9', '2BA', '2BB', '300', '301', '302', '303', '304', '305', '306', '307', '308', '309', '30A', '30B', '310', '311', '312', '313', '314', '315', '316', '317', '318', '319', '31A', '31B', '320', '321', '322', '323', '324', '325', '326', '327', '328', '329', '32A', '32B', '330', '331', '332', '333', '334', '335', '336', '337', '338', '339', '33A', '33B', '340', '341', '342', '343', '344', '345', '346', '347', '348', '349', '34A', '34B', '350', '351', '352', '353', '354', '355', '356', '357', '358', '359', '35A', '35B', '360', '361', '362', '363', '364', '365', '366', '367', '368', '369', '36A', '36B', '370', '371', '372', '373', '374', '375', '376', '377', '378', '379', '37A', '37B', '380', '381', '382', '383', '384', '385', '386', '387', '388', '389', '38A', '38B', '390', '391', '392', '393', '394', '395', '396', '397', '398', '399', '39A', '39B', '3A0', '3A1', '3A2', '3A3', '3A4', '3A5', '3A6', '3A7', '3A8', '3A9', '3AA', '3AB', '3B0', '3B1', '3B2', '3B3', '3B4', '3B5', '3B6', '3B7', '3B8', '3B9', '3BA', '3BB', '400', '401', '402', '403', '404', '405', '406', '407', '408', '409', '40A', '40B', '410', '411', '412', '413', '414', '415', '416', '417', '418', '419', '41A', '41B', '420', '421', '422', '423', '424', '425', '426', '427', '428', '429', '42A', '42B', '430', '431', '432', '433', '434', '435', '436', '437', '438', '439', '43A', '43B', '440', '441', '442', '443', '444', '445', '446', '447', '448', '449', '44A', '44B', '450', '451', '452', '453', '454', '455', '456', '457', '458', '459', '45A', '45B', '460', '461', '462', '463', '464', '465', '466', '467', '468', '469', '46A', '46B', '470', '471', '472', '473', '474', '475', '476', '477', '478', '479', '47A', '47B', '480', '481', '482', '483', '484', '485', '486', '487', '488', '489', '48A', '48B', '490', '491', '492', '493', '494', '495', '496', '497', '498', '499', '49A', '49B', '4A0', '4A1', '4A2', '4A3', '4A4', '4A5', '4A6', '4A7', '4A8', '4A9', '4AA', '4AB', '4B0', '4B1', '4B2', '4B3', '4B4', '4B5', '4B6', '4B7', '4B8', '4B9', '4BA', '4BB', '500', '501', '502', '503', '504', '505', '506', '507', '508', '509', '50A', '50B', '510', '511', '512', '513', '514', '515', '516', '517', '518', '519', '51A', '51B', '520', '521', '522', '523', '524', '525', '526', '527', '528', '529', '52A', '52B', '530', '531', '532', '533', '534', '535', '536', '537', '538', '539', '53A', '53B', '540', '541', '542', '543', '544', '545', '546', '547', '548', '549', '54A', '54B', '550', '551', '552', '553', '554', '555', '556', '557', '558', '559', '55A', '55B', '560', '561', '562', '563', '564', '565', '566', '567', '568', '569', '56A', '56B', '570', '571', '572', '573', '574', '575', '576', '577', '578', '579', '57A', '57B', '580', '581', '582', '583', '584', '585', '586', '587', '588', '589', '58A', '58B', '590', '591', '592', '593', '594', '595', '596', '597', '598', '599', '59A', '59B', '5A0', '5A1', '5A2', '5A3', '5A4', '5A5', '5A6', '5A7', '5A8', '5A9', '5AA', '5AB', '5B0', '5B1', '5B2', '5B3', '5B4', '5B5', '5B6', '5B7', '5B8', '5B9', '5BA', '5BB', '600', '601', '602', '603', '604', '605', '606', '607', '608', '609', '60A', '60B', '610', '611', '612', '613', '614', '615', '616', '617', '618', '619', '61A', '61B', '620', '621', '622', '623', '624', '625', '626', '627', '628', '629', '62A', '62B', '630', '631', '632', '633', '634', '635', '636', '637', '638', '639', '63A', '63B', '640', '641', '642', '643', '644', '645', '646', '647', '648', '649', '64A', '64B', '650', '651', '652', '653', '654', '655', '656', '657', '658', '659', '65A', '65B', '660', '661', '662', '663', '664', '665', '666', '667', '668', '669', '66A', '66B', '670', '671', '672', '673', '674', '675', '676', '677', '678', '679', '67A', '67B', '680', '681', '682', '683', '684', '685', '686', '687', '688', '689', '68A', '68B', '690', '691', '692', '693', '694', '695', '696', '697', '698', '699', '69A', '69B', '6A0', '6A1', '6A2', '6A3', '6A4', '6A5', '6A6', '6A7', '6A8', '6A9', '6AA', '6AB', '6B0', '6B1', '6B2', '6B3', '6B4', '6B5', '6B6', '6B7', '6B8', '6B9', '6BA', '6BB', '700', '701', '702', '703', '704', '705', '706', '707', '708', '709', '70A', '70B', '710', '711', '712', '713', '714', '715', '716', '717', '718', '719', '71A', '71B', '720', '721', '722', '723', '724', '725', '726', '727', '728', '729', '72A', '72B', '730', '731', '732', '733', '734', '735', '736', '737', '738', '739', '73A', '73B', '740', '741', '742', '743', '744', '745', '746', '747', '748', '749', '74A', '74B', '750', '751', '752', '753', '754', '755', '756', '757', '758', '759', '75A', '75B', '760', '761', '762', '763', '764', '765', '766', '767', '768', '769', '76A', '76B', '770', '771', '772', '773', '774', '775', '776', '777', '778', '779', '77A', '77B', '780', '781', '782', '783', '784', '785', '786', '787', '788', '789', '78A', '78B', '790', '791', '792', '793', '794', '795', '796', '797', '798', '799', '79A', '79B', '7A0', '7A1', '7A2', '7A3', '7A4', '7A5', '7A6', '7A7', '7A8', '7A9', '7AA', '7AB', '7B0', '7B1', '7B2', '7B3', '7B4', '7B5', '7B6', '7B7', '7B8', '7B9', '7BA', '7BB', '800', '801', '802', '803', '804', '805', '806', '807', '808', '809', '80A', '80B', '810', '811', '812', '813', '814', '815', '816', '817', '818', '819', '81A', '81B', '820', '821', '822', '823', '824', '825', '826', '827', '828', '829', '82A', '82B', '830', '831', '832', '833', '834', '835', '836', '837', '838', '839', '83A', '83B', '840', '841', '842', '843', '844', '845', '846', '847', '848', '849', '84A', '84B', '850', '851', '852', '853', '854', '855', '856', '857', '858', '859', '85A', '85B', '860', '861', '862', '863', '864', '865', '866', '867', '868', '869', '86A', '86B', '870', '871', '872', '873', '874', '875', '876', '877', '878', '879', '87A', '87B', '880', '881', '882', '883', '884', '885', '886', '887', '888', '889', '88A', '88B', '890', '891', '892', '893', '894', '895', '896', '897', '898', '899', '89A', '89B', '8A0', '8A1', '8A2', '8A3', '8A4', '8A5', '8A6', '8A7', '8A8', '8A9', '8AA', '8AB', '8B0', '8B1', '8B2', '8B3', '8B4', '8B5', '8B6', '8B7', '8B8', '8B9', '8BA', '8BB', '900', '901', '902', '903', '904', '905', '906', '907', '908', '909', '90A', '90B', '910', '911', '912', '913', '914', '915', '916', '917', '918', '919', '91A', '91B', '920', '921', '922', '923', '924', '925', '926', '927', '928', '929', '92A', '92B', '930', '931', '932', '933', '934', '935', '936', '937', '938', '939', '93A', '93B', '940', '941', '942', '943', '944', '945', '946', '947', '948', '949', '94A', '94B', '950', '951', '952', '953', '954', '955', '956', '957', '958', '959', '95A', '95B', '960', '961', '962', '963', '964', '965', '966', '967', '968', '969', '96A', '96B', '970', '971', '972', '973', '974', '975', '976', '977', '978', '979', '97A', '97B', '980', '981', '982', '983', '984', '985', '986', '987', '988', '989', '98A', '98B', '990', '991', '992', '993', '994', '995', '996', '997', '998', '999', '99A', '99B', '9A0', '9A1', '9A2', '9A3', '9A4', '9A5', '9A6', '9A7', '9A8', '9A9', '9AA', '9AB', '9B0', '9B1', '9B2', '9B3', '9B4', '9B5', '9B6', '9B7', '9B8', '9B9', '9BA', '9BB', 'A00', 'A01', 'A02', 'A03', 'A04', 'A05', 'A06', 'A07', 'A08', 'A09', 'A0A', 'A0B', 'A10', 'A11', 'A12', 'A13', 'A14', 'A15', 'A16', 'A17', 'A18', 'A19', 'A1A', 'A1B', 'A20', 'A21', 'A22', 'A23', 'A24', 'A25', 'A26', 'A27', 'A28', 'A29', 'A2A', 'A2B', 'A30', 'A31', 'A32', 'A33', 'A34', 'A35', 'A36', 'A37', 'A38', 'A39', 'A3A', 'A3B', 'A40', 'A41', 'A42', 'A43', 'A44', 'A45', 'A46', 'A47', 'A48', 'A49', 'A4A', 'A4B', 'A50', 'A51', 'A52', 'A53', 'A54', 'A55', 'A56', 'A57', 'A58', 'A59', 'A5A', 'A5B', 'A60', 'A61', 'A62', 'A63', 'A64', 'A65', 'A66', 'A67', 'A68', 'A69', 'A6A', 'A6B', 'A70', 'A71', 'A72', 'A73', 'A74', 'A75', 'A76', 'A77', 'A78', 'A79', 'A7A', 'A7B', 'A80', 'A81', 'A82', 'A83', 'A84', 'A85', 'A86', 'A87', 'A88', 'A89', 'A8A', 'A8B', 'A90', 'A91', 'A92', 'A93', 'A94', 'A95', 'A96', 'A97', 'A98', 'A99', 'A9A', 'A9B', 'AA0', 'AA1', 'AA2', 'AA3', 'AA4', 'AA5', 'AA6', 'AA7', 'AA8', 'AA9', 'AAA', 'AAB', 'AB0', 'AB1', 'AB2', 'AB3', 'AB4', 'AB5', 'AB6', 'AB7', 'AB8', 'AB9', 'ABA', 'ABB', 'B00', 'B01', 'B02', 'B03', 'B04', 'B05', 'B06', 'B07', 'B08', 'B09', 'B0A', 'B0B', 'B10', 'B11', 'B12', 'B13', 'B14', 'B15', 'B16', 'B17', 'B18', 'B19', 'B1A', 'B1B', 'B20', 'B21', 'B22', 'B23', 'B24', 'B25', 'B26', 'B27', 'B28', 'B29', 'B2A', 'B2B', 'B30', 'B31', 'B32', 'B33', 'B34', 'B35', 'B36', 'B37', 'B38', 'B39', 'B3A', 'B3B', 'B40', 'B41', 'B42', 'B43', 'B44', 'B45', 'B46', 'B47', 'B48', 'B49', 'B4A', 'B4B', 'B50', 'B51', 'B52', 'B53', 'B54', 'B55', 'B56', 'B57', 'B58', 'B59', 'B5A', 'B5B', 'B60', 'B61', 'B62', 'B63', 'B64', 'B65', 'B66', 'B67', 'B68', 'B69', 'B6A', 'B6B', 'B70', 'B71', 'B72', 'B73', 'B74', 'B75', 'B76', 'B77', 'B78', 'B79', 'B7A', 'B7B', 'B80', 'B81', 'B82', 'B83', 'B84', 'B85', 'B86', 'B87', 'B88', 'B89', 'B8A', 'B8B', 'B90', 'B91', 'B92', 'B93', 'B94', 'B95', 'B96', 'B97', 'B98', 'B99', 'B9A', 'B9B', 'BA0', 'BA1', 'BA2', 'BA3', 'BA4', 'BA5', 'BA6', 'BA7', 'BA8', 'BA9', 'BAA', 'BAB', 'BB0', 'BB1', 'BB2', 'BB3', 'BB4', 'BB5', 'BB6', 'BB7', 'BB8', 'BB9', 'BBA', 'BBB']\n",
      "\n",
      "Total: 1728\n",
      "1-digit: 12, 2-digit: 132, 3-digit: 1584\n"
     ]
    }
   ],
   "source": [
    "# Q1: Choose your base between 3 and 13. And write upto 3 three digit numbers in that base.\n",
    "\n",
    "def get_base_numbers_optimal(base, max_digits=3):\n",
    "    \"\"\"Simple optimal solution - generate numbers 0 to base^max_digits - 1\"\"\"\n",
    "    numbers = []\n",
    "    max_num = base ** max_digits  # This is actually correct!\n",
    "    \n",
    "    for i in range(max_num):\n",
    "        # Convert to base\n",
    "        if i == 0:\n",
    "            numbers.append(\"0\")\n",
    "        else:\n",
    "            result = \"\"\n",
    "            temp = i\n",
    "            while temp > 0:\n",
    "                digit = temp % base\n",
    "                if digit < 10:\n",
    "                    result = str(digit) + result\n",
    "                else:\n",
    "                    result = chr(ord('A') + digit - 10) + result\n",
    "                temp //= base\n",
    "            numbers.append(result)\n",
    "    \n",
    "    return numbers\n",
    "\n",
    "# Simple test\n",
    "base = int(input(\"Enter a base between 3 and 13: \"))\n",
    "\n",
    "if base < 3 or base > 13:\n",
    "    print(\"Base must be between 3 and 13.\")\n",
    "else:\n",
    "    numbers = get_base_numbers_optimal(base, 3)\n",
    "    \n",
    "    print(f\"All numbers in base {base}:\")\n",
    "    print(numbers)\n",
    "    print(f\"\\nTotal: {len(numbers)}\")\n",
    "    \n",
    "    # Quick breakdown\n",
    "    one_digit = [n for n in numbers if len(n) == 1]\n",
    "    two_digit = [n for n in numbers if len(n) == 2] \n",
    "    three_digit = [n for n in numbers if len(n) == 3]\n",
    "    \n",
    "    print(f\"1-digit: {len(one_digit)}, 2-digit: {len(two_digit)}, 3-digit: {len(three_digit)}\")"
   ]
  },
  {
   "cell_type": "code",
   "execution_count": 5,
   "id": "db251278",
   "metadata": {},
   "outputs": [
    {
     "name": "stdout",
     "output_type": "stream",
     "text": [
      "what is this?\n"
     ]
    }
   ],
   "source": [
    "str = 'what is this?'\n",
    "print(str)"
   ]
  },
  {
   "cell_type": "code",
   "execution_count": 6,
   "id": "2be43cc0",
   "metadata": {},
   "outputs": [
    {
     "name": "stderr",
     "output_type": "stream",
     "text": [
      "python(39887) MallocStackLogging: can't turn off malloc stack logging because it was not enabled.\n",
      "python(39888) MallocStackLogging: can't turn off malloc stack logging because it was not enabled.\n",
      "Matplotlib is building the font cache; this may take a moment.\n"
     ]
    },
    {
     "data": {
      "image/png": "[encoded data removed]",
      "text/plain": [
       "<Figure size 600x300 with 1 Axes>"
      ]
     },
     "metadata": {},
     "output_type": "display_data"
    },
    {
     "data": {
      "image/png": "[encoded data removed]",
      "text/plain": [
       "<Figure size 600x300 with 1 Axes>"
      ]
     },
     "metadata": {},
     "output_type": "display_data"
    },
    {
     "data": {
      "image/png": "[encoded data removed]",
      "text/plain": [
       "<Figure size 600x300 with 1 Axes>"
      ]
     },
     "metadata": {},
     "output_type": "display_data"
    },
    {
     "data": {
      "image/png": "[encoded data removed]",
      "text/plain": [
       "<Figure size 600x300 with 1 Axes>"
      ]
     },
     "metadata": {},
     "output_type": "display_data"
    },
    {
     "data": {
      "image/png": "[encoded data removed]",
      "text/plain": [
       "<Figure size 600x300 with 1 Axes>"
      ]
     },
     "metadata": {},
     "output_type": "display_data"
    },
    {
     "data": {
      "image/png": "[encoded data removed]",
      "text/plain": [
       "<Figure size 600x600 with 1 Axes>"
      ]
     },
     "metadata": {},
     "output_type": "display_data"
    },
    {
     "data": {
      "application/vnd.plotly.v1+json": {
       "config": {
        "plotlyServerURL": "https://plot.ly"
       },
       "data": [
        {
         "hovertemplate": "D=X<br>A=%{x}<br>B=%{y}<extra></extra>",
         "legendgroup": "X",
         "marker": {
          "color": "#636efa",
          "symbol": "circle"
         },
         "mode": "markers",
         "name": "X",
         "orientation": "v",
         "showlegend": true,
         "type": "scatter",
         "x": [
          1.764052345967664,
          2.240893199201458,
          1.8675579901499675,
          -0.977277879876411,
          0.9500884175255894,
          1.454273506962975,
          2.2697546239876076,
          -1.4543656745987648,
          0.04575851730144607,
          1.5327792143584575,
          0.1549474256969163,
          -0.3479121493261526,
          0.15634896910398005,
          1.230290680727721,
          1.2023798487844115,
          -0.3873268174079523,
          -1.4200179371789752,
          1.9507753952317897,
          -1.2527953600499264,
          0.7774903558319103,
          -1.180632184122412,
          -0.028182228338654868,
          -0.6343220936809636,
          -0.3627411659871381,
          -0.3595531615405413,
          -1.6301983469660446,
          0.4627822555257742,
          0.05194539579613895,
          0.7290905621775369,
          1.1394006845433007,
          -1.2348258203536526,
          0.9008264869541871,
          -1.5362436862772237,
          1.8958891760305832,
          -0.17992483581235091,
          -1.0707526215105427,
          0.3563663971744019,
          0.7065731681919482,
          1.7858704939058352,
          0.12691209270361992
         ],
         "xaxis": "x",
         "y": [
          42.38550485581797,
          30.15748166745493,
          66.01735374926851,
          29.007760721044406,
          61.801542899884154,
          59.08727612481732,
          71.42412995491114,
          99.88470065678665,
          14.944830465799374,
          16.249293467637482,
          12.381998284944151,
          40.71832972259997,
          6.916699545513804,
          69.74287731445636,
          45.35426826780689,
          72.20555994703479,
          85.5803342392611,
          35.99780644783639,
          52.10366062041293,
          5.433798833925363,
          92.80812934655908,
          70.44144019235328,
          57.72285886041676,
          23.78928213745086,
          61.3965955965896,
          39.82210622160919,
          20.984374897512215,
          94.43723899839335,
          73.95507950492876,
          22.741462797332325,
          25.435648177039294,
          6.724963146324859,
          45.36968445560453,
          89.6671293040342,
          21.689698439847394,
          66.30782031001007,
          58.831711355360575,
          83.10484552361905,
          87.26506554473953,
          27.354203481563577
         ],
         "yaxis": "y"
        },
        {
         "hovertemplate": "D=Z<br>A=%{x}<br>B=%{y}<extra></extra>",
         "legendgroup": "Z",
         "marker": {
          "color": "#EF553B",
          "symbol": "circle"
         },
         "mode": "markers",
         "name": "Z",
         "orientation": "v",
         "showlegend": true,
         "type": "scatter",
         "x": [
          0.4001572083672233,
          -0.10321885179355784,
          0.41059850193837233,
          0.31306770165090136,
          -0.8540957393017248,
          -0.7421650204064417,
          0.37816251960217356,
          -0.8877857476301128,
          -0.30230275057533557,
          -1.7062701906250126,
          -0.5096521817516535,
          -1.6138978475579515,
          -0.8954665611936756,
          0.386902497859262,
          0.42833187053041766,
          -0.672460447775951,
          -1.7262826023316769,
          0.17742614225375283,
          0.12898291075741067,
          -1.1651498407833565,
          0.46566243973045984,
          1.1787795711596507,
          -0.40317694697317963,
          0.010500020720820478,
          0.40198936344470165
         ],
         "xaxis": "x",
         "y": [
          60.639321412792434,
          13.547406422245023,
          29.828232595603076,
          43.58649252656268,
          89.19233550156721,
          91.94826137446735,
          84.80082293222344,
          80.73189587250107,
          86.63823259286292,
          1.1714084185001972,
          72.9990562424058,
          19.999652489640006,
          79.36977033574206,
          22.392468806038014,
          3.1838929531307847,
          93.42139979247938,
          58.9909976354571,
          73.01220295167697,
          49.04588086175671,
          2.467872839133123,
          67.93927734985672,
          99.03389473967043,
          2.065099946572868,
          62.89818435911487,
          79.80468339125638
         ],
         "yaxis": "y"
        },
        {
         "hovertemplate": "D=Y<br>A=%{x}<br>B=%{y}<extra></extra>",
         "legendgroup": "Y",
         "marker": {
          "color": "#00cc96",
          "symbol": "circle"
         },
         "mode": "markers",
         "name": "Y",
         "orientation": "v",
         "showlegend": true,
         "type": "scatter",
         "x": [
          0.9787379841057392,
          -0.1513572082976979,
          0.144043571160878,
          0.7610377251469934,
          0.12167501649282841,
          0.44386323274542566,
          0.33367432737426683,
          1.4940790731576061,
          -0.20515826376580087,
          -2.5529898158340787,
          0.6536185954403606,
          0.8644361988595055,
          -0.1871838500258336,
          1.469358769900285,
          -1.980796468223927,
          -1.0485529650670926,
          -0.4380743016111864,
          -0.2127402802139687,
          -0.510805137568873,
          0.06651722238316789,
          0.3024718977397814,
          -0.813146282044454,
          -0.4017809362082619,
          -0.9072983643832422,
          0.402341641177549,
          -0.6848100909403132,
          -0.8707971491818818,
          -0.5788496647644155,
          -0.31155253212737266,
          0.05616534222974544,
          1.4882521937955997,
          1.0544517269311369,
          1.2224450703824274,
          0.20827497807686035,
          0.9766390364837131
         ],
         "xaxis": "x",
         "y": [
          1.9193198309333526,
          42.87687009457662,
          56.99649107012649,
          57.43252488495788,
          65.32008198571336,
          65.21032700016889,
          43.14184354339739,
          89.6546595851063,
          36.75618700478965,
          80.61939890460857,
          70.38885835403663,
          10.022688731230112,
          86.81260573682142,
          61.55595642838442,
          56.91007386145933,
          97.55215050028858,
          17.162967726144053,
          1.8521794460613972,
          34.53516806969027,
          16.469415649791273,
          62.14784014997635,
          53.56328030249583,
          31.194499547960184,
          18.619300588033617,
          5.802916032387562,
          43.44166255581208,
          31.179588199410258,
          69.63434888154595,
          37.775183929248094,
          17.960367755963482,
          53.65792111087222,
          26.332237673715063,
          75.83786538361414,
          32.00171508224678,
          38.3463894171898
         ],
         "yaxis": "y"
        }
       ],
       "layout": {
        "legend": {
         "title": {
          "text": "D"
         },
         "tracegroupgap": 0
        },
        "template": {
         "data": {
          "bar": [
           {
            "error_x": {
             "color": "#2a3f5f"
            },
            "error_y": {
             "color": "#2a3f5f"
            },
            "marker": {
             "line": {
              "color": "#E5ECF6",
              "width": 0.5
             },
             "pattern": {
              "fillmode": "overlay",
              "size": 10,
              "solidity": 0.2
             }
            },
            "type": "bar"
           }
          ],
          "barpolar": [
           {
            "marker": {
             "line": {
              "color": "#E5ECF6",
              "width": 0.5
             },
             "pattern": {
              "fillmode": "overlay",
              "size": 10,
              "solidity": 0.2
             }
            },
            "type": "barpolar"
           }
          ],
          "carpet": [
           {
            "aaxis": {
             "endlinecolor": "#2a3f5f",
             "gridcolor": "white",
             "linecolor": "white",
             "minorgridcolor": "white",
             "startlinecolor": "#2a3f5f"
            },
            "baxis": {
             "endlinecolor": "#2a3f5f",
             "gridcolor": "white",
             "linecolor": "white",
             "minorgridcolor": "white",
             "startlinecolor": "#2a3f5f"
            },
            "type": "carpet"
           }
          ],
          "choropleth": [
           {
            "colorbar": {
             "outlinewidth": 0,
             "ticks": ""
            },
            "type": "choropleth"
           }
          ],
          "contour": [
           {
            "colorbar": {
             "outlinewidth": 0,
             "ticks": ""
            },
            "colorscale": [
             [
              0,
              "#0d0887"
             ],
             [
              0.1111111111111111,
              "#46039f"
             ],
             [
              0.2222222222222222,
              "#7201a8"
             ],
             [
              0.3333333333333333,
              "#9c179e"
             ],
             [
              0.4444444444444444,
              "#bd3786"
             ],
             [
              0.5555555555555556,
              "#d8576b"
             ],
             [
              0.6666666666666666,
              "#ed7953"
             ],
             [
              0.7777777777777778,
              "#fb9f3a"
             ],
             [
              0.8888888888888888,
              "#fdca26"
             ],
             [
              1,
              "#f0f921"
             ]
            ],
            "type": "contour"
           }
          ],
          "contourcarpet": [
           {
            "colorbar": {
             "outlinewidth": 0,
             "ticks": ""
            },
            "type": "contourcarpet"
           }
          ],
          "heatmap": [
           {
            "colorbar": {
             "outlinewidth": 0,
             "ticks": ""
            },
            "colorscale": [
             [
              0,
              "#0d0887"
             ],
             [
              0.1111111111111111,
              "#46039f"
             ],
             [
              0.2222222222222222,
              "#7201a8"
             ],
             [
              0.3333333333333333,
              "#9c179e"
             ],
             [
              0.4444444444444444,
              "#bd3786"
             ],
             [
              0.5555555555555556,
              "#d8576b"
             ],
             [
              0.6666666666666666,
              "#ed7953"
             ],
             [
              0.7777777777777778,
              "#fb9f3a"
             ],
             [
              0.8888888888888888,
              "#fdca26"
             ],
             [
              1,
              "#f0f921"
             ]
            ],
            "type": "heatmap"
           }
          ],
          "heatmapgl": [
           {
            "colorbar": {
             "outlinewidth": 0,
             "ticks": ""
            },
            "colorscale": [
             [
              0,
              "#0d0887"
             ],
             [
              0.1111111111111111,
              "#46039f"
             ],
             [
              0.2222222222222222,
              "#7201a8"
             ],
             [
              0.3333333333333333,
              "#9c179e"
             ],
             [
              0.4444444444444444,
              "#bd3786"
             ],
             [
              0.5555555555555556,
              "#d8576b"
             ],
             [
              0.6666666666666666,
              "#ed7953"
             ],
             [
              0.7777777777777778,
              "#fb9f3a"
             ],
             [
              0.8888888888888888,
              "#fdca26"
             ],
             [
              1,
              "#f0f921"
             ]
            ],
            "type": "heatmapgl"
           }
          ],
          "histogram": [
           {
            "marker": {
             "pattern": {
              "fillmode": "overlay",
              "size": 10,
              "solidity": 0.2
             }
            },
            "type": "histogram"
           }
          ],
          "histogram2d": [
           {
            "colorbar": {
             "outlinewidth": 0,
             "ticks": ""
            },
            "colorscale": [
             [
              0,
              "#0d0887"
             ],
             [
              0.1111111111111111,
              "#46039f"
             ],
             [
              0.2222222222222222,
              "#7201a8"
             ],
             [
              0.3333333333333333,
              "#9c179e"
             ],
             [
              0.4444444444444444,
              "#bd3786"
             ],
             [
              0.5555555555555556,
              "#d8576b"
             ],
             [
              0.6666666666666666,
              "#ed7953"
             ],
             [
              0.7777777777777778,
              "#fb9f3a"
             ],
             [
              0.8888888888888888,
              "#fdca26"
             ],
             [
              1,
              "#f0f921"
             ]
            ],
            "type": "histogram2d"
           }
          ],
          "histogram2dcontour": [
           {
            "colorbar": {
             "outlinewidth": 0,
             "ticks": ""
            },
            "colorscale": [
             [
              0,
              "#0d0887"
             ],
             [
              0.1111111111111111,
              "#46039f"
             ],
             [
              0.2222222222222222,
              "#7201a8"
             ],
             [
              0.3333333333333333,
              "#9c179e"
             ],
             [
              0.4444444444444444,
              "#bd3786"
             ],
             [
              0.5555555555555556,
              "#d8576b"
             ],
             [
              0.6666666666666666,
              "#ed7953"
             ],
             [
              0.7777777777777778,
              "#fb9f3a"
             ],
             [
              0.8888888888888888,
              "#fdca26"
             ],
             [
              1,
              "#f0f921"
             ]
            ],
            "type": "histogram2dcontour"
           }
          ],
          "mesh3d": [
           {
            "colorbar": {
             "outlinewidth": 0,
             "ticks": ""
            },
            "type": "mesh3d"
           }
          ],
          "parcoords": [
           {
            "line": {
             "colorbar": {
              "outlinewidth": 0,
              "ticks": ""
             }
            },
            "type": "parcoords"
           }
          ],
          "pie": [
           {
            "automargin": true,
            "type": "pie"
           }
          ],
          "scatter": [
           {
            "fillpattern": {
             "fillmode": "overlay",
             "size": 10,
             "solidity": 0.2
            },
            "type": "scatter"
           }
          ],
          "scatter3d": [
           {
            "line": {
             "colorbar": {
              "outlinewidth": 0,
              "ticks": ""
             }
            },
            "marker": {
             "colorbar": {
              "outlinewidth": 0,
              "ticks": ""
             }
            },
            "type": "scatter3d"
           }
          ],
          "scattercarpet": [
           {
            "marker": {
             "colorbar": {
              "outlinewidth": 0,
              "ticks": ""
             }
            },
            "type": "scattercarpet"
           }
          ],
          "scattergeo": [
           {
            "marker": {
             "colorbar": {
              "outlinewidth": 0,
              "ticks": ""
             }
            },
            "type": "scattergeo"
           }
          ],
          "scattergl": [
           {
            "marker": {
             "colorbar": {
              "outlinewidth": 0,
              "ticks": ""
             }
            },
            "type": "scattergl"
           }
          ],
          "scattermapbox": [
           {
            "marker": {
             "colorbar": {
              "outlinewidth": 0,
              "ticks": ""
             }
            },
            "type": "scattermapbox"
           }
          ],
          "scatterpolar": [
           {
            "marker": {
             "colorbar": {
              "outlinewidth": 0,
              "ticks": ""
             }
            },
            "type": "scatterpolar"
           }
          ],
          "scatterpolargl": [
           {
            "marker": {
             "colorbar": {
              "outlinewidth": 0,
              "ticks": ""
             }
            },
            "type": "scatterpolargl"
           }
          ],
          "scatterternary": [
           {
            "marker": {
             "colorbar": {
              "outlinewidth": 0,
              "ticks": ""
             }
            },
            "type": "scatterternary"
           }
          ],
          "surface": [
           {
            "colorbar": {
             "outlinewidth": 0,
             "ticks": ""
            },
            "colorscale": [
             [
              0,
              "#0d0887"
             ],
             [
              0.1111111111111111,
              "#46039f"
             ],
             [
              0.2222222222222222,
              "#7201a8"
             ],
             [
              0.3333333333333333,
              "#9c179e"
             ],
             [
              0.4444444444444444,
              "#bd3786"
             ],
             [
              0.5555555555555556,
              "#d8576b"
             ],
             [
              0.6666666666666666,
              "#ed7953"
             ],
             [
              0.7777777777777778,
              "#fb9f3a"
             ],
             [
              0.8888888888888888,
              "#fdca26"
             ],
             [
              1,
              "#f0f921"
             ]
            ],
            "type": "surface"
           }
          ],
          "table": [
           {
            "cells": {
             "fill": {
              "color": "#EBF0F8"
             },
             "line": {
              "color": "white"
             }
            },
            "header": {
             "fill": {
              "color": "#C8D4E3"
             },
             "line": {
              "color": "white"
             }
            },
            "type": "table"
           }
          ]
         },
         "layout": {
          "annotationdefaults": {
           "arrowcolor": "#2a3f5f",
           "arrowhead": 0,
           "arrowwidth": 1
          },
          "autotypenumbers": "strict",
          "coloraxis": {
           "colorbar": {
            "outlinewidth": 0,
            "ticks": ""
           }
          },
          "colorscale": {
           "diverging": [
            [
             0,
             "#8e0152"
            ],
            [
             0.1,
             "#c51b7d"
            ],
            [
             0.2,
             "#de77ae"
            ],
            [
             0.3,
             "#f1b6da"
            ],
            [
             0.4,
             "#fde0ef"
            ],
            [
             0.5,
             "#f7f7f7"
            ],
            [
             0.6,
             "#e6f5d0"
            ],
            [
             0.7,
             "#b8e186"
            ],
            [
             0.8,
             "#7fbc41"
            ],
            [
             0.9,
             "#4d9221"
            ],
            [
             1,
             "#276419"
            ]
           ],
           "sequential": [
            [
             0,
             "#0d0887"
            ],
            [
             0.1111111111111111,
             "#46039f"
            ],
            [
             0.2222222222222222,
             "#7201a8"
            ],
            [
             0.3333333333333333,
             "#9c179e"
            ],
            [
             0.4444444444444444,
             "#bd3786"
            ],
            [
             0.5555555555555556,
             "#d8576b"
            ],
            [
             0.6666666666666666,
             "#ed7953"
            ],
            [
             0.7777777777777778,
             "#fb9f3a"
            ],
            [
             0.8888888888888888,
             "#fdca26"
            ],
            [
             1,
             "#f0f921"
            ]
           ],
           "sequentialminus": [
            [
             0,
             "#0d0887"
            ],
            [
             0.1111111111111111,
             "#46039f"
            ],
            [
             0.2222222222222222,
             "#7201a8"
            ],
            [
             0.3333333333333333,
             "#9c179e"
            ],
            [
             0.4444444444444444,
             "#bd3786"
            ],
            [
             0.5555555555555556,
             "#d8576b"
            ],
            [
             0.6666666666666666,
             "#ed7953"
            ],
            [
             0.7777777777777778,
             "#fb9f3a"
            ],
            [
             0.8888888888888888,
             "#fdca26"
            ],
            [
             1,
             "#f0f921"
            ]
           ]
          },
          "colorway": [
           "#636efa",
           "#EF553B",
           "#00cc96",
           "#ab63fa",
           "#FFA15A",
           "#19d3f3",
           "#FF6692",
           "#B6E880",
           "#FF97FF",
           "#FECB52"
          ],
          "font": {
           "color": "#2a3f5f"
          },
          "geo": {
           "bgcolor": "white",
           "lakecolor": "white",
           "landcolor": "#E5ECF6",
           "showlakes": true,
           "showland": true,
           "subunitcolor": "white"
          },
          "hoverlabel": {
           "align": "left"
          },
          "hovermode": "closest",
          "mapbox": {
           "style": "light"
          },
          "paper_bgcolor": "white",
          "plot_bgcolor": "#E5ECF6",
          "polar": {
           "angularaxis": {
            "gridcolor": "white",
            "linecolor": "white",
            "ticks": ""
           },
           "bgcolor": "#E5ECF6",
           "radialaxis": {
            "gridcolor": "white",
            "linecolor": "white",
            "ticks": ""
           }
          },
          "scene": {
           "xaxis": {
            "backgroundcolor": "#E5ECF6",
            "gridcolor": "white",
            "gridwidth": 2,
            "linecolor": "white",
            "showbackground": true,
            "ticks": "",
            "zerolinecolor": "white"
           },
           "yaxis": {
            "backgroundcolor": "#E5ECF6",
            "gridcolor": "white",
            "gridwidth": 2,
            "linecolor": "white",
            "showbackground": true,
            "ticks": "",
            "zerolinecolor": "white"
           },
           "zaxis": {
            "backgroundcolor": "#E5ECF6",
            "gridcolor": "white",
            "gridwidth": 2,
            "linecolor": "white",
            "showbackground": true,
            "ticks": "",
            "zerolinecolor": "white"
           }
          },
          "shapedefaults": {
           "line": {
            "color": "#2a3f5f"
           }
          },
          "ternary": {
           "aaxis": {
            "gridcolor": "white",
            "linecolor": "white",
            "ticks": ""
           },
           "baxis": {
            "gridcolor": "white",
            "linecolor": "white",
            "ticks": ""
           },
           "bgcolor": "#E5ECF6",
           "caxis": {
            "gridcolor": "white",
            "linecolor": "white",
            "ticks": ""
           }
          },
          "title": {
           "x": 0.05
          },
          "xaxis": {
           "automargin": true,
           "gridcolor": "white",
           "linecolor": "white",
           "ticks": "",
           "title": {
            "standoff": 15
           },
           "zerolinecolor": "white",
           "zerolinewidth": 2
          },
          "yaxis": {
           "automargin": true,
           "gridcolor": "white",
           "linecolor": "white",
           "ticks": "",
           "title": {
            "standoff": 15
           },
           "zerolinecolor": "white",
           "zerolinewidth": 2
          }
         }
        },
        "title": {
         "text": "Interactive Scatter Plot (Plotly)"
        },
        "xaxis": {
         "anchor": "y",
         "domain": [
          0,
          1
         ],
         "title": {
          "text": "A"
         }
        },
        "yaxis": {
         "anchor": "x",
         "domain": [
          0,
          1
         ],
         "title": {
          "text": "B"
         }
        }
       }
      }
     },
     "metadata": {},
     "output_type": "display_data"
    }
   ],
   "source": [
    "# Install required libraries if not already installed\n",
    "# !pip install matplotlib seaborn plotly\n",
    "\n",
    "import numpy as np\n",
    "import pandas as pd\n",
    "import matplotlib.pyplot as plt\n",
    "import seaborn as sns\n",
    "import plotly.express as px\n",
    "\n",
    "# Generate random data\n",
    "np.random.seed(0)\n",
    "data = pd.DataFrame({\n",
    "    'A': np.random.randn(100),\n",
    "    'B': np.random.rand(100) * 100,\n",
    "    'C': np.random.randint(1, 5, 100),\n",
    "    'D': np.random.choice(['X', 'Y', 'Z'], 100)\n",
    "})\n",
    "\n",
    "# Line plot\n",
    "plt.figure(figsize=(6, 3))\n",
    "plt.plot(data['A'])\n",
    "plt.title('Line Plot')\n",
    "plt.show()\n",
    "\n",
    "# Scatter plot\n",
    "plt.figure(figsize=(6, 3))\n",
    "plt.scatter(data['A'], data['B'])\n",
    "plt.title('Scatter Plot')\n",
    "plt.xlabel('A')\n",
    "plt.ylabel('B')\n",
    "plt.show()\n",
    "\n",
    "# Bar plot\n",
    "plt.figure(figsize=(6, 3))\n",
    "sns.barplot(x=data['D'].value_counts().index, y=data['D'].value_counts().values)\n",
    "plt.title('Bar Plot')\n",
    "plt.show()\n",
    "\n",
    "# Histogram\n",
    "plt.figure(figsize=(6, 3))\n",
    "plt.hist(data['B'], bins=20)\n",
    "plt.title('Histogram')\n",
    "plt.show()\n",
    "\n",
    "# Box plot\n",
    "plt.figure(figsize=(6, 3))\n",
    "sns.boxplot(x='D', y='B', data=data)\n",
    "plt.title('Box Plot')\n",
    "plt.show()\n",
    "\n",
    "# Pie chart\n",
    "plt.figure(figsize=(6, 6))\n",
    "plt.pie(data['D'].value_counts(), labels=data['D'].value_counts().index, autopct='%1.1f%%')\n",
    "plt.title('Pie Chart')\n",
    "plt.show()\n",
    "\n",
    "# Interactive Plotly example\n",
    "fig = px.scatter(data, x='A', y='B', color='D', title='Interactive Scatter Plot (Plotly)')\n",
    "fig.show()"
   ]
  },
  {
   "cell_type": "code",
   "execution_count": 7,
   "id": "97a3dede",
   "metadata": {},
   "outputs": [
    {
     "data": {
      "application/vnd.plotly.v1+json": {
       "config": {
        "plotlyServerURL": "https://plot.ly"
       },
       "data": [
        {
         "customdata": [
          [
           0.850574528015116
          ],
          [
           0.9344330387534414
          ],
          [
           0.01620039733946721
          ],
          [
           0.2940674621767778
          ],
          [
           0.10284259215747671
          ],
          [
           0.9791515551006156
          ],
          [
           0.6764837495206044
          ],
          [
           0.5942418273085972
          ],
          [
           0.5753591731290986
          ],
          [
           0.27592269438054684
          ],
          [
           0.768581330913202
          ],
          [
           0.2262724300031862
          ],
          [
           0.05994330086130828
          ],
          [
           0.7341512590416462
          ],
          [
           0.4785283699195225
          ],
          [
           0.46533693393948605
          ],
          [
           0.17464718589632955
          ],
          [
           0.06939408590418339
          ],
          [
           0.14328145870264108
          ],
          [
           0.714718833502036
          ],
          [
           0.29335342144100984
          ],
          [
           0.9002641112020704
          ],
          [
           0.9459246440320865
          ],
          [
           0.29582409749653604
          ],
          [
           0.0011120941961874076
          ],
          [
           0.217891379626744
          ],
          [
           0.7287780544506475
          ],
          [
           0.3235304124854915
          ],
          [
           0.918397542081558
          ],
          [
           0.7289392001051572
          ],
          [
           0.7798208840100681
          ],
          [
           0.1182186222910886
          ],
          [
           0.712137045880605
          ],
          [
           0.5488728015425998
          ],
          [
           0.6071352808835769
          ],
          [
           0.3887263478765467
          ],
          [
           0.0949652752283765
          ],
          [
           0.31491844458889573
          ],
          [
           0.4441035569066186
          ],
          [
           0.9955689004906878
          ],
          [
           0.7006114963944516
          ],
          [
           0.7302491895295712
          ],
          [
           0.6171059444286563
          ],
          [
           0.5855637287933019
          ],
          [
           0.0860321570329432
          ],
          [
           0.041578959846593766
          ],
          [
           0.3586215819535914
          ],
          [
           0.675662902207073
          ],
          [
           0.4541836627367061
          ],
          [
           0.33930526730956745
          ],
          [
           0.1619230066322137
          ],
          [
           0.414825655521352
          ],
          [
           0.061446290130787506
          ],
          [
           0.9545659288588108
          ],
          [
           0.4774161894803537
          ],
          [
           0.5817366474211867
          ],
          [
           0.20883093549458998
          ],
          [
           0.3454808537234457
          ],
          [
           0.07928028463119174
          ],
          [
           0.15144552193535732
          ],
          [
           0.4327714843418189
          ],
          [
           0.8286529061182892
          ],
          [
           0.7834695600492677
          ],
          [
           0.27706924971339963
          ],
          [
           0.17715352322262556
          ],
          [
           0.7220660642037853
          ],
          [
           0.516283299197674
          ],
          [
           0.9359372482485595
          ],
          [
           0.6722506872941947
          ],
          [
           0.9505328209544089
          ],
          [
           0.022066148682290843
          ],
          [
           0.13217965775387175
          ],
          [
           0.380951845023475
          ],
          [
           0.04836271104878087
          ],
          [
           0.8263408109501867
          ],
          [
           0.5880004634296284
          ],
          [
           0.5411138248788447
          ],
          [
           0.6256507894272765
          ],
          [
           0.18483839794702495
          ],
          [
           0.7636922693503205
          ],
          [
           0.2267726253196457
          ],
          [
           0.08010572660960225
          ],
          [
           0.5117074471147008
          ],
          [
           0.1453266924205041
          ],
          [
           0.12328377929894685
          ],
          [
           0.38213947483256927
          ],
          [
           0.5547318032823543
          ],
          [
           0.4154430005920896
          ],
          [
           0.3353716062174624
          ],
          [
           0.23692399389672347
          ],
          [
           0.5469288759854769
          ],
          [
           0.28060081323791597
          ],
          [
           0.9925146201619713
          ],
          [
           0.8743073341370806
          ],
          [
           0.22465739764176662
          ],
          [
           0.5196116758030075
          ],
          [
           0.13521731371285473
          ],
          [
           0.879601496711762
          ],
          [
           0.9070419604150218
          ],
          [
           0.9915327758273865
          ],
          [
           0.35543933736406175
          ],
          [
           0.16145783406424008
          ],
          [
           0.5534717762098499
          ],
          [
           0.5702869387313905
          ],
          [
           0.7422713922522868
          ],
          [
           0.5638929210554023
          ],
          [
           0.6949531193430477
          ],
          [
           0.7962436094563872
          ],
          [
           0.7350251861898234
          ],
          [
           0.6101079220362347
          ],
          [
           0.488177675310814
          ],
          [
           0.1331821256675234
          ],
          [
           0.26133301788538377
          ],
          [
           0.41909947291708527
          ],
          [
           0.5992992870063887
          ],
          [
           0.5137078552153048
          ],
          [
           0.49623922190081393
          ],
          [
           0.7346083007105351
          ],
          [
           0.02394626527048349
          ],
          [
           0.022564511705347234
          ],
          [
           0.8101610899597025
          ],
          [
           0.5551337867531885
          ],
          [
           0.5879916294638328
          ],
          [
           0.5180774980403448
          ],
          [
           0.8118661240103798
          ],
          [
           0.013862135912860118
          ],
          [
           0.6493788202366224
          ],
          [
           0.6688765310406853
          ],
          [
           0.7986557803566365
          ],
          [
           0.6630272037231474
          ],
          [
           0.8797524022943436
          ],
          [
           0.04922091454076161
          ],
          [
           0.22065105962174847
          ],
          [
           0.8591117576469165
          ],
          [
           0.7580404210112165
          ],
          [
           0.30338554362913317
          ],
          [
           0.7818909129968897
          ],
          [
           0.6916556518665415
          ],
          [
           0.6717088592440608
          ],
          [
           0.42746652816668906
          ],
          [
           0.2691615709916292
          ],
          [
           0.9092526944369924
          ],
          [
           0.1828133885392259
          ],
          [
           0.808826323491684
          ],
          [
           0.8586981212445739
          ],
          [
           0.690322846900729
          ],
          [
           0.9523867523987246
          ],
          [
           0.3129195480288226
          ],
          [
           0.8585064545515545
          ],
          [
           0.7050409063535927
          ],
          [
           0.7174649906119122
          ],
          [
           0.38339714105825895
          ],
          [
           0.8364421924698697
          ],
          [
           0.5489096316400717
          ],
          [
           0.4608983382065819
          ],
          [
           0.6710129805329098
          ],
          [
           0.8792795561570067
          ],
          [
           0.7253716002348575
          ],
          [
           0.13925407078470398
          ],
          [
           0.8799146267270145
          ],
          [
           0.982739540910386
          ],
          [
           0.6631462489752088
          ],
          [
           0.42219223388067806
          ],
          [
           0.3208545427498436
          ],
          [
           0.995734452051323
          ],
          [
           0.054732706924985886
          ],
          [
           0.430535820913037
          ],
          [
           0.3748249243499977
          ],
          [
           0.11060359887316085
          ],
          [
           0.6755867735674388
          ],
          [
           0.8614456860213242
          ],
          [
           0.48323207587543515
          ],
          [
           0.9868959453882975
          ],
          [
           0.5383949792869577
          ],
          [
           0.7063719968099961
          ],
          [
           0.8275236939538171
          ],
          [
           0.0681866197654627
          ],
          [
           0.3301559503156044
          ],
          [
           0.10680070400236363
          ],
          [
           0.953402879382095
          ],
          [
           0.06022694490029745
          ],
          [
           0.12249786196598922
          ],
          [
           0.12384602670581746
          ],
          [
           0.8212501545597043
          ],
          [
           0.8596453453526065
          ],
          [
           0.8539428821418529
          ],
          [
           0.1992196858370765
          ],
          [
           0.28418429571172876
          ],
          [
           0.3933206703851887
          ],
          [
           0.15987976336644139
          ],
          [
           0.7964405615234773
          ],
          [
           0.7394692332387273
          ],
          [
           0.3523270542525393
          ],
          [
           0.3425910828111318
          ],
          [
           0.8874689402128824
          ],
          [
           0.33478904189067915
          ],
          [
           0.3559577734706405
          ],
          [
           0.8143839206690815
          ],
          [
           0.6427950705063091
          ],
          [
           0.600945484537719
          ],
          [
           0.24080381607317325
          ],
          [
           0.006047043183978418
          ],
          [
           0.2057943769894217
          ],
          [
           0.7415661084668296
          ],
          [
           0.8844787275967592
          ],
          [
           0.5539932555031309
          ],
          [
           0.33882348242280735
          ],
          [
           0.4237701199309234
          ],
          [
           0.35164987234190537
          ],
          [
           0.8484717744062646
          ],
          [
           0.8450396488966425
          ],
          [
           0.05126345917599817
          ],
          [
           0.6347441411040295
          ],
          [
           0.20406438854660058
          ],
          [
           0.9672711903702976
          ],
          [
           0.25217287749552997
          ],
          [
           0.2423536951367623
          ],
          [
           0.7281164373361664
          ],
          [
           0.7312505893473751
          ],
          [
           0.3416411126906018
          ],
          [
           0.6484645569002371
          ],
          [
           0.32784283788581825
          ],
          [
           0.3936355202774421
          ],
          [
           0.4734356593750214
          ],
          [
           0.18181765283733875
          ],
          [
           0.5353477680616567
          ],
          [
           0.04149732550990637
          ],
          [
           0.9531201143941378
          ],
          [
           0.93016520286255
          ],
          [
           0.7260848514838505
          ],
          [
           0.12130299800553412
          ],
          [
           0.5324709078838974
          ],
          [
           0.600583196987136
          ],
          [
           0.16625533034970064
          ],
          [
           0.37973740482164875
          ],
          [
           0.7276311376996887
          ],
          [
           0.5917169688924004
          ],
          [
           0.19202336913634455
          ]
         ],
         "hovertemplate": "category=B<br>x=%{x}<br>y=%{y}<br>size=%{marker.size}<br>color=%{customdata[0]}<extra></extra>",
         "legendgroup": "B",
         "marker": {
          "color": "#636efa",
          "size": [
           39.76123785528706,
           20.53329387067998,
           96.85373316998923,
           29.729079030733363,
           26.74020278575413,
           96.50153694544719,
           61.00074170794857,
           31.290739421364822,
           86.60956336116915,
           10.590580440375764,
           15.482861259771985,
           94.47362587830797,
           68.01118854469726,
           45.02542461428904,
           39.903531764243475,
           67.24604980250288,
           43.402097270875885,
           71.40527233781268,
           24.83762603698002,
           21.440648299316457,
           27.080632803697256,
           45.894051659682034,
           8.114917853623915,
           95.14907101767872,
           83.84918338430248,
           82.29838050417675,
           74.2881493667939,
           73.79173933540254,
           26.885351438219352,
           78.73870267523328,
           45.434542306765515,
           63.024721945615795,
           70.54608302834863,
           30.1046077834313,
           5.617607734743901,
           49.10957293831652,
           10.539321810780521,
           76.44407280755044,
           15.949226254135828,
           18.564670490124303,
           78.92928483196856,
           32.67425420300408,
           39.27307432714162,
           85.87642793494722,
           43.92106012497173,
           16.52844901429574,
           24.535231416621105,
           41.57751035233219,
           69.64298070361072,
           60.56378893234115,
           33.720657556575205,
           41.9271661166022,
           56.06782949389499,
           0.9978776658449373,
           53.56565993475786,
           82.13883629006943,
           85.49740195614743,
           90.17740285462287,
           87.73504531328386,
           7.410542257486707,
           37.54689284665004,
           36.95741994267732,
           46.423851973922496,
           72.27377522388046,
           66.16842883998565,
           48.398936817974715,
           77.28095732903374,
           6.646332577627212,
           76.65150495325847,
           75.17469923958404,
           80.30020719578371,
           74.22531871990871,
           89.04095172193284,
           57.88067545119405,
           15.647671600360058,
           47.39212201161027,
           18.792038081532304,
           38.279876443638784,
           65.95107686407702,
           69.2358922461058,
           93.90684794502916,
           32.451180017534206,
           81.49397285405392,
           8.838494698451871,
           6.725591396736785,
           24.149648525686786,
           4.035082685969971,
           31.277798921035405,
           23.20181803088107,
           56.33953507126401,
           99.06791570657658,
           38.92304716917885,
           92.81820981139515,
           34.19052781054903,
           21.16358985698612,
           15.620656868662197,
           59.930211613943776,
           16.972842857692317,
           1.9144867996836679,
           77.91025863957867,
           69.96395696221217,
           15.369104284420454,
           27.70125243259788,
           92.13075122129754,
           59.284018050811014,
           42.33351441531975,
           60.68469555401391,
           88.29148165187222,
           65.90454101322324,
           21.1231831472931,
           86.29968313588721,
           88.60934353132082,
           19.66535849529587,
           73.74260857706773,
           28.651954892712293,
           80.26403123529296,
           89.73658657909318,
           97.33826191648211,
           46.50095175264276,
           21.07931015500286,
           16.749108909410772,
           23.25059922078312,
           12.967897822423534,
           80.90236402916764,
           15.492531114344265,
           8.27368356181899,
           48.45379950800108,
           30.24195112785364,
           56.34083644838541,
           27.364041786077166,
           5.697872699736828,
           41.860727491832996,
           66.72123371941811,
           86.22029736581888,
           98.94511309650565,
           83.82304210818006,
           36.14037790671863,
           40.680480095172356,
           12.600202786399429,
           48.96244620502448,
           66.1667259629189,
           18.52703553833237,
           28.570756766089033,
           55.678491092818795,
           17.512314013035322,
           87.40717733051852,
           48.61304852149241,
           90.84345518793752,
           46.806905423429015,
           76.05756424552823,
           39.78657030174272,
           3.0463686308960125,
           34.041155611425964,
           51.05807574595599,
           5.024300982298213,
           2.49716621170496,
           4.961437333883745,
           72.4598286847629,
           92.91447172116874,
           3.010387221131894,
           26.549640742907233,
           31.754970025758844,
           88.48551176960044,
           31.187943576372522,
           7.893940294655555,
           83.45717902556277,
           24.66586158054065,
           75.3868082709913,
           81.74078473061094,
           31.38780765150273,
           27.163318127436963,
           11.98910934727121,
           73.49258473948942,
           49.281958453282456,
           16.440552907887874,
           93.1554914309481,
           39.95187845869348,
           98.05682270607235,
           21.469588746335543,
           6.723418009056115,
           59.48473795019096,
           17.252387694636205,
           29.63576135132884,
           25.967083895041398,
           5.276525785960262,
           45.79289944340279,
           47.73503981224013,
           35.08191093350156,
           32.8179482797612,
           8.468834187530682,
           38.099127366839994,
           80.8405738893691,
           47.55961918220083,
           93.84821582141547,
           83.36440104751723,
           25.533637376324414,
           41.31725172077195,
           7.0108139641256955,
           41.91828759021213,
           16.82036557665182,
           42.84579038487954,
           43.13017063410146,
           30.8468281489484,
           57.30422006190157,
           3.926941424165231,
           27.199860534435604,
           80.54300430459791,
           93.85297834731304,
           54.645854172812435,
           8.412766225938284,
           23.38128330930641,
           83.49472056944037,
           41.96273828068103,
           39.2895108893179,
           30.643282270337156,
           27.149200254271133,
           80.56488053633419,
           9.536092127300355,
           33.745427896422896,
           75.24683375864943,
           5.129384898121558,
           39.457231531892376,
           57.19958782835928,
           80.54323292999864,
           67.96972168333453,
           69.71636921379805,
           88.60861088135164,
           67.23838432917036,
           67.3092130911217,
           73.79509473975922,
           36.047450514155386,
           27.064394198176565,
           99.25817954877634,
           15.620150793059928,
           98.8420993963481,
           65.94229620819976,
           28.943952161948793,
           46.7681212484877
          ],
          "sizemode": "area",
          "sizeref": 0.24988942581260964,
          "symbol": "circle"
         },
         "mode": "markers",
         "name": "B",
         "orientation": "v",
         "showlegend": true,
         "type": "scatter",
         "x": [
          0.4967141530112327,
          0.6476885381006925,
          0.7674347291529088,
          0.24196227156603412,
          0.3142473325952739,
          -1.4123037013352917,
          -1.4247481862134568,
          -0.5443827245251827,
          0.37569801834567196,
          -0.2916937497932768,
          -0.6017066122293969,
          1.8522781845089378,
          -1.9596701238797756,
          -0.11564828238824053,
          -1.4785219903674274,
          1.0571222262189157,
          0.9312801191161986,
          0.812525822394198,
          0.36139560550841393,
          1.5380365664659692,
          -0.03582603910995153,
          0.8219025043752238,
          -1.9875689146008928,
          -0.21967188783751193,
          0.3571125715117464,
          -0.5182702182736474,
          -0.5297602037670388,
          0.5132674331133561,
          0.29612027706457605,
          -1.4153707420504142,
          -0.42064532276535904,
          -0.3427145165267695,
          -0.16128571166600914,
          -0.19236096478112252,
          -0.03471176970524331,
          -1.168678037619532,
          0.7519330326867741,
          0.7910319470430469,
          0.5868570938002703,
          -0.5662977296027719,
          1.307142754282428,
          0.78182287177731,
          0.34644820949697586,
          -1.1913034972026486,
          -0.9746816702273214,
          -0.2453881160028705,
          -0.22346278532585084,
          0.21409374413020396,
          0.3853173797288368,
          -1.377669367957091,
          0.5150352672086598,
          -0.31526924464034556,
          0.08187413938632256,
          -1.6127158711896519,
          1.0889505969673663,
          -1.0777447779293061,
          2.1439440893253257,
          -0.7925207384327007,
          0.8657551941701215,
          0.40498171096095553,
          -1.2608839543350452,
          -0.926930471578083,
          -0.05952535606180008,
          -3.2412673400690726,
          -1.4301413779606327,
          -0.44004448669698376,
          -1.4358621511794394,
          0.010233061019587049,
          -0.9815086510479509,
          -0.6002168771587947,
          0.06980208499001886,
          -1.237815498826849,
          -0.15178509503558324,
          0.849602097021025,
          -0.6929095952606542,
          0.8995998754332507,
          1.277664895788425,
          -0.20219265243389398,
          1.0987768519871903,
          1.305478807154329,
          0.6819529712949639,
          0.3241663524884421,
          1.1581108735000678,
          -0.012246772846914623,
          0.8576596232020194,
          0.5193465142411723,
          1.5327389130025777,
          0.09767609854883172,
          0.024510174258942696,
          2.1898029332176723,
          -0.525755021680761,
          1.8761708392158862,
          -0.898414671348358,
          -1.3202332070206422,
          1.179440120721287,
          1.277676821898509,
          -0.7484865365565536,
          1.7553408424432044,
          -0.2489641484790735,
          0.9715709509543554,
          1.3686315575323487,
          -0.26940683444455765,
          1.502357052096028,
          0.07409478041977519,
          -1.3801014582148914,
          -0.03269474809409311,
          -0.08912003951278841,
          0.6696725488300385,
          0.36659824609684827,
          -0.9398797863273552,
          -0.5138669173366935,
          -1.0592135218889516,
          -0.06267909727317188,
          0.9551423205012383,
          -0.9857260463355437,
          0.5040465155178444,
          -0.10703035995455783,
          -0.553649305347182,
          -1.1978778925888485,
          -2.301921164735585,
          0.5765569630557664,
          -0.6465728842425267,
          -1.0815480036143952,
          -0.8612842013282637,
          -0.1903386780836082,
          -0.8756182533847574,
          -1.3827997309643363,
          0.9261775475316414,
          1.9094166404701305,
          0.04852162794482699,
          -0.5767713305683327,
          0.755391225825756,
          0.751387123371789,
          0.543360192379935,
          -1.804882100664519,
          -1.2110161997624564,
          -0.6518361078021592,
          -0.8604133652839524,
          0.8356921120651418,
          0.57707212718054,
          -0.15567723539207948,
          0.3376026620752022,
          -0.42098448082026296,
          -1.8707919210258557,
          1.6764373122752827,
          -2.211135309007885,
          -0.8498443694647918,
          0.33366210528694845,
          1.0375399442578994,
          -0.26987493529337125,
          1.355637858804951,
          -0.773789199103573,
          -1.7787202489042786,
          1.496044311489183,
          2.4457519796168263,
          -0.7904744554453119,
          1.3454200461549777,
          1.5931866266393973,
          -1.2899608997410539,
          -0.05429486651781221,
          1.1265650295477574,
          2.5733598032498604,
          -0.024125087110003277,
          1.5039929885826884,
          1.0915068519224618,
          -0.37144086599579146,
          -0.24032539815813486,
          -0.3609661658190799,
          0.6159356069442637,
          -1.5566291735239037,
          -1.280429352496283,
          -0.5449190868089495,
          0.39913611435207075,
          0.11422764866203965,
          0.3078017688920592,
          0.34758170536167105,
          0.40825275571447184,
          -1.2795769667357015,
          -0.6248185776956788,
          0.026091050210833786,
          0.517659020469123,
          -0.9232332461109043,
          -0.9758732529773327,
          0.4933179008808892,
          0.12200981464536144,
          -0.09605989972464987,
          -0.5624667758942676,
          0.6324077390555208,
          -1.5702247198904564,
          -0.24751863555150475,
          0.3801978510059632,
          0.6105857452838231,
          -1.0810565404082624,
          -0.30917212346863937,
          -0.4397310582741749,
          -1.485560373036972,
          0.08228398927542419,
          1.40934744018558,
          -0.5228600271532683,
          -0.42018681709585753,
          0.4924512640081488,
          -0.6373871273065177,
          0.6329318177555111,
          0.2029230208512997,
          1.5475052013300616,
          1.7958776730955217,
          -0.7982972445384537,
          -0.48943944251822213,
          -0.35929209078705954,
          1.3821589910375272,
          -0.3933388123273607,
          1.2784518626072987,
          2.16325472330546,
          1.5774532797634744,
          -0.44643361455052827,
          -0.5589218472715883,
          -2.198805956620082,
          0.24380071377119883,
          -1.2803043986708944,
          1.8466369960476658,
          -1.0700847663261526,
          0.24333944932269183,
          -1.2515394241904443,
          1.4437646040732597,
          0.6427227598675439,
          -0.08973569428722672,
          -0.04015795064434341,
          -0.4461834332147797,
          -0.4523063192490767,
          0.7858001586508322,
          0.42545756178496474,
          -0.047711356141979855,
          -1.1583646891925423,
          1.5033983017671506,
          0.8773622905756714,
          0.20838280794755248,
          -0.6819842479977986,
          -1.0016200098949155
         ],
         "xaxis": "x",
         "y": [
          1.3993554365860021,
          0.05963036992017413,
          0.6351718016819695,
          2.0752608726252655,
          -0.48388583405432156,
          0.4241659464019164,
          2.1422703586118637,
          1.7275431701007113,
          0.1200313267182613,
          -1.0227925651984056,
          -0.25737653742334515,
          -1.66858407387759,
          -1.46437488020982,
          1.0786808334312956,
          -0.17262729994081963,
          -1.5763921569842494,
          -0.6716233679380516,
          -0.36244094140313216,
          -0.04692057887918407,
          0.47704082722312147,
          0.07682189106025536,
          -0.4937565831613125,
          0.8502217421134929,
          -0.3486521344078592,
          -0.3492577043184288,
          2.076747983560841,
          -0.2590421458207031,
          -0.19634984908497827,
          0.07863519031609059,
          0.9980101098596522,
          -2.8962553781936893,
          2.0883747047807275,
          1.1081828167375165,
          0.15041890514357628,
          2.403415585238275,
          -0.05761879703358539,
          1.050654396007612,
          1.1055259329579838,
          1.633431532301096,
          -0.7542758500193579,
          1.3757068133116197,
          0.015579047581467534,
          -2.153390113603715,
          0.9817654869915943,
          -2.4994057148735727,
          0.594754341665286,
          -0.9896281365703375,
          -0.6013676439512138,
          0.440474737960399,
          0.04886007032570433,
          -0.7019916878067556,
          -0.2949496782920278,
          2.1451491277733883,
          0.41379909745149823,
          -0.12982069973342616,
          -0.14700200162848862,
          -0.8036745679697308,
          -0.3791277409874871,
          -1.0147567306928669,
          -1.5558956462036273,
          0.33088023221445706,
          0.5583269125217224,
          0.0760053914124115,
          0.5387559924463692,
          -0.9039076414647897,
          -0.7355299425897666,
          0.609138120907177,
          -0.3164084496948019,
          1.2130976999791834,
          0.39331783939437187,
          0.1920491164900316,
          0.9567023167945841,
          -1.8362053731032966,
          0.8384907744516419,
          -0.09888965319114267,
          0.9190764829877686,
          0.028181157369128247,
          0.4746982328799528,
          0.8177662992002871,
          0.010352619843380607,
          -1.0651136630753726,
          -0.6095122021592831,
          -0.9393353938187543,
          1.5307508323436974,
          0.541462728204788,
          -0.015309849172995557,
          0.5792914996010884,
          -0.4432822511915103,
          -0.17294605992342302,
          -0.6056155397368641,
          -0.6057149230033384,
          1.5615111967268527,
          0.4599721429391164,
          2.013387247526623,
          -0.3653215513121087,
          2.165002344901084,
          0.9278401280812372,
          1.0725073373098022,
          -0.3649527295428853,
          -0.8392096673390064,
          -1.9663565893760018,
          0.8604734883597454,
          -0.1671217137864115,
          0.28257995048829965,
          1.6073455760199926,
          1.173473857485325,
          -1.2968319479558466,
          -0.651356893791829,
          -0.5286166817497568,
          0.5863640187550933,
          1.2382830714336357,
          0.02127157673606165,
          0.3088330125989638,
          1.702214944635238,
          0.24075317948856825,
          2.601683114180395,
          0.7533416211045325,
          1.2897527540827458,
          0.6731813512699585,
          -0.6097829043193822,
          -0.12094814860778157,
          -1.4183657329330317,
          -1.7608088119807759,
          0.18455130319703697,
          1.2083662305931424,
          1.0240625258114624,
          0.5925269492011831,
          0.7783610761666377,
          -0.5511857163285334,
          0.08840688629184734,
          -0.08268068584269925,
          -0.12174750838328353,
          1.8540925663341883,
          0.5820977034686158,
          1.0887486197041858,
          -0.14760258629866868,
          -0.46603650186824225,
          0.5136001065697166,
          -0.027514905050636255,
          -0.9983854391882915,
          -0.20367375017696587,
          -0.22647889190152676,
          -0.2711236010425688,
          -1.5625458568865427,
          -1.2542894231692494,
          -0.03564148229748357,
          -0.3670278390833223,
          0.9039348410861953,
          -2.3629324355418384,
          0.6191542610051978,
          -0.7991920066502536,
          0.12267031599479553,
          0.3230792731160291,
          -0.2523535021262876,
          -0.18047991359062565,
          0.11327041053776446,
          -0.668144085538994,
          1.8732977762175456,
          2.062524919243145,
          0.985729995679863,
          0.32579631658216646,
          0.33848384346169114,
          1.3175975356079597,
          -0.5047749212282174,
          0.5467335682013793,
          -0.9224101844985025,
          -0.4646172972983931,
          0.5866938014752747,
          -1.3459796802467485,
          0.40981865692851255,
          0.6725737012027311,
          -2.172669546014036,
          0.8474216771504216,
          0.3319803305690149,
          0.5131057981760827,
          0.8080577982811451,
          -0.019419605887732585,
          -0.16882172319001063,
          0.07005216311318137,
          1.1618783026081902,
          -0.9273531341905741,
          -2.703232292999237,
          -0.6540756831274238,
          -0.13744851462769184,
          0.7421274910718922,
          -1.6019658118971685,
          1.695051040430753,
          -0.622649361734452,
          -1.3200225112207058,
          -0.03703679704841202,
          -1.5047203740310022,
          0.7600559636896026,
          0.21319662823768915,
          -1.5841359430054898,
          0.14679301198554937,
          -0.8911922254152874,
          -0.21113023882769438,
          0.07685188295876821,
          1.41093237974627,
          -0.09858813228426173,
          -1.0276751409259581,
          -1.19363683175648,
          0.2603218387712207,
          -0.1343087414705478,
          0.793488720552213,
          -1.7485319732381808,
          -0.21492103028873533,
          -1.234348871879922,
          0.4240610444640897,
          -0.08836295920533539,
          -0.33381948975600995,
          0.3696421921980939,
          0.14294309476370676,
          0.5008444749444569,
          -0.16814381858478955,
          -2.5302875227463297,
          -0.10594835430413566,
          1.0857863249393471,
          0.30805053950410216,
          0.6215718898560508,
          -0.36961033604363397,
          -0.05139372358848624,
          -0.9057323008626189,
          -0.6537663386488198,
          -0.05489400061628639,
          0.5556044660034485,
          -0.194908280352681,
          -0.018708756445897416,
          1.1241127199860135,
          -0.9716567345412859,
          -1.3796181647889303,
          0.8623934723827588,
          0.513085420097293,
          0.7250957868479971,
          0.5161782871149584,
          0.8004095252276825,
          0.7083038472010638,
          0.3514482075415829
         ],
         "yaxis": "y"
        },
        {
         "customdata": [
          [
           0.20152837800631285
          ],
          [
           0.6890876537482297
          ],
          [
           0.8232732126800302
          ],
          [
           0.7795167014240635
          ],
          [
           0.2530263409202532
          ],
          [
           0.8655623831722035
          ],
          [
           0.324329377351518
          ],
          [
           0.6253301699544539
          ],
          [
           0.7470782671290289
          ],
          [
           0.13097374299417408
          ],
          [
           0.6059969672710255
          ],
          [
           0.04499682123542437
          ],
          [
           0.9288595498455656
          ],
          [
           0.33197150473584547
          ],
          [
           0.08159872000483837
          ],
          [
           0.027852240821074403
          ],
          [
           0.0504167736022092
          ],
          [
           0.5768812013112085
          ],
          [
           0.08987685173616067
          ],
          [
           0.3409585714355583
          ],
          [
           0.9172680665776807
          ],
          [
           0.0162434432094537
          ],
          [
           0.6650559890066311
          ],
          [
           0.13457626710410775
          ],
          [
           0.09441889766048095
          ],
          [
           0.10343411486048337
          ],
          [
           0.4020272168882407
          ],
          [
           0.35659617598620563
          ],
          [
           0.25448133161826025
          ],
          [
           0.9576316462725879
          ],
          [
           0.5144613277398942
          ],
          [
           0.17689695082398393
          ],
          [
           0.6821916892550988
          ],
          [
           0.6323962564655086
          ],
          [
           0.12832586218876452
          ],
          [
           0.693422128056309
          ],
          [
           0.6191727353658367
          ],
          [
           0.18663993979768256
          ],
          [
           0.28454138567693377
          ],
          [
           0.9634799474743275
          ],
          [
           0.5413744209074383
          ],
          [
           0.5443448876343211
          ],
          [
           0.8200675020556494
          ],
          [
           0.4981299435480424
          ],
          [
           0.6893104121026903
          ],
          [
           0.6136379029893838
          ],
          [
           0.6409655280987577
          ],
          [
           0.7017382738772572
          ],
          [
           0.05688139777764656
          ],
          [
           0.7665273162216272
          ],
          [
           0.934729915488301
          ],
          [
           0.9693218122841789
          ],
          [
           0.37783921372718665
          ],
          [
           0.658102218056492
          ],
          [
           0.40070416683446664
          ],
          [
           0.648233468807846
          ],
          [
           0.1514323143699633
          ],
          [
           0.3917424505622782
          ],
          [
           0.8719130612805055
          ],
          [
           0.8030118815263205
          ],
          [
           0.5866239182836627
          ],
          [
           0.8284386709389908
          ],
          [
           0.8751336186211521
          ],
          [
           0.9825212722560387
          ],
          [
           0.8143867792687614
          ],
          [
           0.2803347525514125
          ],
          [
           0.3832153659472517
          ],
          [
           0.5546870247883672
          ],
          [
           0.7844054732127973
          ],
          [
           0.22048763941474925
          ],
          [
           0.059587097353143714
          ],
          [
           0.6043593197147711
          ],
          [
           0.4418337048019546
          ],
          [
           0.3977934409290982
          ],
          [
           0.4832942849663252
          ],
          [
           0.5738658496770963
          ],
          [
           0.9597910204048502
          ],
          [
           0.09800768478074107
          ],
          [
           0.04406586157038139
          ],
          [
           0.645572181427428
          ],
          [
           0.842165376650381
          ],
          [
           0.5185616886657339
          ],
          [
           0.9895053333843224
          ],
          [
           0.6704343337969175
          ],
          [
           0.41078880999961176
          ],
          [
           0.9567204338893498
          ],
          [
           0.09696567096542474
          ],
          [
           0.1790316374415838
          ],
          [
           0.0727349477786684
          ],
          [
           0.7824258122127878
          ],
          [
           0.3993325801992226
          ],
          [
           0.9782206685265583
          ],
          [
           0.18089190137889832
          ],
          [
           0.8326117733261311
          ],
          [
           0.8041655649838841
          ],
          [
           0.05961732534465902
          ],
          [
           0.6920505530397448
          ],
          [
           0.5485884150546885
          ],
          [
           0.13300979890732878
          ],
          [
           0.15873676337430953
          ],
          [
           0.5937806319434522
          ],
          [
           0.2101071929123518
          ],
          [
           0.025199094821069634
          ],
          [
           0.006464357789710551
          ],
          [
           0.2856259885622431
          ],
          [
           0.09142199181713817
          ],
          [
           0.8965746584690102
          ],
          [
           0.861664884699101
          ],
          [
           0.5771170823879065
          ],
          [
           0.5721229637222063
          ],
          [
           0.3064154493510364
          ],
          [
           0.08157492561136592
          ],
          [
           0.21399467869831357
          ],
          [
           0.28328440349257733
          ],
          [
           0.40031283617299407
          ],
          [
           0.15378370551321618
          ],
          [
           0.45851856218701537
          ],
          [
           0.9317404033165082
          ],
          [
           0.9969494174116696
          ],
          [
           0.2310808528744962
          ],
          [
           0.23906638407502967
          ],
          [
           0.31259802490830013
          ],
          [
           0.41068263301028285
          ],
          [
           0.9765610233229043
          ],
          [
           0.6452185758446639
          ],
          [
           0.7452147426908345
          ],
          [
           0.3702321856845767
          ],
          [
           0.8461242105302316
          ],
          [
           0.37667644042946247
          ],
          [
           0.486173654104883
          ],
          [
           0.7646509503848735
          ],
          [
           0.14669511401518154
          ],
          [
           0.9450240645805688
          ],
          [
           0.5105704087285036
          ],
          [
           0.31206404465202064
          ],
          [
           0.32882261784860933
          ],
          [
           0.66231373873072
          ],
          [
           0.8119462346378834
          ],
          [
           0.9457497022259301
          ],
          [
           0.05363479152083084
          ],
          [
           0.6043129822403198
          ],
          [
           0.8287089838180064
          ],
          [
           0.8295627156830498
          ],
          [
           0.2705592564879914
          ],
          [
           0.9420582194885955
          ],
          [
           0.7755052967189994
          ],
          [
           0.01071529769535895
          ],
          [
           0.5442573370152508
          ],
          [
           0.35719233399304484
          ],
          [
           0.3440916178494421
          ],
          [
           0.5205438373048584
          ],
          [
           0.44066488342429355
          ],
          [
           0.07336406745960267
          ],
          [
           0.4151456539927457
          ],
          [
           0.2566472071860958
          ],
          [
           0.5128747423052678
          ],
          [
           0.9206914007786196
          ],
          [
           0.20424210636842888
          ],
          [
           0.4186951433276842
          ],
          [
           0.9150015377475272
          ],
          [
           0.843879411230929
          ],
          [
           0.16781459564602863
          ],
          [
           0.06760474947238315
          ],
          [
           0.7187181132622024
          ],
          [
           0.23272834891555183
          ],
          [
           0.39181089461717167
          ],
          [
           0.44418340687836655
          ],
          [
           0.8575306077519237
          ],
          [
           0.0973668937912211
          ],
          [
           0.2347544217249713
          ],
          [
           0.3373306088457655
          ],
          [
           0.0005979388347953085
          ],
          [
           0.18712427041050173
          ],
          [
           0.5555495698856199
          ],
          [
           0.41739478232914795
          ],
          [
           0.49295697165586005
          ],
          [
           0.16428684327240928
          ],
          [
           0.7831614309236972
          ],
          [
           0.9094295036858765
          ],
          [
           0.19012876631870568
          ],
          [
           0.0778565196087696
          ],
          [
           0.909202136206487
          ],
          [
           0.8196248695476449
          ],
          [
           0.8881913496613041
          ],
          [
           0.3770539310016988
          ],
          [
           0.5445553246546755
          ],
          [
           0.31030848210454753
          ],
          [
           0.41351653028995916
          ],
          [
           0.2739880994699718
          ],
          [
           0.39221779343354013
          ],
          [
           0.14119906353718492
          ],
          [
           0.381616499109135
          ],
          [
           0.19201608474003673
          ],
          [
           0.9380641395681313
          ],
          [
           0.9176472779044335
          ],
          [
           0.8082682112162782
          ],
          [
           0.06903693691137491
          ],
          [
           0.3137031247571562
          ],
          [
           0.3821234944599732
          ],
          [
           0.20408766115576027
          ],
          [
           0.8009387215414303
          ],
          [
           0.3429296627591959
          ],
          [
           0.02534860426393848
          ],
          [
           0.609812761548117
          ],
          [
           0.38680724205188
          ],
          [
           0.12324745813255145
          ],
          [
           0.30767908947794853
          ],
          [
           0.16169455327398685
          ],
          [
           0.1954580003683999
          ],
          [
           0.32783819885003407
          ],
          [
           0.7598236584283884
          ],
          [
           0.04960590834948275
          ],
          [
           0.7439051873021519
          ],
          [
           0.9095484730121384
          ],
          [
           0.5689554832818507
          ],
          [
           0.3418490419172582
          ],
          [
           0.43369433132038004
          ],
          [
           0.9409923225744371
          ],
          [
           0.8050973120411349
          ],
          [
           0.4018762712367395
          ],
          [
           0.3569824294686639
          ],
          [
           0.7493694366449569
          ],
          [
           0.5456959688130258
          ],
          [
           0.7486087085818324
          ],
          [
           0.4826012356615207
          ],
          [
           0.2160314403930722
          ],
          [
           0.12344986581035511
          ],
          [
           0.000943415267631087
          ],
          [
           0.9754103676847451
          ],
          [
           0.11938101133819679
          ],
          [
           0.5973123783307118
          ],
          [
           0.8545473932021803
          ],
          [
           0.34000438605989214
          ],
          [
           0.43034653237220044
          ],
          [
           0.16549977466365562
          ],
          [
           0.7066041289942178
          ],
          [
           0.635323346708321
          ],
          [
           0.19648696695621115
          ],
          [
           0.7192452005758319
          ],
          [
           0.48978586798824075
          ]
         ],
         "hovertemplate": "category=C<br>x=%{x}<br>y=%{y}<br>size=%{marker.size}<br>color=%{customdata[0]}<extra></extra>",
         "legendgroup": "C",
         "marker": {
          "color": "#EF553B",
          "size": [
           26.42762631586393,
           48.303969755889,
           26.853375606760732,
           65.67560634745571,
           62.36487782902661,
           64.85048201186882,
           70.66298698787095,
           20.263263413534315,
           58.758587110940184,
           40.81516908666981,
           1.5394891691308477,
           25.310153917960875,
           83.98016066644267,
           18.854060574925114,
           10.189310087293679,
           43.35827926326144,
           0.9054161580370979,
           61.329168488737906,
           9.13914863317764,
           87.74700466544819,
           73.87231507265663,
           61.678360785254114,
           52.14490241668801,
           92.07666084633573,
           58.4448909757426,
           89.53460891531692,
           66.64630475268358,
           42.76013337033373,
           44.25455148147456,
           82.47432373470076,
           44.391945450637785,
           65.5173714524338,
           30.980687532246897,
           53.55538148796726,
           35.68859751711102,
           82.85555979060814,
           35.442494879305485,
           50.56341534219588,
           87.63194331423115,
           85.88167711681547,
           74.83558536657398,
           17.925325573928074,
           11.755130015021997,
           0.1992135219070268,
           71.87396178535302,
           16.13628010553837,
           35.42713272172156,
           51.922457078020514,
           21.955392322980195,
           95.98628027134552,
           17.169390770544958,
           63.14189212183764,
           53.25040664159818,
           14.284196481433186,
           89.56747776187787,
           47.42550209769536,
           72.3443662354912,
           79.155820259137,
           38.782608991693124,
           20.347274249759582,
           32.11621526359535,
           22.011132590475313,
           0.8363681876857099,
           51.80080664046248,
           67.11574733796887,
           62.04737850519706,
           59.71553059903019,
           20.22541805245349,
           21.491263703639586,
           69.61561451379252,
           79.62414505413685,
           27.194603941844875,
           26.951186229227265,
           66.19689447938686,
           77.80252431446532,
           3.1149092793391064,
           24.339668321853047,
           3.897932066113041,
           66.6847391305658,
           88.81181889340358,
           99.61576734987788,
           9.491793682166971,
           74.81839120488463,
           2.2425889162055124,
           78.37382510752364,
           62.374308486400906,
           62.46140481145316,
           86.4433246868364,
           70.73970000329277,
           59.68518768877594,
           99.56311094988834,
           64.95089297074473,
           80.44140596774734,
           67.75316138836847,
           37.31226184223836,
           16.7357032236781,
           50.03594462155606,
           64.86389567688155,
           45.51719917336564,
           66.7760591603153,
           48.84956326599054,
           58.31908042770976,
           35.492466087701004,
           3.0026005329392813,
           62.26305335986581,
           97.53431334790706,
           38.55975925133334,
           22.936577703767234,
           46.91072110475787,
           96.7761465269562,
           29.93833737053483,
           67.39942081457303,
           14.692192358377076,
           34.26451465225215,
           86.46589218581401,
           58.0699084554285,
           14.407878601319958,
           8.227232427706188,
           45.958405721362304,
           45.8431424131438,
           84.01080784391999,
           37.14672626243768,
           19.516651721865042,
           74.16414518360422,
           64.47452485768186,
           22.982672579761843,
           27.86430631150364,
           82.5710951560667,
           96.99265253451908,
           37.45482433795813,
           22.05042634356471,
           21.820753455217222,
           24.966895274023017,
           62.7328935090678,
           15.20485674244918,
           92.07396503426354,
           4.005911905069448,
           20.754093620570345,
           23.81466536656963,
           76.9448894082047,
           50.127564462572934,
           3.491155265622381,
           55.11599619163721,
           75.07696492110557,
           77.27714196650791,
           67.73931298888728,
           38.732251797531404,
           6.616518883444044,
           52.473563766143215,
           77.52440518349492,
           23.44256000115147,
           34.50837455132337,
           67.84999682926379,
           94.71614629002478,
           70.62461625552622,
           99.01088460868658,
           26.10485262348481,
           93.54845135274957,
           18.573307200518563,
           6.180846068922263,
           9.236052811137851,
           59.521283412687474,
           96.80763814507335,
           90.43597749938573,
           0.6877962219649314,
           40.24062592993117,
           90.91752640535857,
           59.608195523830595,
           43.38439228552442,
           34.395768655768556,
           65.8661354939767,
           82.09810172991409,
           32.679470585777736,
           1.081108363519634,
           80.0980700403365,
           11.870909550911147,
           53.22918759514545,
           10.326500887504842,
           81.87402294840508,
           98.3567206513663,
           43.12338697915579,
           35.92087469826903,
           82.3552226611819,
           82.06961607667793,
           80.57145256682179,
           20.9059373706846,
           84.09087104029072,
           11.864376574158031,
           68.38664518353433,
           65.6409603500657,
           56.218881106452514,
           11.635848516449588,
           7.680304831442153,
           55.066337944085156,
           40.320775613325225,
           61.183102010322145,
           37.345794513270526,
           10.587431821312931,
           39.525931543115775,
           50.24272871663764,
           95.81180089194338,
           91.64205445320663,
           62.982065443470766,
           67.74380712282945,
           73.14964640431391,
           91.50607325172224,
           25.11692675484013,
           48.40205725094041,
           97.83547870568566,
           72.8370854339646,
           67.1093157085976,
           99.03323037936484,
           68.80455570741289,
           41.719341856457646,
           16.02256009765063,
           75.72829782755008,
           89.79646468477885,
           1.6592480632597884,
           16.301911381488623,
           97.46905960485515,
           92.64637979561849,
           3.93918336928194,
           57.39498660690104,
           58.32523923125568,
           1.1302536589022472,
           78.73719581492729,
           37.47219705073764,
           5.0573103824228856,
           8.352491468001876,
           33.44011789887487,
           16.136735838838312,
           76.01609297901591,
           15.389990469377368,
           5.66804321658354,
           3.4672704226066386,
           39.191056294390904,
           19.343534295648258,
           64.15044812562518,
           82.60646845482856,
           33.02846675020844
          ],
          "sizemode": "area",
          "sizeref": 0.24988942581260964,
          "symbol": "circle"
         },
         "mode": "markers",
         "name": "C",
         "orientation": "v",
         "showlegend": true,
         "type": "scatter",
         "x": [
          -0.13826430117118466,
          1.5230298564080254,
          -0.23415337472333597,
          1.5792128155073915,
          -0.5622875292409727,
          -1.0128311203344238,
          0.06752820468792384,
          0.822544912103189,
          -1.2208436499710222,
          -1.3281860488984305,
          0.19686123586912352,
          0.1713682811899705,
          -0.7198442083947086,
          -0.4606387709597875,
          -1.763040155362734,
          -0.38508228041631654,
          0.9755451271223592,
          -0.18565897666381712,
          1.356240028570823,
          1.0035328978920242,
          0.36163602504763415,
          0.32875110965968446,
          0.09707754934804039,
          -0.3276621465977682,
          -0.39210815313215763,
          0.0051134566424609,
          -0.23458713337514742,
          0.4040508568145384,
          1.8861859012105302,
          -1.9187712152990415,
          0.06023020994102644,
          1.4027943109360992,
          -0.9194242342338034,
          -0.3220615162056756,
          0.8135172173696698,
          0.22745993460412942,
          -1.236950710878082,
          -1.3204566130842763,
          0.29698467323318606,
          -0.7143514180263678,
          0.6565536086338297,
          0.9633761292443218,
          1.8967929826539474,
          -0.7537361643574896,
          -0.8895144296255233,
          0.3411519748166435,
          2.720169166589619,
          -1.0708924980611123,
          -0.846793718068405,
          -1.5148472246858646,
          0.1537251059455279,
          0.5607845263682344,
          1.083051243175277,
          0.5137859509122088,
          1.135565640180599,
          -0.48536354782910346,
          -0.4719318657894335,
          0.21645858958197486,
          -0.661786464768388,
          -0.11473644146689901,
          -0.48423407286625136,
          1.2669111491866227,
          -1.2477831819648495,
          -0.3853135968617599,
          0.6621306745210463,
          1.586016816145352,
          -0.20812225035727533,
          0.6296288419236122,
          0.7472936051232618,
          0.5470973811700377,
          0.8254163489880298,
          0.8135096360006385,
          -0.13014305436768459,
          -1.2141886127877322,
          0.7916626939629359,
          0.9751197334177512,
          0.4129314542756245,
          -0.8222203955664315,
          0.2436872114919123,
          -0.4710383056183228,
          -1.4074637743765552,
          -0.1599385299634271,
          -0.018513135992389903,
          0.6901439917111125,
          0.22409248181041677,
          0.9592708260852069,
          -0.8082982853551515,
          -0.8397218421807761,
          0.34175597577715944,
          -0.5769036556624031,
          -0.4691756521047048,
          1.3538723741654133,
          -0.11453984525261789,
          -0.45006547147924364,
          0.6228499323474987,
          -0.1423794850212935,
          0.12029563171189886,
          -1.124642091837869,
          1.1792971840638264,
          0.06751848141010895,
          -1.183258512665775,
          1.6286155455712918,
          -1.7033824393551547,
          -0.7928728322623442,
          -1.035242322419374,
          -0.11232804969082963,
          -0.57581824064468,
          -1.515191062198552,
          1.3668742674445244,
          -0.12791759148076653,
          -1.4222537095976742,
          -0.007972641316617375,
          1.5231240772696573,
          0.5389100436846587,
          -1.0372461543264564,
          -0.6506425691218272,
          -0.5923939242388692,
          0.2704568257798388,
          -0.05023810944913695,
          0.5009171876243808,
          -0.7632591565425169,
          0.048084946661381994,
          0.25972250172148187,
          0.6385924587773739,
          -0.2030453860429927,
          0.37114587337130883,
          -0.4118769661224674,
          0.39445214237829684,
          2.0754007986454384,
          1.2012139221639448,
          -0.21910052880886424,
          0.8294055811834892,
          0.23561455810856594,
          -0.4152879139008013,
          2.270692857804396,
          0.8303358165442456,
          -0.8560838259088672,
          -0.4776574467651167,
          0.47897982574639203,
          0.8696059201056602,
          -1.1254890472983765,
          0.1292211819752275,
          0.10939479460489293,
          -0.15800789857898942,
          -1.0121043752601677,
          0.8231705839619146,
          -1.295078772063616,
          -0.3357846992901282,
          -1.5031429531181062,
          -0.24574306408594407,
          -0.2727235697476702,
          -2.6968866429415717,
          -1.1065259087416701,
          0.013929291912946203,
          -0.7128457826771644,
          -0.2549772174208552,
          -2.0733902324081495,
          -1.4075116947178212,
          -0.7778166875908753,
          0.9356783931474612,
          1.2715550949941588,
          -1.129051771217229,
          0.48937456122791806,
          -1.0810633275998973,
          0.326133022242118,
          -0.5227230205190395,
          -1.4084612963635597,
          -0.36361221221385587,
          -0.056945623721067457,
          0.17086543812794186,
          0.01843393306539316,
          -0.5397596803093615,
          -1.7025836042378404,
          1.0291556373256436,
          0.25602973431387566,
          -1.8408742313316453,
          -0.6115178029919482,
          -1.4066610968482223,
          -0.949398888831943,
          2.632382064837391,
          -0.8583577801812133,
          -0.6269670577877674,
          1.8124485579969287,
          0.7077519354554754,
          0.6218099622171964,
          -0.7271371758248686,
          0.17770100093325383,
          -1.660960933515991,
          0.20768768716311115,
          0.6815006973726244,
          0.029756139495743236,
          -0.46227528870504275,
          -0.4787486216634771,
          -0.8946073022195039,
          -0.18687164416135904,
          0.19655477651157463,
          1.0318445394686349,
          0.26705026586925884,
          2.2988981236192503,
          -1.0041407667520679,
          -0.034684887386781105,
          0.9843223984765838,
          -0.049463709652432936,
          0.16645220821305598,
          0.2891686439078181,
          1.4205042479898549,
          -0.5707462937494763,
          0.4714155563864041,
          -0.38770155993598404,
          0.6585442726728304,
          -0.1769472274940494,
          -0.5176112990361714,
          2.5269324258736217,
          0.5906548306923093,
          1.1087035805829077,
          1.066674689589154,
          1.1692955904456728,
          0.14671368643332283,
          0.3686733088729012,
          0.19109906801990334,
          0.6454841811410754,
          0.21915032766393877,
          0.24938368371075526,
          0.27902152577033923,
          0.6078965097165392,
          0.1866091231563581,
          1.5655240292343404,
          -0.5551995266931983,
          0.650201177958661,
          -0.045586016355497805,
          0.3520553965142968,
          -0.08215117839256883,
          1.1172958315881278,
          1.3291525301324314,
          0.19652116970147013,
          0.7090037575885123,
          1.4401172154494728,
          -0.6763923020592697,
          -1.889540730945531,
          -0.5711789897827968
         ],
         "xaxis": "x",
         "y": [
          0.9246336829127688,
          -0.6469367777055739,
          0.69822331361359,
          0.8951932200277323,
          0.1979107834626478,
          -0.6514180036144483,
          -0.02435459226098284,
          -0.4831864622993739,
          1.5739867632900326,
          0.22445181855997198,
          1.0470983026121545,
          -0.45888426286894,
          0.8836599374866724,
          0.6523228784134196,
          1.3800913541474515,
          0.39580353343740904,
          -0.37061433208610595,
          -2.8485426206300755,
          -1.1196698946261439,
          1.1608267873785192,
          -0.46770120131189136,
          0.23878915902651351,
          -0.07160125941406395,
          0.05194588580729943,
          0.7326400772155792,
          0.9163276747024814,
          0.3464884758979927,
          -1.0399059271255309,
          0.6127739050625697,
          -0.19068240076334658,
          0.8700677306887539,
          0.6387302220291846,
          -0.24415663529064877,
          -1.2276078151369925,
          0.597400069849858,
          -0.297563503359992,
          -1.0962750868952018,
          -1.4400508825942944,
          -0.8469613483183278,
          1.0098170893426341,
          -0.32483138350862245,
          1.0225704320096403,
          0.5639091200523596,
          0.8534155587803077,
          0.7589285897867651,
          -0.06259312789952241,
          -1.1035893172157711,
          0.9183166060023132,
          0.5500520990245519,
          -0.9683444548636353,
          0.552489954417148,
          -0.429405541125253,
          0.12229750303228384,
          -0.6629009175509484,
          -0.6929051977959073,
          -0.8353470532597573,
          -0.1852876588777083,
          -1.369802979579078,
          0.5689830791852754,
          -0.20358036010236177,
          -1.2096410186912054,
          1.6725723868377034,
          -1.4137144969049802,
          -0.3091164642025014,
          -0.15246983638054348,
          0.7081086766885905,
          0.3885786045309641,
          0.3216978061960136,
          -0.17495975669540864,
          1.085895565831578,
          1.3902075490173134,
          0.5578103063518622,
          -0.186971302985446,
          -1.9754665663538713,
          -0.14408755572161547,
          0.14866745720211172,
          -0.38817681854122876,
          0.1605739810498646,
          0.0030460201534144695,
          0.9495541354413237,
          0.9343199112392737,
          0.7591551603026468,
          -0.5462444482524828,
          1.1965715016644913,
          -0.02730453950993186,
          -1.6135613978767411,
          1.8260097135469362,
          0.6779258713392691,
          1.301741289398798,
          -0.7534178703461835,
          0.1846803058649084,
          -0.9716140385106515,
          1.2004139079444254,
          0.9960476858058164,
          -0.7567950885694608,
          1.5013336519554867,
          -0.32267983884213575,
          0.5562300094006599,
          1.5284684264125317,
          0.5078357562896237,
          0.3074066978091007,
          -0.24869112618354708,
          0.49097495163825133,
          -1.7607627591558177,
          0.38115838488277776,
          -0.5805234498047227,
          0.4446026682201407,
          -0.1340171666729177,
          0.014688194729197093,
          0.7223813578277714,
          0.9325908318730899,
          -0.5518581458924467,
          1.5421099525678756,
          2.006092888159123,
          2.061503576636398,
          -0.17018462252492844,
          0.6963874474567154,
          -1.141689114133505,
          -0.19365945927971812,
          1.513449743242131,
          -0.3722067760710529,
          1.5432435282721888,
          -0.4888494217862741,
          0.14088624691120394,
          0.30179189981946597,
          0.7660802783846903,
          0.3673655068161781,
          1.4926885689595217,
          -0.7472116791478234,
          0.7368438970924334,
          -1.356581804623405,
          0.46642998243352635,
          -1.6151318159055095,
          1.1486373494287152,
          0.06167984984797165,
          -0.8275902206487197,
          0.08614388304637476,
          -2.9213504834946074,
          0.4365598041576678,
          -0.6459641791245353,
          -0.07783719701280203,
          3.193107567844861,
          0.29875290836568624,
          -0.6435498323174619,
          -0.33477533210654087,
          -0.955122579349353,
          -1.0675329142542729,
          0.02421945667275807,
          0.4523717962497342,
          -1.0623935281468797,
          0.4283070972076486,
          -0.18714426500454878,
          -0.35316629281068834,
          0.1684609762696143,
          1.2969945465611092,
          -0.9993022322949108,
          -0.36682441181468783,
          1.6153756894694418,
          -0.3223204692113399,
          0.9983108981479604,
          -0.4316203127180484,
          -0.024195606390916165,
          0.324359281721603,
          0.8712972974572442,
          -1.0003313246055747,
          0.3506300992735592,
          1.1096998419562232,
          0.7094518171390395,
          -0.43548637056984335,
          -0.9354387020445952,
          -0.535963445114048,
          0.3672873134013406,
          -0.30317978283427505,
          0.7999419019420501,
          -1.0536824191463543,
          -0.1044492185374715,
          0.1895816165987434,
          1.0010460925671412,
          0.5112025995249807,
          1.3736585451629577,
          1.6122782579886454,
          0.12320480678448571,
          0.5514853760404677,
          0.043602446372453724,
          -0.7424705856980482,
          -0.6117690909052854,
          -1.4063174636718339,
          1.3404504460231446,
          0.11502607914741717,
          -0.796025856803489,
          0.02131164867194222,
          -1.5137143926128271,
          0.5087250232299338,
          0.8950383140761154,
          -0.4830610516834395,
          0.8968393158655319,
          -0.2685306479058323,
          -2.151815401329305,
          -0.22485598180807856,
          0.9531366339132451,
          -0.6124373746404379,
          -0.0332299906444608,
          -0.12853751143893075,
          0.15985639199740037,
          1.2657078408647005,
          1.0005823180429783,
          -0.6706202090766449,
          -0.2500465145989528,
          -1.6624919880356743,
          -1.0909664302151982,
          -1.1057046684859357,
          -0.5621680265783021,
          0.9648516330974576,
          -0.47383934707091613,
          -0.014452270878279104,
          -0.4363858905265686,
          -0.10960980392583083,
          1.598647170504717,
          0.6969544045107356,
          -0.10730214400422883,
          -1.1939250063990554,
          2.2313001461926323,
          0.6380511014407572,
          -0.5426737997340217,
          -0.7877837519082389,
          -0.620847598251116,
          1.100959634998571,
          -1.2295495944524168,
          0.26912694124510733,
          1.1260502507721681,
          1.2619215007139917,
          -0.5956612940434921,
          1.3744380931708173,
          0.28555407485765694,
          0.5211224283793385,
          0.6452155859500572,
          0.08958068125524882,
          -0.1973384203073261,
          -0.38851845308888583,
          -0.16306696394376388
         ],
         "yaxis": "y"
        },
        {
         "customdata": [
          [
           0.5561906926300116
          ],
          [
           0.8183804247795352
          ],
          [
           0.9919627472386433
          ],
          [
           0.12595519637935826
          ],
          [
           0.6738388982700046
          ],
          [
           0.603150120122947
          ],
          [
           0.6825324595377216
          ],
          [
           0.42906236930266595
          ],
          [
           0.23333282264932664
          ],
          [
           0.2187138889065392
          ],
          [
           0.8494464062257355
          ],
          [
           0.3413186459500521
          ],
          [
           0.40659053735947226
          ],
          [
           0.5254703073558932
          ],
          [
           0.69783278550517
          ],
          [
           0.7921911948016761
          ],
          [
           0.6763610678727241
          ],
          [
           0.6796331823951436
          ],
          [
           0.2719545593981987
          ],
          [
           0.6618345851139982
          ],
          [
           0.5934613827047238
          ],
          [
           0.5565784285021533
          ],
          [
           0.8315183331122236
          ],
          [
           0.6497880467642996
          ],
          [
           0.00003071884538241587
          ],
          [
           0.5402994067614997
          ],
          [
           0.24029912345036675
          ],
          [
           0.9873361585795459
          ],
          [
           0.5318717665050166
          ],
          [
           0.8124738210441717
          ],
          [
           0.3057439574472911
          ],
          [
           0.6725072626736491
          ],
          [
           0.7534721106595967
          ],
          [
           0.8728594215656645
          ],
          [
           0.49995899196478844
          ],
          [
           0.8499593305032054
          ],
          [
           0.19624571670616564
          ],
          [
           0.1255497898984771
          ],
          [
           0.5855876838726125
          ],
          [
           0.6377741418455916
          ],
          [
           0.7302217177572492
          ],
          [
           0.3648224702077987
          ],
          [
           0.1899361364575609
          ],
          [
           0.315773151249496
          ],
          [
           0.7021074541137926
          ],
          [
           0.41227972783166555
          ],
          [
           0.25087909989070023
          ],
          [
           0.12044733999656543
          ],
          [
           0.06203676362878152
          ],
          [
           0.5059316543195584
          ],
          [
           0.9977493890102006
          ],
          [
           0.35472855673021264
          ],
          [
           0.4420334209311235
          ],
          [
           0.8137233437222274
          ],
          [
           0.6018067339454473
          ],
          [
           0.3380844093662614
          ],
          [
           0.5523661378172343
          ],
          [
           0.5952297327194016
          ],
          [
           0.5769816124176819
          ],
          [
           0.5402788931874211
          ],
          [
           0.5658505603132467
          ],
          [
           0.9080185454216624
          ],
          [
           0.29632580189980007
          ],
          [
           0.14346945701802005
          ],
          [
           0.08061540516960175
          ],
          [
           0.7551336174451959
          ],
          [
           0.12434584143087035
          ],
          [
           0.5806452259096341
          ],
          [
           0.8096750362658893
          ],
          [
           0.6439565794476135
          ],
          [
           0.05456540828269896
          ],
          [
           0.5994611396587166
          ],
          [
           0.4425773459328154
          ],
          [
           0.8204875844802748
          ],
          [
           0.7997833644457834
          ],
          [
           0.8259323085500162
          ],
          [
           0.6314587925830206
          ],
          [
           0.4141410682156662
          ],
          [
           0.9579458599261376
          ],
          [
           0.6050895185405384
          ],
          [
           0.1633667583984202
          ],
          [
           0.18445905105988336
          ],
          [
           0.38278410040304056
          ],
          [
           0.505696743781374
          ],
          [
           0.062041416956554296
          ],
          [
           0.07115567887790974
          ],
          [
           0.878033512844457
          ],
          [
           0.04869484839992977
          ],
          [
           0.5412701109416781
          ],
          [
           0.0455851579486688
          ],
          [
           0.07718753022646796
          ],
          [
           0.16988707321905727
          ],
          [
           0.2458474424934003
          ],
          [
           0.35813971652914445
          ],
          [
           0.07675806188873802
          ],
          [
           0.6418195168014353
          ],
          [
           0.48964407603203264
          ],
          [
           0.024005044844888856
          ],
          [
           0.17708225539728983
          ],
          [
           0.7286562842366027
          ],
          [
           0.3153637432661175
          ],
          [
           0.3931471294940152
          ],
          [
           0.7975140452964858
          ],
          [
           0.6775458051837758
          ],
          [
           0.34993785357071405
          ],
          [
           0.7308703457761604
          ],
          [
           0.42001100429566285
          ],
          [
           0.57835976311654
          ],
          [
           0.8664231835397002
          ],
          [
           0.40273948474683074
          ],
          [
           0.9965263087986191
          ],
          [
           0.6754560453364256
          ],
          [
           0.48380253986064725
          ],
          [
           0.4183895333783335
          ],
          [
           0.575593428640082
          ],
          [
           0.35483185554316266
          ],
          [
           0.9414742375060654
          ],
          [
           0.1744092671114995
          ],
          [
           0.6256819122613526
          ],
          [
           0.5213770214737412
          ],
          [
           0.8906584554618424
          ],
          [
           0.5969452234131726
          ],
          [
           0.7498599312882688
          ],
          [
           0.913041466889856
          ],
          [
           0.18078515056237954
          ],
          [
           0.26879761503019817
          ],
          [
           0.19864457689740578
          ],
          [
           0.24685702759573291
          ],
          [
           0.6154207798208354
          ],
          [
           0.9327529390603132
          ],
          [
           0.020137848949289827
          ],
          [
           0.2872212092051508
          ],
          [
           0.8973857174637149
          ],
          [
           0.13812529314024724
          ],
          [
           0.5000582591910867
          ],
          [
           0.6748932030541548
          ],
          [
           0.6456025770584116
          ],
          [
           0.9345438807155155
          ],
          [
           0.9656389752668004
          ],
          [
           0.7293098004772062
          ],
          [
           0.20681789313339627
          ],
          [
           0.5044559416693554
          ],
          [
           0.3121897365691294
          ],
          [
           0.40532536064695335
          ],
          [
           0.19863161386186912
          ],
          [
           0.7833872199958384
          ],
          [
           0.7512789243737669
          ],
          [
           0.8969952893644111
          ],
          [
           0.10901361564092871
          ],
          [
           0.8754886503958965
          ],
          [
           0.8572309373697911
          ],
          [
           0.33161684910783396
          ],
          [
           0.8023960305536325
          ],
          [
           0.8614180460955174
          ],
          [
           0.6777232412013204
          ],
          [
           0.8730431470152034
          ],
          [
           0.4754757152327337
          ],
          [
           0.7203839985864458
          ],
          [
           0.5111136384895005
          ],
          [
           0.11259046652919447
          ],
          [
           0.9614166196420495
          ],
          [
           0.6313759776433766
          ],
          [
           0.24879178873917707
          ],
          [
           0.39312179820707915
          ],
          [
           0.3691361938092045
          ],
          [
           0.5055207917234903
          ],
          [
           0.24997289086882968
          ],
          [
           0.5953663701568727
          ],
          [
           0.7850639210464312
          ],
          [
           0.6487471138950182
          ],
          [
           0.4580286165838686
          ],
          [
           0.7521143326969748
          ],
          [
           0.5960501157609502
          ],
          [
           0.3450168399245661
          ],
          [
           0.7422922314869471
          ],
          [
           0.12036357620998606
          ],
          [
           0.9288079606878853
          ],
          [
           0.5123928207321066
          ],
          [
           0.34883190745863013
          ],
          [
           0.6213306241557073
          ],
          [
           0.18987532909591998
          ],
          [
           0.03895784634846422
          ],
          [
           0.9888405413036631
          ],
          [
           0.9921356394785827
          ],
          [
           0.4034809690269996
          ],
          [
           0.8188692705204715
          ],
          [
           0.30781915002611915
          ],
          [
           0.24116521430776194
          ],
          [
           0.23356736106861098
          ],
          [
           0.2913610728377445
          ],
          [
           0.3204012861402149
          ],
          [
           0.07053563759295656
          ],
          [
           0.5446308711071358
          ],
          [
           0.9554481914380675
          ],
          [
           0.24696116699189252
          ],
          [
           0.5117804565694807
          ],
          [
           0.9347955174927833
          ],
          [
           0.2889685249210585
          ],
          [
           0.503345130606154
          ],
          [
           0.5470453456155777
          ],
          [
           0.08744650179988545
          ],
          [
           0.37736317679665077
          ],
          [
           0.7635158436682122
          ],
          [
           0.775234538899056
          ],
          [
           0.6276688771588087
          ],
          [
           0.14602101929696254
          ],
          [
           0.6960798615670392
          ],
          [
           0.36250198453151317
          ],
          [
           0.10986311374078295
          ],
          [
           0.8836839676879897
          ],
          [
           0.6900468884094496
          ],
          [
           0.08058081228651359
          ],
          [
           0.14716325109494532
          ],
          [
           0.29797723549584376
          ],
          [
           0.08975950056015713
          ],
          [
           0.9108262646863152
          ],
          [
           0.9260595598182655
          ],
          [
           0.9658323197183326
          ],
          [
           0.16622936205165872
          ],
          [
           0.9164891511155142
          ],
          [
           0.8808951605447525
          ],
          [
           0.9192080310537252
          ],
          [
           0.34213260011189495
          ],
          [
           0.44485243282754083
          ],
          [
           0.4890484004492832
          ],
          [
           0.7621745871816447
          ],
          [
           0.8118067183508864
          ],
          [
           0.7939351334518513
          ],
          [
           0.623210373068007
          ],
          [
           0.7416272874518889
          ],
          [
           0.39505333785679597
          ],
          [
           0.7489631508603986
          ],
          [
           0.18641980485397458
          ],
          [
           0.29191117349780726
          ],
          [
           0.7151250198168879
          ],
          [
           0.9571348325397961
          ],
          [
           0.4271050453603432
          ],
          [
           0.47510034069172047
          ],
          [
           0.7072789119056672
          ],
          [
           0.03926505164866023
          ],
          [
           0.1531445000839562
          ],
          [
           0.7697466228570872
          ],
          [
           0.06844070924262613
          ],
          [
           0.8696496848121713
          ],
          [
           0.8475476330547363
          ],
          [
           0.21174586205241952
          ],
          [
           0.559744661333675
          ],
          [
           0.8579349139973288
          ],
          [
           0.43539632339975143
          ],
          [
           0.052826686364721986
          ],
          [
           0.9698188646337847
          ],
          [
           0.666685651892513
          ]
         ],
         "hovertemplate": "category=D<br>x=%{x}<br>y=%{y}<br>size=%{marker.size}<br>color=%{customdata[0]}<extra></extra>",
         "legendgroup": "D",
         "marker": {
          "color": "#00cc96",
          "size": [
           28.746166489725013,
           60.363720055937506,
           95.1423220845566,
           1.5110684214475034,
           25.089304569110247,
           27.109625376406576,
           59.76682827027031,
           94.67337289233956,
           88.29938248297731,
           70.11395944174737,
           58.29260568042631,
           95.75810150838173,
           1.3745554011345251,
           24.755977027988642,
           6.252629574284574,
           73.27334747861651,
           60.67317247174364,
           67.28716685980798,
           80.50903184956627,
           93.27105081327613,
           20.02820178676259,
           6.845871933357806,
           53.83319432557134,
           36.84489199165789,
           24.838360874320752,
           93.62806214689266,
           92.71106288584274,
           26.023659798522935,
           16.046261427122644,
           88.16906118435081,
           68.51343098744842,
           28.918744629594983,
           30.779583168074566,
           91.37884438732593,
           95.2815017002506,
           55.33711897497719,
           50.313247255154,
           19.38630679368927,
           67.36454174749078,
           22.959816075396866,
           89.08555349831467,
           24.153684170168177,
           22.236130474817028,
           23.420337092633414,
           61.63004859257241,
           70.21460961818295,
           50.0112752076627,
           41.195809503410196,
           11.539464217891737,
           11.720390568023342,
           69.20736470243689,
           39.1859373188026,
           6.904590631459973,
           62.842645661458704,
           83.61177032072487,
           48.50946599795402,
           46.63097561401701,
           7.569972730978747,
           80.35376594626034,
           6.697361202527152,
           38.94049389788753,
           54.176096426756324,
           6.656472791422285,
           64.83180074520956,
           43.34722327556344,
           55.905928494660216,
           70.87656552291543,
           54.841916299356264,
           78.19599771579591,
           19.497519990028923,
           74.99777984520708,
           90.82284887003229,
           88.91279239400099,
           63.239132432838744,
           27.09426983163654,
           31.382680822441557,
           24.150062799283344,
           90.78385138835341,
           50.705964673871826,
           7.697166938087408,
           19.09265850716435,
           69.46409588937279,
           76.08513309307817,
           69.89488284873856,
           36.83472137943513,
           43.23462264033473,
           3.3676403874464023,
           55.73371695730081,
           89.79191869576658,
           32.529061836174776,
           84.4871347755229,
           24.90087361090899,
           99.88926120332906,
           32.663924942591095,
           41.1191517994586,
           36.04268271414861,
           56.61806912250709,
           65.43420054927196,
           1.4381446072085025,
           3.893801668766561,
           83.71196278306522,
           61.95262000363033,
           58.69365065589071,
           58.095037988817936,
           22.8875462483499,
           5.3347996988897695,
           45.476434255266106,
           67.47863021674105,
           94.16919866580305,
           27.528821345186017,
           63.594032682671084,
           17.935601028924097,
           80.28109348245005,
           96.09201469288247,
           40.18871998907301,
           5.198935197770749,
           6.239406859827723,
           33.527905007829574,
           81.69739072718367,
           8.510348611978536,
           26.856216745364257,
           10.09781068177611,
           97.30767979122983,
           75.92925069184736,
           43.974048650790856,
           27.83684816626566,
           79.82931972091866,
           32.62539180411468,
           35.53197484738877,
           80.38048904834751,
           13.714848815274316,
           82.23812111853543,
           72.50060762991187,
           77.7049285651756,
           31.38754967224705,
           53.802270536390296,
           49.25690707532976,
           48.31808633136685,
           32.82331056783394,
           19.64192158720174,
           17.54916273813574,
           56.77273179310546,
           57.931446666193786,
           37.21732552468971,
           14.122354337314945,
           57.08774168394763,
           21.87098003235832,
           18.28377798688171,
           79.7732263348214,
           84.51208514960348,
           67.27646144124667,
           0.06533907612995549,
           45.832359458757544,
           35.121938734878086,
           48.72653541000508,
           59.69106905466561,
           82.75530522740469,
           91.06057172144217,
           50.98540095504577,
           11.159299995724748,
           37.97515229193175,
           39.20935769045727,
           12.548629679915068,
           56.57815548409963,
           82.6858560972753,
           96.14923245741122,
           61.146361122566084,
           84.81092350156301,
           73.90669759393725,
           96.3360320446038,
           71.60499732421445,
           62.26895409497975,
           33.997186379324816,
           34.338670217764424,
           16.279098920622936,
           15.047227100599747,
           50.15179603501664,
           66.19136326370115,
           75.11771369540428,
           57.789111269408835,
           66.35235939134523,
           41.119748888254584,
           83.09491710550684,
           29.994206977702266,
           90.24130332861034,
           73.30001072226231,
           56.660525890546296,
           65.70304982341074,
           89.83864665840349,
           82.65510741914642,
           65.87176387270222,
           93.8315728651316,
           96.9723632797977,
           34.751879531375465,
           5.034952696935324,
           61.39703063252326,
           57.76317543444226,
           36.25597965590946,
           22.123869644606398,
           45.91240232866809,
           30.328589084928293,
           93.2554878419312,
           71.47532764439458,
           61.27958355365104,
           66.17777324716386,
           35.466620498508284,
           87.9330215678474,
           55.704051327503514,
           88.61817721293451,
           93.43041141674902,
           40.32106331838228,
           82.4471517604549,
           14.64362566028161,
           83.2929715574228,
           54.029653179030724,
           84.46659090902243,
           84.42123252861431,
           51.40954425512597,
           96.57472098197475,
           39.5155297472305,
           26.59284506321188,
           12.038757878908902,
           18.11832790500828,
           22.267607912308495,
           30.72164170212709,
           17.093640242084827,
           41.814478816279966,
           10.024556372287662,
           66.17186826439566,
           60.24494419665878,
           2.370775364451838,
           86.8409523946934,
           5.062247226907413,
           2.8652427577654516,
           4.02580030092321,
           58.835222098315334,
           39.76844144330547,
           97.38004133571495,
           70.94388646339748,
           42.61212379522308,
           93.03984201693255,
           87.06884554574394,
           49.25353807142893,
           14.92494697414739,
           40.84555814084826,
           25.982813794029948,
           29.72872042813265,
           22.99937539632405,
           24.05315851801487,
           15.631697070886085,
           79.38181039080396,
           61.93899693665019
          ],
          "sizemode": "area",
          "sizeref": 0.24988942581260964,
          "symbol": "circle"
         },
         "mode": "markers",
         "name": "D",
         "orientation": "v",
         "showlegend": true,
         "type": "scatter",
         "x": [
          -0.23413695694918055,
          -0.4694743859349521,
          -0.46572975357025687,
          -0.9080240755212111,
          1.465648768921554,
          0.11092258970986608,
          -1.1509935774223028,
          -0.600638689918805,
          -1.0577109289559,
          0.2088635950047554,
          0.7384665799954104,
          -0.3011036955892888,
          -0.6451197546051243,
          1.564643655814006,
          -2.6197451040897444,
          0.08704706823817134,
          -0.29900735046586785,
          0.0917607765355023,
          1.477894044741516,
          -0.8084936028931876,
          0.9154021177020741,
          0.9686449905328892,
          -1.4635149481321186,
          0.26105527217988933,
          -0.8022772692216189,
          0.257550390722764,
          1.1428228145150205,
          -1.4018510627922809,
          2.1904556258099785,
          -0.5034756541161992,
          0.06856297480602733,
          0.4735924306351816,
          -1.6074832345612275,
          0.1846338585323042,
          0.2598827942484235,
          -0.6800247215784908,
          0.23225369716100355,
          0.29307247329868125,
          -0.8206823183517105,
          0.82206015999449,
          1.4535340771573169,
          -0.2646568332379561,
          -0.8571575564162826,
          -0.07282891265687277,
          -0.4465149520670211,
          -0.883857436201133,
          0.058208718445999896,
          -1.142970297830623,
          1.053802052034903,
          -0.9378250399151228,
          0.5150476863060478,
          0.570890510693167,
          -0.23681860674000887,
          2.3146585666735087,
          0.06428001909546277,
          0.6795977489346758,
          -2.025142586657607,
          0.18645431476942764,
          0.852433334796224,
          0.5049872789804571,
          -1.2002964070557762,
          -0.3345012358409484,
          -0.6533292325737119,
          1.7654542402810969,
          2.1221561970126332,
          -1.5193699659540134,
          -0.2525681513931603,
          1.1631637521549596,
          0.19905969557347003,
          -1.9520877995225019,
          0.5883172064845762,
          0.2809918677350327,
          -0.5893647569442118,
          0.35701548596504734,
          0.8128621188389601,
          -0.8289950109220725,
          -0.5601810401969697,
          -0.020901593964148132,
          0.117327383308782,
          -0.5915713888358299,
          0.09699596499271819,
          0.5951570254369136,
          0.6241198170521551,
          -0.8972543714858315,
          0.07580455819372633,
          -0.6771617115121117,
          -0.8254971967925115,
          -0.5637245528039749,
          -0.5069431753711298,
          0.2320499373576363,
          -0.21344715171184725,
          0.3109075655980046,
          -0.01901620790268883,
          -1.0025293646378088,
          -0.1087601484568576,
          -0.40122047188583626,
          0.01259240078179486,
          -0.7730097838554665,
          0.4979982912454495,
          -0.7673475628880495,
          0.8723206367206782,
          0.18334200573835174,
          -0.5993926454440222,
          -2.123895724309807,
          0.9504238381860503,
          -0.5993750229537729,
          0.005243699718183166,
          0.046980593764742055,
          -1.0676204293825944,
          -1.5341141707356223,
          0.33231401197959165,
          1.551151975522523,
          0.6860514599984393,
          1.0584244868495878,
          -2.0392321777601006,
          -0.05554769889661878,
          0.03526355197172861,
          -0.6997255079925854,
          -0.2209695995332226,
          -0.5305011476105275,
          1.6449677135012837,
          -0.24903603955637832,
          3.0788808084552377,
          1.1195749114345768,
          -0.9555404406004258,
          -1.6064463202575725,
          0.2034636358672231,
          -0.7563507452843033,
          0.8816397569494505,
          -1.3985675738191412,
          0.5629692366905709,
          -0.9075636620415979,
          -0.977555244798551,
          -1.6694052811213718,
          -0.6626237589458467,
          0.5705986685931593,
          -1.6615200622689599,
          -0.06607979864731657,
          -0.38455554422982535,
          -1.129706854657618,
          1.4415686206579004,
          -2.4716445001272893,
          -0.7968952554704768,
          0.08658978747289992,
          1.1677820616598074,
          0.2544208433012131,
          -0.48760622407249354,
          -0.4325581878196209,
          -0.4080753730215514,
          -0.35151348404130867,
          0.32692737376416264,
          -1.4785862457798415,
          0.18186625505849516,
          0.24822058630033608,
          -0.44429326007611136,
          0.7569886166453519,
          0.41343490322370086,
          -0.05558467091045507,
          0.2799686263198203,
          -0.5112156764311853,
          1.0941915184709485,
          1.5295503194606137,
          -0.42688106994742003,
          0.07331796718840389,
          -0.2595913513636048,
          -0.23093453020867796,
          -0.2688886905548305,
          0.05921843401448826,
          0.19808476076785533,
          -0.5468589412403921,
          -0.543424771133765,
          0.10643022769189683,
          -2.650969808393012,
          -0.34268759408034877,
          0.7216720640432349,
          -0.5245202662797737,
          0.7129984301723881,
          0.7109599682034917,
          0.4442633114860399,
          1.159329803364248,
          0.924027019206901,
          -0.18490213644298903,
          -0.09671311187039239,
          0.1503017614618776,
          0.743264094022715,
          -0.18398333635267913,
          -0.7783047254023127,
          0.19584525509768155,
          -0.978372777615032,
          0.472597482413043,
          -0.7553829323533225,
          1.0536417966078395,
          0.1848361236948739,
          0.7003098794089911,
          -0.5756378262377739,
          -0.7031764251258874,
          1.77080063563551,
          0.9725544496267297,
          -1.3353443587101013,
          0.8339221545489041,
          0.4591800792284367,
          -0.070165711458647,
          0.9382838059759977,
          -0.4344962274323156,
          0.22213377163371276,
          1.2557561255735208,
          -0.2817846088605074,
          -1.344450511034277,
          1.5505004928140769,
          -0.998354040738791,
          0.6748194921666035,
          2.4553001399108942,
          -0.637739984251316,
          -0.5309969550018176,
          -0.6231405264247644,
          -0.5554771191602547,
          -0.8323555731042287,
          -0.5522230442809716,
          0.28586539072490513,
          0.33445678998702516,
          1.7945578635177877,
          -0.5308687729203206,
          1.044160877069072,
          1.8467073257360336,
          0.5839281853259639,
          0.8204821811973643,
          0.5072740311072979,
          -0.16711808031685435,
          1.2065089665083568,
          -0.8169356709872361,
          0.028744822934817487,
          0.7462535660272207,
          -0.30777823495300055,
          -0.0952955323869521,
          0.19408999289830758,
          1.073631749859772,
          -1.0265152994110602,
          0.132969674146876,
          -1.5231869047837747,
          1.88115706944059,
          0.7083564472993533,
          0.8724573282801447,
          -1.5255251709247388,
          0.34272534637770413,
          0.4477085600173148,
          1.8009404329108156,
          0.12810441491078928,
          -0.6810516574748808,
          -0.6526239793023911,
          0.7604146561442974,
          0.02688583899453078,
          -0.2811002928859549
         ],
         "xaxis": "x",
         "y": [
          0.3934853854217497,
          1.0495527153193351,
          0.19759960469239965,
          -0.32034730819432017,
          0.5228354880354996,
          0.4363236696740321,
          0.03800347816820029,
          0.6135179727304166,
          0.647195939702741,
          -1.225765663002341,
          1.6839276914578687,
          -0.03850846950070721,
          0.3465038817307158,
          -1.2829922241885696,
          0.99626681944714,
          -1.556581898659751,
          -0.4281151609659125,
          1.5007597906343109,
          -0.3216350512173826,
          0.38193545223155334,
          1.0302834540318422,
          -0.03722223650984159,
          -0.08071658010858232,
          -1.9982006845321076,
          -0.13958962815517376,
          -0.6237689606958051,
          0.2010990467149675,
          -1.1430049127304835,
          -1.146345393018688,
          0.32876241030348075,
          0.42192075423528475,
          0.45353430151397983,
          -0.15005558703252717,
          0.12557645347154262,
          -0.1730718242838696,
          -0.6389617476895023,
          -1.3230897934074985,
          1.642015160136369,
          -1.6453987469568918,
          1.3842728185105182,
          -0.09833962679474989,
          -0.9885911071509176,
          1.3920022863445993,
          -0.2246331499970246,
          0.1053755061459599,
          -0.019637798926681226,
          0.22391413406466143,
          1.3641404299738442,
          0.5432980290363882,
          0.04059169120388238,
          -1.4026052717996935,
          -1.243863235391285,
          0.27899416222380197,
          -1.1875984190295128,
          0.0438114719791096,
          2.2105230015913513,
          1.6777008140764407,
          -0.5535882417079946,
          1.628396623128538,
          -0.5816809139486437,
          -0.6492775450660071,
          -1.2239402667622565,
          -0.7699732310586415,
          0.2337859117907477,
          -1.9937356425714554,
          1.2276689924732922,
          0.169360824036078,
          -1.092312764672579,
          2.319329539981694,
          -1.331232953557778,
          0.5079913269125437,
          -1.1033666061738736,
          -0.006070911539893324,
          0.08182935854756501,
          0.26739231407190295,
          -0.6680904536430488,
          0.9920423495365228,
          0.5365098435704035,
          -0.8984679817910373,
          -0.009118996644203544,
          0.056649924897107164,
          0.5296927543567308,
          -1.2096947428411076,
          1.2187618516973167,
          -0.213442870930208,
          1.490726136849952,
          -0.6134026635409398,
          0.1704162223754877,
          1.1906462747863413,
          -1.4848979684499035,
          -0.22476540189268354,
          -1.1701130260593595,
          -0.5765104007267194,
          -2.59104229214491,
          0.11958036841415326,
          -0.15852957302697002,
          -0.933267959073196,
          -0.8848027140269009,
          1.7117084801423437,
          -0.20932367715186612,
          -0.6690727386599166,
          1.0399046873960764,
          -0.48791140814570266,
          2.1573082132655035,
          0.032004149065766624,
          0.5366527525272862,
          1.185704154662997,
          0.7189533106650667,
          -1.4218106667418438,
          0.45588777208160763,
          -0.643518230380143,
          0.05701312489708459,
          -1.1032083657216831,
          -0.221253623585772,
          0.8157372125392965,
          0.7348777860498175,
          -1.2242982362893657,
          -0.2090232572860252,
          0.5885784044206096,
          -1.1958830620351844,
          -0.78489831308224,
          0.648280433843859,
          -0.8874921778021001,
          -0.43745830032341043,
          -0.372833152091767,
          1.7269638512334051,
          -0.39963618561460235,
          0.22468472575188592,
          1.262584103427182,
          -0.8181988834223072,
          -0.0033744574109520514,
          -1.86653661707306,
          0.6308116845547775,
          1.221033695525353,
          -0.22648409884983187,
          -0.9594392367234795,
          -1.7684393655628516,
          0.32316771418478146,
          -0.5327008396619114,
          1.772251596669744,
          -0.45709625658627184,
          -0.6022120603617805,
          0.46877425607502377,
          -0.10015407647995278,
          -0.877982586756561,
          -0.82688035403986,
          0.9135846262332494,
          -0.8031789506803448,
          -0.2813275571182134,
          -0.5290526773462948,
          0.2935579321666293,
          -0.734591576798049,
          0.42881650033057295,
          0.6931056072631441,
          0.020793707675407887,
          -0.18289644110484016,
          -0.4827435221820324,
          -1.563190808696657,
          0.883109777147159,
          1.0800480657146485,
          0.8527736751222197,
          -0.8463566549908735,
          1.0299608175811612,
          0.42359906559346105,
          -0.0796413912457152,
          1.187386051564751,
          0.19438430157733602,
          -0.29540141013902943,
          -1.0065425652796411,
          -0.11806852699107874,
          -0.6078219870944325,
          -0.022868062298882122,
          0.840620026504553,
          -0.3917581490438219,
          0.40373009033660945,
          -0.9037018607301281,
          1.1876793884615637,
          0.28328787154614216,
          -0.25890497370407733,
          -0.47490365662252443,
          0.513907849658915,
          0.17958178193959795,
          -0.12038116395359824,
          0.1904996797790666,
          0.6153674840130534,
          1.085982116175032,
          1.8381836767951223,
          -0.22346598237185214,
          -0.3493167961181975,
          -1.616310608436588,
          0.501094169939845,
          -1.830632896856457,
          0.9528745472029384,
          1.3149144535840473,
          1.639964529371393,
          -0.8432465953161914,
          -0.1758858124323366,
          0.1946074552372427,
          -0.08310557262869477,
          -0.30920907704986345,
          -0.7521564055905832,
          0.31917451041918043,
          1.9011906857530074,
          -1.803139676255945,
          0.2671266510114834,
          -1.5811907020321334,
          0.018849622944847662,
          0.7082144232565574,
          -1.1437262073206618,
          0.10855970577652314,
          -1.881849045497639,
          -0.8661748482145006,
          0.9694572005267368,
          0.42719436187168486,
          -0.6462273098438029,
          1.7753108926095116,
          1.3924653000643288,
          0.28869362927985703,
          1.0325462043416573,
          1.1267051368275833,
          1.3956838107899563,
          1.6155828235482317,
          -0.5924642591528942,
          0.28016115881960635,
          -0.8096035199216461,
          0.5462842480036996,
          0.0064222698109378164,
          -0.25879606266710237,
          0.5609194479412387,
          -0.29548031802916036,
          1.1731246375866413,
          -1.1267674689098053,
          1.732514999485092,
          -1.801057734152739,
          -0.4720905776971272,
          -1.9792998103757877,
          0.7479102561175338,
          -1.0727430257398065,
          -0.9193845915864234,
          0.4966992232365217,
          0.4676931717654332,
          -0.3916485674217908,
          0.37710039390218647,
          -2.135674213978696,
          0.22323891412915967,
          -0.1512732836535117,
          0.5935567222808619,
          -2.9403886346642802,
          0.19473619471877485,
          0.4070522871245351,
          0.43192254467394064,
          1.0701502383164274
         ],
         "yaxis": "y"
        },
        {
         "customdata": [
          [
           0.04013885908536652
          ],
          [
           0.8899133763628625
          ],
          [
           0.21031855628579366
          ],
          [
           0.7653633638580407
          ],
          [
           0.8468872244289528
          ],
          [
           0.6923543061544142
          ],
          [
           0.013682414760681105
          ],
          [
           0.258591591134784
          ],
          [
           0.631375326048251
          ],
          [
           0.4263983568016225
          ],
          [
           0.548145202728022
          ],
          [
           0.2959320294366161
          ],
          [
           0.6638244748527251
          ],
          [
           0.9653027236303998
          ],
          [
           0.8903843208552661
          ],
          [
           0.5639195667556237
          ],
          [
           0.5002785352077603
          ],
          [
           0.6009120056590861
          ],
          [
           0.633711599765529
          ],
          [
           0.3427309254279072
          ],
          [
           0.01289746978952544
          ],
          [
           0.8511507354259817
          ],
          [
           0.5657449506132892
          ],
          [
           0.0850563854892411
          ],
          [
           0.3799790789653946
          ],
          [
           0.09664483428775228
          ],
          [
           0.8736185287372153
          ],
          [
           0.5827144493446815
          ],
          [
           0.32694102433667527
          ],
          [
           0.4027037209945602
          ],
          [
           0.3152394346494508
          ],
          [
           0.1332099241366287
          ],
          [
           0.5784925082293301
          ],
          [
           0.025689644869408168
          ],
          [
           0.4430337063376194
          ],
          [
           0.10804455937640711
          ],
          [
           0.47849107010718916
          ],
          [
           0.05702691400361937
          ],
          [
           0.10548342746103567
          ],
          [
           0.23374079203674425
          ],
          [
           0.2523119270696871
          ],
          [
           0.3077709052931491
          ],
          [
           0.8979352934437369
          ],
          [
           0.8099244203028994
          ],
          [
           0.5831302190995835
          ],
          [
           0.46618159112755697
          ],
          [
           0.556464637348822
          ],
          [
           0.9113391900786307
          ],
          [
           0.020934117826733267
          ],
          [
           0.33135221873631704
          ],
          [
           0.39593722619594984
          ],
          [
           0.7562537914224343
          ],
          [
           0.5845431132594582
          ],
          [
           0.4517394759814438
          ],
          [
           0.11514617839520114
          ],
          [
           0.8832736014262238
          ],
          [
           0.3872744114248413
          ],
          [
           0.6596902729304743
          ],
          [
           0.9405039528794026
          ],
          [
           0.648765386159386
          ],
          [
           0.40146177908904324
          ],
          [
           0.1268240225504188
          ],
          [
           0.16266081510548513
          ],
          [
           0.7343656764922184
          ],
          [
           0.05856530528453385
          ],
          [
           0.39631262549822055
          ],
          [
           0.5956798241615295
          ],
          [
           0.9395685890251657
          ],
          [
           0.08018675681211329
          ],
          [
           0.4768388777331244
          ],
          [
           0.6300931268616634
          ],
          [
           0.9408801695592043
          ],
          [
           0.9709402496046186
          ],
          [
           0.040285518777998464
          ],
          [
           0.40542282513915495
          ],
          [
           0.481277951219237
          ],
          [
           0.08613213906368034
          ],
          [
           0.4398556397138349
          ],
          [
           0.9024032761106747
          ],
          [
           0.21633277763082703
          ],
          [
           0.3531028889383895
          ],
          [
           0.59856299321776
          ],
          [
           0.5716076494829438
          ],
          [
           0.5234013709220082
          ],
          [
           0.6665219766930349
          ],
          [
           0.20229394915820365
          ],
          [
           0.3867070570439779
          ],
          [
           0.051150205620397626
          ],
          [
           0.8391466080707525
          ],
          [
           0.566018424887821
          ],
          [
           0.5578736756600732
          ],
          [
           0.18527685033354002
          ],
          [
           0.9459708898455993
          ],
          [
           0.2966124821570931
          ],
          [
           0.12694441375497267
          ],
          [
           0.6843142489253448
          ],
          [
           0.9489806670470013
          ],
          [
           0.1425565550331156
          ],
          [
           0.004187443627957865
          ],
          [
           0.09842418910136874
          ],
          [
           0.5993597250421656
          ],
          [
           0.47508987286676807
          ],
          [
           0.9224342836561245
          ],
          [
           0.24067051475715306
          ],
          [
           0.8306227604317913
          ],
          [
           0.4096728692925191
          ],
          [
           0.799157971104782
          ],
          [
           0.3341927141731099
          ],
          [
           0.13998737672176287
          ],
          [
           0.415818568018411
          ],
          [
           0.3960009663856152
          ],
          [
           0.9492731062456169
          ],
          [
           0.20831539000851795
          ],
          [
           0.6692190299248667
          ],
          [
           0.35781124933559305
          ],
          [
           0.47173983751843906
          ],
          [
           0.7802126485356335
          ],
          [
           0.26116243251086024
          ],
          [
           0.5673909441560734
          ],
          [
           0.2881845259595295
          ],
          [
           0.5848278113057909
          ],
          [
           0.47164949075059537
          ],
          [
           0.5505316805962256
          ],
          [
           0.40736552421283234
          ],
          [
           0.19629430231106704
          ],
          [
           0.42967336335514794
          ],
          [
           0.4264997472418611
          ],
          [
           0.08778823705815997
          ],
          [
           0.17182946035765845
          ],
          [
           0.886171294055993
          ],
          [
           0.5645906389334635
          ],
          [
           0.6790666044956374
          ],
          [
           0.7201574609309402
          ],
          [
           0.25619151443935495
          ],
          [
           0.7600055449620985
          ],
          [
           0.20969027743020086
          ],
          [
           0.765858643884742
          ],
          [
           0.39355533610631555
          ],
          [
           0.1307173235897573
          ],
          [
           0.5750605734588147
          ],
          [
           0.23222469090134312
          ],
          [
           0.9562918815133613
          ],
          [
           0.33924066117383633
          ],
          [
           0.062431327277780335
          ],
          [
           0.248539820927426
          ],
          [
           0.3169426217672814
          ],
          [
           0.3024663174614697
          ],
          [
           0.6825404787671571
          ],
          [
           0.5005793174308313
          ],
          [
           0.6457250433510536
          ],
          [
           0.11995294173096982
          ],
          [
           0.13730003271557023
          ],
          [
           0.7518251459566812
          ],
          [
           0.13168690343620704
          ],
          [
           0.7419777295139859
          ],
          [
           0.252314736135153
          ],
          [
           0.168858463370395
          ],
          [
           0.8490980199586761
          ],
          [
           0.16827858850771282
          ],
          [
           0.1891957923903549
          ],
          [
           0.7093888218243862
          ],
          [
           0.10540137739646227
          ],
          [
           0.8388538619040689
          ],
          [
           0.6970241660042995
          ],
          [
           0.36298284040387163
          ],
          [
           0.40777803440616267
          ],
          [
           0.8863803619601417
          ],
          [
           0.047196701697378995
          ],
          [
           0.6791625683195628
          ],
          [
           0.29827245423412274
          ],
          [
           0.9757788185489327
          ],
          [
           0.5077578381885688
          ],
          [
           0.1383715947205566
          ],
          [
           0.19571264009964906
          ],
          [
           0.8202533189448897
          ],
          [
           0.4189697737795244
          ],
          [
           0.43526227965655384
          ],
          [
           0.219634928594569
          ],
          [
           0.0002270382182555375
          ],
          [
           0.7240291887729212
          ],
          [
           0.11914067199604816
          ],
          [
           0.035590230806476386
          ],
          [
           0.9943303026857149
          ],
          [
           0.053830524908459076
          ],
          [
           0.8024017844513243
          ],
          [
           0.3412444497577206
          ],
          [
           0.5088940700698802
          ],
          [
           0.8660356750457565
          ],
          [
           0.009910695491153643
          ],
          [
           0.7780463064831992
          ],
          [
           0.46073360024167387
          ],
          [
           0.7545693612057366
          ],
          [
           0.24860488461330632
          ],
          [
           0.34557958587081306
          ],
          [
           0.006982261880348117
          ],
          [
           0.3768668803471885
          ],
          [
           0.8759049249998946
          ],
          [
           0.9052989990105155
          ],
          [
           0.29765027756828044
          ],
          [
           0.29806620117000415
          ],
          [
           0.6349066591531628
          ],
          [
           0.16881000578456418
          ],
          [
           0.013228812905293985
          ],
          [
           0.7694425794215568
          ],
          [
           0.6912466637859893
          ],
          [
           0.1675665393045065
          ],
          [
           0.6455343564105223
          ],
          [
           0.15577326058017016
          ],
          [
           0.03981143944575383
          ],
          [
           0.9556494672664894
          ],
          [
           0.9536326078296895
          ],
          [
           0.043100108948324056
          ],
          [
           0.17909493932818155
          ],
          [
           0.9477796979692298
          ],
          [
           0.10868253937469208
          ],
          [
           0.9812575773912768
          ],
          [
           0.6254334501665935
          ],
          [
           0.6356453219526133
          ],
          [
           0.1485067816436808
          ],
          [
           0.5964670754135437
          ],
          [
           0.1322687150984817
          ],
          [
           0.19668819731282305
          ],
          [
           0.23748330516938398
          ],
          [
           0.2998975929945362
          ],
          [
           0.8239976518799783
          ],
          [
           0.46904074751815394
          ],
          [
           0.18015864773261925
          ],
          [
           0.683870124909032
          ],
          [
           0.3161013115469705
          ],
          [
           0.05574085358744174
          ],
          [
           0.4838602188643114
          ],
          [
           0.5466772648973117
          ],
          [
           0.5345592191563087
          ],
          [
           0.37208225496289593
          ],
          [
           0.9520624466390027
          ],
          [
           0.7379277689988003
          ],
          [
           0.59742924257342
          ],
          [
           0.25706269218920874
          ],
          [
           0.46503633422090995
          ],
          [
           0.22697853947152102
          ],
          [
           0.9615507321375663
          ],
          [
           0.36325535167581025
          ],
          [
           0.6737562297840898
          ],
          [
           0.4503503857807928
          ],
          [
           0.8979552161850192
          ],
          [
           0.5250493402453846
          ],
          [
           0.44672646870264054
          ],
          [
           0.20598003587696168
          ],
          [
           0.9772838231769293
          ],
          [
           0.663310709504002
          ],
          [
           0.8390996987996115
          ],
          [
           0.5506604592365643
          ],
          [
           0.600251410099583
          ],
          [
           0.57356328002671
          ],
          [
           0.8973973183215863
          ],
          [
           0.8157453806261209
          ],
          [
           0.08813443097669149
          ],
          [
           0.7767984372086307
          ],
          [
           0.3220675351957297
          ],
          [
           0.6669274474586807
          ],
          [
           0.5275879732721657
          ],
          [
           0.2589042747931396
          ],
          [
           0.3027751282719672
          ],
          [
           0.5644165877797477
          ],
          [
           0.6171942271169667
          ],
          [
           0.9226037570939578
          ],
          [
           0.762212058314177
          ],
          [
           0.6233795659599071
          ],
          [
           0.6024691704572664
          ],
          [
           0.5286566039892756
          ]
         ],
         "hovertemplate": "category=A<br>x=%{x}<br>y=%{y}<br>size=%{marker.size}<br>color=%{customdata[0]}<extra></extra>",
         "legendgroup": "A",
         "marker": {
          "color": "#ab63fa",
          "size": [
           7.697946706496628,
           7.558361385406698,
           9.206698608247542,
           59.90445871503815,
           67.60262880525475,
           73.65352283347926,
           97.70069544389435,
           0.8319942227192012,
           9.26254830513672,
           74.83843496762313,
           91.45486638485589,
           25.871164215544095,
           43.44033190066098,
           72.3447817850001,
           58.945398948469716,
           63.76882468959355,
           24.202207998087722,
           19.92703364668008,
           54.42539661136977,
           37.11129384301278,
           64.93223245768817,
           6.400634660862092,
           29.238311041219312,
           2.1913328775008956,
           50.26312426301305,
           40.967105337599264,
           7.049194564314465,
           66.42193849889682,
           81.41256855911618,
           11.043186341110268,
           24.99569463976212,
           51.50056597097231,
           35.3789158736436,
           94.11208125336735,
           10.25679625835898,
           67.69407829968374,
           83.79083748518036,
           61.054675501542455,
           16.036540611974313,
           69.39495905101568,
           73.24010490583791,
           51.493334991325945,
           8.355433751068976,
           1.912896643728701,
           16.57481769652207,
           10.534548448133318,
           60.775268309565256,
           5.773215922511721,
           39.10328691273987,
           55.68784431720959,
           42.89443334301443,
           54.090500383808084,
           87.05269662693841,
           20.62521138361526,
           20.431638339897027,
           50.780506395877914,
           1.8124041045729733,
           79.27581135728128,
           68.86316293078755,
           25.327238352271507,
           84.33261677878832,
           33.362839583686565,
           45.12941130292549,
           18.34421964034345,
           88.25598767723473,
           96.80658120507589,
           80.38145451934467,
           99.71823539029504,
           35.05205342861618,
           37.25332737595508,
           6.8713677723960975,
           65.6729484721608,
           21.766739958053606,
           0.5313475668345946,
           80.44946424318223,
           58.37135877313639,
           14.032451819351499,
           16.98810060507353,
           75.87153211639207,
           65.41327370278736,
           71.6397111958099,
           42.48508428680869,
           82.18309465853592,
           26.406198469371876,
           63.63742815333744,
           21.87156129979273,
           59.53032659274891,
           26.463502692535734,
           18.772240569225207,
           25.95764492750492,
           87.91857726012476,
           32.30273457540939,
           90.09608956904678,
           82.5415664123948,
           57.67023988577563,
           80.66650530268164,
           85.80232710072292,
           99.76282974021565,
           13.008066982894695,
           76.43533864364274,
           76.23026245009599,
           75.6730167068568,
           44.22938054511353,
           92.91395200154628,
           52.7677466221695,
           98.11179078679358,
           71.51001612837,
           59.31582190394682,
           69.08839765508228,
           69.71358058918092,
           70.51391455705634,
           83.73670797701507,
           60.96974251526159,
           83.81549749886426,
           53.59350788521182,
           57.26072328820224,
           3.174376537298862,
           8.456537809723786,
           88.09730056396575,
           99.72378999036027,
           84.73879305713737,
           6.701653775120997,
           85.25474212459704,
           93.79652314338942,
           7.103488904400212,
           14.727556355209092,
           25.646306101676597,
           6.256484221945158,
           21.050693966534297,
           50.550876038986395,
           62.39984855289824,
           48.78343185440125,
           30.646346804282032,
           57.428757509021096,
           88.95193110437631,
           48.93925374065887,
           85.97946748116456,
           45.3989911199699,
           76.24469586748684,
           95.1444825663092,
           55.266226777674824,
           92.71237818644494,
           57.126046993709735,
           14.30011226657264,
           36.739072869707044,
           8.701721830278874,
           79.59263871435024,
           26.32473465180112,
           87.06690341255177,
           79.25948132091347,
           75.02657639388423,
           9.37765262570165,
           29.14609134937939,
           46.62994129398188,
           15.44922040049258,
           42.99852141210597,
           99.95577032504386,
           17.070836331248017,
           20.444837246427305,
           61.51291405411998,
           43.81786132483445,
           83.91803949802986,
           16.067958471184518,
           44.903876793012586,
           23.74785567522575,
           60.83195000077717,
           28.104975016688915,
           17.3496050355022,
           80.14457762229537,
           23.693332490664865,
           1.9155485551252904,
           66.78679067008134,
           93.32050877593062,
           27.746467972495402,
           28.161604210563173,
           1.0284495935692028,
           44.27981365437375,
           37.25089315534659,
           92.8630562115394,
           44.671452725852035,
           47.09602524347335,
           75.70481146986255,
           5.560552168046062,
           21.244727719547296,
           88.45868882296138,
           89.55628481318388,
           69.10558127392618,
           19.060983307444978,
           18.463245734736923,
           34.2107620863594,
           42.99576197798217,
           53.14549141893053,
           28.794534267599246,
           11.658307455569672,
           54.66956820721302,
           10.445451810015138,
           57.68573811327003,
           46.398169816688736,
           73.88666771330327,
           3.2443446047186963,
           56.79742973160805,
           69.20112559466547,
           22.65216260361057,
           25.285811825011116,
           46.66931208844084,
           48.213209891984185,
           82.36236107489735,
           38.46110759787682,
           93.374942300147,
           53.15721526867312,
           3.2659060784495875,
           40.774810500273226,
           16.121881197512256,
           97.11509073682858,
           6.845045256601678,
           41.76669958169947,
           81.46710047099891,
           35.4897683486554,
           67.58229251040736,
           65.81598242975734,
           18.177886721736193,
           15.68127053168057,
           82.73021497372459,
           4.191521671625753,
           23.1380636376848,
           73.14863597031159,
           22.044600424541894,
           63.54143568619099,
           75.23978823037879,
           53.12940183509319,
           37.904048538303506,
           32.52111962762113,
           0.6379043406590679,
           34.580609841042495,
           94.67562446922408,
           40.0212275849672,
           78.32979829560477,
           2.5769598764351143,
           60.3528806501121,
           65.95059816513272,
           62.27534032398411,
           39.310390755940105,
           13.545953679469081,
           23.147521376529813,
           54.41986625037022,
           27.52391810370083,
           90.42432914075651,
           54.98685627762052,
           83.2363539660995,
           22.431855885352626,
           22.60790710105627,
           81.73053122132367,
           45.005863942622526,
           21.112594255803742,
           44.210703467972,
           52.99405869302329,
           26.817436774491334,
           36.10747263410372,
           89.56899442666165,
           41.13039720662313,
           82.43504472493495,
           39.69921622074742,
           67.12708252291326,
           8.122963480667266,
           97.72799325664472,
           57.78070502510847,
           86.61015453778347,
           41.11904758694911,
           42.7486454090268,
           56.4231816684536
          ],
          "sizemode": "area",
          "sizeref": 0.24988942581260964,
          "symbol": "circle"
         },
         "mode": "markers",
         "name": "A",
         "orientation": "v",
         "showlegend": true,
         "type": "scatter",
         "x": [
          0.5425600435859647,
          -0.46341769281246226,
          -1.913280244657798,
          -1.7249178325130328,
          -0.22577630048653566,
          -0.013497224737933914,
          0.3436182895684614,
          0.324083969394795,
          -0.6769220003059587,
          0.6116762888408679,
          1.030999522495951,
          -0.8392175232226385,
          -0.3092123758512146,
          0.33126343140356396,
          -0.47917423784528995,
          -1.1063349740060282,
          -1.1962066240806708,
          -0.07201012158033385,
          -0.5017570435845365,
          -0.7020530938773524,
          0.17457781283183896,
          -0.0744459157661671,
          -0.026513875449216878,
          2.463242112485286,
          0.30154734233361247,
          -0.9093874547947389,
          -0.9905363251306883,
          0.09965136508764122,
          -1.5506634310661327,
          -1.0623037137261049,
          1.5499344050175399,
          -0.7832532923362371,
          -1.2308643164339552,
          0.5219415656168976,
          0.25049285034587665,
          1.8657745111447566,
          0.4738329209117875,
          0.787084603742452,
          1.158595579007404,
          0.4127809269364983,
          -0.8158102849654383,
          -0.07710170941410412,
          0.27669079933001905,
          0.8271832490360238,
          0.01300189187790702,
          0.6256673477650062,
          0.4824724152431853,
          0.7140004940920919,
          0.47323762457354485,
          0.8563987943234723,
          -1.245738778711988,
          0.173180925851182,
          0.3577873603482833,
          3.8527314906547208,
          0.9540017634932023,
          0.651391251305798,
          0.7589692204932672,
          -0.7728252145375718,
          -1.8672651925917483,
          0.6862601903745136,
          -0.7153037092599682,
          -0.7303666317171367,
          0.04557183990381377,
          -0.6516003476058169,
          0.6339190223180112,
          -0.4749453111609562,
          0.9178619470547761,
          1.0324652605511468,
          -0.7076694656187807,
          0.44381942814622843,
          0.7746340534293368,
          -1.0243876413342898,
          1.6324113039316352,
          0.13074057728609134,
          1.4412732890661155,
          0.46210347426327075,
          0.11351734525124799,
          2.1330333746562666,
          -0.6226995198205939,
          -0.4930009346588331,
          0.30729952087660933,
          0.6103702654334648,
          -0.21768120322722037,
          0.02100384163275905,
          -0.31026675659345604,
          -0.8182206832334725,
          2.0923872756854602,
          -1.006017381499702,
          0.6283455092642799,
          -0.14705738150213865,
          -0.32138584165299344,
          0.24496657110872277,
          -1.4480843414973241,
          -0.718444221252436,
          1.475356216949552,
          -0.2886586389201379,
          0.3227185603380895,
          -0.827230943552323,
          0.40171172209894146,
          1.4511436077950417,
          2.1531824575115563,
          -0.759132661553698,
          0.15039378647620763,
          0.4919191715065057,
          1.8314587658543537,
          -1.713134529090878,
          1.2378163119734618,
          -1.594427658794367,
          0.514438834058749,
          0.7116148780888896,
          0.11567463429285867,
          2.060747924881987,
          0.6453759495851475,
          -0.9649234605801045,
          -1.7587394864231143,
          0.7175422557959621,
          0.3840654489393073,
          -2.0674421000398766,
          -1.3044695005048532,
          -0.5302576183724408,
          1.9647251329163893,
          0.21397991073422196,
          0.6141667000434252,
          0.7575077100473051,
          -0.275051697151644,
          0.3112501545435361,
          1.6871416350725648,
          1.4799441388900263,
          0.0773683076476183,
          -0.4871253837646962,
          -0.863990769679816,
          -0.8309501164110378,
          -0.23894804686640975,
          0.09933230542922587,
          -1.6275424378831627,
          -0.9043166251044086,
          0.047398671316414016,
          1.0062928092144405,
          -0.5768918695231487,
          0.5298041779152828,
          -0.6039851867158206,
          0.28977485689641286,
          0.8711247034316923,
          -0.32602353216784113,
          -2.038124535177854,
          -1.008086310917404,
          0.0184183791895517,
          0.7708651938869668,
          1.143754043206929,
          0.3384964074944141,
          0.6327818661062848,
          -0.4593608995402441,
          0.07156623721939247,
          -0.5100163988547471,
          -0.9787637157823074,
          0.37730049304485197,
          -0.9221653241776254,
          1.876795812558066,
          -1.244654703311417,
          0.6543656563540577,
          0.7257666238986923,
          0.4810092317367132,
          0.22388402427913137,
          0.4714683571359957,
          1.8820244964750337,
          -0.9896048202585809,
          -0.12578692009964815,
          0.055724912288694604,
          -1.6924646297148194,
          -1.6548566718657698,
          1.669021525289393,
          0.6962063648134184,
          1.8489560949453452,
          -0.14436041192394275,
          -0.5736620068802363,
          -0.03275327021599839,
          1.246085192497629,
          -1.1105758454658288,
          1.7522704434236227,
          -1.2221278088919454,
          -0.37482080754959723,
          0.5931012579683838,
          -0.3095464393139903,
          -1.2511135763853032,
          1.0490092258368893,
          -0.7043436905427592,
          0.6060099513456396,
          1.7547941819843647,
          -2.081929407883722,
          1.6964563682900382,
          0.2110174672026184,
          -0.03763470242484838,
          1.103301882016522,
          -1.7101683926566253,
          -1.348185422105713,
          0.9826909839455139,
          1.6654744444625766,
          1.0143700650181304,
          -0.7257438131534656,
          0.18676676447707832,
          -1.3516846056163336,
          2.5600845382687947,
          1.1492733262856758,
          -0.0349884904969617,
          -0.07443342910004629,
          0.620672097550678,
          0.5597904479310398,
          1.0807807255546218,
          0.42961821913258585,
          0.2715788371953735,
          -1.2767485758203097,
          1.0531528533329035,
          -0.03955515385665504,
          0.02831837613045931,
          -0.5160447282173739,
          0.09612077694098344,
          1.4469778843537329,
          0.889630795623437,
          1.0654803750653512,
          -0.5172884501003722,
          -0.36283856043965906,
          -0.4455025214007718,
          1.453384477117701,
          1.5795721457307124,
          -0.9186519464841982,
          -0.7677975651041284,
          0.23421473253652023,
          -0.21398884422550896,
          -1.1227220215622986,
          0.3824097461840506,
          1.1890165311075518,
          -1.515744114997232,
          -0.612788690484386,
          2.0102045387663496,
          -1.3793192280145272,
          -0.7309300399419191,
          -0.033126972873797095,
          0.2237879516388985,
          -0.016422896072752075,
          1.188393273448084,
          0.6818914896263114,
          0.6487098875896427,
          0.04643654815614881,
          -1.3598561409799192,
          -0.7001208149391732,
          1.1950466289248425,
          0.37721187506452086,
          -0.0657502610729878,
          -1.448013900416244,
          0.4400144500533324,
          -0.5020542243526112,
          -1.0212328171307132,
          -0.5640786307367284,
          -0.09917586377938291,
          -0.6919080698812444,
          -0.24123605785632987,
          0.4567532191537839,
          0.5697672802322037,
          -1.4307751021180481,
          0.8406435489887243,
          -2.4238793266289567,
          -1.5839028234857233,
          -0.966976143129213,
          -0.003602539090568403,
          -0.22096417382966393,
          -2.0417348684242906,
          -0.24717738252059693,
          1.7976865268495226,
          0.6408428612670098,
          0.5725827813561586
         ],
         "xaxis": "x",
         "y": [
          -0.535235211560568,
          1.3173940656343257,
          -0.6891878180895679,
          1.7359638031652493,
          -0.573700003938579,
          0.39922312260527926,
          1.4765403497258958,
          -0.6255627015095294,
          0.4940301862827388,
          0.2606737658239071,
          -0.5503051538454201,
          -0.025554070991445278,
          1.1727290192593647,
          0.5436001545944323,
          0.7716987106483447,
          1.1487657003721035,
          -1.7397137787780996,
          -1.2946814757209055,
          0.43004164719106963,
          0.7276295436369798,
          -1.0534155631736561,
          1.9140313538667861,
          0.21743287317972287,
          0.4956818879726045,
          0.3649610024662251,
          1.1870303055603801,
          0.30263546523903323,
          -0.06413834659299263,
          0.32135721545027307,
          1.613711269058647,
          0.9640871682883576,
          1.1894704889246406,
          0.7011727423108983,
          1.5945050632249722,
          -0.9913923494563072,
          -0.6881503451777238,
          2.2524358053443088,
          2.2909425725907413,
          -1.389572466763596,
          2.439752406339273,
          0.2811914239693758,
          0.10420110395187607,
          -0.7539645888666763,
          -0.28067507686677406,
          -1.6929568141953855,
          0.17989415115347845,
          -1.5705006036231774,
          0.9407711879882159,
          -0.9824873935383096,
          -1.3340254949182044,
          0.319781934142537,
          -1.5929937335316693,
          0.12522450264790727,
          1.7495767431869393,
          -0.7184072655691974,
          0.8949243769444413,
          1.2477420726737338,
          -0.6734906242438685,
          0.3098207102270275,
          0.6337768809320985,
          0.9638791167949097,
          -0.5574917850078337,
          -0.0882820483512548,
          2.579709337654318,
          1.6391168054440675,
          0.03408346825922606,
          0.8335289616089246,
          0.37405656984757213,
          0.4190190093660452,
          -0.7050118557584089,
          -0.05576907765770601,
          -0.9206735930793662,
          -0.11122606134870032,
          1.2360931752104374,
          1.091310120594269,
          0.14171691363990474,
          0.13354090478228192,
          -0.7859894605079495,
          -2.152890592952483,
          2.4929995174327906,
          -0.29027454418865134,
          -0.7557451594928447,
          -0.025026958745143917,
          -1.3118362323501596,
          -0.30522470435466764,
          -0.07049877805909122,
          0.4865016438262019,
          0.06447441481012024,
          0.5999287299962045,
          -0.3370859711180397,
          -0.30246968648812833,
          0.43693816974634986,
          -2.553921134901955,
          -1.366878698415421,
          -1.8019804375800197,
          0.3918040054025465,
          -1.4789115687741285,
          0.1833599197791556,
          -0.9730689408815555,
          -1.3719011429313563,
          1.4711703274936085,
          0.742095372009307,
          0.2992925804064919,
          -0.6777153697521061,
          0.13653533108273744,
          -1.3471262895296965,
          -0.6568942789713957,
          -1.0469109826819396,
          -0.25083301645504735,
          1.328194141849058,
          0.26859227886325737,
          0.538296079049633,
          -1.0448091940210336,
          2.056207129940322,
          -0.27681329988892067,
          -0.5830774385689385,
          0.6628812686674127,
          0.18102155870370695,
          0.3996879517526416,
          0.5655096456315442,
          -0.13845598398377382,
          -0.8505204542092998,
          1.6699045043514062,
          0.3946715298229811,
          1.196631486645651,
          0.41953244390702776,
          -1.5256563145700948,
          2.5581992856682523,
          -0.5642475986573886,
          -0.4532280493272752,
          0.9553052085705108,
          1.4775300810552616,
          -0.7168223206028049,
          -1.024186824329205,
          1.8845863059346086,
          -1.1196174332890112,
          -1.5947030672667954,
          -1.169916835710288,
          -2.8722622132816493,
          1.66125921454787,
          1.2269332238843076,
          -0.021367294348436157,
          -2.4242402602729416,
          0.8840453963610497,
          0.06699071722487192,
          0.5159392177040995,
          0.7942646796218271,
          1.1647393544571714,
          -0.8102524370143808,
          0.20056919723094285,
          -1.015821818978397,
          0.1764415552772252,
          -1.072139011985607,
          -1.0097307047099375,
          2.0574954697116987,
          -0.7280029412291342,
          1.3748764191481848,
          -0.9533286082587124,
          1.6246784584695606,
          -0.2918112689155441,
          -0.7517910500951843,
          -0.4263575962055433,
          1.1484457091967548,
          -1.4382779783173667,
          0.9192289345752035,
          -0.4473218956587511,
          1.2810163617351127,
          0.06785551052740331,
          0.48473281729447476,
          -0.4036484632419967,
          1.4122205554154292,
          2.5895636420186134,
          0.5796331732135757,
          1.1398785611290454,
          1.3171150673398653,
          -2.1218548990085946,
          -0.23893209916969452,
          1.2171585208254965,
          1.5213160519224513,
          -1.1790397911598025,
          0.2011596558728393,
          0.12637957954641182,
          1.9389289990582848,
          -0.6777449705248515,
          0.4891871301476635,
          0.6347214685617699,
          -0.24125765461854246,
          1.899881934895215,
          -0.13263374638257355,
          -0.9745293046706415,
          1.1070806692869728,
          -0.5353281859539227,
          -0.09053328230416077,
          -0.2595466775839172,
          0.738810480887503,
          -1.067802921579193,
          0.9503075919735757,
          1.7106133725819253,
          0.23836898273478513,
          0.9751976297824295,
          0.6778753195309076,
          0.0754336389015928,
          -0.24606248812994846,
          2.1709427174978138,
          -0.42930222451725997,
          -0.692420979873856,
          0.08243975293450329,
          -1.4575514994649306,
          -1.8751724696457446,
          -0.16013279556664034,
          0.6713400764504653,
          -0.7519693317388191,
          -0.31905393566661816,
          1.0760071385985983,
          -0.060660813814620775,
          -0.7084067669104628,
          1.6122206282554243,
          -0.7191533192424201,
          -0.9871795271511837,
          -0.13125696709230472,
          -0.6500025808234597,
          0.16865467196672768,
          0.44194064956940904,
          -1.090399077442846,
          0.23321613126350177,
          0.2871241652018242,
          0.36150352520610163,
          -0.2081168572725397,
          -0.5487249077409615,
          0.09284490114111471,
          0.9191541736100015,
          0.8108082731597821,
          1.3043402428781525,
          -0.4108142879545848,
          -0.30803428418574125,
          0.7796605322693398,
          1.3103087461196088,
          -0.20922187374452778,
          -1.68343819222095,
          -0.8058700664961886,
          -0.026405756958926992,
          -0.37001102988212803,
          0.44771692581027733,
          -1.5708761520684993,
          0.23924686411114954,
          2.0740826697499735,
          -0.2860042218801108,
          1.9583474542205939,
          -0.46531045678005334,
          2.6443433470170348,
          -1.5029703283951532,
          0.25373966149457344,
          0.09798315347089544,
          -0.3431922754974105,
          -0.029262813684978354,
          -1.7730324682068814,
          3.1377485336599946,
          1.0560568090660518,
          1.1337700968670645,
          0.655900776529761,
          0.9475264621228578,
          -0.7728776678236091,
          -0.6267172245899651,
          0.9531250453760867,
          -0.6414815952229522,
          0.7542913298135745,
          1.188913371474643,
          -0.026521259249060073,
          -0.8818746512277181,
          -0.7449026448064491
         ],
         "yaxis": "y"
        }
       ],
       "layout": {
        "legend": {
         "itemsizing": "constant",
         "title": {
          "text": "category"
         },
         "tracegroupgap": 0
        },
        "template": {
         "data": {
          "bar": [
           {
            "error_x": {
             "color": "#2a3f5f"
            },
            "error_y": {
             "color": "#2a3f5f"
            },
            "marker": {
             "line": {
              "color": "#E5ECF6",
              "width": 0.5
             },
             "pattern": {
              "fillmode": "overlay",
              "size": 10,
              "solidity": 0.2
             }
            },
            "type": "bar"
           }
          ],
          "barpolar": [
           {
            "marker": {
             "line": {
              "color": "#E5ECF6",
              "width": 0.5
             },
             "pattern": {
              "fillmode": "overlay",
              "size": 10,
              "solidity": 0.2
             }
            },
            "type": "barpolar"
           }
          ],
          "carpet": [
           {
            "aaxis": {
             "endlinecolor": "#2a3f5f",
             "gridcolor": "white",
             "linecolor": "white",
             "minorgridcolor": "white",
             "startlinecolor": "#2a3f5f"
            },
            "baxis": {
             "endlinecolor": "#2a3f5f",
             "gridcolor": "white",
             "linecolor": "white",
             "minorgridcolor": "white",
             "startlinecolor": "#2a3f5f"
            },
            "type": "carpet"
           }
          ],
          "choropleth": [
           {
            "colorbar": {
             "outlinewidth": 0,
             "ticks": ""
            },
            "type": "choropleth"
           }
          ],
          "contour": [
           {
            "colorbar": {
             "outlinewidth": 0,
             "ticks": ""
            },
            "colorscale": [
             [
              0,
              "#0d0887"
             ],
             [
              0.1111111111111111,
              "#46039f"
             ],
             [
              0.2222222222222222,
              "#7201a8"
             ],
             [
              0.3333333333333333,
              "#9c179e"
             ],
             [
              0.4444444444444444,
              "#bd3786"
             ],
             [
              0.5555555555555556,
              "#d8576b"
             ],
             [
              0.6666666666666666,
              "#ed7953"
             ],
             [
              0.7777777777777778,
              "#fb9f3a"
             ],
             [
              0.8888888888888888,
              "#fdca26"
             ],
             [
              1,
              "#f0f921"
             ]
            ],
            "type": "contour"
           }
          ],
          "contourcarpet": [
           {
            "colorbar": {
             "outlinewidth": 0,
             "ticks": ""
            },
            "type": "contourcarpet"
           }
          ],
          "heatmap": [
           {
            "colorbar": {
             "outlinewidth": 0,
             "ticks": ""
            },
            "colorscale": [
             [
              0,
              "#0d0887"
             ],
             [
              0.1111111111111111,
              "#46039f"
             ],
             [
              0.2222222222222222,
              "#7201a8"
             ],
             [
              0.3333333333333333,
              "#9c179e"
             ],
             [
              0.4444444444444444,
              "#bd3786"
             ],
             [
              0.5555555555555556,
              "#d8576b"
             ],
             [
              0.6666666666666666,
              "#ed7953"
             ],
             [
              0.7777777777777778,
              "#fb9f3a"
             ],
             [
              0.8888888888888888,
              "#fdca26"
             ],
             [
              1,
              "#f0f921"
             ]
            ],
            "type": "heatmap"
           }
          ],
          "heatmapgl": [
           {
            "colorbar": {
             "outlinewidth": 0,
             "ticks": ""
            },
            "colorscale": [
             [
              0,
              "#0d0887"
             ],
             [
              0.1111111111111111,
              "#46039f"
             ],
             [
              0.2222222222222222,
              "#7201a8"
             ],
             [
              0.3333333333333333,
              "#9c179e"
             ],
             [
              0.4444444444444444,
              "#bd3786"
             ],
             [
              0.5555555555555556,
              "#d8576b"
             ],
             [
              0.6666666666666666,
              "#ed7953"
             ],
             [
              0.7777777777777778,
              "#fb9f3a"
             ],
             [
              0.8888888888888888,
              "#fdca26"
             ],
             [
              1,
              "#f0f921"
             ]
            ],
            "type": "heatmapgl"
           }
          ],
          "histogram": [
           {
            "marker": {
             "pattern": {
              "fillmode": "overlay",
              "size": 10,
              "solidity": 0.2
             }
            },
            "type": "histogram"
           }
          ],
          "histogram2d": [
           {
            "colorbar": {
             "outlinewidth": 0,
             "ticks": ""
            },
            "colorscale": [
             [
              0,
              "#0d0887"
             ],
             [
              0.1111111111111111,
              "#46039f"
             ],
             [
              0.2222222222222222,
              "#7201a8"
             ],
             [
              0.3333333333333333,
              "#9c179e"
             ],
             [
              0.4444444444444444,
              "#bd3786"
             ],
             [
              0.5555555555555556,
              "#d8576b"
             ],
             [
              0.6666666666666666,
              "#ed7953"
             ],
             [
              0.7777777777777778,
              "#fb9f3a"
             ],
             [
              0.8888888888888888,
              "#fdca26"
             ],
             [
              1,
              "#f0f921"
             ]
            ],
            "type": "histogram2d"
           }
          ],
          "histogram2dcontour": [
           {
            "colorbar": {
             "outlinewidth": 0,
             "ticks": ""
            },
            "colorscale": [
             [
              0,
              "#0d0887"
             ],
             [
              0.1111111111111111,
              "#46039f"
             ],
             [
              0.2222222222222222,
              "#7201a8"
             ],
             [
              0.3333333333333333,
              "#9c179e"
             ],
             [
              0.4444444444444444,
              "#bd3786"
             ],
             [
              0.5555555555555556,
              "#d8576b"
             ],
             [
              0.6666666666666666,
              "#ed7953"
             ],
             [
              0.7777777777777778,
              "#fb9f3a"
             ],
             [
              0.8888888888888888,
              "#fdca26"
             ],
             [
              1,
              "#f0f921"
             ]
            ],
            "type": "histogram2dcontour"
           }
          ],
          "mesh3d": [
           {
            "colorbar": {
             "outlinewidth": 0,
             "ticks": ""
            },
            "type": "mesh3d"
           }
          ],
          "parcoords": [
           {
            "line": {
             "colorbar": {
              "outlinewidth": 0,
              "ticks": ""
             }
            },
            "type": "parcoords"
           }
          ],
          "pie": [
           {
            "automargin": true,
            "type": "pie"
           }
          ],
          "scatter": [
           {
            "fillpattern": {
             "fillmode": "overlay",
             "size": 10,
             "solidity": 0.2
            },
            "type": "scatter"
           }
          ],
          "scatter3d": [
           {
            "line": {
             "colorbar": {
              "outlinewidth": 0,
              "ticks": ""
             }
            },
            "marker": {
             "colorbar": {
              "outlinewidth": 0,
              "ticks": ""
             }
            },
            "type": "scatter3d"
           }
          ],
          "scattercarpet": [
           {
            "marker": {
             "colorbar": {
              "outlinewidth": 0,
              "ticks": ""
             }
            },
            "type": "scattercarpet"
           }
          ],
          "scattergeo": [
           {
            "marker": {
             "colorbar": {
              "outlinewidth": 0,
              "ticks": ""
             }
            },
            "type": "scattergeo"
           }
          ],
          "scattergl": [
           {
            "marker": {
             "colorbar": {
              "outlinewidth": 0,
              "ticks": ""
             }
            },
            "type": "scattergl"
           }
          ],
          "scattermapbox": [
           {
            "marker": {
             "colorbar": {
              "outlinewidth": 0,
              "ticks": ""
             }
            },
            "type": "scattermapbox"
           }
          ],
          "scatterpolar": [
           {
            "marker": {
             "colorbar": {
              "outlinewidth": 0,
              "ticks": ""
             }
            },
            "type": "scatterpolar"
           }
          ],
          "scatterpolargl": [
           {
            "marker": {
             "colorbar": {
              "outlinewidth": 0,
              "ticks": ""
             }
            },
            "type": "scatterpolargl"
           }
          ],
          "scatterternary": [
           {
            "marker": {
             "colorbar": {
              "outlinewidth": 0,
              "ticks": ""
             }
            },
            "type": "scatterternary"
           }
          ],
          "surface": [
           {
            "colorbar": {
             "outlinewidth": 0,
             "ticks": ""
            },
            "colorscale": [
             [
              0,
              "#0d0887"
             ],
             [
              0.1111111111111111,
              "#46039f"
             ],
             [
              0.2222222222222222,
              "#7201a8"
             ],
             [
              0.3333333333333333,
              "#9c179e"
             ],
             [
              0.4444444444444444,
              "#bd3786"
             ],
             [
              0.5555555555555556,
              "#d8576b"
             ],
             [
              0.6666666666666666,
              "#ed7953"
             ],
             [
              0.7777777777777778,
              "#fb9f3a"
             ],
             [
              0.8888888888888888,
              "#fdca26"
             ],
             [
              1,
              "#f0f921"
             ]
            ],
            "type": "surface"
           }
          ],
          "table": [
           {
            "cells": {
             "fill": {
              "color": "#EBF0F8"
             },
             "line": {
              "color": "white"
             }
            },
            "header": {
             "fill": {
              "color": "#C8D4E3"
             },
             "line": {
              "color": "white"
             }
            },
            "type": "table"
           }
          ]
         },
         "layout": {
          "annotationdefaults": {
           "arrowcolor": "#2a3f5f",
           "arrowhead": 0,
           "arrowwidth": 1
          },
          "autotypenumbers": "strict",
          "coloraxis": {
           "colorbar": {
            "outlinewidth": 0,
            "ticks": ""
           }
          },
          "colorscale": {
           "diverging": [
            [
             0,
             "#8e0152"
            ],
            [
             0.1,
             "#c51b7d"
            ],
            [
             0.2,
             "#de77ae"
            ],
            [
             0.3,
             "#f1b6da"
            ],
            [
             0.4,
             "#fde0ef"
            ],
            [
             0.5,
             "#f7f7f7"
            ],
            [
             0.6,
             "#e6f5d0"
            ],
            [
             0.7,
             "#b8e186"
            ],
            [
             0.8,
             "#7fbc41"
            ],
            [
             0.9,
             "#4d9221"
            ],
            [
             1,
             "#276419"
            ]
           ],
           "sequential": [
            [
             0,
             "#0d0887"
            ],
            [
             0.1111111111111111,
             "#46039f"
            ],
            [
             0.2222222222222222,
             "#7201a8"
            ],
            [
             0.3333333333333333,
             "#9c179e"
            ],
            [
             0.4444444444444444,
             "#bd3786"
            ],
            [
             0.5555555555555556,
             "#d8576b"
            ],
            [
             0.6666666666666666,
             "#ed7953"
            ],
            [
             0.7777777777777778,
             "#fb9f3a"
            ],
            [
             0.8888888888888888,
             "#fdca26"
            ],
            [
             1,
             "#f0f921"
            ]
           ],
           "sequentialminus": [
            [
             0,
             "#0d0887"
            ],
            [
             0.1111111111111111,
             "#46039f"
            ],
            [
             0.2222222222222222,
             "#7201a8"
            ],
            [
             0.3333333333333333,
             "#9c179e"
            ],
            [
             0.4444444444444444,
             "#bd3786"
            ],
            [
             0.5555555555555556,
             "#d8576b"
            ],
            [
             0.6666666666666666,
             "#ed7953"
            ],
            [
             0.7777777777777778,
             "#fb9f3a"
            ],
            [
             0.8888888888888888,
             "#fdca26"
            ],
            [
             1,
             "#f0f921"
            ]
           ]
          },
          "colorway": [
           "#636efa",
           "#EF553B",
           "#00cc96",
           "#ab63fa",
           "#FFA15A",
           "#19d3f3",
           "#FF6692",
           "#B6E880",
           "#FF97FF",
           "#FECB52"
          ],
          "font": {
           "color": "#2a3f5f"
          },
          "geo": {
           "bgcolor": "white",
           "lakecolor": "white",
           "landcolor": "#E5ECF6",
           "showlakes": true,
           "showland": true,
           "subunitcolor": "white"
          },
          "hoverlabel": {
           "align": "left"
          },
          "hovermode": "closest",
          "mapbox": {
           "style": "light"
          },
          "paper_bgcolor": "white",
          "plot_bgcolor": "#E5ECF6",
          "polar": {
           "angularaxis": {
            "gridcolor": "white",
            "linecolor": "white",
            "ticks": ""
           },
           "bgcolor": "#E5ECF6",
           "radialaxis": {
            "gridcolor": "white",
            "linecolor": "white",
            "ticks": ""
           }
          },
          "scene": {
           "xaxis": {
            "backgroundcolor": "#E5ECF6",
            "gridcolor": "white",
            "gridwidth": 2,
            "linecolor": "white",
            "showbackground": true,
            "ticks": "",
            "zerolinecolor": "white"
           },
           "yaxis": {
            "backgroundcolor": "#E5ECF6",
            "gridcolor": "white",
            "gridwidth": 2,
            "linecolor": "white",
            "showbackground": true,
            "ticks": "",
            "zerolinecolor": "white"
           },
           "zaxis": {
            "backgroundcolor": "#E5ECF6",
            "gridcolor": "white",
            "gridwidth": 2,
            "linecolor": "white",
            "showbackground": true,
            "ticks": "",
            "zerolinecolor": "white"
           }
          },
          "shapedefaults": {
           "line": {
            "color": "#2a3f5f"
           }
          },
          "ternary": {
           "aaxis": {
            "gridcolor": "white",
            "linecolor": "white",
            "ticks": ""
           },
           "baxis": {
            "gridcolor": "white",
            "linecolor": "white",
            "ticks": ""
           },
           "bgcolor": "#E5ECF6",
           "caxis": {
            "gridcolor": "white",
            "linecolor": "white",
            "ticks": ""
           }
          },
          "title": {
           "x": 0.05
          },
          "xaxis": {
           "automargin": true,
           "gridcolor": "white",
           "linecolor": "white",
           "ticks": "",
           "title": {
            "standoff": 15
           },
           "zerolinecolor": "white",
           "zerolinewidth": 2
          },
          "yaxis": {
           "automargin": true,
           "gridcolor": "white",
           "linecolor": "white",
           "ticks": "",
           "title": {
            "standoff": 15
           },
           "zerolinecolor": "white",
           "zerolinewidth": 2
          }
         }
        },
        "title": {
         "text": "Complex Interactive Scatter Plot"
        },
        "xaxis": {
         "anchor": "y",
         "domain": [
          0,
          1
         ],
         "title": {
          "text": "x"
         }
        },
        "yaxis": {
         "anchor": "x",
         "domain": [
          0,
          1
         ],
         "title": {
          "text": "y"
         }
        }
       }
      }
     },
     "metadata": {},
     "output_type": "display_data"
    }
   ],
   "source": [
    "import plotly.express as px\n",
    "import pandas as pd\n",
    "import numpy as np\n",
    "\n",
    "# Simulate a large, high-dimensional dataset\n",
    "np.random.seed(42)\n",
    "df = pd.DataFrame({\n",
    "    'x': np.random.randn(1000),\n",
    "    'y': np.random.randn(1000),\n",
    "    'category': np.random.choice(['A', 'B', 'C', 'D'], 1000),\n",
    "    'size': np.random.rand(1000) * 100,\n",
    "    'color': np.random.rand(1000)\n",
    "})\n",
    "\n",
    "# Interactive scatter plot with color, size, and category\n",
    "fig = px.scatter(\n",
    "    df, x='x', y='y',\n",
    "    color='category',\n",
    "    size='size',\n",
    "    hover_data=['color'],\n",
    "    title='Complex Interactive Scatter Plot'\n",
    ")\n",
    "fig.show()"
   ]
  },
  {
   "cell_type": "code",
   "execution_count": 8,
   "id": "85217987",
   "metadata": {},
   "outputs": [
    {
     "data": {
      "image/png": "[encoded data removed]",
      "text/plain": [
       "<Figure size 640x480 with 1 Axes>"
      ]
     },
     "metadata": {},
     "output_type": "display_data"
    },
    {
     "data": {
      "image/png": "[encoded data removed]",
      "text/plain": [
       "<Figure size 640x480 with 2 Axes>"
      ]
     },
     "metadata": {},
     "output_type": "display_data"
    }
   ],
   "source": [
    "import numpy as np\n",
    "import pandas as pd\n",
    "import matplotlib.pyplot as plt\n",
    "import seaborn as sns\n",
    "\n",
    "# Generate random data\n",
    "np.random.seed(0)\n",
    "df = pd.DataFrame({\n",
    "    'A': np.random.randn(100),\n",
    "    'B': np.random.randn(100) * 2 + 1,\n",
    "    'C': np.random.randint(1, 5, 100)\n",
    "})\n",
    "\n",
    "# Scatter plot (A vs B)\n",
    "sns.scatterplot(x='A', y='B', data=df)\n",
    "plt.title('Scatter Plot: A vs B')\n",
    "plt.show()\n",
    "\n",
    "# Correlation matrix heatmap\n",
    "corr = df.corr()\n",
    "sns.heatmap(corr, annot=True, cmap='coolwarm')\n",
    "plt.title('Correlation Matrix Heatmap')\n",
    "plt.show()"
   ]
  },
  {
   "cell_type": "code",
   "execution_count": null,
   "id": "d63f94cb",
   "metadata": {},
   "outputs": [],
   "source": []
  }
 ],
 "metadata": {
  "kernelspec": {
   "display_name": "base",
   "language": "python",
   "name": "python3"
  },
  "language_info": {
   "codemirror_mode": {
    "name": "ipython",
    "version": 3
   },
   "file_extension": ".py",
   "mimetype": "text/x-python",
   "name": "python",
   "nbconvert_exporter": "python",
   "pygments_lexer": "ipython3",
   "version": "3.13.5"
  }
 },
 "nbformat": 4,
 "nbformat_minor": 5
}
