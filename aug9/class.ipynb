{
 "cells": [
  {
   "cell_type": "markdown",
   "id": "0afa9ad6",
   "metadata": {},
   "source": [
    "Functions - are done\n",
    "\n",
    "multiply \n"
   ]
  },
  {
   "cell_type": "markdown",
   "id": "c77b5395",
   "metadata": {},
   "source": [
    "def multiply(a, b) # integer multiply w/o using * only + can be used\n"
   ]
  },
  {
   "cell_type": "markdown",
   "id": "08bd6c3e",
   "metadata": {},
   "source": [
    "a * b = 3 * 4 = 12\n",
    "3+ 3 + 3 + 3 = 12"
   ]
  },
  {
   "cell_type": "code",
   "execution_count": 35,
   "id": "045ad5e5",
   "metadata": {},
   "outputs": [],
   "source": [
    "def multiply(a, b):\n",
    "    sum = 0\n",
    "    for i in range(b):\n",
    "        sum += a\n",
    "    return sum\n",
    "\n"
   ]
  },
  {
   "cell_type": "code",
   "execution_count": 36,
   "id": "13bd157f",
   "metadata": {},
   "outputs": [
    {
     "data": {
      "text/plain": [
       "12"
      ]
     },
     "execution_count": 36,
     "metadata": {},
     "output_type": "execute_result"
    }
   ],
   "source": [
    "multiply(3, 4)  # Example usage, should return 12"
   ]
  },
  {
   "cell_type": "markdown",
   "id": "881cb83b",
   "metadata": {},
   "source": [
    "it will fails with _ve number and decimal"
   ]
  },
  {
   "cell_type": "code",
   "execution_count": 37,
   "id": "f1feff1f",
   "metadata": {},
   "outputs": [],
   "source": [
    "#using recursion\n",
    "def multiply(a, b):\n",
    "    if b == 0:\n",
    "        return 0\n",
    "    else:\n",
    "        return a + multiply(a, b - 1)"
   ]
  },
  {
   "cell_type": "code",
   "execution_count": 38,
   "id": "b94e6be2",
   "metadata": {},
   "outputs": [
    {
     "data": {
      "text/plain": [
       "12"
      ]
     },
     "execution_count": 38,
     "metadata": {},
     "output_type": "execute_result"
    }
   ],
   "source": [
    "multiply(3, 4)  # Example usage, should return 12"
   ]
  },
  {
   "cell_type": "markdown",
   "id": "060384a3",
   "metadata": {},
   "source": [
    "# Master the Recusrion is very crucial in this DATA SCIENCE feild\n",
    "\n",
    "## for recursion you need to develop the instinct for recognising the pattern."
   ]
  },
  {
   "cell_type": "code",
   "execution_count": null,
   "id": "f10fe66a",
   "metadata": {},
   "outputs": [],
   "source": [
    "def missing_number(nums):\n",
    "\tmax_num = max(nums)  # Find the maximum number in the list\n",
    "\tprint(max_num)\n",
    "\tlower_nums = list(range(0, max_num))\n",
    "\t\n",
    "\tfor i in nums:\n",
    "\t\tif i in lower_nums:\n",
    "\t\t\tlower_nums.remove(i)\n",
    "\treturn lower_nums[0] if lower_nums else None\n",
    "# algo -> find max in arr -> list down all num less than it -> check those number one by one\n"
   ]
  },
  {
   "cell_type": "code",
   "execution_count": 44,
   "id": "e0d71d80",
   "metadata": {},
   "outputs": [
    {
     "name": "stdout",
     "output_type": "stream",
     "text": [
      "9\n"
     ]
    },
    {
     "data": {
      "text/plain": [
       "1"
      ]
     },
     "execution_count": 44,
     "metadata": {},
     "output_type": "execute_result"
    }
   ],
   "source": [
    "a = [9, 6, 4, 2, 3, 5, 7, 8]\n",
    "missing_number(a)"
   ]
  },
  {
   "cell_type": "code",
   "execution_count": null,
   "id": "1d2ef509",
   "metadata": {},
   "outputs": [],
   "source": []
  }
 ],
 "metadata": {
  "kernelspec": {
   "display_name": "base",
   "language": "python",
   "name": "python3"
  },
  "language_info": {
   "codemirror_mode": {
    "name": "ipython",
    "version": 3
   },
   "file_extension": ".py",
   "mimetype": "text/x-python",
   "name": "python",
   "nbconvert_exporter": "python",
   "pygments_lexer": "ipython3",
   "version": "3.13.5"
  }
 },
 "nbformat": 4,
 "nbformat_minor": 5
}
