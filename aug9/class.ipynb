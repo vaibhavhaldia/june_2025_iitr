{
 "cells": [
  {
   "cell_type": "markdown",
   "id": "0afa9ad6",
   "metadata": {},
   "source": [
    "Functions - are done\n",
    "\n",
    "multiply \n"
   ]
  },
  {
   "cell_type": "markdown",
   "id": "c77b5395",
   "metadata": {},
   "source": [
    "def multiply(a, b) # integer multiply w/o using * only + can be used\n"
   ]
  },
  {
   "cell_type": "markdown",
   "id": "08bd6c3e",
   "metadata": {},
   "source": [
    "a * b = 3 * 4 = 12\n",
    "3+ 3 + 3 + 3 = 12"
   ]
  },
  {
   "cell_type": "code",
   "execution_count": null,
   "id": "045ad5e5",
   "metadata": {},
   "outputs": [],
   "source": [
    "def multiply(a, b):\n",
    "    sum = 0\n",
    "    for i in range(b):\n",
    "        sum += a\n",
    "    return sum\n",
    "\n"
   ]
  },
  {
   "cell_type": "code",
   "execution_count": 1,
   "id": "13bd157f",
   "metadata": {},
   "outputs": [
    {
     "ename": "NameError",
     "evalue": "name 'multiply' is not defined",
     "output_type": "error",
     "traceback": [
      "\u001b[0;31m---------------------------------------------------------------------------\u001b[0m",
      "\u001b[0;31mNameError\u001b[0m                                 Traceback (most recent call last)",
      "Cell \u001b[0;32mIn[1], line 1\u001b[0m\n\u001b[0;32m----> 1\u001b[0m multiply(\u001b[38;5;241m3\u001b[39m, \u001b[38;5;241m4\u001b[39m)\n",
      "\u001b[0;31mNameError\u001b[0m: name 'multiply' is not defined"
     ]
    }
   ],
   "source": [
    "multiply(3, 4)  # Example usage, should return 12"
   ]
  },
  {
   "cell_type": "code",
   "execution_count": null,
   "id": "f1feff1f",
   "metadata": {},
   "outputs": [],
   "source": []
  }
 ],
 "metadata": {
  "kernelspec": {
   "display_name": "base",
   "language": "python",
   "name": "python3"
  },
  "language_info": {
   "codemirror_mode": {
    "name": "ipython",
    "version": 3
   },
   "file_extension": ".py",
   "mimetype": "text/x-python",
   "name": "python",
   "nbconvert_exporter": "python",
   "pygments_lexer": "ipython3",
   "version": "3.13.5"
  }
 },
 "nbformat": 4,
 "nbformat_minor": 5
}
