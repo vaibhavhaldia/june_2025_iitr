{
 "cells": [
  {
   "cell_type": "markdown",
   "id": "3a3f6ce4",
   "metadata": {},
   "source": [
    "Regression must be understood by analysing the pattern and implement on the problem to find the solution.\n",
    "THe Exercise of IITR jupyter repo exercise must be attempted till r.m.s"
   ]
  },
  {
   "cell_type": "markdown",
   "id": "ecf2e3c2",
   "metadata": {},
   "source": [
    "# i ll add the today's class notes here"
   ]
  },
  {
   "cell_type": "markdown",
   "id": "7a6e908f",
   "metadata": {},
   "source": []
  }
 ],
 "metadata": {
  "kernelspec": {
   "display_name": "base",
   "language": "python",
   "name": "python3"
  },
  "language_info": {
   "codemirror_mode": {
    "name": "ipython",
    "version": 3
   },
   "file_extension": ".py",
   "mimetype": "text/x-python",
   "name": "python",
   "nbconvert_exporter": "python",
   "pygments_lexer": "ipython3",
   "version": "3.13.5"
  }
 },
 "nbformat": 4,
 "nbformat_minor": 5
}
