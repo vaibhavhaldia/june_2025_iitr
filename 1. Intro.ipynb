{
 "cells": [
  {
   "cell_type": "code",
   "execution_count": 1,
   "metadata": {},
   "outputs": [
    {
     "data": {
      "text/plain": [
       "2"
      ]
     },
     "execution_count": 1,
     "metadata": {},
     "output_type": "execute_result"
    }
   ],
   "source": [
    "1+1"
   ]
  },
  {
   "cell_type": "markdown",
   "metadata": {},
   "source": [
    "# Git:\n",
    "\n",
    "1. git clone git@github.com:cloudxlab/june_2025_iitr.git\n",
    "2. cd june_2025_iitr\n",
    "3. git add 1.\\ Intro.ipynb\n",
    "4. git commit -m \"class notes\" .\n",
    "5. git push"
   ]
  },
  {
   "cell_type": "markdown",
   "metadata": {},
   "source": [
    "# For you:\n",
    "\n",
    "git clone https://github.com/cloudxlab/june_2025_iitr.git"
   ]
  },
  {
   "cell_type": "markdown",
   "metadata": {},
   "source": [
    "# Fixing a bug\n",
    "\n",
    "- Create a branch\n",
    "- Fix the bug: fix the code, testing\n",
    "- git add/commit/push. \n",
    "- Create something call a pull request - #PR"
   ]
  },
  {
   "cell_type": "markdown",
   "metadata": {},
   "source": [
    "# Getting new updates\n",
    "\n",
    "git pull\n"
   ]
  },
  {
   "cell_type": "code",
   "execution_count": null,
   "metadata": {},
   "outputs": [],
   "source": [
    "# Create a number system,\n",
    "\n",
    "Choose a number between 3 and 13 except for 10. We call it base."
   ]
  },
  {
   "cell_type": "code",
   "execution_count": null,
   "metadata": {},
   "outputs": [],
   "source": [
    "# Base 10\n",
    "We have total 10 symbols - 0, 1,....9, 10\n",
    "\n",
    "# Base 5\n",
    "0\n",
    "1\n",
    "2\n",
    "3\n",
    "4\n",
    "10\n",
    "11\n",
    "12\n",
    "13\n",
    "14\n",
    "20\n",
    "...\n",
    "24\n",
    "30\n",
    "..\n",
    "..\n",
    "44\n",
    "100\n",
    "..\n",
    "134\n",
    "140\n"
   ]
  },
  {
   "cell_type": "code",
   "execution_count": null,
   "metadata": {},
   "outputs": [],
   "source": [
    "# Base 14\n",
    "0, 1, 2, 3, .....9, A, B, C, D, 10, 11,12....1C, 1D, 20, ....2D, 30, "
   ]
  },
  {
   "cell_type": "code",
   "execution_count": null,
   "metadata": {},
   "outputs": [],
   "source": [
    "# Base 64\n",
    "Letter, numbers, _-\n",
    "0,1,...9,A,....Z, a,..z, _=10....1_, 20...2_,.....___\n"
   ]
  },
  {
   "cell_type": "code",
   "execution_count": null,
   "metadata": {},
   "outputs": [],
   "source": [
    "# Base 6\n",
    "0\n",
    "1\n",
    "2\n",
    "3\n",
    "4\n",
    "5\n",
    "10\n",
    "11\n",
    "12\n",
    "13\n",
    "14\n",
    "15\n",
    "20\n",
    "..\n"
   ]
  },
  {
   "cell_type": "code",
   "execution_count": null,
   "metadata": {},
   "outputs": [],
   "source": [
    "can you pl explain base 5 only how 100 came after 44"
   ]
  },
  {
   "cell_type": "code",
   "execution_count": null,
   "metadata": {},
   "outputs": [],
   "source": [
    "4\n",
    "10\n",
    "11\n",
    "12\n",
    "13\n",
    "14\n",
    "20\n",
    "21\n",
    "22\n",
    "23\n",
    "24\n",
    "30\n",
    "..\n",
    "34\n",
    "40\n",
    "..\n",
    "44\n",
    "100\n"
   ]
  },
  {
   "cell_type": "markdown",
   "metadata": {},
   "source": [
    "because when we add 1 in the \"one's place\" (The rightmost 4), we get a 5, which will carry over to the next 4, which in itself becomes a \"5\". Since we are in base 5, we now have 5 5's, or one 5^2, which means it would be compared to 10^2 in base 10 or 100"
   ]
  },
  {
   "cell_type": "markdown",
   "metadata": {},
   "source": [
    "I was going to ask that even though it is absurd if we come up with our own arethimetic operations can't we define them such that the operations make sense even if the increment happens on the lhs, apologies about the mic issue I will rejoin from another device "
   ]
  },
  {
   "cell_type": "markdown",
   "metadata": {},
   "source": [
    "Actually that concept is out there… it’s the Big-Endian vs Little-Endian system when applied to base 10.  The normal number system can be viewed as Big-Endian."
   ]
  },
  {
   "cell_type": "code",
   "execution_count": null,
   "metadata": {},
   "outputs": [],
   "source": [
    "base 9\n",
    "0\n",
    "1\n",
    "2\n",
    "3\n",
    "4\n",
    "5\n",
    "6\n",
    "7\n",
    "8\n",
    "10\n",
    "11\n",
    "12\n",
    "13\n",
    "14\n",
    "15\n",
    "16\n",
    "17\n",
    "18\n",
    "20\n",
    "\n"
   ]
  },
  {
   "cell_type": "code",
   "execution_count": null,
   "metadata": {},
   "outputs": [],
   "source": [
    "You have 7 symbols - 0,1,2,3,4,5,6, 10, ...., 16, 20, 21...."
   ]
  },
  {
   "cell_type": "code",
   "execution_count": null,
   "metadata": {},
   "outputs": [],
   "source": [
    "# Smallest base possible?\n",
    "# One- 11, 111, 1111, \n",
    "0\n",
    "00\n",
    "000\n",
    "0000\n",
    "\n",
    "# Two\n",
    "0\n",
    "1\n",
    "10\n",
    "11\n",
    "100\n",
    "101\n",
    "110\n",
    "111\n",
    "1000\n"
   ]
  },
  {
   "cell_type": "code",
   "execution_count": null,
   "metadata": {},
   "outputs": [],
   "source": [
    "#Base 5\n",
    "Using only one place how many counts? 5\n",
    "Using two digits, how many counts? 5*5\n",
    "Using three digits, how many ... 125\n",
    "Using k digits, 5^k\n",
    "\n",
    "base b\n",
    "using k digits, how many numbers can you represent: b^k"
   ]
  },
  {
   "cell_type": "markdown",
   "metadata": {},
   "source": [
    "Q1: Choose your base between 3 and 13. And write upto 3 three digit numbers in that base.\n",
    "\n",
    "Q2: Add/Substract single digit and multiple digits in your number system\n",
    "\n",
    "Q3: Prepare a table of single digit multiplications in your number system.\n",
    "\n",
    "Q4: Multiply multiple digits in your number system\n"
   ]
  },
  {
   "cell_type": "code",
   "execution_count": null,
   "metadata": {},
   "outputs": [],
   "source": [
    "#base is 5\n",
    "base5 -> base10\n",
    "1  -> 1\n",
    "2  -> 2\n",
    "\n",
    "10 -> 5\n",
    "11 -> 6\n",
    "14 --> 9\n",
    "20 -> 2*5\n",
    "30 -> 3*5\n",
    "40 -> 4*5\n",
    "100 -> 5*5\n",
    "200 -> 2*5^2 \n",
    "220 == 200 + 20 -> 2*5^2 + 2*5 \n",
    "\n",
    "324 -> 3*5^2 + 2*5 + 4\n",
    "---\n",
    "43 -> 4*5 + 3 -> 23"
   ]
  },
  {
   "cell_type": "markdown",
   "metadata": {},
   "source": [
    "base10 --> base5\n",
    "0 0\n",
    "1 1\n",
    "2 2\n",
    "3 3\n",
    "4 4\n",
    "5 10\n",
    "6 11\n",
    "7 12\n",
    "8 13\n",
    "9 14\n",
    "10 20\n",
    "11 21\n",
    "12 22\n"
   ]
  },
  {
   "cell_type": "code",
   "execution_count": 25,
   "metadata": {},
   "outputs": [
    {
     "data": {
      "text/plain": [
       "2"
      ]
     },
     "execution_count": 25,
     "metadata": {},
     "output_type": "execute_result"
    }
   ],
   "source": [
    "14 // 5"
   ]
  },
  {
   "cell_type": "code",
   "execution_count": 22,
   "metadata": {},
   "outputs": [
    {
     "data": {
      "text/plain": [
       "3"
      ]
     },
     "execution_count": 22,
     "metadata": {},
     "output_type": "execute_result"
    }
   ],
   "source": [
    "17 // 5"
   ]
  },
  {
   "cell_type": "code",
   "execution_count": 23,
   "metadata": {},
   "outputs": [
    {
     "data": {
      "text/plain": [
       "3"
      ]
     },
     "execution_count": 23,
     "metadata": {},
     "output_type": "execute_result"
    }
   ],
   "source": [
    "15 // 5"
   ]
  },
  {
   "cell_type": "code",
   "execution_count": null,
   "metadata": {},
   "outputs": [],
   "source": [
    "62718 = 62710 + 8\n",
    "((((6)*10 + 2)*10 + 7)*10 + 1)*10 + 8\n",
    "\n",
    "4001333 = (((((4*5+0)*5+0)*5+1)*5+3)*5+3)*5 + 3"
   ]
  },
  {
   "cell_type": "code",
   "execution_count": 29,
   "metadata": {},
   "outputs": [
    {
     "data": {
      "text/plain": [
       "62718"
      ]
     },
     "execution_count": 29,
     "metadata": {},
     "output_type": "execute_result"
    }
   ],
   "source": [
    "(((((4*5+0)*5+0)*5+1)*5+3)*5+3)*5 + 3"
   ]
  },
  {
   "cell_type": "code",
   "execution_count": 10,
   "metadata": {},
   "outputs": [],
   "source": [
    "num = 62718 = first_digit + 10*second_digit + 100*third_digit\n",
    "--> first_digit + 5*second_digit + 5^2 * third_digit"
   ]
  },
  {
   "cell_type": "code",
   "execution_count": 9,
   "metadata": {},
   "outputs": [],
   "source": [
    "num = 62718"
   ]
  },
  {
   "cell_type": "code",
   "execution_count": 27,
   "metadata": {},
   "outputs": [
    {
     "data": {
      "text/plain": [
       "2"
      ]
     },
     "execution_count": 27,
     "metadata": {},
     "output_type": "execute_result"
    }
   ],
   "source": [
    "(11 - 1)//5"
   ]
  },
  {
   "cell_type": "code",
   "execution_count": 28,
   "metadata": {},
   "outputs": [
    {
     "data": {
      "text/plain": [
       "2.2"
      ]
     },
     "execution_count": 28,
     "metadata": {},
     "output_type": "execute_result"
    }
   ],
   "source": [
    "11/5"
   ]
  },
  {
   "cell_type": "code",
   "execution_count": 10,
   "metadata": {},
   "outputs": [
    {
     "name": "stdout",
     "output_type": "stream",
     "text": [
      "Digit:  3\n",
      "12543\n"
     ]
    }
   ],
   "source": [
    "d = num % 5\n",
    "print(\"Digit: \", d)\n",
    "rem = num - d\n",
    "num = rem // 5\n",
    "print(num)"
   ]
  },
  {
   "cell_type": "code",
   "execution_count": 11,
   "metadata": {},
   "outputs": [
    {
     "name": "stdout",
     "output_type": "stream",
     "text": [
      "Digit:  3\n",
      "2508\n"
     ]
    }
   ],
   "source": [
    "d = num % 5\n",
    "print(\"Digit: \", d)\n",
    "rem = num - d\n",
    "num = rem // 5\n",
    "print(num)"
   ]
  },
  {
   "cell_type": "code",
   "execution_count": 12,
   "metadata": {},
   "outputs": [
    {
     "name": "stdout",
     "output_type": "stream",
     "text": [
      "Digit:  3\n",
      "501\n"
     ]
    }
   ],
   "source": [
    "d = num % 5\n",
    "print(\"Digit: \", d)\n",
    "rem = num - d\n",
    "num = rem // 5\n",
    "print(num)"
   ]
  },
  {
   "cell_type": "code",
   "execution_count": 13,
   "metadata": {},
   "outputs": [
    {
     "name": "stdout",
     "output_type": "stream",
     "text": [
      "Digit:  1\n",
      "100\n"
     ]
    }
   ],
   "source": [
    "d = num % 5\n",
    "print(\"Digit: \", d)\n",
    "rem = num - d\n",
    "num = rem // 5\n",
    "print(num)"
   ]
  },
  {
   "cell_type": "code",
   "execution_count": 14,
   "metadata": {},
   "outputs": [
    {
     "name": "stdout",
     "output_type": "stream",
     "text": [
      "Digit:  0\n",
      "20\n"
     ]
    }
   ],
   "source": [
    "d = num % 5\n",
    "print(\"Digit: \", d)\n",
    "rem = num - d\n",
    "num = rem // 5\n",
    "print(num)"
   ]
  },
  {
   "cell_type": "code",
   "execution_count": 15,
   "metadata": {},
   "outputs": [
    {
     "name": "stdout",
     "output_type": "stream",
     "text": [
      "Digit:  0\n",
      "4\n"
     ]
    }
   ],
   "source": [
    "d = num % 5\n",
    "print(\"Digit: \", d)\n",
    "rem = num - d\n",
    "num = rem // 5\n",
    "print(num)"
   ]
  },
  {
   "cell_type": "code",
   "execution_count": 16,
   "metadata": {},
   "outputs": [
    {
     "name": "stdout",
     "output_type": "stream",
     "text": [
      "Digit:  4\n",
      "0\n"
     ]
    }
   ],
   "source": [
    "d = num % 5\n",
    "print(\"Digit: \", d)\n",
    "rem = num - d\n",
    "num = rem // 5\n",
    "print(num)"
   ]
  },
  {
   "cell_type": "code",
   "execution_count": null,
   "metadata": {},
   "outputs": [],
   "source": [
    "4001333"
   ]
  },
  {
   "cell_type": "code",
   "execution_count": 7,
   "metadata": {},
   "outputs": [
    {
     "name": "stdout",
     "output_type": "stream",
     "text": [
      "Digit:  2\n"
     ]
    }
   ],
   "source": [
    "d = num % 5\n",
    "print(\"Digit: \", d)\n",
    "rem = num - d\n",
    "num = rem // 5"
   ]
  },
  {
   "cell_type": "code",
   "execution_count": 19,
   "metadata": {},
   "outputs": [
    {
     "data": {
      "text/plain": [
       "12543"
      ]
     },
     "execution_count": 19,
     "metadata": {},
     "output_type": "execute_result"
    }
   ],
   "source": [
    "num"
   ]
  },
  {
   "cell_type": "code",
   "execution_count": null,
   "metadata": {},
   "outputs": [],
   "source": [
    "\n",
    "Q5: Convert 1, 10, 20, 30, 100 from your base to base10.\n",
    "\n",
    "Q6. Write a strategy to convert a number in your base to base 10 in plain english or pseudo code or python\n",
    "\n",
    "Q7. Write a strategy to convert a number in base N to base M in plain english or pseudo code or python\n",
    "\n",
    "Q8."
   ]
  },
  {
   "cell_type": "markdown",
   "metadata": {},
   "source": [
    "Q: In base 7, how many numbers can you represent in 5 digits?\n",
    "\n",
    "A: 7**5\n",
    "\n",
    "Q: In base B, how many numbers can you represent in d digits?\n",
    "\n",
    "A: B**d\n",
    "\n",
    "Q: To represent all numbers upto to but not including 10000 in base10, how many digits do you need?\n",
    "\n",
    "Q: To represent all numbers up to 9999 in base10, how many digits do you need?\n",
    "\n",
    "A: Four Note: we are representing total 10000 (0 to 9999) numbers\n",
    "\n",
    "Q: To represent N numbers, how many digits do we need in base 10?\n",
    "\n",
    "A: log10(N)"
   ]
  },
  {
   "cell_type": "markdown",
   "metadata": {},
   "source": [
    "# Mod - %\n",
    "\n",
    "1. Checking divisiblity\n",
    "2. One way encryption - Checksum\n",
    "3. Load balance, dictionary - hashing"
   ]
  },
  {
   "cell_type": "code",
   "execution_count": 5,
   "metadata": {},
   "outputs": [],
   "source": [
    "nums = [123, 12718568, 1, 2, 120188, 376636, 46577, 152526, 2627, 12718568]"
   ]
  },
  {
   "cell_type": "code",
   "execution_count": null,
   "metadata": {},
   "outputs": [],
   "source": [
    "Three buckets - 0, 1, 2"
   ]
  },
  {
   "cell_type": "code",
   "execution_count": 6,
   "metadata": {},
   "outputs": [
    {
     "data": {
      "text/plain": [
       "0"
      ]
     },
     "execution_count": 6,
     "metadata": {},
     "output_type": "execute_result"
    }
   ],
   "source": [
    "123 % 3"
   ]
  },
  {
   "cell_type": "code",
   "execution_count": 7,
   "metadata": {},
   "outputs": [
    {
     "data": {
      "text/plain": [
       "2"
      ]
     },
     "execution_count": 7,
     "metadata": {},
     "output_type": "execute_result"
    }
   ],
   "source": [
    "12718568 % 3"
   ]
  },
  {
   "cell_type": "code",
   "execution_count": 8,
   "metadata": {},
   "outputs": [
    {
     "data": {
      "text/plain": [
       "1"
      ]
     },
     "execution_count": 8,
     "metadata": {},
     "output_type": "execute_result"
    }
   ],
   "source": [
    "1 % 3 "
   ]
  },
  {
   "cell_type": "code",
   "execution_count": 10,
   "metadata": {},
   "outputs": [
    {
     "data": {
      "text/plain": [
       "115"
      ]
     },
     "execution_count": 10,
     "metadata": {},
     "output_type": "execute_result"
    }
   ],
   "source": [
    "ord(\"s\")"
   ]
  },
  {
   "cell_type": "markdown",
   "metadata": {},
   "source": [
    "\"sandeep\" -> (ord(\"s\") + 64*ord(\"a\") + 64*64*ord(\"n\"))%29187190"
   ]
  },
  {
   "cell_type": "code",
   "execution_count": 11,
   "metadata": {},
   "outputs": [
    {
     "data": {
      "text/plain": [
       "-5834669395847206455"
      ]
     },
     "execution_count": 11,
     "metadata": {},
     "output_type": "execute_result"
    }
   ],
   "source": [
    "hash(\"sandeep\")"
   ]
  },
  {
   "cell_type": "markdown",
   "metadata": {},
   "source": [
    "Two kinds of encryption algos:\n",
    "\n",
    "    One way: Hashing, checksum etc. - md5, sha1\n",
    "        \n",
    "    Two way: \n",
    "        - Symmetric -> data + key -> enc_data \n",
    "                    enc_data + key -> data\n",
    "        - Assymmetric -> \n",
    "            - data + private_key -> enc\n",
    "            - enc + public_key -> data"
   ]
  },
  {
   "cell_type": "code",
   "execution_count": null,
   "metadata": {},
   "outputs": [],
   "source": [
    "#base 16 to Base 5\n",
    "base16 -> base10 -> base 5\n"
   ]
  },
  {
   "cell_type": "code",
   "execution_count": 14,
   "metadata": {},
   "outputs": [
    {
     "data": {
      "text/plain": [
       "11"
      ]
     },
     "execution_count": 14,
     "metadata": {},
     "output_type": "execute_result"
    }
   ],
   "source": [
    "# Base 6\n",
    "0\n",
    "1\n",
    "2\n",
    "3\n",
    "4\n",
    "5\n",
    "10\n",
    "11\n"
   ]
  },
  {
   "cell_type": "code",
   "execution_count": null,
   "metadata": {},
   "outputs": [],
   "source": [
    "# Base 6\n",
    "\n",
    "- 11\n",
    "-10\n",
    "-5\n",
    "-4\n",
    "-3\n",
    "-2\n",
    "-1\n",
    "0\n",
    "1\n",
    "2\n",
    "3\n",
    "4\n",
    "5\n",
    "10\n",
    "11"
   ]
  },
  {
   "cell_type": "markdown",
   "metadata": {},
   "source": [
    "With base5 and 2 digits we were able to represent 25 numbers because there were 25 combinations possible but if we include negative numbers then with the same base, wouldn't we be able to represent 50 possible numbers ?"
   ]
  },
  {
   "cell_type": "markdown",
   "metadata": {},
   "source": [
    "https://www.youtube.com/playlist?list=PLjMXczUzEYcHvw5YYSU92WrY8IwhTuq7p\n",
    "\n",
    "https://pjreddie.com/projects/\n",
    "\n",
    "# ANTLR"
   ]
  },
  {
   "cell_type": "code",
   "execution_count": 17,
   "metadata": {},
   "outputs": [
    {
     "name": "stdout",
     "output_type": "stream",
     "text": [
      "200.0\n"
     ]
    }
   ],
   "source": [
    "p = 100\n",
    "r = 10\n",
    "t = 20\n",
    "interest = p * r * t/100\n",
    "print(interest)"
   ]
  },
  {
   "cell_type": "code",
   "execution_count": 23,
   "metadata": {},
   "outputs": [],
   "source": [
    "def myinterest(p, r, t):\n",
    "    interest = p * r * t/100\n",
    "    return interest"
   ]
  },
  {
   "cell_type": "code",
   "execution_count": 24,
   "metadata": {},
   "outputs": [
    {
     "name": "stdout",
     "output_type": "stream",
     "text": [
      "Total:  300.0\n"
     ]
    }
   ],
   "source": [
    "principle = 100\n",
    "result = myinterest(principle, 10, 20)\n",
    "print(\"Total: \", principle + result)"
   ]
  },
  {
   "cell_type": "code",
   "execution_count": null,
   "metadata": {},
   "outputs": [],
   "source": [
    "principle = 100\n",
    "intrst = 0\n",
    "result = myinterest(principle, 10, 20)\n",
    "print(\"Total: \", principle + result)"
   ]
  },
  {
   "cell_type": "code",
   "execution_count": 25,
   "metadata": {},
   "outputs": [],
   "source": [
    "amount = 10"
   ]
  },
  {
   "cell_type": "code",
   "execution_count": 27,
   "metadata": {},
   "outputs": [
    {
     "data": {
      "text/plain": [
       "int"
      ]
     },
     "execution_count": 27,
     "metadata": {},
     "output_type": "execute_result"
    }
   ],
   "source": [
    "type(amount)"
   ]
  },
  {
   "cell_type": "code",
   "execution_count": 28,
   "metadata": {},
   "outputs": [
    {
     "data": {
      "text/plain": [
       "float"
      ]
     },
     "execution_count": 28,
     "metadata": {},
     "output_type": "execute_result"
    }
   ],
   "source": [
    "amount = 10.5\n",
    "type(amount)"
   ]
  },
  {
   "cell_type": "code",
   "execution_count": 29,
   "metadata": {},
   "outputs": [
    {
     "data": {
      "text/plain": [
       "bool"
      ]
     },
     "execution_count": 29,
     "metadata": {},
     "output_type": "execute_result"
    }
   ],
   "source": [
    "bl = False\n",
    "type(bl)"
   ]
  },
  {
   "cell_type": "code",
   "execution_count": 31,
   "metadata": {},
   "outputs": [
    {
     "data": {
      "text/plain": [
       "function"
      ]
     },
     "execution_count": 31,
     "metadata": {},
     "output_type": "execute_result"
    }
   ],
   "source": [
    "type(myinterest)"
   ]
  },
  {
   "cell_type": "code",
   "execution_count": 35,
   "metadata": {},
   "outputs": [
    {
     "data": {
      "text/plain": [
       "str"
      ]
     },
     "execution_count": 35,
     "metadata": {},
     "output_type": "execute_result"
    }
   ],
   "source": [
    "name = \"sandeep\"\n",
    "type(name)"
   ]
  },
  {
   "cell_type": "code",
   "execution_count": 36,
   "metadata": {},
   "outputs": [
    {
     "data": {
      "text/plain": [
       "5"
      ]
     },
     "execution_count": 36,
     "metadata": {},
     "output_type": "execute_result"
    }
   ],
   "source": [
    "arr = [1, \"giri\", 3.5, False, [\"another arr\"]]\n",
    "len(arr)"
   ]
  },
  {
   "cell_type": "code",
   "execution_count": 37,
   "metadata": {},
   "outputs": [
    {
     "data": {
      "text/plain": [
       "1"
      ]
     },
     "execution_count": 37,
     "metadata": {},
     "output_type": "execute_result"
    }
   ],
   "source": [
    "arr[0]"
   ]
  },
  {
   "cell_type": "code",
   "execution_count": 38,
   "metadata": {},
   "outputs": [
    {
     "data": {
      "text/plain": [
       "'giri'"
      ]
     },
     "execution_count": 38,
     "metadata": {},
     "output_type": "execute_result"
    }
   ],
   "source": [
    "arr[1]"
   ]
  },
  {
   "cell_type": "code",
   "execution_count": 39,
   "metadata": {},
   "outputs": [
    {
     "data": {
      "text/plain": [
       "3.5"
      ]
     },
     "execution_count": 39,
     "metadata": {},
     "output_type": "execute_result"
    }
   ],
   "source": [
    "arr[2]"
   ]
  },
  {
   "cell_type": "code",
   "execution_count": 63,
   "metadata": {},
   "outputs": [
    {
     "name": "stdout",
     "output_type": "stream",
     "text": [
      "1\n",
      "giri\n",
      "3.5\n",
      "False\n",
      "['another arr']\n",
      "Type:  <class 'list'>\n"
     ]
    }
   ],
   "source": [
    "for e in arr:\n",
    "    print(e)\n",
    "print(\"Type: \", type(e))"
   ]
  },
  {
   "cell_type": "code",
   "execution_count": 42,
   "metadata": {},
   "outputs": [
    {
     "name": "stdout",
     "output_type": "stream",
     "text": [
      "1\n",
      "Type:  <class 'int'>\n",
      "giri\n",
      "Type:  <class 'str'>\n",
      "3.5\n",
      "Type:  <class 'float'>\n",
      "False\n",
      "Type:  <class 'bool'>\n",
      "['another arr']\n",
      "Type:  <class 'list'>\n"
     ]
    }
   ],
   "source": [
    "for e in arr:\n",
    "    print(e)\n",
    "    print(\"Type: \", type(e))"
   ]
  },
  {
   "cell_type": "code",
   "execution_count": 43,
   "metadata": {},
   "outputs": [
    {
     "name": "stdout",
     "output_type": "stream",
     "text": [
      "Type of 1 is  <class 'int'>\n",
      "Type of giri is  <class 'str'>\n",
      "Type of 3.5 is  <class 'float'>\n",
      "Type of False is  <class 'bool'>\n",
      "Type of ['another arr'] is  <class 'list'>\n"
     ]
    }
   ],
   "source": [
    "for e in arr:\n",
    "    print(f\"Type of {e} is \", type(e))"
   ]
  },
  {
   "cell_type": "code",
   "execution_count": 45,
   "metadata": {},
   "outputs": [
    {
     "name": "stdout",
     "output_type": "stream",
     "text": [
      "10\n",
      "9\n",
      "8\n",
      "7\n",
      "6\n",
      "5\n",
      "4\n",
      "3\n",
      "2\n",
      "1\n"
     ]
    }
   ],
   "source": [
    "n = 10\n",
    "while n > 0:\n",
    "    print(n)\n",
    "    n = n - 1"
   ]
  },
  {
   "cell_type": "code",
   "execution_count": 47,
   "metadata": {},
   "outputs": [],
   "source": [
    "# Base 5 to base 10\n",
    "\n",
    "num = 1224 \n",
    "# 1*4 + 5*1 * 2 + 5*5*2 + 5*25*1\n",
    "result = 0\n",
    "mult = 1"
   ]
  },
  {
   "cell_type": "code",
   "execution_count": 48,
   "metadata": {},
   "outputs": [],
   "source": [
    "rem = num % 10\n",
    "result = result + rem*mult\n",
    "num = num // 10\n",
    "mult = mult * 5"
   ]
  },
  {
   "cell_type": "code",
   "execution_count": 49,
   "metadata": {},
   "outputs": [
    {
     "data": {
      "text/plain": [
       "(5, 4, 122)"
      ]
     },
     "execution_count": 49,
     "metadata": {},
     "output_type": "execute_result"
    }
   ],
   "source": [
    "mult, result, num"
   ]
  },
  {
   "cell_type": "code",
   "execution_count": 50,
   "metadata": {},
   "outputs": [],
   "source": [
    "rem = num % 10\n",
    "result = result + rem*mult\n",
    "num = num // 10\n",
    "mult = mult * 5"
   ]
  },
  {
   "cell_type": "code",
   "execution_count": 51,
   "metadata": {},
   "outputs": [
    {
     "data": {
      "text/plain": [
       "(25, 14, 12)"
      ]
     },
     "execution_count": 51,
     "metadata": {},
     "output_type": "execute_result"
    }
   ],
   "source": [
    "mult, result, num"
   ]
  },
  {
   "cell_type": "code",
   "execution_count": 52,
   "metadata": {},
   "outputs": [],
   "source": [
    "rem = num % 10\n",
    "result = result + rem*mult\n",
    "num = num // 10\n",
    "mult = mult * 5"
   ]
  },
  {
   "cell_type": "code",
   "execution_count": 53,
   "metadata": {},
   "outputs": [
    {
     "data": {
      "text/plain": [
       "(125, 64, 1)"
      ]
     },
     "execution_count": 53,
     "metadata": {},
     "output_type": "execute_result"
    }
   ],
   "source": [
    "mult, result, num"
   ]
  },
  {
   "cell_type": "code",
   "execution_count": 54,
   "metadata": {},
   "outputs": [],
   "source": [
    "rem = num % 10\n",
    "result = result + rem*mult\n",
    "num = num // 10\n",
    "mult = mult * 5"
   ]
  },
  {
   "cell_type": "code",
   "execution_count": 55,
   "metadata": {},
   "outputs": [
    {
     "data": {
      "text/plain": [
       "(625, 189, 0)"
      ]
     },
     "execution_count": 55,
     "metadata": {},
     "output_type": "execute_result"
    }
   ],
   "source": [
    "mult, result, num"
   ]
  },
  {
   "cell_type": "code",
   "execution_count": 56,
   "metadata": {},
   "outputs": [],
   "source": [
    "def extract(mult, result, num):\n",
    "    rem = num % 10\n",
    "    result = result + rem*mult\n",
    "    num = num // 10\n",
    "    mult = mult * 5\n",
    "    return mult, result, num"
   ]
  },
  {
   "cell_type": "code",
   "execution_count": 57,
   "metadata": {},
   "outputs": [],
   "source": [
    "mult, result, num = 1, 0, 4123"
   ]
  },
  {
   "cell_type": "code",
   "execution_count": 61,
   "metadata": {},
   "outputs": [
    {
     "name": "stdout",
     "output_type": "stream",
     "text": [
      "625 538 0\n"
     ]
    }
   ],
   "source": [
    "mult, result, num = extract(mult, result, num)\n",
    "print(mult, result, num)"
   ]
  },
  {
   "cell_type": "code",
   "execution_count": 62,
   "metadata": {},
   "outputs": [
    {
     "name": "stdout",
     "output_type": "stream",
     "text": [
      "5 4 412332\n",
      "25 14 41233\n",
      "125 89 4123\n",
      "625 464 412\n",
      "3125 1714 41\n",
      "15625 4839 4\n",
      "78125 67339 0\n"
     ]
    }
   ],
   "source": [
    "mult, result, num = 1, 0, 4123324\n",
    "while num > 0:\n",
    "    mult, result, num = extract(mult, result, num)\n",
    "    print(mult, result, num)"
   ]
  },
  {
   "cell_type": "code",
   "execution_count": 67,
   "metadata": {},
   "outputs": [
    {
     "name": "stdout",
     "output_type": "stream",
     "text": [
      "Base5 number is 4123324\n",
      "Base10 value of is 67339\n"
     ]
    }
   ],
   "source": [
    "mult, result, num = 1, 0, 4123324\n",
    "print(f\"Base5 number is {num}\")\n",
    "while num > 0:\n",
    "    mult, result, num = extract(mult, result, num)\n",
    "print(f\"Base10 value of is {result}\")"
   ]
  },
  {
   "cell_type": "code",
   "execution_count": 75,
   "metadata": {},
   "outputs": [],
   "source": [
    "def extract_rec(tab, mult, result, num):\n",
    "    print(tab, \"Calling: \", mult, result, num)\n",
    "    rem = num % 10\n",
    "    result = result + rem*mult\n",
    "    num = num // 10\n",
    "    mult = mult * 5\n",
    "    if num == 0:\n",
    "        return result\n",
    "    else:\n",
    "        fr = extract_rec(tab + \"\\t\", mult, result, num)\n",
    "        print(tab, \"Finished and found: \", fr)\n",
    "        return fr"
   ]
  },
  {
   "cell_type": "code",
   "execution_count": 76,
   "metadata": {},
   "outputs": [
    {
     "name": "stdout",
     "output_type": "stream",
     "text": [
      " Calling:  1 0 4123324\n",
      "\t Calling:  5 4 412332\n",
      "\t\t Calling:  25 14 41233\n",
      "\t\t\t Calling:  125 89 4123\n",
      "\t\t\t\t Calling:  625 464 412\n",
      "\t\t\t\t\t Calling:  3125 1714 41\n",
      "\t\t\t\t\t\t Calling:  15625 4839 4\n",
      "\t\t\t\t\t Finished and found:  67339\n",
      "\t\t\t\t Finished and found:  67339\n",
      "\t\t\t Finished and found:  67339\n",
      "\t\t Finished and found:  67339\n",
      "\t Finished and found:  67339\n",
      " Finished and found:  67339\n",
      "67339\n"
     ]
    }
   ],
   "source": [
    "mult, result, num = 1, 0, 4123324\n",
    "result = extract_rec(\"\", mult, result, num)\n",
    "print(result)"
   ]
  },
  {
   "cell_type": "code",
   "execution_count": null,
   "metadata": {},
   "outputs": [],
   "source": []
  }
 ],
 "metadata": {
  "kernelspec": {
   "display_name": "Python 3",
   "language": "python",
   "name": "python3"
  },
  "language_info": {
   "codemirror_mode": {
    "name": "ipython",
    "version": 3
   },
   "file_extension": ".py",
   "mimetype": "text/x-python",
   "name": "python",
   "nbconvert_exporter": "python",
   "pygments_lexer": "ipython3",
   "version": "3.6.8"
  },
  "toc": {
   "base_numbering": 1,
   "nav_menu": {},
   "number_sections": true,
   "sideBar": true,
   "skip_h1_title": false,
   "title_cell": "Table of Contents",
   "title_sidebar": "Contents",
   "toc_cell": false,
   "toc_position": {},
   "toc_section_display": true,
   "toc_window_display": false
  }
 },
 "nbformat": 4,
 "nbformat_minor": 2
}
