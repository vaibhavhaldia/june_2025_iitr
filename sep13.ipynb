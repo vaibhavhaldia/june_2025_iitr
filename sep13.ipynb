{
  "nbformat": 4,
  "nbformat_minor": 0,
  "metadata": {
    "colab": {
      "provenance": [],
      "authorship_tag": "ABX9TyOvvr2RWwIFkkmJ6bp1iaY7",
      "include_colab_link": true
    },
    "kernelspec": {
      "name": "python3",
      "display_name": "Python 3"
    },
    "language_info": {
      "name": "python"
    }
  },
  "cells": [
    {
      "cell_type": "markdown",
      "metadata": {
        "id": "view-in-github",
        "colab_type": "text"
      },
      "source": [
        "<a href=\"https://colab.research.google.com/github/vaibhavhaldia/june_2025_iitr/blob/main/sep13.ipynb\" target=\"_parent\"><img src=\"https://colab.research.google.com/assets/colab-badge.svg\" alt=\"Open In Colab\"/></a>"
      ]
    },
    {
      "cell_type": "code",
      "source": [
        "x = 3.000000000000009"
      ],
      "metadata": {
        "id": "Ucvt_FLOKcPi"
      },
      "execution_count": 32,
      "outputs": []
    },
    {
      "cell_type": "code",
      "execution_count": 33,
      "metadata": {
        "colab": {
          "base_uri": "https://localhost:8080/"
        },
        "id": "r6vn3qrvKGjx",
        "outputId": "448f194d-3599-46fa-8068-c604877cbe00"
      },
      "outputs": [
        {
          "output_type": "stream",
          "name": "stdout",
          "text": [
            "no\n"
          ]
        }
      ],
      "source": [
        "\n",
        "if x <= 3 or x >= 2:\n",
        "    print(\"Yes\")\n",
        "else:\n",
        "    print(\"no\")"
      ]
    },
    {
      "cell_type": "code",
      "source": [
        "#GK's sudoku solved\n",
        "\n",
        "def find_first_blank_position(sudoku):\n",
        "\n",
        "    for row in range(9):\n",
        "\n",
        "        for col in range(9):\n",
        "\n",
        "            if sudoku[row][col] == 0:\n",
        "\n",
        "                return row, col\n",
        "\n",
        "    return None\n",
        "\n",
        "\n",
        "\n",
        "def find_numbers_to_fill(sudoku, i, j):\n",
        "\n",
        "    row_vals = set(sudoku[i])\n",
        "\n",
        "    col_vals = set(sudoku[x][j] for x in range(9))\n",
        "\n",
        "    box_row, box_col = 3 * (i // 3), 3 * (j // 3)\n",
        "\n",
        "    box_vals = set(\n",
        "\n",
        "        sudoku[r][c]\n",
        "\n",
        "        for r in range(box_row, box_row + 3)\n",
        "\n",
        "        for c in range(box_col, box_col + 3)\n",
        "\n",
        "    )\n",
        "\n",
        "    return set(range(1, 10)) - row_vals - col_vals - box_vals\n",
        "\n",
        "\n",
        "\n",
        "def solve(sudoku):\n",
        "\n",
        "    pos = find_first_blank_position(sudoku)\n",
        "\n",
        "    if pos is None:\n",
        "\n",
        "        print(sudoku)\n",
        "\n",
        "        return True\n",
        "\n",
        "    i, j = pos\n",
        "\n",
        "    candidates = find_numbers_to_fill(sudoku, i, j)\n",
        "\n",
        "    for candidate in candidates:\n",
        "\n",
        "        sudoku[i][j] = candidate\n",
        "\n",
        "        if solve(sudoku):\n",
        "\n",
        "            return True\n",
        "\n",
        "        sudoku[i][j] = 0\n",
        "\n",
        "    return False\n",
        "\n",
        "\n",
        "\n",
        "\n"
      ],
      "metadata": {
        "id": "6IDs-S6PKhX7"
      },
      "execution_count": 63,
      "outputs": []
    },
    {
      "cell_type": "code",
      "source": [
        "sud = [[0,0,0,0,0,2,3,0,6],[0,0,0,0,0,0,0,1,0],[0,0,0,0,0,0,0,0,0],[0,0,0,0,0,0,0,0,0],[0,0,0,0,0,0,0,0,0],[0,0,0,0,0,0,0,0,0],[0,0,0,0,0,0,0,0,0],[0,0,0,0,0,0,0,0,0],[0,0,0,0,0,0,0,0,0]]"
      ],
      "metadata": {
        "id": "NrHNWswcu-vj"
      },
      "execution_count": 55,
      "outputs": []
    },
    {
      "cell_type": "code",
      "source": [
        "sud"
      ],
      "metadata": {
        "colab": {
          "base_uri": "https://localhost:8080/"
        },
        "id": "oPsnieg_vCfR",
        "outputId": "65d6bd61-126e-411c-fd28-43293f2134e9"
      },
      "execution_count": 56,
      "outputs": [
        {
          "output_type": "execute_result",
          "data": {
            "text/plain": [
              "[[0, 0, 0, 0, 0, 2, 3, 0, 6],\n",
              " [0, 0, 0, 0, 0, 0, 0, 1, 0],\n",
              " [0, 0, 0, 0, 0, 0, 0, 0, 0],\n",
              " [0, 0, 0, 0, 0, 0, 0, 0, 0],\n",
              " [0, 0, 0, 0, 0, 0, 0, 0, 0],\n",
              " [0, 0, 0, 0, 0, 0, 0, 0, 0],\n",
              " [0, 0, 0, 0, 0, 0, 0, 0, 0],\n",
              " [0, 0, 0, 0, 0, 0, 0, 0, 0],\n",
              " [0, 0, 0, 0, 0, 0, 0, 0, 0]]"
            ]
          },
          "metadata": {},
          "execution_count": 56
        }
      ]
    },
    {
      "cell_type": "code",
      "source": [
        "solve(sud)"
      ],
      "metadata": {
        "colab": {
          "base_uri": "https://localhost:8080/"
        },
        "id": "ZRmSmNhfvEVl",
        "outputId": "39c623cc-b6d5-4192-ebc5-28e784b3e8ca"
      },
      "execution_count": 64,
      "outputs": [
        {
          "output_type": "stream",
          "name": "stdout",
          "text": [
            "[[1, 4, 8, 9, 5, 2, 3, 7, 6], [2, 3, 9, 8, 6, 7, 4, 1, 5], [5, 6, 7, 1, 3, 4, 8, 9, 2], [3, 1, 2, 4, 8, 9, 5, 6, 7], [4, 8, 5, 2, 7, 6, 1, 3, 9], [9, 7, 6, 3, 1, 5, 2, 8, 4], [8, 9, 4, 6, 2, 1, 7, 5, 3], [6, 5, 1, 7, 4, 3, 9, 2, 8], [7, 2, 3, 5, 9, 8, 6, 4, 1]]\n"
          ]
        },
        {
          "output_type": "execute_result",
          "data": {
            "text/plain": [
              "True"
            ]
          },
          "metadata": {},
          "execution_count": 64
        }
      ]
    },
    {
      "cell_type": "code",
      "source": [],
      "metadata": {
        "colab": {
          "base_uri": "https://localhost:8080/"
        },
        "id": "7gvf14dlvSqD",
        "outputId": "a7588f35-e71b-41e8-dced-2de516823d54"
      },
      "execution_count": 59,
      "outputs": [
        {
          "output_type": "execute_result",
          "data": {
            "text/plain": [
              "True"
            ]
          },
          "metadata": {},
          "execution_count": 59
        }
      ]
    },
    {
      "cell_type": "code",
      "source": [
        "a = [[1, 4, 8, 9, 5, 2, 3, 7, 6], [2, 3, 9, 8, 6, 7, 4, 1, 5], [5, 6, 7, 1, 3, 4, 8, 9, 2], [3, 1, 2, 4, 8, 9, 5, 6, 7], [4, 8, 5, 2, 7, 6, 1, 3, 9], [9, 7, 6, 3, 1, 5, 2, 8, 4], [8, 9, 4, 6, 2, 1, 7, 5, 3], [6, 5, 1, 7, 4, 3, 9, 2, 8], [7, 2, 3, 5, 9, 8, 6, 4, 1]]\n"
      ],
      "metadata": {
        "id": "brSoef4xvZ_Y"
      },
      "execution_count": 61,
      "outputs": []
    },
    {
      "cell_type": "code",
      "source": [
        "a"
      ],
      "metadata": {
        "colab": {
          "base_uri": "https://localhost:8080/"
        },
        "id": "aNDQXz-uvlzE",
        "outputId": "16eaa13d-7ede-421c-a070-ffa4cd6c0b9d"
      },
      "execution_count": 62,
      "outputs": [
        {
          "output_type": "execute_result",
          "data": {
            "text/plain": [
              "[[1, 4, 8, 9, 5, 2, 3, 7, 6],\n",
              " [2, 3, 9, 8, 6, 7, 4, 1, 5],\n",
              " [5, 6, 7, 1, 3, 4, 8, 9, 2],\n",
              " [3, 1, 2, 4, 8, 9, 5, 6, 7],\n",
              " [4, 8, 5, 2, 7, 6, 1, 3, 9],\n",
              " [9, 7, 6, 3, 1, 5, 2, 8, 4],\n",
              " [8, 9, 4, 6, 2, 1, 7, 5, 3],\n",
              " [6, 5, 1, 7, 4, 3, 9, 2, 8],\n",
              " [7, 2, 3, 5, 9, 8, 6, 4, 1]]"
            ]
          },
          "metadata": {},
          "execution_count": 62
        }
      ]
    },
    {
      "cell_type": "code",
      "source": [
        "class Job:\n",
        "    def __init__(self,job_description):\n",
        "        self.salary=job_description['salary']\n",
        "        self.distance=job_description['distance']\n",
        "        self.coffee=job_description['coffe']\n",
        "        self.nightshift=job_description['nightshift']\n",
        "\n",
        "    def check(self):\n",
        "        if self.salary<=1000:\n",
        "            if self.distance<=50:\n",
        "                if self.coffee=='Yes':\n",
        "                    if self.nightshift=='no':\n",
        "                        return True\n",
        "                    else:\n",
        "                        return False\n",
        "                else:\n",
        "                    return False\n",
        "            else:\n",
        "                return False\n",
        "        else:\n",
        "            if self.distance<=60:\n",
        "                if self.coffee=='no'or 'Yes':\n",
        "                    if self.nightshift=='no':\n",
        "                        return True\n",
        "                    else:\n",
        "                        return False\n",
        "                else:\n",
        "                    return False\n",
        "            else:\n",
        "                return False"
      ],
      "metadata": {
        "id": "UB2syTBZvmkh"
      },
      "execution_count": 65,
      "outputs": []
    },
    {
      "cell_type": "code",
      "source": [
        "job_description = {\n",
        "    \"salary\": 15000,\n",
        "    \"distance\": 60,\n",
        "    \"coffe\": 'Yes',\n",
        "    \"nightshift\":'no'\n",
        "}"
      ],
      "metadata": {
        "id": "_sS0DyPQv7hN"
      },
      "execution_count": 66,
      "outputs": []
    },
    {
      "cell_type": "markdown",
      "source": [
        "Nigam's permution solution, in which we have show all possible permution of a string."
      ],
      "metadata": {
        "id": "ofFmxBkfwcbP"
      }
    },
    {
      "cell_type": "code",
      "source": [
        "def permute(s):\n",
        "\n",
        "    if len(s) == 1:\n",
        "\n",
        "        return [s]\n",
        "\n",
        "    first_letter = s[0]\n",
        "\n",
        "    remaining = s[1:]\n",
        "\n",
        "    previous = permute(remaining)\n",
        "\n",
        "    result = []\n",
        "\n",
        "    for p in previous:\n",
        "\n",
        "        for i in range(len(p) + 1):\n",
        "\n",
        "            new_word = p[:i] + first_letter + p[i:]\n",
        "\n",
        "            result.append(new_word)\n",
        "\n",
        "    return result\n",
        "\n",
        "permute('abcd')"
      ],
      "metadata": {
        "colab": {
          "base_uri": "https://localhost:8080/"
        },
        "id": "IeyNBOTFv71z",
        "outputId": "25a45c15-1983-442c-b88c-2bdb14d9ea02"
      },
      "execution_count": 67,
      "outputs": [
        {
          "output_type": "execute_result",
          "data": {
            "text/plain": [
              "['abcd',\n",
              " 'bacd',\n",
              " 'bcad',\n",
              " 'bcda',\n",
              " 'acbd',\n",
              " 'cabd',\n",
              " 'cbad',\n",
              " 'cbda',\n",
              " 'acdb',\n",
              " 'cadb',\n",
              " 'cdab',\n",
              " 'cdba',\n",
              " 'abdc',\n",
              " 'badc',\n",
              " 'bdac',\n",
              " 'bdca',\n",
              " 'adbc',\n",
              " 'dabc',\n",
              " 'dbac',\n",
              " 'dbca',\n",
              " 'adcb',\n",
              " 'dacb',\n",
              " 'dcab',\n",
              " 'dcba']"
            ]
          },
          "metadata": {},
          "execution_count": 67
        }
      ]
    },
    {
      "cell_type": "markdown",
      "source": [
        "Itertool is used to generate the string permutations,"
      ],
      "metadata": {
        "id": "O5BEf6WzvyfN"
      }
    },
    {
      "cell_type": "code",
      "source": [],
      "metadata": {
        "id": "vK_zihXFv6M8"
      },
      "execution_count": null,
      "outputs": []
    }
  ]
}