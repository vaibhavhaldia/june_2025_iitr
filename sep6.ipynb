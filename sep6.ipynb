{
  "cells": [
    {
      "cell_type": "code",
      "execution_count": null,
      "metadata": {
        "id": "LXHmiEVeJOm3"
      },
      "outputs": [],
      "source": [
        "# https://www.techiedelight.com/recursion-practice-problems-with-solutions/"
      ]
    },
    {
      "cell_type": "code",
      "execution_count": 5,
      "metadata": {
        "id": "d_PoNedWJOm4",
        "outputId": "64335094-7db6-4089-e633-f6f204441ba0",
        "colab": {
          "base_uri": "https://localhost:8080/",
          "height": 35
        }
      },
      "outputs": [
        {
          "output_type": "execute_result",
          "data": {
            "text/plain": [
              "'a'"
            ],
            "application/vnd.google.colaboratory.intrinsic+json": {
              "type": "string"
            }
          },
          "metadata": {},
          "execution_count": 5
        }
      ],
      "source": [
        "s = 'ab'\n",
        "s[:-1]"
      ]
    },
    {
      "cell_type": "code",
      "execution_count": 6,
      "metadata": {
        "id": "1_iXVKovJOm5",
        "outputId": "cc8fd973-52e0-4766-e8e4-2aaf57348ab1",
        "colab": {
          "base_uri": "https://localhost:8080/",
          "height": 35
        }
      },
      "outputs": [
        {
          "output_type": "execute_result",
          "data": {
            "text/plain": [
              "'abc'"
            ],
            "application/vnd.google.colaboratory.intrinsic+json": {
              "type": "string"
            }
          },
          "metadata": {},
          "execution_count": 6
        }
      ],
      "source": [
        "perm = 'ab'\n",
        "ll = 'c'\n",
        "i = 2\n",
        "perm[:i] + ll + perm[i:]"
      ]
    },
    {
      "cell_type": "code",
      "execution_count": 7,
      "metadata": {
        "id": "2xkNdBrrJOm5"
      },
      "outputs": [],
      "source": [
        "# chars = 'a',\n",
        "# perms = ['a']\n",
        "\n",
        "# chars = 'ab'\n",
        "# perms = ['ab', 'ba']\n",
        "\n",
        "# chars = 'abc'\n",
        "# perms = [['cab', ]]\n",
        "def permute(chars):\n",
        "    print('args:', chars)\n",
        "    if len(chars) == 1:\n",
        "        return [chars]\n",
        "    perms = permute(chars[:-1])\n",
        "    ll = chars[-1]\n",
        "    new_perms = []\n",
        "    for perm in perms:\n",
        "        for i in range(len(perm)+1):\n",
        "            new_p = perm[:i] + ll + perm[i:]\n",
        "            new_perms.append(new_p)\n",
        "    return new_perms"
      ]
    },
    {
      "cell_type": "code",
      "execution_count": 8,
      "metadata": {
        "id": "E_dur8VsJOm6",
        "outputId": "5beb62d1-ee6c-402f-e9bf-d9fc7ac3a283",
        "colab": {
          "base_uri": "https://localhost:8080/"
        }
      },
      "outputs": [
        {
          "output_type": "stream",
          "name": "stdout",
          "text": [
            "args: a\n"
          ]
        },
        {
          "output_type": "execute_result",
          "data": {
            "text/plain": [
              "['a']"
            ]
          },
          "metadata": {},
          "execution_count": 8
        }
      ],
      "source": [
        "permute('a')"
      ]
    },
    {
      "cell_type": "code",
      "execution_count": 9,
      "metadata": {
        "id": "agUCqIwaJOm6",
        "outputId": "8741c65f-5af6-4cb2-d6e8-537bf4967246",
        "colab": {
          "base_uri": "https://localhost:8080/"
        }
      },
      "outputs": [
        {
          "output_type": "stream",
          "name": "stdout",
          "text": [
            "args: ab\n",
            "args: a\n"
          ]
        },
        {
          "output_type": "execute_result",
          "data": {
            "text/plain": [
              "['ba', 'ab']"
            ]
          },
          "metadata": {},
          "execution_count": 9
        }
      ],
      "source": [
        "permute('ab')"
      ]
    },
    {
      "cell_type": "code",
      "execution_count": 10,
      "metadata": {
        "id": "gqt_zY4MJOm6",
        "outputId": "24601485-222a-4740-f603-51247a8b4b3c",
        "colab": {
          "base_uri": "https://localhost:8080/"
        }
      },
      "outputs": [
        {
          "output_type": "stream",
          "name": "stdout",
          "text": [
            "args: abc\n",
            "args: ab\n",
            "args: a\n"
          ]
        },
        {
          "output_type": "execute_result",
          "data": {
            "text/plain": [
              "['cba', 'bca', 'bac', 'cab', 'acb', 'abc']"
            ]
          },
          "metadata": {},
          "execution_count": 10
        }
      ],
      "source": [
        "permute('abc')"
      ]
    },
    {
      "cell_type": "code",
      "execution_count": 11,
      "metadata": {
        "id": "QL59cux2JOm6",
        "outputId": "571754a4-25c7-4862-c541-79d8db0d0070",
        "colab": {
          "base_uri": "https://localhost:8080/"
        }
      },
      "outputs": [
        {
          "output_type": "stream",
          "name": "stdout",
          "text": [
            "args: abcd\n",
            "args: abc\n",
            "args: ab\n",
            "args: a\n"
          ]
        }
      ],
      "source": [
        "result = permute('abcd')"
      ]
    },
    {
      "cell_type": "code",
      "execution_count": null,
      "metadata": {
        "id": "dAvubs7DJOm7"
      },
      "outputs": [],
      "source": [
        "result"
      ]
    },
    {
      "cell_type": "code",
      "execution_count": null,
      "metadata": {
        "id": "w6RgRuUcJOm7"
      },
      "outputs": [],
      "source": [
        "len(result) # 4*3*2"
      ]
    },
    {
      "cell_type": "code",
      "execution_count": null,
      "metadata": {
        "id": "3dyWlb11JOm7"
      },
      "outputs": [],
      "source": [
        "result = permute('abcde')"
      ]
    },
    {
      "cell_type": "code",
      "execution_count": null,
      "metadata": {
        "id": "ZoPWLqH-JOm7"
      },
      "outputs": [],
      "source": [
        "result"
      ]
    },
    {
      "cell_type": "code",
      "execution_count": null,
      "metadata": {
        "id": "p7fUC4zUJOm7"
      },
      "outputs": [],
      "source": [
        "len(result)"
      ]
    },
    {
      "cell_type": "code",
      "execution_count": null,
      "metadata": {
        "id": "UJZZ1qrMJOm8"
      },
      "outputs": [],
      "source": [
        "# chars = 'a',\n",
        "# perms = ['a']\n",
        "\n",
        "# chars = 'ab'\n",
        "# perms = ['ab', 'ba']\n",
        "\n",
        "# chars = 'abc'\n",
        "# perms = [['cab', ]]\n",
        "def permute(chars):\n",
        "#     print('args:', chars)\n",
        "    if len(chars) == 1:\n",
        "        return [chars]\n",
        "    perms = permute(chars[:-1])\n",
        "    ll = chars[-1]\n",
        "    new_perms = []\n",
        "    for perm in perms:\n",
        "        for i in range(len(perm)+1):\n",
        "            new_p = perm[:i] + ll + perm[i:]\n",
        "            new_perms.append(new_p)\n",
        "    print(f\"Permulations of {chars}\")\n",
        "    print(new_perms)\n",
        "    print(\"-------------------------\")\n",
        "    return new_perms"
      ]
    },
    {
      "cell_type": "code",
      "execution_count": null,
      "metadata": {
        "id": "68Btn7p4JOm8"
      },
      "outputs": [],
      "source": [
        "permute('a')"
      ]
    },
    {
      "cell_type": "code",
      "execution_count": null,
      "metadata": {
        "id": "x7c0ZZ7AJOm8"
      },
      "outputs": [],
      "source": [
        "permute('ab')"
      ]
    },
    {
      "cell_type": "code",
      "execution_count": null,
      "metadata": {
        "id": "3cATjn9wJOm8"
      },
      "outputs": [],
      "source": [
        "permute('abc')"
      ]
    },
    {
      "cell_type": "code",
      "execution_count": null,
      "metadata": {
        "id": "Oi2AW6x9JOm8"
      },
      "outputs": [],
      "source": [
        "permute('abcd')"
      ]
    },
    {
      "cell_type": "code",
      "execution_count": null,
      "metadata": {
        "id": "i9sCpIvzJOm8"
      },
      "outputs": [],
      "source": [
        "# https://www.techiedelight.com/recursion-practice-problems-with-solutions/"
      ]
    },
    {
      "cell_type": "code",
      "execution_count": null,
      "metadata": {
        "id": "ELQ7ZfWCJOm8"
      },
      "outputs": [],
      "source": [
        "# Solve Sudoku - Backtracking\n",
        "# sudoku is a 2d array 9x9\n",
        "# initially some of the elements are 0 representing blank. If there are no zeros, you are done.\n",
        "# find the first position having 0\n",
        "\n",
        "def solve(sudoku):\n",
        "    i, j = find_first_blank_position(sudoku)\n",
        "\n",
        "    # find a numbers that can be filled - candidates\n",
        "\n",
        "    candidates = find_numbers_to_fill(sudoku, i, j)\n",
        "    for candidate in candiates:\n",
        "        sudoku[i][j] = candidate\n",
        "        result = solve(sudoku)\n",
        "        if result == True:\n",
        "            return True\n",
        "        else:\n",
        "            sudoku[i][j] = 0\n",
        "    return False\n"
      ]
    },
    {
      "cell_type": "code",
      "execution_count": null,
      "metadata": {
        "id": "NmozUrrfJOm8"
      },
      "outputs": [],
      "source": [
        "set(range(1, 10)) - set([6, 1, 3, 2, 4, 9, 7, 3, 4, 2, 1, 3, 1, 5, 4, 9])"
      ]
    },
    {
      "cell_type": "code",
      "execution_count": null,
      "metadata": {
        "id": "tZ5f5cGbJOm9"
      },
      "outputs": [],
      "source": [
        "sudoku = [\n",
        "    [6, 0, 0, 1, 3, 2, 4, 0, 9],\n",
        "    [..]\n",
        "]"
      ]
    },
    {
      "cell_type": "markdown",
      "metadata": {
        "id": "uc6cci_wJOm9"
      },
      "source": [
        "![image.png](attachment:image.png)"
      ]
    },
    {
      "cell_type": "markdown",
      "metadata": {
        "id": "iHc1QnJ0JOm9"
      },
      "source": [
        "![image.png](attachment:image.png)"
      ]
    },
    {
      "cell_type": "code",
      "execution_count": null,
      "metadata": {
        "id": "VzUix9scJOm9"
      },
      "outputs": [],
      "source": [
        "def is_safe(board, row, col):\n",
        "#     print(\"is_safe\", row, col)\n",
        "    for i in range(8):\n",
        "        if board[i][col] == True:\n",
        "            return False\n",
        "\n",
        "    #check diagonally and anti-diagonally\n",
        "    # diagonal\n",
        "    i, j = row, col\n",
        "    while i >= 0 and j >= 0:\n",
        "        if board[i][j] == True:\n",
        "            return False\n",
        "        i -= 1\n",
        "        j -= 1\n",
        "\n",
        "    # anti diagonal\n",
        "    i, j = row, col\n",
        "    while i >= 0 and j < 8:\n",
        "        if board[i][j] == True:\n",
        "            return False\n",
        "        i -= 1\n",
        "        j += 1\n",
        "\n",
        "    return True"
      ]
    },
    {
      "cell_type": "code",
      "execution_count": null,
      "metadata": {
        "id": "OMs0XjEuJOm-"
      },
      "outputs": [],
      "source": [
        "def create_board():\n",
        "    board = []\n",
        "    for i in range(8):\n",
        "        row = []\n",
        "        for j in range(8):\n",
        "            row.append(False)\n",
        "        board.append(row)\n",
        "    return board"
      ]
    },
    {
      "cell_type": "code",
      "execution_count": null,
      "metadata": {
        "id": "c3Zddp0VJOm-"
      },
      "outputs": [],
      "source": [
        "# def is_safe(board, r, c):\n",
        "#     for i in range(8):\n",
        "#         if board[i][c]:\n",
        "#             return False\n",
        "#     for i in range(8):\n",
        "#         # TODO: fix\n",
        "\n",
        "def find_place_to_put_next(board, row):\n",
        "    result = []\n",
        "    for j in range(8):\n",
        "        if board[row][j] == False and is_safe(board, row, j):\n",
        "            result.append(j)\n",
        "    return result\n",
        "\n",
        "# eight queens problem\n",
        "def solve(board, num_of_queens=0):\n",
        "    if num_of_queens == 8:\n",
        "        print(board)\n",
        "        return True\n",
        "    positions = find_place_to_put_next(board, row=num_of_queens)\n",
        "    print(positions)\n",
        "    i = num_of_queens\n",
        "    for j in positions:\n",
        "        board[i][j] = True\n",
        "        solve(board, num_of_queens=num_of_queens+1)\n",
        "        board[i][j] = False"
      ]
    },
    {
      "cell_type": "code",
      "execution_count": null,
      "metadata": {
        "id": "WsXl0iXkJOm-"
      },
      "outputs": [],
      "source": [
        "board = create_board()"
      ]
    },
    {
      "cell_type": "code",
      "execution_count": null,
      "metadata": {
        "id": "KFxPSaPlJOm-"
      },
      "outputs": [],
      "source": [
        "solve(board)"
      ]
    },
    {
      "cell_type": "code",
      "execution_count": null,
      "metadata": {
        "id": "gb3h9LuRJOm-"
      },
      "outputs": [],
      "source": [
        "[[True, False, False, False, False, False, False, False],\n",
        " [False, False, False, False, False, True, False, False],\n",
        " [False, False, False, False, False, False, False, True],\n",
        " [False, False, True, False, False, False, False, False],\n",
        " [False, False, False, False, False, False, True, False],\n",
        " [False, False, False, True, False, False, False, False],\n",
        " [False, True, False, False, False, False, False, False],\n",
        " [False, False, False, False, True, False, False, False]]"
      ]
    },
    {
      "cell_type": "markdown",
      "metadata": {
        "id": "TenGgN5YJOm-"
      },
      "source": [
        "![image.png](attachment:image.png)"
      ]
    },
    {
      "cell_type": "code",
      "execution_count": null,
      "metadata": {
        "id": "W8TGXVyLJOm-"
      },
      "outputs": [],
      "source": [
        "tup = (1,\"sandeep\", 4)"
      ]
    },
    {
      "cell_type": "code",
      "execution_count": null,
      "metadata": {
        "id": "I3VM1GgXJOm-"
      },
      "outputs": [],
      "source": [
        "tup"
      ]
    },
    {
      "cell_type": "code",
      "execution_count": null,
      "metadata": {
        "id": "2m4GLTxXJOm-"
      },
      "outputs": [],
      "source": [
        "d = {\"name\":\"sandeep\"}"
      ]
    },
    {
      "cell_type": "code",
      "execution_count": null,
      "metadata": {
        "id": "X5TA2g7nJOm-"
      },
      "outputs": [],
      "source": [
        "d"
      ]
    },
    {
      "cell_type": "code",
      "execution_count": null,
      "metadata": {
        "id": "_RpFn_sCJOm_"
      },
      "outputs": [],
      "source": [
        "class MyClass:\n",
        "    i = 12345\n",
        "\n",
        "    def f(o):\n",
        "        return 'hello world'"
      ]
    },
    {
      "cell_type": "code",
      "execution_count": null,
      "metadata": {
        "id": "w7GTukEtJOm_"
      },
      "outputs": [],
      "source": [
        "o1 = MyClass()"
      ]
    },
    {
      "cell_type": "code",
      "execution_count": null,
      "metadata": {
        "id": "k2xmVKe7JOm_"
      },
      "outputs": [],
      "source": [
        "o1.i"
      ]
    },
    {
      "cell_type": "code",
      "execution_count": null,
      "metadata": {
        "id": "d0hiqNUzJOm_"
      },
      "outputs": [],
      "source": [
        "o2 = MyClass()"
      ]
    },
    {
      "cell_type": "code",
      "execution_count": null,
      "metadata": {
        "id": "vGkRT09ZJOnA"
      },
      "outputs": [],
      "source": [
        "o2.i = 10"
      ]
    },
    {
      "cell_type": "code",
      "execution_count": null,
      "metadata": {
        "id": "sHB81eVyJOnA"
      },
      "outputs": [],
      "source": [
        "o2.i"
      ]
    },
    {
      "cell_type": "code",
      "execution_count": null,
      "metadata": {
        "id": "poIoepFlJOnA"
      },
      "outputs": [],
      "source": [
        "o1.i"
      ]
    },
    {
      "cell_type": "code",
      "execution_count": null,
      "metadata": {
        "id": "xfizr3B9JOnA"
      },
      "outputs": [],
      "source": [
        "class Point:\n",
        "    x = 0\n",
        "    y = 0\n",
        "    def add(self, p):\n",
        "        self.x += p.x\n",
        "        self.y += p.y"
      ]
    },
    {
      "cell_type": "code",
      "execution_count": null,
      "metadata": {
        "id": "ThcqnPq1JOnA"
      },
      "outputs": [],
      "source": [
        "p1 = Point()\n",
        "p1.x = 10\n",
        "p1.y = 20"
      ]
    },
    {
      "cell_type": "code",
      "execution_count": null,
      "metadata": {
        "id": "3TuuCuKoJOnA"
      },
      "outputs": [],
      "source": [
        "p2 = Point()\n",
        "p2.x = 40\n",
        "p2.y = 50\n"
      ]
    },
    {
      "cell_type": "code",
      "execution_count": null,
      "metadata": {
        "id": "u3bg-6ZZJOnA"
      },
      "outputs": [],
      "source": [
        "p1.add(p2)"
      ]
    },
    {
      "cell_type": "code",
      "execution_count": null,
      "metadata": {
        "id": "Y8r8gC6UJOnB"
      },
      "outputs": [],
      "source": [
        "p1.x"
      ]
    },
    {
      "cell_type": "code",
      "execution_count": null,
      "metadata": {
        "id": "vPu_8J2SJOnB"
      },
      "outputs": [],
      "source": [
        "p1.y"
      ]
    },
    {
      "cell_type": "code",
      "execution_count": null,
      "metadata": {
        "id": "2uGyfb45JOnB"
      },
      "outputs": [],
      "source": [
        "class Dog:\n",
        "    name = 'No Name Dog'\n",
        "    def bark(self):\n",
        "        print(f\"{self.name} is barking\")"
      ]
    },
    {
      "cell_type": "code",
      "execution_count": null,
      "metadata": {
        "id": "YCpT1M5CJOnB"
      },
      "outputs": [],
      "source": [
        "tommy = Dog()\n",
        "tommy.bark()"
      ]
    },
    {
      "cell_type": "code",
      "execution_count": null,
      "metadata": {
        "id": "lEZO31-BJOnB"
      },
      "outputs": [],
      "source": [
        "tommy.name = 'Tommy'\n",
        "tommy.bark()"
      ]
    },
    {
      "cell_type": "code",
      "execution_count": null,
      "metadata": {
        "id": "svIqr0ThJOnB"
      },
      "outputs": [],
      "source": [
        "jerry = Dog()\n",
        "jerry.name = 'Jerry'\n",
        "jerry.bark()"
      ]
    },
    {
      "cell_type": "code",
      "execution_count": null,
      "metadata": {
        "id": "fM51ydVOJOnB"
      },
      "outputs": [],
      "source": [
        "tommy.bark(), jerry.bark()"
      ]
    },
    {
      "cell_type": "code",
      "execution_count": null,
      "metadata": {
        "id": "_oF4r8a5JOnB"
      },
      "outputs": [],
      "source": [
        "class Dog:\n",
        "    name = 'No Name Dog'\n",
        "    def __init__(self, name):\n",
        "        self.name = name\n",
        "    def bark(self):\n",
        "        print(f\"{self.name} is barking\")"
      ]
    },
    {
      "cell_type": "code",
      "execution_count": null,
      "metadata": {
        "id": "Kc10n5jwJOnB"
      },
      "outputs": [],
      "source": [
        "class Animal:\n",
        "    name = 'No name'\n",
        "    hunger = 10\n",
        "    def eat(self, food): #object level\n",
        "        self.hunger -= food\n",
        "        print(f\"{self.name} ate {food}. Now, hunger: {self.hunger}\")\n",
        "    def speak(): # class level\n",
        "        print(\".\")"
      ]
    },
    {
      "cell_type": "code",
      "execution_count": null,
      "metadata": {
        "id": "8luCtqR4JOnB"
      },
      "outputs": [],
      "source": [
        "a = Animal()"
      ]
    },
    {
      "cell_type": "code",
      "execution_count": null,
      "metadata": {
        "id": "P3I9r7SYJOnC"
      },
      "outputs": [],
      "source": [
        "a.eat(10)"
      ]
    },
    {
      "cell_type": "code",
      "execution_count": null,
      "metadata": {
        "id": "h-p4KAHyJOnC"
      },
      "outputs": [],
      "source": [
        "a.hunger"
      ]
    },
    {
      "cell_type": "code",
      "execution_count": null,
      "metadata": {
        "id": "JfY7NWGzJOnC"
      },
      "outputs": [],
      "source": [
        "b = Animal()"
      ]
    },
    {
      "cell_type": "code",
      "execution_count": null,
      "metadata": {
        "id": "oH7SqqMVJOnC"
      },
      "outputs": [],
      "source": [
        "b.hunger"
      ]
    },
    {
      "cell_type": "code",
      "execution_count": null,
      "metadata": {
        "id": "j5_PPQiEJOnC"
      },
      "outputs": [],
      "source": [
        "a.speak() # speak(a)"
      ]
    },
    {
      "cell_type": "code",
      "execution_count": null,
      "metadata": {
        "id": "96b5THHeJOnC"
      },
      "outputs": [],
      "source": [
        "Animal.speak()"
      ]
    },
    {
      "cell_type": "code",
      "execution_count": null,
      "metadata": {
        "id": "ezQCFgh9JOnC"
      },
      "outputs": [],
      "source": [
        "a = Animal()\n",
        "Animal.eat(a, 100)"
      ]
    },
    {
      "cell_type": "code",
      "execution_count": null,
      "metadata": {
        "id": "bP6H8oWYJOnC"
      },
      "outputs": [],
      "source": [
        "b = Animal()\n",
        "b.eat(100)"
      ]
    },
    {
      "cell_type": "code",
      "execution_count": null,
      "metadata": {
        "id": "cGklNMAKJOnC"
      },
      "outputs": [],
      "source": [
        "class EightQueenSolver:\n",
        "    board = []\n",
        "    def __init__():\n",
        "        ...\n",
        "    def solve(self):\n",
        "        self.board.."
      ]
    },
    {
      "cell_type": "code",
      "execution_count": null,
      "metadata": {
        "id": "wDQNwtciJOnC"
      },
      "outputs": [],
      "source": [
        "class Dog:\n",
        "    def __init__(self, name, breed, age):\n",
        "        self.name = name.upper()\n",
        "        self.breed = breed\n",
        "        self.age = age + 3\n",
        "    def bark(self):\n",
        "        print(f\"{self.name} is barking\")\n",
        "    def __repr__(s):\n",
        "        return f\"{s.name} / {s.age} / {s.breed}\""
      ]
    },
    {
      "cell_type": "code",
      "execution_count": null,
      "metadata": {
        "id": "XkjPdkSQJOnC"
      },
      "outputs": [],
      "source": [
        "tommy = Dog('Tommy', 'p', 10)\n",
        "tommy.name"
      ]
    },
    {
      "cell_type": "code",
      "execution_count": null,
      "metadata": {
        "id": "Vpw-yYY5JOnC"
      },
      "outputs": [],
      "source": [
        "tommy.breed"
      ]
    },
    {
      "cell_type": "code",
      "execution_count": null,
      "metadata": {
        "id": "dnwdqqfbJOnD"
      },
      "outputs": [],
      "source": [
        "tommy.age"
      ]
    },
    {
      "cell_type": "code",
      "execution_count": null,
      "metadata": {
        "id": "Sk2V77ejJOnD"
      },
      "outputs": [],
      "source": [
        "tommy"
      ]
    },
    {
      "cell_type": "code",
      "execution_count": null,
      "metadata": {
        "id": "btE9HdFqJOnD"
      },
      "outputs": [],
      "source": [
        "str(tommy)"
      ]
    },
    {
      "cell_type": "code",
      "execution_count": null,
      "metadata": {
        "id": "HhvovrjKJOnD"
      },
      "outputs": [],
      "source": [
        "dir(tommy)"
      ]
    },
    {
      "cell_type": "code",
      "execution_count": null,
      "metadata": {
        "id": "Doh9P-l-JOnD"
      },
      "outputs": [],
      "source": [
        "class Animal:\n",
        "    name = 'No name'\n",
        "    hunger = 10\n",
        "    def eat(self, food): #object level\n",
        "        self.hunger -= food\n",
        "        print(f\"{self.name} ate {food}. Now, hunger: {self.hunger}\")\n",
        "    def speak(self):\n",
        "        print(None)"
      ]
    },
    {
      "cell_type": "code",
      "execution_count": null,
      "metadata": {
        "id": "SvkbQKRzJOnD"
      },
      "outputs": [],
      "source": [
        "class Dog(Animal):\n",
        "    def __init__(self, name, breed, age):\n",
        "        self.name = name.upper()\n",
        "        self.breed = breed\n",
        "        self.age = age + 3\n",
        "    def bark(self):\n",
        "        print(f\"{self.name} is barking\")\n",
        "    def speak(self):\n",
        "        self.bark()\n",
        "    def __repr__(s):\n",
        "        return f\"{s.name} / {s.age} / {s.breed}\""
      ]
    },
    {
      "cell_type": "code",
      "execution_count": null,
      "metadata": {
        "id": "w0MDzW8jJOnD"
      },
      "outputs": [],
      "source": [
        "# Inheritance"
      ]
    },
    {
      "cell_type": "code",
      "execution_count": null,
      "metadata": {
        "id": "grdvgtNEJOnD"
      },
      "outputs": [],
      "source": [
        "d = Dog('Tommy', 'B', 10)"
      ]
    },
    {
      "cell_type": "code",
      "execution_count": null,
      "metadata": {
        "id": "TK5AqaY0JOnD"
      },
      "outputs": [],
      "source": [
        "d.name"
      ]
    },
    {
      "cell_type": "code",
      "execution_count": null,
      "metadata": {
        "id": "HyykvHdCJOnD"
      },
      "outputs": [],
      "source": [
        "d.hunger"
      ]
    },
    {
      "cell_type": "code",
      "execution_count": null,
      "metadata": {
        "id": "UcEfAL70JOnE"
      },
      "outputs": [],
      "source": [
        "d.eat(5)"
      ]
    },
    {
      "cell_type": "code",
      "execution_count": null,
      "metadata": {
        "id": "ptpmmleeJOnE"
      },
      "outputs": [],
      "source": [
        "Dog.speak()"
      ]
    },
    {
      "cell_type": "code",
      "execution_count": null,
      "metadata": {
        "id": "oM4mv2JHJOnE"
      },
      "outputs": [],
      "source": [
        "class Cat(Animal):\n",
        "    def __init__(self, name, owner, age):\n",
        "        self.name = name.upper()\n",
        "        self.owner = owner\n",
        "        self.age = age + 1\n",
        "    def purr(self):\n",
        "        print(f\"{self.name} is purring\")\n",
        "    def speak(self):\n",
        "        self.purr()"
      ]
    },
    {
      "cell_type": "code",
      "execution_count": null,
      "metadata": {
        "id": "R69Yc1K9JOnE"
      },
      "outputs": [],
      "source": [
        "c = Cat('tom', 'SG', 1)\n",
        "c"
      ]
    },
    {
      "cell_type": "code",
      "execution_count": null,
      "metadata": {
        "id": "tvSrlyWZJOnE"
      },
      "outputs": [],
      "source": [
        "d"
      ]
    },
    {
      "cell_type": "code",
      "execution_count": null,
      "metadata": {
        "id": "kE3rBxxSJOnE"
      },
      "outputs": [],
      "source": [
        "animals = [c, d]\n",
        "for animal in animals:\n",
        "    animal.eat(10)\n",
        "    if isinstance(animal, Dog):\n",
        "        animal.bark()\n",
        "    else:\n",
        "        animal.purr()"
      ]
    },
    {
      "cell_type": "code",
      "execution_count": null,
      "metadata": {
        "id": "hUaYGD5nJOnE"
      },
      "outputs": [],
      "source": [
        "type(c), type(d)"
      ]
    },
    {
      "cell_type": "code",
      "execution_count": null,
      "metadata": {
        "id": "Cf3QZoDLJOnE"
      },
      "outputs": [],
      "source": []
    },
    {
      "cell_type": "code",
      "execution_count": null,
      "metadata": {
        "id": "t2Uy1xhmJOnE"
      },
      "outputs": [],
      "source": [
        "animals = [c, d]\n",
        "for animal in animals:\n",
        "    animal.eat(10)\n",
        "    animal.speak()"
      ]
    },
    {
      "cell_type": "code",
      "execution_count": null,
      "metadata": {
        "id": "-_geair6JOnE"
      },
      "outputs": [],
      "source": [
        "print(__name__)"
      ]
    },
    {
      "cell_type": "code",
      "execution_count": null,
      "metadata": {
        "id": "pXHsflTRJOnF"
      },
      "outputs": [],
      "source": [
        "class Node:\n",
        "    def __init__(self, val):\n",
        "        self.data = val\n",
        "        self.L = None\n",
        "        self.R = None"
      ]
    },
    {
      "cell_type": "code",
      "execution_count": null,
      "metadata": {
        "id": "T6XrcBLQJOnF"
      },
      "outputs": [],
      "source": [
        "root = Node(10)"
      ]
    },
    {
      "cell_type": "code",
      "execution_count": null,
      "metadata": {
        "id": "mMUv0E6LJOnF"
      },
      "outputs": [],
      "source": [
        "root.data"
      ]
    },
    {
      "cell_type": "code",
      "execution_count": null,
      "metadata": {
        "id": "9BYyyXn7JOnF"
      },
      "outputs": [],
      "source": [
        "_1 = Node(-1)\n",
        "_2 = Node(-30)"
      ]
    },
    {
      "cell_type": "code",
      "execution_count": null,
      "metadata": {
        "id": "RT231fawJOnF"
      },
      "outputs": [],
      "source": [
        "root.L = _1\n",
        "root.R = _2"
      ]
    },
    {
      "cell_type": "code",
      "execution_count": null,
      "metadata": {
        "id": "-FR8sCCnJOnF"
      },
      "outputs": [],
      "source": [
        "root.data"
      ]
    },
    {
      "cell_type": "code",
      "execution_count": null,
      "metadata": {
        "id": "F_DRPbXcJOnF"
      },
      "outputs": [],
      "source": [
        "root.L.data"
      ]
    },
    {
      "cell_type": "code",
      "execution_count": null,
      "metadata": {
        "id": "QLHV5blbJOnF"
      },
      "outputs": [],
      "source": [
        "root.R.data"
      ]
    },
    {
      "cell_type": "code",
      "execution_count": null,
      "metadata": {
        "id": "n67H-zC3JOnF"
      },
      "outputs": [],
      "source": [
        "_1.L = Node(15)\n",
        "_1.R = Node(20)"
      ]
    },
    {
      "cell_type": "code",
      "execution_count": null,
      "metadata": {
        "id": "gYDBBgkwJOnF"
      },
      "outputs": [],
      "source": [
        "root"
      ]
    },
    {
      "cell_type": "code",
      "execution_count": null,
      "metadata": {
        "id": "gW2oFay4JOnF"
      },
      "outputs": [],
      "source": [
        "root.data"
      ]
    },
    {
      "cell_type": "code",
      "execution_count": null,
      "metadata": {
        "id": "95NReNtnJOnF"
      },
      "outputs": [],
      "source": [
        "root.L.data"
      ]
    },
    {
      "cell_type": "code",
      "execution_count": null,
      "metadata": {
        "id": "king0ERAJOnG"
      },
      "outputs": [],
      "source": [
        "root.L.L.data"
      ]
    },
    {
      "cell_type": "code",
      "execution_count": null,
      "metadata": {
        "id": "0MhfeGK-JOnG"
      },
      "outputs": [],
      "source": [
        "root.L.R.data"
      ]
    },
    {
      "cell_type": "code",
      "execution_count": null,
      "metadata": {
        "id": "mHE4p0IpJOnG"
      },
      "outputs": [],
      "source": [
        "root.printtree()"
      ]
    },
    {
      "cell_type": "code",
      "execution_count": null,
      "metadata": {
        "id": "bzNrIIdCJOnG"
      },
      "outputs": [],
      "source": [
        "class Node:\n",
        "    def __init__(self, val):\n",
        "        self.data = val\n",
        "        self.L = None\n",
        "        self.R = None\n",
        "    def printtree(self):\n",
        "        if self.L != None:\n",
        "            self.L.printtree()\n",
        "        print(self.data)\n",
        "        if self.R != None:\n",
        "            self.R.printtree()\n",
        "    def minval(self):\n",
        "        # TODO:\n",
        "    def maxval(self):\n",
        "        # TODO:"
      ]
    },
    {
      "cell_type": "code",
      "execution_count": null,
      "metadata": {
        "id": "gx884KDyJOnG"
      },
      "outputs": [],
      "source": [
        "root = Node(10)\n",
        "_1 = Node(-1)\n",
        "_1.L = Node(15)\n",
        "_1.R = Node(20)\n",
        "\n",
        "_2 = Node(-30)\n",
        "root.L = _1\n",
        "root.R = _2\n"
      ]
    },
    {
      "cell_type": "code",
      "execution_count": null,
      "metadata": {
        "id": "HkharDzfJOnG"
      },
      "outputs": [],
      "source": [
        "root.printtree()"
      ]
    },
    {
      "cell_type": "code",
      "execution_count": null,
      "metadata": {
        "id": "mgqs-9I5JOnG"
      },
      "outputs": [],
      "source": [
        "# A decision Tree is a tool to help you make decision"
      ]
    },
    {
      "cell_type": "code",
      "execution_count": null,
      "metadata": {
        "id": "-XZawMWzJOnG"
      },
      "outputs": [],
      "source": [
        "# Create a decision tree to select or reject a job offer.\n",
        "# A job offer has criterias: salary=456, distance=45, cofee=1, is nightshift\n",
        "# Every Node is either a decision Yes or No\n",
        "# Or the node boundary:\n",
        "    criteria - salary\n",
        "    value   - 1000\n",
        "# You go to left side of the node, if criteria <= value\n",
        "# You go to the fight of the node, if criteria > value\n",
        "\n",
        "dt = DecisionTreeNode()\n",
        "dt.boundary = \"salary\"\n",
        "dr.boundary_value = 1000\n",
        "dt.left = NO()\n",
        "minimal_job = DecisionTreeNode()\n",
        "dt.right = minimal_job\n",
        "minimal_job.boundary = 'distance'\n",
        "minimal_job.boundary_value = 40\n",
        "minimal_job.left = YES()\n",
        "minimal_job.right = NO()\n",
        "...\n",
        "...\n",
        "\n",
        "job_description = {\n",
        "    \"salary\": 1000,\n",
        "    \"distance\": 45,\n",
        "    \"coffe\": 1\n",
        "}\n",
        "job_dt.check(job_desciption) # Return True or False\n"
      ]
    }
  ],
  "metadata": {
    "kernelspec": {
      "display_name": "Python 3",
      "language": "python",
      "name": "python3"
    },
    "language_info": {
      "codemirror_mode": {
        "name": "ipython",
        "version": 3
      },
      "file_extension": ".py",
      "mimetype": "text/x-python",
      "name": "python",
      "nbconvert_exporter": "python",
      "pygments_lexer": "ipython3",
      "version": "3.6.8"
    },
    "toc": {
      "base_numbering": 1,
      "nav_menu": {},
      "number_sections": true,
      "sideBar": true,
      "skip_h1_title": false,
      "title_cell": "Table of Contents",
      "title_sidebar": "Contents",
      "toc_cell": false,
      "toc_position": {},
      "toc_section_display": true,
      "toc_window_display": false
    },
    "colab": {
      "provenance": []
    }
  },
  "nbformat": 4,
  "nbformat_minor": 0
}