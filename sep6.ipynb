{
  "cells": [
    {
      "cell_type": "code",
      "execution_count": null,
      "metadata": {
        "id": "AF66-FieJx3V"
      },
      "outputs": [],
      "source": [
        "# https://www.techiedelight.com/recursion-practice-problems-with-solutions/"
      ]
    },
    {
      "cell_type": "code",
      "execution_count": null,
      "metadata": {
        "id": "uCUR0S_2Jx3W",
        "outputId": "1b3a3da3-ebc6-4812-ae3f-69c978b32b53"
      },
      "outputs": [
        {
          "data": {
            "text/plain": [
              "'a'"
            ]
          },
          "execution_count": 1,
          "metadata": {},
          "output_type": "execute_result"
        }
      ],
      "source": [
        "s = 'ab'\n",
        "s[:-1]"
      ]
    },
    {
      "cell_type": "code",
      "execution_count": null,
      "metadata": {
        "id": "FJapte3wJx3X",
        "outputId": "aae93753-33fe-47d6-82c9-0b3450c0759f"
      },
      "outputs": [
        {
          "data": {
            "text/plain": [
              "'abc'"
            ]
          },
          "execution_count": 5,
          "metadata": {},
          "output_type": "execute_result"
        }
      ],
      "source": [
        "perm = 'ab'\n",
        "ll = 'c'\n",
        "i = 2\n",
        "perm[:i] + ll + perm[i:]"
      ]
    },
    {
      "cell_type": "code",
      "execution_count": null,
      "metadata": {
        "id": "JgSMIeo_Jx3X"
      },
      "outputs": [],
      "source": [
        "# chars = 'a',\n",
        "# perms = ['a']\n",
        "\n",
        "# chars = 'ab'\n",
        "# perms = ['ab', 'ba']\n",
        "\n",
        "# chars = 'abc'\n",
        "# perms = [['cab', ]]\n",
        "def permute(chars):\n",
        "    print('args:', chars)\n",
        "    if len(chars) == 1:\n",
        "        return [chars]\n",
        "    perms = permute(chars[:-1])\n",
        "    ll = chars[-1]\n",
        "    new_perms = []\n",
        "    for perm in perms:\n",
        "        for i in range(len(perm)+1):\n",
        "            new_p = perm[:i] + ll + perm[i:]\n",
        "            new_perms.append(new_p)\n",
        "    return new_perms"
      ]
    },
    {
      "cell_type": "code",
      "execution_count": null,
      "metadata": {
        "id": "_dtY4pbmJx3X",
        "outputId": "5a68962f-5e75-49fc-a7ca-0a35f07a71ef"
      },
      "outputs": [
        {
          "name": "stdout",
          "output_type": "stream",
          "text": [
            "args: a\n"
          ]
        },
        {
          "data": {
            "text/plain": [
              "['a']"
            ]
          },
          "execution_count": 12,
          "metadata": {},
          "output_type": "execute_result"
        }
      ],
      "source": [
        "permute('a')"
      ]
    },
    {
      "cell_type": "code",
      "execution_count": null,
      "metadata": {
        "id": "EwPGV68KJx3X",
        "outputId": "762552f1-5b59-4a63-eb66-f79308a99552"
      },
      "outputs": [
        {
          "data": {
            "text/plain": [
              "['ba', 'ab']"
            ]
          },
          "execution_count": 9,
          "metadata": {},
          "output_type": "execute_result"
        }
      ],
      "source": [
        "permute('ab')"
      ]
    },
    {
      "cell_type": "code",
      "execution_count": null,
      "metadata": {
        "id": "Rr5W2c0OJx3Y",
        "outputId": "dc428c9b-8e75-405d-f155-275d1034ef70"
      },
      "outputs": [
        {
          "name": "stdout",
          "output_type": "stream",
          "text": [
            "args: abc\n",
            "args: ab\n",
            "args: a\n"
          ]
        },
        {
          "data": {
            "text/plain": [
              "['cba', 'bca', 'bac', 'cab', 'acb', 'abc']"
            ]
          },
          "execution_count": 13,
          "metadata": {},
          "output_type": "execute_result"
        }
      ],
      "source": [
        "permute('abc')"
      ]
    },
    {
      "cell_type": "code",
      "execution_count": null,
      "metadata": {
        "id": "UVBCzr6sJx3Y",
        "outputId": "0724add7-08f9-4de5-d3dd-6df5040d03c9"
      },
      "outputs": [
        {
          "name": "stdout",
          "output_type": "stream",
          "text": [
            "args: abcd\n",
            "args: abc\n",
            "args: ab\n",
            "args: a\n"
          ]
        }
      ],
      "source": [
        "result = permute('abcd')"
      ]
    },
    {
      "cell_type": "code",
      "execution_count": null,
      "metadata": {
        "id": "bhIUoxh8Jx3Y",
        "outputId": "e13df9f7-4dc3-4215-a574-d0dbe2ff3bc7"
      },
      "outputs": [
        {
          "data": {
            "text/plain": [
              "['dcba',\n",
              " 'cdba',\n",
              " 'cbda',\n",
              " 'cbad',\n",
              " 'dbca',\n",
              " 'bdca',\n",
              " 'bcda',\n",
              " 'bcad',\n",
              " 'dbac',\n",
              " 'bdac',\n",
              " 'badc',\n",
              " 'bacd',\n",
              " 'dcab',\n",
              " 'cdab',\n",
              " 'cadb',\n",
              " 'cabd',\n",
              " 'dacb',\n",
              " 'adcb',\n",
              " 'acdb',\n",
              " 'acbd',\n",
              " 'dabc',\n",
              " 'adbc',\n",
              " 'abdc',\n",
              " 'abcd']"
            ]
          },
          "execution_count": 16,
          "metadata": {},
          "output_type": "execute_result"
        }
      ],
      "source": [
        "result"
      ]
    },
    {
      "cell_type": "code",
      "execution_count": null,
      "metadata": {
        "id": "ytQHbW3YJx3Y",
        "outputId": "10b5e9d1-fbda-4fde-de4e-114bbd17699a"
      },
      "outputs": [
        {
          "data": {
            "text/plain": [
              "24"
            ]
          },
          "execution_count": 17,
          "metadata": {},
          "output_type": "execute_result"
        }
      ],
      "source": [
        "len(result) # 4*3*2"
      ]
    },
    {
      "cell_type": "code",
      "execution_count": null,
      "metadata": {
        "id": "WnZMIGuUJx3Y",
        "outputId": "b5d92bad-2ead-4ae6-f3aa-a2c46575ef3e"
      },
      "outputs": [
        {
          "name": "stdout",
          "output_type": "stream",
          "text": [
            "args: abcde\n",
            "args: abcd\n",
            "args: abc\n",
            "args: ab\n",
            "args: a\n"
          ]
        }
      ],
      "source": [
        "result = permute('abcde')"
      ]
    },
    {
      "cell_type": "code",
      "execution_count": null,
      "metadata": {
        "id": "-mLcae1QJx3Y",
        "outputId": "70b2192e-4eed-4720-eeed-4a83362f74c7"
      },
      "outputs": [
        {
          "data": {
            "text/plain": [
              "['edcba',\n",
              " 'decba',\n",
              " 'dceba',\n",
              " 'dcbea',\n",
              " 'dcbae',\n",
              " 'ecdba',\n",
              " 'cedba',\n",
              " 'cdeba',\n",
              " 'cdbea',\n",
              " 'cdbae',\n",
              " 'ecbda',\n",
              " 'cebda',\n",
              " 'cbeda',\n",
              " 'cbdea',\n",
              " 'cbdae',\n",
              " 'ecbad',\n",
              " 'cebad',\n",
              " 'cbead',\n",
              " 'cbaed',\n",
              " 'cbade',\n",
              " 'edbca',\n",
              " 'debca',\n",
              " 'dbeca',\n",
              " 'dbcea',\n",
              " 'dbcae',\n",
              " 'ebdca',\n",
              " 'bedca',\n",
              " 'bdeca',\n",
              " 'bdcea',\n",
              " 'bdcae',\n",
              " 'ebcda',\n",
              " 'becda',\n",
              " 'bceda',\n",
              " 'bcdea',\n",
              " 'bcdae',\n",
              " 'ebcad',\n",
              " 'becad',\n",
              " 'bcead',\n",
              " 'bcaed',\n",
              " 'bcade',\n",
              " 'edbac',\n",
              " 'debac',\n",
              " 'dbeac',\n",
              " 'dbaec',\n",
              " 'dbace',\n",
              " 'ebdac',\n",
              " 'bedac',\n",
              " 'bdeac',\n",
              " 'bdaec',\n",
              " 'bdace',\n",
              " 'ebadc',\n",
              " 'beadc',\n",
              " 'baedc',\n",
              " 'badec',\n",
              " 'badce',\n",
              " 'ebacd',\n",
              " 'beacd',\n",
              " 'baecd',\n",
              " 'baced',\n",
              " 'bacde',\n",
              " 'edcab',\n",
              " 'decab',\n",
              " 'dceab',\n",
              " 'dcaeb',\n",
              " 'dcabe',\n",
              " 'ecdab',\n",
              " 'cedab',\n",
              " 'cdeab',\n",
              " 'cdaeb',\n",
              " 'cdabe',\n",
              " 'ecadb',\n",
              " 'ceadb',\n",
              " 'caedb',\n",
              " 'cadeb',\n",
              " 'cadbe',\n",
              " 'ecabd',\n",
              " 'ceabd',\n",
              " 'caebd',\n",
              " 'cabed',\n",
              " 'cabde',\n",
              " 'edacb',\n",
              " 'deacb',\n",
              " 'daecb',\n",
              " 'daceb',\n",
              " 'dacbe',\n",
              " 'eadcb',\n",
              " 'aedcb',\n",
              " 'adecb',\n",
              " 'adceb',\n",
              " 'adcbe',\n",
              " 'eacdb',\n",
              " 'aecdb',\n",
              " 'acedb',\n",
              " 'acdeb',\n",
              " 'acdbe',\n",
              " 'eacbd',\n",
              " 'aecbd',\n",
              " 'acebd',\n",
              " 'acbed',\n",
              " 'acbde',\n",
              " 'edabc',\n",
              " 'deabc',\n",
              " 'daebc',\n",
              " 'dabec',\n",
              " 'dabce',\n",
              " 'eadbc',\n",
              " 'aedbc',\n",
              " 'adebc',\n",
              " 'adbec',\n",
              " 'adbce',\n",
              " 'eabdc',\n",
              " 'aebdc',\n",
              " 'abedc',\n",
              " 'abdec',\n",
              " 'abdce',\n",
              " 'eabcd',\n",
              " 'aebcd',\n",
              " 'abecd',\n",
              " 'abced',\n",
              " 'abcde']"
            ]
          },
          "execution_count": 19,
          "metadata": {},
          "output_type": "execute_result"
        }
      ],
      "source": [
        "result"
      ]
    },
    {
      "cell_type": "code",
      "execution_count": null,
      "metadata": {
        "id": "HQnuQD4IJx3Y",
        "outputId": "c538c2de-8296-4be9-8d3a-3db8b3273992"
      },
      "outputs": [
        {
          "data": {
            "text/plain": [
              "120"
            ]
          },
          "execution_count": 20,
          "metadata": {},
          "output_type": "execute_result"
        }
      ],
      "source": [
        "len(result)"
      ]
    },
    {
      "cell_type": "code",
      "execution_count": null,
      "metadata": {
        "id": "ZOiSgSjpJx3Y"
      },
      "outputs": [],
      "source": [
        "# chars = 'a',\n",
        "# perms = ['a']\n",
        "\n",
        "# chars = 'ab'\n",
        "# perms = ['ab', 'ba']\n",
        "\n",
        "# chars = 'abc'\n",
        "# perms = [['cab', ]]\n",
        "def permute(chars):\n",
        "#     print('args:', chars)\n",
        "    if len(chars) == 1:\n",
        "        return [chars]\n",
        "    perms = permute(chars[:-1])\n",
        "    ll = chars[-1]\n",
        "    new_perms = []\n",
        "    for perm in perms:\n",
        "        for i in range(len(perm)+1):\n",
        "            new_p = perm[:i] + ll + perm[i:]\n",
        "            new_perms.append(new_p)\n",
        "    print(f\"Permulations of {chars}\")\n",
        "    print(new_perms)\n",
        "    print(\"-------------------------\")\n",
        "    return new_perms"
      ]
    },
    {
      "cell_type": "code",
      "execution_count": null,
      "metadata": {
        "id": "8Hzplg_5Jx3Y",
        "outputId": "f460e0b4-06de-4481-d2a1-a423f21fdb64"
      },
      "outputs": [
        {
          "data": {
            "text/plain": [
              "['a']"
            ]
          },
          "execution_count": 24,
          "metadata": {},
          "output_type": "execute_result"
        }
      ],
      "source": [
        "permute('a')"
      ]
    },
    {
      "cell_type": "code",
      "execution_count": null,
      "metadata": {
        "id": "-yE_Gb_xJx3Z",
        "outputId": "5fe5f69c-6969-4a86-fb80-9ed71ba7a6f6"
      },
      "outputs": [
        {
          "name": "stdout",
          "output_type": "stream",
          "text": [
            "Permulations of ab\n",
            "['ba', 'ab']\n",
            "-------------------------\n"
          ]
        },
        {
          "data": {
            "text/plain": [
              "['ba', 'ab']"
            ]
          },
          "execution_count": 25,
          "metadata": {},
          "output_type": "execute_result"
        }
      ],
      "source": [
        "permute('ab')"
      ]
    },
    {
      "cell_type": "code",
      "execution_count": null,
      "metadata": {
        "id": "hRvebhDtJx3Z",
        "outputId": "f5890e6b-319e-477d-c787-d28113acce9e"
      },
      "outputs": [
        {
          "name": "stdout",
          "output_type": "stream",
          "text": [
            "Permulations of ab\n",
            "['ba', 'ab']\n",
            "-------------------------\n",
            "Permulations of abc\n",
            "['cba', 'bca', 'bac', 'cab', 'acb', 'abc']\n",
            "-------------------------\n"
          ]
        },
        {
          "data": {
            "text/plain": [
              "['cba', 'bca', 'bac', 'cab', 'acb', 'abc']"
            ]
          },
          "execution_count": 26,
          "metadata": {},
          "output_type": "execute_result"
        }
      ],
      "source": [
        "permute('abc')"
      ]
    },
    {
      "cell_type": "code",
      "execution_count": null,
      "metadata": {
        "id": "Gs7ZT8zIJx3Z",
        "outputId": "87f2f86c-0297-4ad0-9d02-ab62e5d8a16d"
      },
      "outputs": [
        {
          "name": "stdout",
          "output_type": "stream",
          "text": [
            "Permulations of ab\n",
            "['ba', 'ab']\n",
            "-------------------------\n",
            "Permulations of abc\n",
            "['cba', 'bca', 'bac', 'cab', 'acb', 'abc']\n",
            "-------------------------\n",
            "Permulations of abcd\n",
            "['dcba', 'cdba', 'cbda', 'cbad', 'dbca', 'bdca', 'bcda', 'bcad', 'dbac', 'bdac', 'badc', 'bacd', 'dcab', 'cdab', 'cadb', 'cabd', 'dacb', 'adcb', 'acdb', 'acbd', 'dabc', 'adbc', 'abdc', 'abcd']\n",
            "-------------------------\n"
          ]
        },
        {
          "data": {
            "text/plain": [
              "['dcba',\n",
              " 'cdba',\n",
              " 'cbda',\n",
              " 'cbad',\n",
              " 'dbca',\n",
              " 'bdca',\n",
              " 'bcda',\n",
              " 'bcad',\n",
              " 'dbac',\n",
              " 'bdac',\n",
              " 'badc',\n",
              " 'bacd',\n",
              " 'dcab',\n",
              " 'cdab',\n",
              " 'cadb',\n",
              " 'cabd',\n",
              " 'dacb',\n",
              " 'adcb',\n",
              " 'acdb',\n",
              " 'acbd',\n",
              " 'dabc',\n",
              " 'adbc',\n",
              " 'abdc',\n",
              " 'abcd']"
            ]
          },
          "execution_count": 27,
          "metadata": {},
          "output_type": "execute_result"
        }
      ],
      "source": [
        "permute('abcd')"
      ]
    },
    {
      "cell_type": "code",
      "execution_count": null,
      "metadata": {
        "id": "mRQzjllwJx3Z"
      },
      "outputs": [],
      "source": [
        "# https://www.techiedelight.com/recursion-practice-problems-with-solutions/"
      ]
    },
    {
      "cell_type": "code",
      "execution_count": null,
      "metadata": {
        "id": "rbayyUffJx3Z"
      },
      "outputs": [],
      "source": [
        "# Solve Sudoku - Backtracking\n",
        "# sudoku is a 2d array 9x9\n",
        "# initially some of the elements are 0 representing blank. If there are no zeros, you are done.\n",
        "# find the first position having 0\n",
        "\n",
        "def solve(sudoku):\n",
        "    i, j = find_first_blank_position(sudoku)\n",
        "\n",
        "    # find a numbers that can be filled - candidates\n",
        "\n",
        "    candidates = find_numbers_to_fill(sudoku, i, j)\n",
        "    for candidate in candiates:\n",
        "        sudoku[i][j] = candidate\n",
        "        result = solve(sudoku)\n",
        "        if result == True:\n",
        "            return True\n",
        "        else:\n",
        "            sudoku[i][j] = 0\n",
        "    return False\n"
      ]
    },
    {
      "cell_type": "code",
      "execution_count": null,
      "metadata": {
        "id": "TtNa6iMmJx3Z",
        "outputId": "12e6066c-6975-4f4e-a8c1-82f3a3a7ea6e"
      },
      "outputs": [
        {
          "data": {
            "text/plain": [
              "{8}"
            ]
          },
          "execution_count": 33,
          "metadata": {},
          "output_type": "execute_result"
        }
      ],
      "source": [
        "set(range(1, 10)) - set([6, 1, 3, 2, 4, 9, 7, 3, 4, 2, 1, 3, 1, 5, 4, 9])"
      ]
    },
    {
      "cell_type": "code",
      "execution_count": null,
      "metadata": {
        "id": "C-FMx5O9Jx3Z"
      },
      "outputs": [],
      "source": [
        "sudoku = [\n",
        "    [6, 0, 0, 1, 3, 2, 4, 0, 9],\n",
        "    [..]\n",
        "]"
      ]
    },
    {
      "cell_type": "markdown",
      "metadata": {
        "id": "ftJEIcNYJx3Z"
      },
      "source": [
        "![image.png](attachment:image.png)"
      ]
    },
    {
      "cell_type": "markdown",
      "metadata": {
        "id": "6u951vlfJx3Z"
      },
      "source": [
        "![image.png](attachment:image.png)"
      ]
    },
    {
      "cell_type": "code",
      "execution_count": null,
      "metadata": {
        "id": "VmkUU7j_Jx3a"
      },
      "outputs": [],
      "source": [
        "def is_safe(board, row, col):\n",
        "#     print(\"is_safe\", row, col)\n",
        "    for i in range(8):\n",
        "        if board[i][col] == True:\n",
        "            return False\n",
        "\n",
        "    #check diagonally and anti-diagonally\n",
        "    # diagonal\n",
        "    i, j = row, col\n",
        "    while i >= 0 and j >= 0:\n",
        "        if board[i][j] == True:\n",
        "            return False\n",
        "        i -= 1\n",
        "        j -= 1\n",
        "\n",
        "    # anti diagonal\n",
        "    i, j = row, col\n",
        "    while i >= 0 and j < 8:\n",
        "        if board[i][j] == True:\n",
        "            return False\n",
        "        i -= 1\n",
        "        j += 1\n",
        "\n",
        "    return True"
      ]
    },
    {
      "cell_type": "code",
      "execution_count": null,
      "metadata": {
        "id": "ytAu1M59Jx3a"
      },
      "outputs": [],
      "source": [
        "def create_board():\n",
        "    board = []\n",
        "    for i in range(8):\n",
        "        row = []\n",
        "        for j in range(8):\n",
        "            row.append(False)\n",
        "        board.append(row)\n",
        "    return board"
      ]
    },
    {
      "cell_type": "code",
      "execution_count": null,
      "metadata": {
        "id": "ZsfJXtxBJx3a"
      },
      "outputs": [],
      "source": [
        "# def is_safe(board, r, c):\n",
        "#     for i in range(8):\n",
        "#         if board[i][c]:\n",
        "#             return False\n",
        "#     for i in range(8):\n",
        "#         # TODO: fix\n",
        "\n",
        "def find_place_to_put_next(board, row):\n",
        "    result = []\n",
        "    for j in range(8):\n",
        "        if board[row][j] == False and is_safe(board, row, j):\n",
        "            result.append(j)\n",
        "    return result\n",
        "\n",
        "# eight queens problem\n",
        "def solve(board, num_of_queens=0):\n",
        "    if num_of_queens == 8:\n",
        "        print(board)\n",
        "        return True\n",
        "    positions = find_place_to_put_next(board, row=num_of_queens)\n",
        "    print(positions)\n",
        "    i = num_of_queens\n",
        "    for j in positions:\n",
        "        board[i][j] = True\n",
        "        solve(board, num_of_queens=num_of_queens+1)\n",
        "        board[i][j] = False"
      ]
    },
    {
      "cell_type": "code",
      "execution_count": null,
      "metadata": {
        "id": "4Z0Oj_6CJx3a"
      },
      "outputs": [],
      "source": [
        "board = create_board()"
      ]
    },
    {
      "cell_type": "code",
      "execution_count": null,
      "metadata": {
        "id": "OZneZb9HJx3a",
        "outputId": "5f5e7a6a-11ef-438a-d572-e63e6e430065"
      },
      "outputs": [
        {
          "name": "stdout",
          "output_type": "stream",
          "text": [
            "[0, 1, 2, 3, 4, 5, 6, 7]\n",
            "[2, 3, 4, 5, 6, 7]\n",
            "[4, 5, 6, 7]\n",
            "[1, 6, 7]\n",
            "[3, 7]\n",
            "[]\n",
            "[]\n",
            "[1, 3]\n",
            "[3]\n",
            "[5]\n",
            "[]\n",
            "[]\n",
            "[1, 3]\n",
            "[3]\n",
            "[5]\n",
            "[]\n",
            "[]\n",
            "[1, 7]\n",
            "[6]\n",
            "[4]\n",
            "[]\n",
            "[1]\n",
            "[3, 4]\n",
            "[]\n",
            "[]\n",
            "[1]\n",
            "[3, 7]\n",
            "[7]\n",
            "[]\n",
            "[4]\n",
            "[]\n",
            "[1, 5]\n",
            "[3, 6]\n",
            "[]\n",
            "[]\n",
            "[1, 3]\n",
            "[]\n",
            "[1]\n",
            "[4]\n",
            "[]\n",
            "[1, 5, 6, 7]\n",
            "[4, 6, 7]\n",
            "[2, 7]\n",
            "[]\n",
            "[]\n",
            "[2]\n",
            "[]\n",
            "[2, 5]\n",
            "[6]\n",
            "[]\n",
            "[2]\n",
            "[]\n",
            "[2, 7]\n",
            "[]\n",
            "[1, 2]\n",
            "[4, 6]\n",
            "[2]\n",
            "[]\n",
            "[2]\n",
            "[]\n",
            "[4, 6]\n",
            "[]\n",
            "[]\n",
            "[2, 4]\n",
            "[5, 7]\n",
            "[1]\n",
            "[4]\n",
            "[]\n",
            "[1]\n",
            "[4]\n",
            "[]\n",
            "[1, 2, 7]\n",
            "[]\n",
            "[]\n",
            "[1]\n",
            "[]\n",
            "[2, 4]\n",
            "[]\n",
            "[1, 2]\n",
            "[]\n",
            "[]\n",
            "[1, 6, 7]\n",
            "[5, 7]\n",
            "[2]\n",
            "[6]\n",
            "[3]\n",
            "[]\n",
            "[2, 5]\n",
            "[6]\n",
            "[3]\n",
            "[]\n",
            "[2, 3]\n",
            "[]\n",
            "[]\n",
            "[1]\n",
            "[3, 5]\n",
            "[7]\n",
            "[]\n",
            "[2, 7]\n",
            "[]\n",
            "[]\n",
            "[1, 5]\n",
            "[3, 6]\n",
            "[6]\n",
            "[2]\n",
            "[]\n",
            "[2]\n",
            "[5]\n",
            "[]\n",
            "[2, 3]\n",
            "[6]\n",
            "[1]\n",
            "[3]\n",
            "[[True, False, False, False, False, False, False, False], [False, False, False, False, True, False, False, False], [False, False, False, False, False, False, False, True], [False, False, False, False, False, True, False, False], [False, False, True, False, False, False, False, False], [False, False, False, False, False, False, True, False], [False, True, False, False, False, False, False, False], [False, False, False, True, False, False, False, False]]\n",
            "[1, 6]\n",
            "[]\n",
            "[]\n",
            "[1, 3, 7]\n",
            "[4, 6]\n",
            "[6, 7]\n",
            "[3]\n",
            "[]\n",
            "[3]\n",
            "[]\n",
            "[]\n",
            "[1, 6]\n",
            "[6, 7]\n",
            "[2, 4]\n",
            "[]\n",
            "[2]\n",
            "[]\n",
            "[2, 4]\n",
            "[]\n",
            "[2]\n",
            "[]\n",
            "[]\n",
            "[1, 2, 4]\n",
            "[3, 6]\n",
            "[6]\n",
            "[2]\n",
            "[]\n",
            "[2]\n",
            "[]\n",
            "[6]\n",
            "[3]\n",
            "[1]\n",
            "[4]\n",
            "[[True, False, False, False, False, False, False, False], [False, False, False, False, False, True, False, False], [False, False, False, False, False, False, False, True], [False, False, True, False, False, False, False, False], [False, False, False, False, False, False, True, False], [False, False, False, True, False, False, False, False], [False, True, False, False, False, False, False, False], [False, False, False, False, True, False, False, False]]\n",
            "[1, 6]\n",
            "[3]\n",
            "[]\n",
            "[3]\n",
            "[]\n",
            "[1, 3, 4]\n",
            "[5, 7]\n",
            "[2, 7]\n",
            "[]\n",
            "[]\n",
            "[2, 5]\n",
            "[]\n",
            "[3]\n",
            "[]\n",
            "[1, 5, 7]\n",
            "[7]\n",
            "[4]\n",
            "[2]\n",
            "[]\n",
            "[2, 7]\n",
            "[4]\n",
            "[]\n",
            "[1, 4]\n",
            "[4]\n",
            "[2]\n",
            "[[True, False, False, False, False, False, False, False], [False, False, False, False, False, False, True, False], [False, False, False, True, False, False, False, False], [False, False, False, False, False, True, False, False], [False, False, False, False, False, False, False, True], [False, True, False, False, False, False, False, False], [False, False, False, False, True, False, False, False], [False, False, True, False, False, False, False, False]]\n",
            "[]\n",
            "[2]\n",
            "[4]\n",
            "[]\n",
            "[1, 2, 7]\n",
            "[5, 7]\n",
            "[]\n",
            "[]\n",
            "[5, 7]\n",
            "[3]\n",
            "[]\n",
            "[3]\n",
            "[]\n",
            "[1, 5]\n",
            "[3]\n",
            "[5]\n",
            "[2]\n",
            "[[True, False, False, False, False, False, False, False], [False, False, False, False, False, False, True, False], [False, False, False, False, True, False, False, False], [False, False, False, False, False, False, False, True], [False, True, False, False, False, False, False, False], [False, False, False, True, False, False, False, False], [False, False, False, False, False, True, False, False], [False, False, True, False, False, False, False, False]]\n",
            "[3]\n",
            "[]\n",
            "[1, 3, 4, 5]\n",
            "[4, 6]\n",
            "[2, 6]\n",
            "[]\n",
            "[]\n",
            "[2]\n",
            "[]\n",
            "[1, 6]\n",
            "[6]\n",
            "[2, 4]\n",
            "[5]\n",
            "[]\n",
            "[]\n",
            "[2]\n",
            "[]\n",
            "[1, 2, 6]\n",
            "[3, 5]\n",
            "[6]\n",
            "[]\n",
            "[2]\n",
            "[]\n",
            "[5]\n",
            "[]\n",
            "[1, 3]\n",
            "[]\n",
            "[]\n",
            "[1, 2]\n",
            "[6]\n",
            "[4]\n",
            "[]\n",
            "[6]\n",
            "[1]\n",
            "[3]\n",
            "[]\n",
            "[3, 4, 5, 6, 7]\n",
            "[0, 5, 6, 7]\n",
            "[2, 6, 7]\n",
            "[4, 7]\n",
            "[]\n",
            "[5]\n",
            "[]\n",
            "[4]\n",
            "[2]\n",
            "[5]\n",
            "[]\n",
            "[4]\n",
            "[2]\n",
            "[5]\n",
            "[]\n",
            "[0, 2, 7]\n",
            "[2, 4]\n",
            "[4]\n",
            "[6]\n",
            "[]\n",
            "[]\n",
            "[4]\n",
            "[]\n",
            "[2, 4]\n",
            "[0, 4]\n",
            "[6]\n",
            "[4]\n",
            "[[False, True, False, False, False, False, False, False], [False, False, False, True, False, False, False, False], [False, False, False, False, False, True, False, False], [False, False, False, False, False, False, False, True], [False, False, True, False, False, False, False, False], [True, False, False, False, False, False, False, False], [False, False, False, False, False, False, True, False], [False, False, False, False, True, False, False, False]]\n",
            "[6]\n",
            "[]\n",
            "[0]\n",
            "[]\n",
            "[0, 2]\n",
            "[2, 7]\n",
            "[4, 5]\n",
            "[]\n",
            "[]\n",
            "[4, 5]\n",
            "[]\n",
            "[]\n",
            "[7]\n",
            "[5]\n",
            "[0]\n",
            "[]\n",
            "[0, 2]\n",
            "[2, 4]\n",
            "[5]\n",
            "[]\n",
            "[]\n",
            "[4]\n",
            "[]\n",
            "[0, 2, 6, 7]\n",
            "[3, 5, 7]\n",
            "[6]\n",
            "[2]\n",
            "[5]\n",
            "[]\n",
            "[3]\n",
            "[]\n",
            "[3]\n",
            "[]\n",
            "[0, 5, 7]\n",
            "[3, 6]\n",
            "[7]\n",
            "[]\n",
            "[3]\n",
            "[5]\n",
            "[]\n",
            "[3]\n",
            "[]\n",
            "[3]\n",
            "[]\n",
            "[0, 3]\n",
            "[2, 3]\n",
            "[5, 7]\n",
            "[]\n",
            "[5]\n",
            "[3]\n",
            "[[False, True, False, False, False, False, False, False], [False, False, False, False, True, False, False, False], [False, False, False, False, False, False, True, False], [True, False, False, False, False, False, False, False], [False, False, True, False, False, False, False, False], [False, False, False, False, False, False, False, True], [False, False, False, False, False, True, False, False], [False, False, False, True, False, False, False, False]]\n",
            "[5, 7]\n",
            "[]\n",
            "[]\n",
            "[0]\n",
            "[2, 7]\n",
            "[5]\n",
            "[]\n",
            "[5]\n",
            "[2]\n",
            "[[False, True, False, False, False, False, False, False], [False, False, False, False, True, False, False, False], [False, False, False, False, False, False, True, False], [False, False, False, True, False, False, False, False], [True, False, False, False, False, False, False, False], [False, False, False, False, False, False, False, True], [False, False, False, False, False, True, False, False], [False, False, True, False, False, False, False, False]]\n",
            "[0, 3, 5]\n",
            "[2, 3, 6]\n",
            "[5]\n",
            "[]\n",
            "[5]\n",
            "[2]\n",
            "[]\n",
            "[3]\n",
            "[5]\n",
            "[]\n",
            "[0, 6]\n",
            "[2]\n",
            "[5]\n",
            "[]\n",
            "[2]\n",
            "[5]\n",
            "[]\n",
            "[0, 2, 3]\n",
            "[2]\n",
            "[6]\n",
            "[]\n",
            "[]\n",
            "[]\n",
            "[0, 2, 7]\n",
            "[2, 6]\n",
            "[4, 6, 7]\n",
            "[7]\n",
            "[3]\n",
            "[]\n",
            "[]\n",
            "[]\n",
            "[3, 4]\n",
            "[7]\n",
            "[2]\n",
            "[4]\n",
            "[[False, True, False, False, False, False, False, False], [False, False, False, False, False, True, False, False], [True, False, False, False, False, False, False, False], [False, False, False, False, False, False, True, False], [False, False, False, True, False, False, False, False], [False, False, False, False, False, False, False, True], [False, False, True, False, False, False, False, False], [False, False, False, False, True, False, False, False]]\n",
            "[2, 7]\n",
            "[]\n",
            "[]\n",
            "[0, 6]\n",
            "[3, 6, 7]\n",
            "[7]\n",
            "[4]\n",
            "[]\n",
            "[3, 4]\n",
            "[]\n",
            "[]\n",
            "[3, 4]\n",
            "[]\n",
            "[]\n",
            "[3]\n",
            "[0, 7]\n",
            "[4]\n",
            "[]\n",
            "[4]\n",
            "[]\n",
            "[0, 2]\n",
            "[3, 4, 6]\n",
            "[]\n",
            "[]\n",
            "[3]\n",
            "[]\n",
            "[0, 4, 6]\n",
            "[3]\n",
            "[6]\n",
            "[4]\n",
            "[[False, True, False, False, False, False, False, False], [False, False, False, False, False, True, False, False], [False, False, False, False, False, False, False, True], [False, False, True, False, False, False, False, False], [True, False, False, False, False, False, False, False], [False, False, False, True, False, False, False, False], [False, False, False, False, False, False, True, False], [False, False, False, False, True, False, False, False]]\n",
            "[]\n",
            "[3]\n",
            "[]\n",
            "[0, 2, 4]\n",
            "[2, 3, 5, 7]\n",
            "[4, 7]\n",
            "[7]\n",
            "[3]\n",
            "[]\n",
            "[5]\n",
            "[3]\n",
            "[]\n",
            "[7]\n",
            "[4]\n",
            "[2]\n",
            "[]\n",
            "[7]\n",
            "[4]\n",
            "[]\n",
            "[4]\n",
            "[]\n",
            "[0, 5, 7]\n",
            "[7]\n",
            "[3, 4]\n",
            "[]\n",
            "[]\n",
            "[7]\n",
            "[0, 4]\n",
            "[3, 4]\n",
            "[]\n",
            "[]\n",
            "[0]\n",
            "[3]\n",
            "[[False, True, False, False, False, False, False, False], [False, False, False, False, False, False, True, False], [False, False, True, False, False, False, False, False], [False, False, False, False, False, True, False, False], [False, False, False, False, False, False, False, True], [False, False, False, False, True, False, False, False], [True, False, False, False, False, False, False, False], [False, False, False, True, False, False, False, False]]\n",
            "[]\n",
            "[0, 2, 7]\n",
            "[7]\n",
            "[3, 5]\n",
            "[]\n",
            "[2]\n",
            "[]\n",
            "[0, 7]\n",
            "[3, 5]\n",
            "[]\n",
            "[3]\n",
            "[]\n",
            "[3, 5]\n",
            "[]\n",
            "[3]\n",
            "[]\n",
            "[0]\n",
            "[3]\n",
            "[5]\n",
            "[2]\n",
            "[[False, True, False, False, False, False, False, False], [False, False, False, False, False, False, True, False], [False, False, False, False, True, False, False, False], [False, False, False, False, False, False, False, True], [True, False, False, False, False, False, False, False], [False, False, False, True, False, False, False, False], [False, False, False, False, False, True, False, False], [False, False, True, False, False, False, False, False]]\n",
            "[0, 2, 4, 5]\n",
            "[2, 3, 6]\n",
            "[6]\n",
            "[]\n",
            "[6]\n",
            "[2, 4]\n",
            "[5]\n",
            "[]\n",
            "[]\n",
            "[3]\n",
            "[5]\n",
            "[]\n",
            "[0, 6]\n",
            "[3, 6]\n",
            "[]\n",
            "[4]\n",
            "[]\n",
            "[3]\n",
            "[0]\n",
            "[4]\n",
            "[]\n",
            "[0, 2, 6]\n",
            "[3]\n",
            "[5]\n",
            "[]\n",
            "[0]\n",
            "[5]\n",
            "[3]\n",
            "[]\n",
            "[0, 3]\n",
            "[2, 5]\n",
            "[5]\n",
            "[]\n",
            "[]\n",
            "[0, 5]\n",
            "[]\n",
            "[]\n",
            "[0, 2, 3]\n",
            "[2, 6]\n",
            "[4]\n",
            "[6]\n",
            "[3]\n",
            "[[False, True, False, False, False, False, False, False], [False, False, False, False, False, False, False, True], [False, False, False, False, False, True, False, False], [True, False, False, False, False, False, False, False], [False, False, True, False, False, False, False, False], [False, False, False, False, True, False, False, False], [False, False, False, False, False, False, True, False], [False, False, False, True, False, False, False, False]]\n",
            "[4]\n",
            "[]\n",
            "[0, 6]\n",
            "[]\n",
            "[]\n",
            "[0, 6]\n",
            "[4]\n",
            "[]\n",
            "[0, 4]\n",
            "[]\n",
            "[]\n",
            "[0, 4, 5, 6, 7]\n",
            "[3, 5, 6, 7]\n",
            "[1, 6, 7]\n",
            "[4, 7]\n",
            "[]\n",
            "[5]\n",
            "[]\n",
            "[4]\n",
            "[1]\n",
            "[]\n",
            "[4]\n",
            "[1]\n",
            "[]\n",
            "[1, 3, 7]\n",
            "[4]\n",
            "[6]\n",
            "[3]\n",
            "[]\n",
            "[1]\n",
            "[6]\n",
            "[4]\n",
            "[]\n",
            "[1, 4]\n",
            "[3, 6]\n",
            "[6]\n",
            "[]\n",
            "[]\n",
            "[1, 6]\n",
            "[3]\n",
            "[]\n",
            "[3]\n",
            "[]\n",
            "[1, 3, 4]\n",
            "[5, 7]\n",
            "[]\n",
            "[5]\n",
            "[3]\n",
            "[]\n",
            "[1, 5, 7]\n",
            "[]\n",
            "[]\n",
            "[]\n",
            "[1, 7]\n",
            "[5]\n",
            "[]\n",
            "[1, 5]\n",
            "[3]\n",
            "[5]\n",
            "[[False, False, True, False, False, False, False, False], [True, False, False, False, False, False, False, False], [False, False, False, False, False, False, True, False], [False, False, False, False, True, False, False, False], [False, False, False, False, False, False, False, True], [False, True, False, False, False, False, False, False], [False, False, False, True, False, False, False, False], [False, False, False, False, False, True, False, False]]\n",
            "[3]\n",
            "[]\n",
            "[1, 3, 4]\n",
            "[4]\n",
            "[6]\n",
            "[]\n",
            "[1]\n",
            "[6]\n",
            "[4]\n",
            "[]\n",
            "[1]\n",
            "[3, 5]\n",
            "[6]\n",
            "[]\n",
            "[]\n",
            "[1, 6, 7]\n",
            "[3, 7]\n",
            "[0, 5]\n",
            "[6]\n",
            "[]\n",
            "[]\n",
            "[0, 5]\n",
            "[3, 6]\n",
            "[6]\n",
            "[]\n",
            "[3]\n",
            "[5]\n",
            "[[False, False, True, False, False, False, False, False], [False, False, False, False, True, False, False, False], [False, True, False, False, False, False, False, False], [False, False, False, False, False, False, False, True], [True, False, False, False, False, False, False, False], [False, False, False, False, False, False, True, False], [False, False, False, True, False, False, False, False], [False, False, False, False, False, True, False, False]]\n",
            "[3]\n",
            "[0, 6]\n",
            "[]\n",
            "[0]\n",
            "[[False, False, True, False, False, False, False, False], [False, False, False, False, True, False, False, False], [False, True, False, False, False, False, False, False], [False, False, False, False, False, False, False, True], [False, False, False, False, False, True, False, False], [False, False, False, True, False, False, False, False], [False, False, False, False, False, False, True, False], [True, False, False, False, False, False, False, False]]\n",
            "[0, 1, 3]\n",
            "[3, 5]\n",
            "[1, 5]\n",
            "[7]\n",
            "[5]\n",
            "[[False, False, True, False, False, False, False, False], [False, False, False, False, True, False, False, False], [False, False, False, False, False, False, True, False], [True, False, False, False, False, False, False, False], [False, False, False, True, False, False, False, False], [False, True, False, False, False, False, False, False], [False, False, False, False, False, False, False, True], [False, False, False, False, False, True, False, False]]\n",
            "[7]\n",
            "[]\n",
            "[1]\n",
            "[]\n",
            "[3, 5]\n",
            "[5]\n",
            "[0, 7]\n",
            "[]\n",
            "[]\n",
            "[]\n",
            "[0, 5]\n",
            "[]\n",
            "[]\n",
            "[0, 1, 3]\n",
            "[3]\n",
            "[1, 5, 6]\n",
            "[6]\n",
            "[]\n",
            "[]\n",
            "[]\n",
            "[3]\n",
            "[5, 6]\n",
            "[0]\n",
            "[]\n",
            "[0]\n",
            "[]\n",
            "[0]\n",
            "[6]\n",
            "[1]\n",
            "[5]\n",
            "[[False, False, True, False, False, False, False, False], [False, False, False, False, True, False, False, False], [False, False, False, False, False, False, False, True], [False, False, False, True, False, False, False, False], [True, False, False, False, False, False, False, False], [False, False, False, False, False, False, True, False], [False, True, False, False, False, False, False, False], [False, False, False, False, False, True, False, False]]\n",
            "[1, 3, 7]\n",
            "[4, 6]\n",
            "[0, 7]\n",
            "[3]\n",
            "[6]\n",
            "[]\n",
            "[0, 3]\n",
            "[3, 6]\n",
            "[]\n",
            "[3]\n",
            "[[False, False, True, False, False, False, False, False], [False, False, False, False, False, True, False, False], [False, True, False, False, False, False, False, False], [False, False, False, False, True, False, False, False], [False, False, False, False, False, False, False, True], [True, False, False, False, False, False, False, False], [False, False, False, False, False, False, True, False], [False, False, False, True, False, False, False, False]]\n",
            "[6]\n",
            "[]\n",
            "[0, 4]\n",
            "[3]\n",
            "[7]\n",
            "[4]\n",
            "[[False, False, True, False, False, False, False, False], [False, False, False, False, False, True, False, False], [False, True, False, False, False, False, False, False], [False, False, False, False, False, False, True, False], [True, False, False, False, False, False, False, False], [False, False, False, True, False, False, False, False], [False, False, False, False, False, False, False, True], [False, False, False, False, True, False, False, False]]\n",
            "[0]\n",
            "[7]\n",
            "[3]\n",
            "[[False, False, True, False, False, False, False, False], [False, False, False, False, False, True, False, False], [False, True, False, False, False, False, False, False], [False, False, False, False, False, False, True, False], [False, False, False, False, True, False, False, False], [True, False, False, False, False, False, False, False], [False, False, False, False, False, False, False, True], [False, False, False, True, False, False, False, False]]\n",
            "[0, 1, 6]\n",
            "[4, 7]\n",
            "[]\n",
            "[4]\n",
            "[1, 6]\n",
            "[]\n",
            "[1]\n",
            "[[False, False, True, False, False, False, False, False], [False, False, False, False, False, True, False, False], [False, False, False, True, False, False, False, False], [True, False, False, False, False, False, False, False], [False, False, False, False, False, False, False, True], [False, False, False, False, True, False, False, False], [False, False, False, False, False, False, True, False], [False, True, False, False, False, False, False, False]]\n",
            "[4, 7]\n",
            "[]\n",
            "[4]\n",
            "[6]\n",
            "[0]\n",
            "[[False, False, True, False, False, False, False, False], [False, False, False, False, False, True, False, False], [False, False, False, True, False, False, False, False], [False, True, False, False, False, False, False, False], [False, False, False, False, False, False, False, True], [False, False, False, False, True, False, False, False], [False, False, False, False, False, False, True, False], [True, False, False, False, False, False, False, False]]\n",
            "[0, 4]\n",
            "[]\n",
            "[]\n",
            "[0, 1, 4]\n",
            "[3, 4]\n",
            "[6]\n",
            "[4]\n",
            "[1]\n",
            "[[False, False, True, False, False, False, False, False], [False, False, False, False, False, True, False, False], [False, False, False, False, False, False, False, True], [True, False, False, False, False, False, False, False], [False, False, False, True, False, False, False, False], [False, False, False, False, False, False, True, False], [False, False, False, False, True, False, False, False], [False, True, False, False, False, False, False, False]]\n",
            "[6]\n",
            "[1]\n",
            "[3]\n",
            "[[False, False, True, False, False, False, False, False], [False, False, False, False, False, True, False, False], [False, False, False, False, False, False, False, True], [True, False, False, False, False, False, False, False], [False, False, False, False, True, False, False, False], [False, False, False, False, False, False, True, False], [False, True, False, False, False, False, False, False], [False, False, False, True, False, False, False, False]]\n",
            "[3, 4]\n",
            "[0, 6]\n",
            "[6]\n",
            "[4]\n",
            "[[False, False, True, False, False, False, False, False], [False, False, False, False, False, True, False, False], [False, False, False, False, False, False, False, True], [False, True, False, False, False, False, False, False], [False, False, False, True, False, False, False, False], [True, False, False, False, False, False, False, False], [False, False, False, False, False, False, True, False], [False, False, False, False, True, False, False, False]]\n",
            "[]\n",
            "[0, 6]\n",
            "[]\n",
            "[]\n",
            "[0, 1]\n",
            "[3]\n",
            "[6]\n",
            "[]\n",
            "[3]\n",
            "[6]\n",
            "[]\n",
            "[1, 3]\n",
            "[3, 7]\n",
            "[0, 5, 7]\n",
            "[]\n",
            "[0]\n",
            "[4]\n",
            "[]\n",
            "[0]\n",
            "[4]\n",
            "[]\n",
            "[0, 4, 5]\n",
            "[3]\n",
            "[]\n",
            "[0]\n",
            "[3]\n",
            "[5]\n",
            "[[False, False, True, False, False, False, False, False], [False, False, False, False, False, False, True, False], [False, True, False, False, False, False, False, False], [False, False, False, False, False, False, False, True], [False, False, False, False, True, False, False, False], [True, False, False, False, False, False, False, False], [False, False, False, True, False, False, False, False], [False, False, False, False, False, True, False, False]]\n",
            "[0, 3]\n",
            "[]\n",
            "[0]\n",
            "[4]\n",
            "[[False, False, True, False, False, False, False, False], [False, False, False, False, False, False, True, False], [False, True, False, False, False, False, False, False], [False, False, False, False, False, False, False, True], [False, False, False, False, False, True, False, False], [False, False, False, True, False, False, False, False], [True, False, False, False, False, False, False, False], [False, False, False, False, True, False, False, False]]\n",
            "[0, 1, 7]\n",
            "[4, 7]\n",
            "[1]\n",
            "[5]\n",
            "[]\n",
            "[1, 4, 5]\n",
            "[4]\n",
            "[]\n",
            "[]\n",
            "[]\n",
            "[4, 7]\n",
            "[]\n",
            "[4, 5]\n",
            "[0]\n",
            "[]\n",
            "[0]\n",
            "[]\n",
            "[0, 4]\n",
            "[4]\n",
            "[]\n",
            "[1]\n",
            "[5]\n",
            "[]\n",
            "[1, 3, 5]\n",
            "[3, 4, 6]\n",
            "[0, 5]\n",
            "[6]\n",
            "[4]\n",
            "[]\n",
            "[0]\n",
            "[4]\n",
            "[]\n",
            "[0]\n",
            "[5]\n",
            "[3]\n",
            "[]\n",
            "[0]\n",
            "[5]\n",
            "[]\n",
            "[0, 1, 6]\n",
            "[]\n",
            "[]\n",
            "[0]\n",
            "[5]\n",
            "[1]\n",
            "[4]\n",
            "[[False, False, True, False, False, False, False, False], [False, False, False, False, False, False, False, True], [False, False, False, True, False, False, False, False], [False, False, False, False, False, False, True, False], [True, False, False, False, False, False, False, False], [False, False, False, False, False, True, False, False], [False, True, False, False, False, False, False, False], [False, False, False, False, True, False, False, False]]\n",
            "[0, 1, 3]\n",
            "[]\n",
            "[]\n",
            "[0, 1]\n",
            "[4, 6]\n",
            "[]\n",
            "[4]\n",
            "[]\n",
            "[4, 6]\n",
            "[]\n",
            "[4]\n",
            "[]\n",
            "[0, 1, 5, 6, 7]\n",
            "[2, 4, 6, 7]\n",
            "[4, 5, 7]\n",
            "[1, 6]\n",
            "[7]\n",
            "[]\n",
            "[1]\n",
            "[]\n",
            "[1]\n",
            "[6]\n",
            "[4]\n",
            "[]\n",
            "[1, 5]\n",
            "[6]\n",
            "[]\n",
            "[1]\n",
            "[]\n",
            "[1, 7]\n",
            "[5]\n",
            "[2]\n",
            "[6]\n",
            "[]\n",
            "[1, 5]\n",
            "[6]\n",
            "[2]\n",
            "[5]\n",
            "[[False, False, False, True, False, False, False, False], [True, False, False, False, False, False, False, False], [False, False, False, False, True, False, False, False], [False, False, False, False, False, False, False, True], [False, True, False, False, False, False, False, False], [False, False, False, False, False, False, True, False], [False, False, True, False, False, False, False, False], [False, False, False, False, False, True, False, False]]\n",
            "[2]\n",
            "[6]\n",
            "[1]\n",
            "[[False, False, False, True, False, False, False, False], [True, False, False, False, False, False, False, False], [False, False, False, False, True, False, False, False], [False, False, False, False, False, False, False, True], [False, False, False, False, False, True, False, False], [False, False, True, False, False, False, False, False], [False, False, False, False, False, False, True, False], [False, True, False, False, False, False, False, False]]\n",
            "[1, 4]\n",
            "[5]\n",
            "[2, 7]\n",
            "[]\n",
            "[]\n",
            "[1, 2]\n",
            "[5, 7]\n",
            "[]\n",
            "[]\n",
            "[5, 7]\n",
            "[]\n",
            "[]\n",
            "[1, 4, 5]\n",
            "[4, 6]\n",
            "[2, 6]\n",
            "[]\n",
            "[]\n",
            "[2]\n",
            "[]\n",
            "[1, 2, 6]\n",
            "[5]\n",
            "[2]\n",
            "[]\n",
            "[5]\n",
            "[]\n",
            "[1]\n",
            "[]\n",
            "[1, 2]\n",
            "[6]\n",
            "[4]\n",
            "[]\n",
            "[6]\n",
            "[1]\n",
            "[]\n",
            "[4, 6, 7]\n",
            "[2, 7]\n",
            "[0, 5]\n",
            "[6]\n",
            "[]\n",
            "[]\n",
            "[0, 5]\n",
            "[2, 6]\n",
            "[5]\n",
            "[]\n",
            "[]\n",
            "[0, 2]\n",
            "[2]\n",
            "[6]\n",
            "[[False, False, False, True, False, False, False, False], [False, True, False, False, False, False, False, False], [False, False, False, False, True, False, False, False], [False, False, False, False, False, False, False, True], [False, False, False, False, False, True, False, False], [True, False, False, False, False, False, False, False], [False, False, True, False, False, False, False, False], [False, False, False, False, False, False, True, False]]\n",
            "[]\n",
            "[2, 4]\n",
            "[0, 5]\n",
            "[7]\n",
            "[4]\n",
            "[]\n",
            "[7]\n",
            "[0, 4]\n",
            "[4]\n",
            "[[False, False, False, True, False, False, False, False], [False, True, False, False, False, False, False, False], [False, False, False, False, False, False, True, False], [False, False, True, False, False, False, False, False], [False, False, False, False, False, True, False, False], [False, False, False, False, False, False, False, True], [True, False, False, False, False, False, False, False], [False, False, False, False, True, False, False, False]]\n",
            "[0]\n",
            "[[False, False, False, True, False, False, False, False], [False, True, False, False, False, False, False, False], [False, False, False, False, False, False, True, False], [False, False, True, False, False, False, False, False], [False, False, False, False, False, True, False, False], [False, False, False, False, False, False, False, True], [False, False, False, False, True, False, False, False], [True, False, False, False, False, False, False, False]]\n",
            "[0, 2]\n",
            "[7]\n",
            "[5]\n",
            "[2]\n",
            "[[False, False, False, True, False, False, False, False], [False, True, False, False, False, False, False, False], [False, False, False, False, False, False, True, False], [False, False, False, False, True, False, False, False], [True, False, False, False, False, False, False, False], [False, False, False, False, False, False, False, True], [False, False, False, False, False, True, False, False], [False, False, True, False, False, False, False, False]]\n",
            "[0, 7]\n",
            "[5]\n",
            "[]\n",
            "[5]\n",
            "[]\n",
            "[2, 4, 5]\n",
            "[0, 6]\n",
            "[6]\n",
            "[4]\n",
            "[]\n",
            "[]\n",
            "[0, 2, 6]\n",
            "[]\n",
            "[0]\n",
            "[5]\n",
            "[]\n",
            "[0]\n",
            "[2, 5]\n",
            "[5]\n",
            "[[False, False, False, True, False, False, False, False], [False, True, False, False, False, False, False, False], [False, False, False, False, False, False, False, True], [False, False, False, False, True, False, False, False], [False, False, False, False, False, False, True, False], [True, False, False, False, False, False, False, False], [False, False, True, False, False, False, False, False], [False, False, False, False, False, True, False, False]]\n",
            "[]\n",
            "[0, 2]\n",
            "[2, 6]\n",
            "[4]\n",
            "[6]\n",
            "[[False, False, False, True, False, False, False, False], [False, True, False, False, False, False, False, False], [False, False, False, False, False, False, False, True], [False, False, False, False, False, True, False, False], [True, False, False, False, False, False, False, False], [False, False, True, False, False, False, False, False], [False, False, False, False, True, False, False, False], [False, False, False, False, False, False, True, False]]\n",
            "[4]\n",
            "[]\n",
            "[0, 6]\n",
            "[]\n",
            "[]\n",
            "[0, 2, 7]\n",
            "[2, 4]\n",
            "[4, 6]\n",
            "[6, 7]\n",
            "[1]\n",
            "[]\n",
            "[1]\n",
            "[]\n",
            "[]\n",
            "[1, 6]\n",
            "[7]\n",
            "[2]\n",
            "[6]\n",
            "[[False, False, False, True, False, False, False, False], [False, False, False, False, False, True, False, False], [True, False, False, False, False, False, False, False], [False, False, False, False, True, False, False, False], [False, True, False, False, False, False, False, False], [False, False, False, False, False, False, False, True], [False, False, True, False, False, False, False, False], [False, False, False, False, False, False, True, False]]\n",
            "[]\n",
            "[4]\n",
            "[1, 6]\n",
            "[7]\n",
            "[]\n",
            "[0]\n",
            "[]\n",
            "[1, 2, 4]\n",
            "[4, 6]\n",
            "[0, 2, 6]\n",
            "[]\n",
            "[]\n",
            "[]\n",
            "[0, 2]\n",
            "[2]\n",
            "[4]\n",
            "[[False, False, False, True, False, False, False, False], [False, False, False, False, False, True, False, False], [False, False, False, False, False, False, False, True], [False, True, False, False, False, False, False, False], [False, False, False, False, False, False, True, False], [True, False, False, False, False, False, False, False], [False, False, True, False, False, False, False, False], [False, False, False, False, True, False, False, False]]\n",
            "[]\n",
            "[0, 4, 6]\n",
            "[6]\n",
            "[1, 4]\n",
            "[]\n",
            "[1]\n",
            "[[False, False, False, True, False, False, False, False], [False, False, False, False, False, True, False, False], [False, False, False, False, False, False, False, True], [False, False, True, False, False, False, False, False], [True, False, False, False, False, False, False, False], [False, False, False, False, False, False, True, False], [False, False, False, False, True, False, False, False], [False, True, False, False, False, False, False, False]]\n",
            "[6]\n",
            "[1]\n",
            "[]\n",
            "[]\n",
            "[0, 1, 6]\n",
            "[]\n",
            "[]\n",
            "[0]\n",
            "[2]\n",
            "[]\n",
            "[0, 2, 4]\n",
            "[2, 5, 7]\n",
            "[4, 5]\n",
            "[1, 7]\n",
            "[7]\n",
            "[]\n",
            "[]\n",
            "[1, 7]\n",
            "[]\n",
            "[]\n",
            "[1]\n",
            "[4]\n",
            "[7]\n",
            "[]\n",
            "[1, 4, 5]\n",
            "[4]\n",
            "[2]\n",
            "[]\n",
            "[1]\n",
            "[5]\n",
            "[2]\n",
            "[[False, False, False, True, False, False, False, False], [False, False, False, False, False, False, True, False], [True, False, False, False, False, False, False, False], [False, False, False, False, False, False, False, True], [False, False, False, False, True, False, False, False], [False, True, False, False, False, False, False, False], [False, False, False, False, False, True, False, False], [False, False, True, False, False, False, False, False]]\n",
            "[1]\n",
            "[]\n",
            "[5, 7]\n",
            "[1]\n",
            "[4]\n",
            "[0, 7]\n",
            "[]\n",
            "[]\n",
            "[1, 5]\n",
            "[4]\n",
            "[0]\n",
            "[5]\n",
            "[[False, False, False, True, False, False, False, False], [False, False, False, False, False, False, True, False], [False, False, True, False, False, False, False, False], [False, False, False, False, False, False, False, True], [False, True, False, False, False, False, False, False], [False, False, False, False, True, False, False, False], [True, False, False, False, False, False, False, False], [False, False, False, False, False, True, False, False]]\n",
            "[0, 1]\n",
            "[]\n",
            "[]\n",
            "[1, 2, 7]\n",
            "[5]\n",
            "[0]\n",
            "[2]\n",
            "[7]\n",
            "[[False, False, False, True, False, False, False, False], [False, False, False, False, False, False, True, False], [False, False, False, False, True, False, False, False], [False, True, False, False, False, False, False, False], [False, False, False, False, False, True, False, False], [True, False, False, False, False, False, False, False], [False, False, True, False, False, False, False, False], [False, False, False, False, False, False, False, True]]\n",
            "[0, 5]\n",
            "[5]\n",
            "[7]\n",
            "[1]\n",
            "[[False, False, False, True, False, False, False, False], [False, False, False, False, False, False, True, False], [False, False, False, False, True, False, False, False], [False, False, True, False, False, False, False, False], [True, False, False, False, False, False, False, False], [False, False, False, False, False, True, False, False], [False, False, False, False, False, False, False, True], [False, True, False, False, False, False, False, False]]\n",
            "[]\n",
            "[0, 1, 5]\n",
            "[]\n",
            "[]\n",
            "[0]\n",
            "[2]\n",
            "[]\n",
            "[0, 2, 4]\n",
            "[2, 4]\n",
            "[5, 6]\n",
            "[1]\n",
            "[6]\n",
            "[4]\n",
            "[[False, False, False, True, False, False, False, False], [False, False, False, False, False, False, False, True], [True, False, False, False, False, False, False, False], [False, False, True, False, False, False, False, False], [False, False, False, False, False, True, False, False], [False, True, False, False, False, False, False, False], [False, False, False, False, False, False, True, False], [False, False, False, False, True, False, False, False]]\n",
            "[1]\n",
            "[]\n",
            "[1, 6]\n",
            "[5]\n",
            "[]\n",
            "[1]\n",
            "[5]\n",
            "[2]\n",
            "[[False, False, False, True, False, False, False, False], [False, False, False, False, False, False, False, True], [True, False, False, False, False, False, False, False], [False, False, False, False, True, False, False, False], [False, False, False, False, False, False, True, False], [False, True, False, False, False, False, False, False], [False, False, False, False, False, True, False, False], [False, False, True, False, False, False, False, False]]\n",
            "[4]\n",
            "[1, 6]\n",
            "[]\n",
            "[0, 1]\n",
            "[5]\n",
            "[]\n",
            "[5]\n",
            "[]\n",
            "[1, 2]\n",
            "[5]\n",
            "[0, 2]\n",
            "[6]\n",
            "[]\n",
            "[6]\n",
            "[]\n",
            "[0, 5]\n",
            "[5, 6]\n",
            "[1]\n",
            "[]\n",
            "[1]\n",
            "[5]\n",
            "[[False, False, False, True, False, False, False, False], [False, False, False, False, False, False, False, True], [False, False, False, False, True, False, False, False], [False, False, True, False, False, False, False, False], [True, False, False, False, False, False, False, False], [False, False, False, False, False, False, True, False], [False, True, False, False, False, False, False, False], [False, False, False, False, False, True, False, False]]\n",
            "[]\n",
            "[0, 1, 2, 6, 7]\n",
            "[3, 5, 7]\n",
            "[5, 6]\n",
            "[2, 7]\n",
            "[]\n",
            "[1, 2]\n",
            "[6]\n",
            "[2]\n",
            "[[False, False, False, False, True, False, False, False], [True, False, False, False, False, False, False, False], [False, False, False, True, False, False, False, False], [False, False, False, False, False, True, False, False], [False, False, False, False, False, False, False, True], [False, True, False, False, False, False, False, False], [False, False, False, False, False, False, True, False], [False, False, True, False, False, False, False, False]]\n",
            "[6]\n",
            "[]\n",
            "[2]\n",
            "[5, 7]\n",
            "[1]\n",
            "[]\n",
            "[1]\n",
            "[]\n",
            "[3]\n",
            "[1, 6]\n",
            "[6, 7]\n",
            "[2]\n",
            "[]\n",
            "[2]\n",
            "[]\n",
            "[]\n",
            "[3, 5]\n",
            "[1, 6]\n",
            "[6]\n",
            "[2]\n",
            "[5]\n",
            "[[False, False, False, False, True, False, False, False], [True, False, False, False, False, False, False, False], [False, False, False, False, False, False, False, True], [False, False, False, True, False, False, False, False], [False, True, False, False, False, False, False, False], [False, False, False, False, False, False, True, False], [False, False, True, False, False, False, False, False], [False, False, False, False, False, True, False, False]]\n",
            "[2]\n",
            "[]\n",
            "[1, 2]\n",
            "[6]\n",
            "[]\n",
            "[6]\n",
            "[1]\n",
            "[3]\n",
            "[[False, False, False, False, True, False, False, False], [True, False, False, False, False, False, False, False], [False, False, False, False, False, False, False, True], [False, False, False, False, False, True, False, False], [False, False, True, False, False, False, False, False], [False, False, False, False, False, False, True, False], [False, True, False, False, False, False, False, False], [False, False, False, True, False, False, False, False]]\n",
            "[3, 5, 7]\n",
            "[0, 5, 6]\n",
            "[2, 6, 7]\n",
            "[7]\n",
            "[5]\n",
            "[]\n",
            "[]\n",
            "[]\n",
            "[2, 7]\n",
            "[]\n",
            "[2]\n",
            "[0]\n",
            "[6]\n",
            "[[False, False, False, False, True, False, False, False], [False, True, False, False, False, False, False, False], [False, False, False, True, False, False, False, False], [False, False, False, False, False, True, False, False], [False, False, False, False, False, False, False, True], [False, False, True, False, False, False, False, False], [True, False, False, False, False, False, False, False], [False, False, False, False, False, False, True, False]]\n",
            "[2]\n",
            "[7]\n",
            "[5]\n",
            "[0]\n",
            "[[False, False, False, False, True, False, False, False], [False, True, False, False, False, False, False, False], [False, False, False, True, False, False, False, False], [False, False, False, False, False, False, True, False], [False, False, True, False, False, False, False, False], [False, False, False, False, False, False, False, True], [False, False, False, False, False, True, False, False], [True, False, False, False, False, False, False, False]]\n",
            "[0, 2]\n",
            "[2, 6]\n",
            "[6, 7]\n",
            "[]\n",
            "[]\n",
            "[3]\n",
            "[7]\n",
            "[2]\n",
            "[[False, False, False, False, True, False, False, False], [False, True, False, False, False, False, False, False], [False, False, False, False, False, True, False, False], [True, False, False, False, False, False, False, False], [False, False, False, False, False, False, True, False], [False, False, False, True, False, False, False, False], [False, False, False, False, False, False, False, True], [False, False, True, False, False, False, False, False]]\n",
            "[6]\n",
            "[3]\n",
            "[0, 7]\n",
            "[]\n",
            "[]\n",
            "[0, 2, 5]\n",
            "[2, 3, 6]\n",
            "[6]\n",
            "[]\n",
            "[6]\n",
            "[2]\n",
            "[5]\n",
            "[[False, False, False, False, True, False, False, False], [False, True, False, False, False, False, False, False], [False, False, False, False, False, False, False, True], [True, False, False, False, False, False, False, False], [False, False, False, True, False, False, False, False], [False, False, False, False, False, False, True, False], [False, False, True, False, False, False, False, False], [False, False, False, False, False, True, False, False]]\n",
            "[3]\n",
            "[5]\n",
            "[]\n",
            "[6]\n",
            "[3]\n",
            "[0]\n",
            "[]\n",
            "[2, 3]\n",
            "[0, 6]\n",
            "[]\n",
            "[]\n",
            "[0, 6]\n",
            "[]\n",
            "[0]\n",
            "[]\n",
            "[0, 5, 7]\n",
            "[3, 5, 6]\n",
            "[1, 6, 7]\n",
            "[7]\n",
            "[5]\n",
            "[]\n",
            "[]\n",
            "[]\n",
            "[1, 3, 7]\n",
            "[]\n",
            "[1]\n",
            "[6]\n",
            "[]\n",
            "[1]\n",
            "[3, 6]\n",
            "[6]\n",
            "[[False, False, False, False, True, False, False, False], [False, False, True, False, False, False, False, False], [True, False, False, False, False, False, False, False], [False, False, False, False, False, True, False, False], [False, False, False, False, False, False, False, True], [False, True, False, False, False, False, False, False], [False, False, False, True, False, False, False, False], [False, False, False, False, False, False, True, False]]\n",
            "[]\n",
            "[1, 3]\n",
            "[5, 7]\n",
            "[]\n",
            "[5]\n",
            "[3]\n",
            "[[False, False, False, False, True, False, False, False], [False, False, True, False, False, False, False, False], [True, False, False, False, False, False, False, False], [False, False, False, False, False, False, True, False], [False, True, False, False, False, False, False, False], [False, False, False, False, False, False, False, True], [False, False, False, False, False, True, False, False], [False, False, False, True, False, False, False, False]]\n",
            "[1, 5, 7]\n",
            "[]\n",
            "[]\n",
            "[]\n",
            "[3]\n",
            "[1, 6]\n",
            "[7]\n",
            "[]\n",
            "[0]\n",
            "[]\n",
            "[3, 5]\n",
            "[1, 6]\n",
            "[]\n",
            "[0]\n",
            "[5]\n",
            "[1]\n",
            "[[False, False, False, False, True, False, False, False], [False, False, True, False, False, False, False, False], [False, False, False, False, False, False, False, True], [False, False, False, True, False, False, False, False], [False, False, False, False, False, False, True, False], [True, False, False, False, False, False, False, False], [False, False, False, False, False, True, False, False], [False, True, False, False, False, False, False, False]]\n",
            "[1, 3]\n",
            "[]\n",
            "[0, 1]\n",
            "[6]\n",
            "[]\n",
            "[6]\n",
            "[]\n",
            "[0, 1, 3]\n",
            "[2, 3, 5]\n",
            "[5, 7]\n",
            "[1, 7]\n",
            "[]\n",
            "[]\n",
            "[1, 5]\n",
            "[3]\n",
            "[]\n",
            "[3]\n",
            "[1]\n",
            "[[False, False, False, False, True, False, False, False], [False, False, False, False, False, False, True, False], [True, False, False, False, False, False, False, False], [False, False, True, False, False, False, False, False], [False, False, False, False, False, False, False, True], [False, False, False, False, False, True, False, False], [False, False, False, True, False, False, False, False], [False, True, False, False, False, False, False, False]]\n",
            "[1, 5, 7]\n",
            "[7]\n",
            "[2, 5]\n",
            "[]\n",
            "[2]\n",
            "[[False, False, False, False, True, False, False, False], [False, False, False, False, False, False, True, False], [True, False, False, False, False, False, False, False], [False, False, False, True, False, False, False, False], [False, True, False, False, False, False, False, False], [False, False, False, False, False, False, False, True], [False, False, False, False, False, True, False, False], [False, False, True, False, False, False, False, False]]\n",
            "[7]\n",
            "[2]\n",
            "[]\n",
            "[]\n",
            "[1, 7]\n",
            "[]\n",
            "[1]\n",
            "[3]\n",
            "[]\n",
            "[3, 5]\n",
            "[5, 7]\n",
            "[0, 7]\n",
            "[2]\n",
            "[]\n",
            "[2]\n",
            "[]\n",
            "[0]\n",
            "[2]\n",
            "[5]\n",
            "[[False, False, False, False, True, False, False, False], [False, False, False, False, False, False, True, False], [False, True, False, False, False, False, False, False], [False, False, False, True, False, False, False, False], [False, False, False, False, False, False, False, True], [True, False, False, False, False, False, False, False], [False, False, True, False, False, False, False, False], [False, False, False, False, False, True, False, False]]\n",
            "[2, 7]\n",
            "[0]\n",
            "[3, 7]\n",
            "[7]\n",
            "[[False, False, False, False, True, False, False, False], [False, False, False, False, False, False, True, False], [False, True, False, False, False, False, False, False], [False, False, False, False, False, True, False, False], [False, False, True, False, False, False, False, False], [True, False, False, False, False, False, False, False], [False, False, False, True, False, False, False, False], [False, False, False, False, False, False, False, True]]\n",
            "[3]\n",
            "[[False, False, False, False, True, False, False, False], [False, False, False, False, False, False, True, False], [False, True, False, False, False, False, False, False], [False, False, False, False, False, True, False, False], [False, False, True, False, False, False, False, False], [True, False, False, False, False, False, False, False], [False, False, False, False, False, False, False, True], [False, False, False, True, False, False, False, False]]\n",
            "[0]\n",
            "[3]\n",
            "[]\n",
            "[0, 5]\n",
            "[2, 7]\n",
            "[5, 7]\n",
            "[]\n",
            "[5]\n",
            "[1]\n",
            "[[False, False, False, False, True, False, False, False], [False, False, False, False, False, False, True, False], [False, False, False, True, False, False, False, False], [True, False, False, False, False, False, False, False], [False, False, True, False, False, False, False, False], [False, False, False, False, False, False, False, True], [False, False, False, False, False, True, False, False], [False, True, False, False, False, False, False, False]]\n",
            "[1, 5]\n",
            "[]\n",
            "[2]\n",
            "[]\n",
            "[2, 7]\n",
            "[]\n",
            "[1]\n",
            "[]\n",
            "[0, 1, 3, 5]\n",
            "[2, 3, 6]\n",
            "[5, 6]\n",
            "[1]\n",
            "[6]\n",
            "[]\n",
            "[1]\n",
            "[3]\n",
            "[]\n",
            "[1, 5, 6]\n",
            "[6]\n",
            "[]\n",
            "[2]\n",
            "[]\n",
            "[2]\n",
            "[5]\n",
            "[]\n",
            "[1, 3]\n",
            "[5]\n",
            "[]\n",
            "[1, 5]\n",
            "[]\n",
            "[]\n",
            "[3, 6]\n",
            "[5, 6]\n",
            "[0, 2]\n",
            "[]\n",
            "[]\n",
            "[0, 2]\n",
            "[]\n",
            "[]\n",
            "[2]\n",
            "[0, 5]\n",
            "[]\n",
            "[]\n",
            "[0, 6]\n",
            "[2, 6]\n",
            "[5]\n",
            "[1]\n",
            "[6]\n",
            "[[False, False, False, False, True, False, False, False], [False, False, False, False, False, False, False, True], [False, False, False, True, False, False, False, False], [True, False, False, False, False, False, False, False], [False, False, True, False, False, False, False, False], [False, False, False, False, False, True, False, False], [False, True, False, False, False, False, False, False], [False, False, False, False, False, False, True, False]]\n",
            "[1]\n",
            "[5]\n",
            "[2]\n",
            "[[False, False, False, False, True, False, False, False], [False, False, False, False, False, False, False, True], [False, False, False, True, False, False, False, False], [True, False, False, False, False, False, False, False], [False, False, False, False, False, False, True, False], [False, True, False, False, False, False, False, False], [False, False, False, False, False, True, False, False], [False, False, True, False, False, False, False, False]]\n",
            "[2]\n",
            "[5]\n",
            "[1]\n",
            "[]\n",
            "[0, 2, 3]\n",
            "[2, 6]\n",
            "[6]\n",
            "[]\n",
            "[1]\n",
            "[]\n",
            "[6]\n",
            "[1]\n",
            "[3]\n",
            "[]\n",
            "[1, 6]\n",
            "[6]\n",
            "[]\n",
            "[0]\n",
            "[]\n",
            "[0, 1, 2, 3, 7]\n",
            "[2, 4, 6]\n",
            "[4, 6, 7]\n",
            "[6, 7]\n",
            "[1, 3]\n",
            "[3]\n",
            "[]\n",
            "[]\n",
            "[1, 3]\n",
            "[3]\n",
            "[]\n",
            "[]\n",
            "[]\n",
            "[]\n",
            "[1, 6, 7]\n",
            "[7]\n",
            "[2]\n",
            "[6]\n",
            "[3]\n",
            "[[False, False, False, False, False, True, False, False], [True, False, False, False, False, False, False, False], [False, False, False, False, True, False, False, False], [False, True, False, False, False, False, False, False], [False, False, False, False, False, False, False, True], [False, False, True, False, False, False, False, False], [False, False, False, False, False, False, True, False], [False, False, False, True, False, False, False, False]]\n",
            "[]\n",
            "[]\n",
            "[1, 3, 4]\n",
            "[7]\n",
            "[2]\n",
            "[]\n",
            "[7]\n",
            "[2]\n",
            "[4]\n",
            "[]\n",
            "[2, 7]\n",
            "[7]\n",
            "[3]\n",
            "[]\n",
            "[1]\n",
            "[3]\n",
            "[]\n",
            "[4, 6]\n",
            "[0, 6, 7]\n",
            "[3, 7]\n",
            "[6]\n",
            "[2]\n",
            "[]\n",
            "[3]\n",
            "[]\n",
            "[0, 3]\n",
            "[2, 3]\n",
            "[7]\n",
            "[]\n",
            "[7]\n",
            "[]\n",
            "[]\n",
            "[0, 3]\n",
            "[2, 3, 6]\n",
            "[]\n",
            "[]\n",
            "[3]\n",
            "[]\n",
            "[6]\n",
            "[2]\n",
            "[]\n",
            "[0, 4]\n",
            "[2, 3, 7]\n",
            "[4, 7]\n",
            "[7]\n",
            "[3]\n",
            "[[False, False, False, False, False, True, False, False], [False, True, False, False, False, False, False, False], [False, False, False, False, False, False, True, False], [True, False, False, False, False, False, False, False], [False, False, True, False, False, False, False, False], [False, False, False, False, True, False, False, False], [False, False, False, False, False, False, False, True], [False, False, False, True, False, False, False, False]]\n",
            "[]\n",
            "[7]\n",
            "[4]\n",
            "[2]\n",
            "[[False, False, False, False, False, True, False, False], [False, True, False, False, False, False, False, False], [False, False, False, False, False, False, True, False], [True, False, False, False, False, False, False, False], [False, False, False, True, False, False, False, False], [False, False, False, False, False, False, False, True], [False, False, False, False, True, False, False, False], [False, False, True, False, False, False, False, False]]\n",
            "[4]\n",
            "[]\n",
            "[0, 2, 7]\n",
            "[7]\n",
            "[3]\n",
            "[]\n",
            "[7]\n",
            "[3]\n",
            "[]\n",
            "[]\n",
            "[0, 4, 6]\n",
            "[3, 6, 7]\n",
            "[6, 7]\n",
            "[4]\n",
            "[1]\n",
            "[]\n",
            "[4]\n",
            "[1]\n",
            "[]\n",
            "[3, 4]\n",
            "[1, 7]\n",
            "[]\n",
            "[]\n",
            "[1, 7]\n",
            "[]\n",
            "[1]\n",
            "[3]\n",
            "[[False, False, False, False, False, True, False, False], [False, False, True, False, False, False, False, False], [True, False, False, False, False, False, False, False], [False, False, False, False, False, False, True, False], [False, False, False, False, True, False, False, False], [False, False, False, False, False, False, False, True], [False, True, False, False, False, False, False, False], [False, False, False, True, False, False, False, False]]\n",
            "[3, 4]\n",
            "[1]\n",
            "[6]\n",
            "[4]\n",
            "[[False, False, False, False, False, True, False, False], [False, False, True, False, False, False, False, False], [True, False, False, False, False, False, False, False], [False, False, False, False, False, False, False, True], [False, False, False, True, False, False, False, False], [False, True, False, False, False, False, False, False], [False, False, False, False, False, False, True, False], [False, False, False, False, True, False, False, False]]\n",
            "[1]\n",
            "[3]\n",
            "[6]\n",
            "[[False, False, False, False, False, True, False, False], [False, False, True, False, False, False, False, False], [True, False, False, False, False, False, False, False], [False, False, False, False, False, False, False, True], [False, False, False, False, True, False, False, False], [False, True, False, False, False, False, False, False], [False, False, False, True, False, False, False, False], [False, False, False, False, False, False, True, False]]\n",
            "[1, 6, 7]\n",
            "[3, 7]\n",
            "[]\n",
            "[]\n",
            "[0, 3]\n",
            "[3]\n",
            "[1]\n",
            "[7]\n",
            "[[False, False, False, False, False, True, False, False], [False, False, True, False, False, False, False, False], [False, False, False, False, True, False, False, False], [False, False, False, False, False, False, True, False], [True, False, False, False, False, False, False, False], [False, False, False, True, False, False, False, False], [False, True, False, False, False, False, False, False], [False, False, False, False, False, False, False, True]]\n",
            "[]\n",
            "[0, 3]\n",
            "[3]\n",
            "[1, 6]\n",
            "[6]\n",
            "[[False, False, False, False, False, True, False, False], [False, False, True, False, False, False, False, False], [False, False, False, False, True, False, False, False], [False, False, False, False, False, False, False, True], [True, False, False, False, False, False, False, False], [False, False, False, True, False, False, False, False], [False, True, False, False, False, False, False, False], [False, False, False, False, False, False, True, False]]\n",
            "[]\n",
            "[]\n",
            "[1, 3]\n",
            "[3, 7]\n",
            "[7]\n",
            "[0]\n",
            "[4]\n",
            "[[False, False, False, False, False, True, False, False], [False, False, True, False, False, False, False, False], [False, False, False, False, False, False, True, False], [False, True, False, False, False, False, False, False], [False, False, False, True, False, False, False, False], [False, False, False, False, False, False, False, True], [True, False, False, False, False, False, False, False], [False, False, False, False, True, False, False, False]]\n",
            "[4]\n",
            "[0]\n",
            "[3]\n",
            "[[False, False, False, False, False, True, False, False], [False, False, True, False, False, False, False, False], [False, False, False, False, False, False, True, False], [False, True, False, False, False, False, False, False], [False, False, False, False, False, False, False, True], [False, False, False, False, True, False, False, False], [True, False, False, False, False, False, False, False], [False, False, False, True, False, False, False, False]]\n",
            "[0, 7]\n",
            "[4, 7]\n",
            "[1]\n",
            "[]\n",
            "[1, 4]\n",
            "[4]\n",
            "[[False, False, False, False, False, True, False, False], [False, False, True, False, False, False, False, False], [False, False, False, False, False, False, True, False], [False, False, False, True, False, False, False, False], [True, False, False, False, False, False, False, False], [False, False, False, False, False, False, False, True], [False, True, False, False, False, False, False, False], [False, False, False, False, True, False, False, False]]\n",
            "[]\n",
            "[4]\n",
            "[1]\n",
            "[]\n",
            "[0, 1, 6]\n",
            "[4, 6, 7]\n",
            "[7]\n",
            "[1]\n",
            "[6]\n",
            "[2]\n",
            "[[False, False, False, False, False, True, False, False], [False, False, False, True, False, False, False, False], [True, False, False, False, False, False, False, False], [False, False, False, False, True, False, False, False], [False, False, False, False, False, False, False, True], [False, True, False, False, False, False, False, False], [False, False, False, False, False, False, True, False], [False, False, True, False, False, False, False, False]]\n",
            "[4]\n",
            "[1, 2]\n",
            "[7]\n",
            "[]\n",
            "[7]\n",
            "[]\n",
            "[4]\n",
            "[1, 2, 6]\n",
            "[]\n",
            "[]\n",
            "[1]\n",
            "[]\n",
            "[4, 6, 7]\n",
            "[2, 7]\n",
            "[]\n",
            "[]\n",
            "[2, 4]\n",
            "[]\n",
            "[2]\n",
            "[0, 7]\n",
            "[]\n",
            "[]\n",
            "[2, 4]\n",
            "[6]\n",
            "[]\n",
            "[2, 6]\n",
            "[0]\n",
            "[]\n",
            "[0]\n",
            "[2]\n",
            "[[False, False, False, False, False, True, False, False], [False, False, False, True, False, False, False, False], [False, True, False, False, False, False, False, False], [False, False, False, False, False, False, False, True], [False, False, False, False, True, False, False, False], [False, False, False, False, False, False, True, False], [True, False, False, False, False, False, False, False], [False, False, True, False, False, False, False, False]]\n",
            "[0, 4]\n",
            "[2, 7]\n",
            "[4]\n",
            "[1, 7]\n",
            "[7]\n",
            "[[False, False, False, False, False, True, False, False], [False, False, False, True, False, False, False, False], [False, False, False, False, False, False, True, False], [True, False, False, False, False, False, False, False], [False, False, True, False, False, False, False, False], [False, False, False, False, True, False, False, False], [False, True, False, False, False, False, False, False], [False, False, False, False, False, False, False, True]]\n",
            "[]\n",
            "[1, 4]\n",
            "[4]\n",
            "[2]\n",
            "[[False, False, False, False, False, True, False, False], [False, False, False, True, False, False, False, False], [False, False, False, False, False, False, True, False], [True, False, False, False, False, False, False, False], [False, False, False, False, False, False, False, True], [False, True, False, False, False, False, False, False], [False, False, False, False, True, False, False, False], [False, False, True, False, False, False, False, False]]\n",
            "[1]\n",
            "[]\n",
            "[2, 7]\n",
            "[]\n",
            "[1]\n",
            "[]\n",
            "[0, 1, 2, 4]\n",
            "[3, 4, 6]\n",
            "[6]\n",
            "[2, 4]\n",
            "[]\n",
            "[1]\n",
            "[]\n",
            "[6]\n",
            "[1]\n",
            "[3]\n",
            "[]\n",
            "[3]\n",
            "[1]\n",
            "[]\n",
            "[3, 4, 6]\n",
            "[0, 6]\n",
            "[2, 6]\n",
            "[4]\n",
            "[]\n",
            "[4]\n",
            "[2]\n",
            "[[False, False, False, False, False, True, False, False], [False, False, False, False, False, False, False, True], [False, True, False, False, False, False, False, False], [False, False, False, True, False, False, False, False], [True, False, False, False, False, False, False, False], [False, False, False, False, False, False, True, False], [False, False, False, False, True, False, False, False], [False, False, True, False, False, False, False, False]]\n",
            "[2]\n",
            "[]\n",
            "[0, 2, 6]\n",
            "[]\n",
            "[]\n",
            "[]\n",
            "[0, 2]\n",
            "[2]\n",
            "[4]\n",
            "[]\n",
            "[]\n",
            "[0, 4, 6]\n",
            "[3, 6]\n",
            "[1, 6]\n",
            "[4]\n",
            "[]\n",
            "[4]\n",
            "[]\n",
            "[1, 4]\n",
            "[]\n",
            "[1]\n",
            "[]\n",
            "[6]\n",
            "[1]\n",
            "[3]\n",
            "[]\n",
            "[3]\n",
            "[1]\n",
            "[4]\n",
            "[]\n",
            "[0, 1, 6]\n",
            "[3]\n",
            "[6]\n",
            "[]\n",
            "[3]\n",
            "[6]\n",
            "[]\n",
            "[0, 3]\n",
            "[2]\n",
            "[]\n",
            "[]\n",
            "[0, 1, 2, 3, 4]\n",
            "[2, 3, 5, 7]\n",
            "[4, 5, 7]\n",
            "[1, 7]\n",
            "[3, 7]\n",
            "[]\n",
            "[]\n",
            "[3]\n",
            "[]\n",
            "[1, 7]\n",
            "[]\n",
            "[]\n",
            "[1, 5]\n",
            "[3]\n",
            "[]\n",
            "[3]\n",
            "[1]\n",
            "[4]\n",
            "[[False, False, False, False, False, False, True, False], [True, False, False, False, False, False, False, False], [False, False, True, False, False, False, False, False], [False, False, False, False, False, False, False, True], [False, False, False, False, False, True, False, False], [False, False, False, True, False, False, False, False], [False, True, False, False, False, False, False, False], [False, False, False, False, True, False, False, False]]\n",
            "[1, 5, 7]\n",
            "[4, 7]\n",
            "[2, 7]\n",
            "[]\n",
            "[]\n",
            "[2, 5]\n",
            "[]\n",
            "[2]\n",
            "[]\n",
            "[7]\n",
            "[2]\n",
            "[4]\n",
            "[]\n",
            "[4]\n",
            "[2]\n",
            "[]\n",
            "[1, 7]\n",
            "[4]\n",
            "[7]\n",
            "[3]\n",
            "[]\n",
            "[1, 4]\n",
            "[3]\n",
            "[]\n",
            "[]\n",
            "[1, 4, 5]\n",
            "[4]\n",
            "[2]\n",
            "[]\n",
            "[1]\n",
            "[3, 5]\n",
            "[]\n",
            "[2]\n",
            "[]\n",
            "[1]\n",
            "[]\n",
            "[3, 5, 7]\n",
            "[0, 5, 7]\n",
            "[7]\n",
            "[4]\n",
            "[2]\n",
            "[5]\n",
            "[[False, False, False, False, False, False, True, False], [False, True, False, False, False, False, False, False], [False, False, False, True, False, False, False, False], [True, False, False, False, False, False, False, False], [False, False, False, False, False, False, False, True], [False, False, False, False, True, False, False, False], [False, False, True, False, False, False, False, False], [False, False, False, False, False, True, False, False]]\n",
            "[0, 7]\n",
            "[2, 4]\n",
            "[4]\n",
            "[]\n",
            "[]\n",
            "[2, 4]\n",
            "[4]\n",
            "[]\n",
            "[]\n",
            "[0]\n",
            "[2, 4]\n",
            "[5]\n",
            "[]\n",
            "[]\n",
            "[0, 2, 7]\n",
            "[]\n",
            "[0]\n",
            "[3, 7]\n",
            "[7]\n",
            "[4]\n",
            "[[False, False, False, False, False, False, True, False], [False, True, False, False, False, False, False, False], [False, False, False, False, False, True, False, False], [False, False, True, False, False, False, False, False], [True, False, False, False, False, False, False, False], [False, False, False, True, False, False, False, False], [False, False, False, False, False, False, False, True], [False, False, False, False, True, False, False, False]]\n",
            "[3, 4]\n",
            "[]\n",
            "[]\n",
            "[0]\n",
            "[3, 4]\n",
            "[]\n",
            "[]\n",
            "[0, 2, 4, 5]\n",
            "[3]\n",
            "[]\n",
            "[0]\n",
            "[3]\n",
            "[]\n",
            "[0]\n",
            "[3]\n",
            "[5]\n",
            "[]\n",
            "[0, 3]\n",
            "[2]\n",
            "[4]\n",
            "[]\n",
            "[0]\n",
            "[4]\n",
            "[]\n",
            "[0, 5, 7]\n",
            "[5, 7]\n",
            "[1, 3, 7]\n",
            "[4]\n",
            "[]\n",
            "[]\n",
            "[4]\n",
            "[1]\n",
            "[3]\n",
            "[[False, False, False, False, False, False, True, False], [False, False, True, False, False, False, False, False], [True, False, False, False, False, False, False, False], [False, False, False, False, False, True, False, False], [False, False, False, False, False, False, False, True], [False, False, False, False, True, False, False, False], [False, True, False, False, False, False, False, False], [False, False, False, True, False, False, False, False]]\n",
            "[1, 3, 4]\n",
            "[4]\n",
            "[]\n",
            "[]\n",
            "[]\n",
            "[1, 7]\n",
            "[4]\n",
            "[0, 7]\n",
            "[3]\n",
            "[]\n",
            "[3]\n",
            "[]\n",
            "[0, 1, 4]\n",
            "[3, 4]\n",
            "[]\n",
            "[]\n",
            "[3, 4]\n",
            "[]\n",
            "[]\n",
            "[0]\n",
            "[3]\n",
            "[]\n",
            "[1, 5]\n",
            "[3, 4]\n",
            "[0, 5]\n",
            "[]\n",
            "[]\n",
            "[0]\n",
            "[5]\n",
            "[3]\n",
            "[[False, False, False, False, False, False, True, False], [False, False, True, False, False, False, False, False], [False, False, False, False, False, False, False, True], [False, True, False, False, False, False, False, False], [False, False, False, False, True, False, False, False], [True, False, False, False, False, False, False, False], [False, False, False, False, False, True, False, False], [False, False, False, True, False, False, False, False]]\n",
            "[0, 1, 3]\n",
            "[]\n",
            "[]\n",
            "[0]\n",
            "[4]\n",
            "[]\n",
            "[0, 1, 5, 7]\n",
            "[2, 4, 7]\n",
            "[4, 5, 7]\n",
            "[]\n",
            "[]\n",
            "[5]\n",
            "[1]\n",
            "[]\n",
            "[1, 7]\n",
            "[5]\n",
            "[2]\n",
            "[]\n",
            "[5]\n",
            "[2]\n",
            "[]\n",
            "[1, 4, 5]\n",
            "[4]\n",
            "[2]\n",
            "[]\n",
            "[2]\n",
            "[5]\n",
            "[]\n",
            "[2]\n",
            "[]\n",
            "[4, 7]\n",
            "[7]\n",
            "[0, 5]\n",
            "[2]\n",
            "[5]\n",
            "[[False, False, False, False, False, False, True, False], [False, False, False, True, False, False, False, False], [False, True, False, False, False, False, False, False], [False, False, False, False, True, False, False, False], [False, False, False, False, False, False, False, True], [True, False, False, False, False, False, False, False], [False, False, True, False, False, False, False, False], [False, False, False, False, False, True, False, False]]\n",
            "[2]\n",
            "[]\n",
            "[4, 5]\n",
            "[0, 2]\n",
            "[]\n",
            "[]\n",
            "[0, 2]\n",
            "[2]\n",
            "[4]\n",
            "[[False, False, False, False, False, False, True, False], [False, False, False, True, False, False, False, False], [False, True, False, False, False, False, False, False], [False, False, False, False, False, False, False, True], [False, False, False, False, False, True, False, False], [True, False, False, False, False, False, False, False], [False, False, True, False, False, False, False, False], [False, False, False, False, True, False, False, False]]\n",
            "[]\n",
            "[0, 2, 7]\n",
            "[4]\n",
            "[]\n",
            "[4]\n",
            "[]\n",
            "[1, 4]\n",
            "[4]\n",
            "[2]\n",
            "[]\n",
            "[0]\n",
            "[]\n",
            "[0, 2, 4]\n",
            "[4]\n",
            "[]\n",
            "[4]\n",
            "[]\n",
            "[1]\n",
            "[5]\n",
            "[2]\n",
            "[]\n",
            "[0, 1, 2, 7]\n",
            "[5, 7]\n",
            "[3]\n",
            "[]\n",
            "[3, 5]\n",
            "[]\n",
            "[2]\n",
            "[]\n",
            "[5, 7]\n",
            "[0]\n",
            "[2]\n",
            "[7]\n",
            "[]\n",
            "[0, 5]\n",
            "[2, 3]\n",
            "[]\n",
            "[]\n",
            "[2, 3]\n",
            "[]\n",
            "[]\n",
            "[0, 5, 7]\n",
            "[3, 5]\n",
            "[7]\n",
            "[]\n",
            "[3, 7]\n",
            "[1]\n",
            "[]\n",
            "[1]\n",
            "[3]\n",
            "[[False, False, False, False, False, False, True, False], [False, False, False, False, True, False, False, False], [False, False, True, False, False, False, False, False], [True, False, False, False, False, False, False, False], [False, False, False, False, False, True, False, False], [False, False, False, False, False, False, False, True], [False, True, False, False, False, False, False, False], [False, False, False, True, False, False, False, False]]\n",
            "[3]\n",
            "[]\n",
            "[3, 5]\n",
            "[]\n",
            "[3]\n",
            "[1]\n",
            "[]\n",
            "[0, 1, 5]\n",
            "[3]\n",
            "[5]\n",
            "[2]\n",
            "[]\n",
            "[3]\n",
            "[5]\n",
            "[2]\n",
            "[]\n",
            "[0, 3]\n",
            "[2]\n",
            "[]\n",
            "[]\n",
            "[0, 1, 2, 3, 4, 5]\n",
            "[2, 3, 4, 6]\n",
            "[5, 6]\n",
            "[1]\n",
            "[6]\n",
            "[4]\n",
            "[]\n",
            "[1]\n"
          ]
        },
        {
          "name": "stdout",
          "output_type": "stream",
          "text": [
            "[3]\n",
            "[]\n",
            "[1, 5, 6]\n",
            "[4, 6]\n",
            "[]\n",
            "[]\n",
            "[2]\n",
            "[]\n",
            "[2, 4]\n",
            "[5]\n",
            "[]\n",
            "[1]\n",
            "[]\n",
            "[1, 6]\n",
            "[5]\n",
            "[]\n",
            "[1]\n",
            "[3, 5]\n",
            "[]\n",
            "[2]\n",
            "[]\n",
            "[1, 3]\n",
            "[5]\n",
            "[]\n",
            "[1, 5]\n",
            "[]\n",
            "[]\n",
            "[3, 4, 6]\n",
            "[0, 5, 6]\n",
            "[2, 6]\n",
            "[4]\n",
            "[]\n",
            "[4]\n",
            "[2]\n",
            "[5]\n",
            "[[False, False, False, False, False, False, False, True], [False, True, False, False, False, False, False, False], [False, False, False, True, False, False, False, False], [True, False, False, False, False, False, False, False], [False, False, False, False, False, False, True, False], [False, False, False, False, True, False, False, False], [False, False, True, False, False, False, False, False], [False, False, False, False, False, True, False, False]]\n",
            "[0, 2]\n",
            "[4]\n",
            "[]\n",
            "[4]\n",
            "[]\n",
            "[0, 2]\n",
            "[]\n",
            "[]\n",
            "[0, 2, 6]\n",
            "[5]\n",
            "[3]\n",
            "[]\n",
            "[0, 5]\n",
            "[3, 6]\n",
            "[]\n",
            "[3]\n",
            "[5]\n",
            "[[False, False, False, False, False, False, False, True], [False, True, False, False, False, False, False, False], [False, False, False, False, True, False, False, False], [False, False, True, False, False, False, False, False], [True, False, False, False, False, False, False, False], [False, False, False, False, False, False, True, False], [False, False, False, True, False, False, False, False], [False, False, False, False, False, True, False, False]]\n",
            "[3]\n",
            "[]\n",
            "[0]\n",
            "[3]\n",
            "[5]\n",
            "[]\n",
            "[0, 2]\n",
            "[2, 5]\n",
            "[4]\n",
            "[]\n",
            "[]\n",
            "[0, 5]\n",
            "[]\n",
            "[]\n",
            "[0, 4, 6]\n",
            "[3, 5, 6]\n",
            "[1, 6]\n",
            "[4]\n",
            "[]\n",
            "[4]\n",
            "[]\n",
            "[1]\n",
            "[4]\n",
            "[6]\n",
            "[3]\n",
            "[[False, False, False, False, False, False, False, True], [False, False, True, False, False, False, False, False], [True, False, False, False, False, False, False, False], [False, False, False, False, False, True, False, False], [False, True, False, False, False, False, False, False], [False, False, False, False, True, False, False, False], [False, False, False, False, False, False, True, False], [False, False, False, True, False, False, False, False]]\n",
            "[1, 4]\n",
            "[5]\n",
            "[]\n",
            "[1]\n",
            "[5]\n",
            "[]\n",
            "[1, 6]\n",
            "[]\n",
            "[0, 1]\n",
            "[3, 5]\n",
            "[5]\n",
            "[]\n",
            "[]\n",
            "[3, 5]\n",
            "[5]\n",
            "[]\n",
            "[]\n",
            "[1, 3]\n",
            "[]\n",
            "[0, 1]\n",
            "[4]\n",
            "[]\n",
            "[4]\n",
            "[]\n",
            "[0, 1, 6]\n",
            "[2, 6]\n",
            "[4, 5]\n",
            "[1, 6]\n",
            "[]\n",
            "[]\n",
            "[1]\n",
            "[6]\n",
            "[4]\n",
            "[[False, False, False, False, False, False, False, True], [False, False, False, True, False, False, False, False], [True, False, False, False, False, False, False, False], [False, False, True, False, False, False, False, False], [False, False, False, False, False, True, False, False], [False, True, False, False, False, False, False, False], [False, False, False, False, False, False, True, False], [False, False, False, False, True, False, False, False]]\n",
            "[1, 4]\n",
            "[5]\n",
            "[2]\n",
            "[]\n",
            "[1]\n",
            "[5]\n",
            "[]\n",
            "[6]\n",
            "[2, 4]\n",
            "[0, 5]\n",
            "[]\n",
            "[]\n",
            "[0]\n",
            "[]\n",
            "[0, 2]\n",
            "[2, 5]\n",
            "[4, 5]\n",
            "[]\n",
            "[]\n",
            "[1]\n",
            "[4]\n",
            "[]\n",
            "[5]\n",
            "[1]\n",
            "[4]\n",
            "[]\n",
            "[0, 1, 2, 6]\n",
            "[3, 5]\n",
            "[5, 6]\n",
            "[]\n",
            "[]\n",
            "[]\n",
            "[3, 5]\n",
            "[0, 5, 6]\n",
            "[6]\n",
            "[]\n",
            "[]\n",
            "[]\n",
            "[0, 2]\n",
            "[6]\n",
            "[3]\n",
            "[]\n",
            "[6]\n",
            "[3]\n",
            "[]\n",
            "[0, 5]\n",
            "[5, 6]\n",
            "[1, 3]\n",
            "[]\n",
            "[]\n",
            "[1, 3]\n",
            "[5]\n",
            "[]\n",
            "[5]\n",
            "[]\n",
            "[]\n",
            "[0, 1, 3]\n",
            "[2, 5]\n",
            "[5]\n",
            "[]\n",
            "[1]\n",
            "[]\n",
            "[5]\n",
            "[]\n",
            "[0, 5]\n",
            "[]\n",
            "[]\n",
            "[0, 1, 2, 3]\n",
            "[2, 6]\n",
            "[4, 6]\n",
            "[6]\n",
            "[3]\n",
            "[]\n",
            "[]\n",
            "[1, 4]\n",
            "[]\n",
            "[]\n",
            "[6]\n",
            "[0, 4]\n",
            "[3]\n",
            "[]\n",
            "[0]\n",
            "[]\n",
            "[0, 6]\n",
            "[6]\n",
            "[3, 4]\n",
            "[]\n",
            "[]\n",
            "[1]\n",
            "[3]\n",
            "[]\n",
            "[0, 1, 6]\n",
            "[4, 6]\n",
            "[]\n",
            "[4]\n",
            "[2]\n",
            "[]\n",
            "[4, 6]\n",
            "[]\n",
            "[4]\n",
            "[2]\n",
            "[]\n",
            "[0, 4]\n",
            "[]\n",
            "[]\n"
          ]
        }
      ],
      "source": [
        "solve(board)"
      ]
    },
    {
      "cell_type": "code",
      "execution_count": null,
      "metadata": {
        "id": "kM3M0jpuJx3a"
      },
      "outputs": [],
      "source": [
        "[[True, False, False, False, False, False, False, False],\n",
        " [False, False, False, False, False, True, False, False],\n",
        " [False, False, False, False, False, False, False, True],\n",
        " [False, False, True, False, False, False, False, False],\n",
        " [False, False, False, False, False, False, True, False],\n",
        " [False, False, False, True, False, False, False, False],\n",
        " [False, True, False, False, False, False, False, False],\n",
        " [False, False, False, False, True, False, False, False]]"
      ]
    },
    {
      "cell_type": "markdown",
      "metadata": {
        "id": "j93fzhnmJx3a"
      },
      "source": [
        "![image.png](attachment:image.png)"
      ]
    },
    {
      "cell_type": "code",
      "execution_count": null,
      "metadata": {
        "id": "68vo9fxsJx3a"
      },
      "outputs": [],
      "source": [
        "tup = (1,\"sandeep\", 4)"
      ]
    },
    {
      "cell_type": "code",
      "execution_count": null,
      "metadata": {
        "id": "EzA4XyK0Jx3a",
        "outputId": "610d5024-2279-4782-c9bf-81ad6dd69280"
      },
      "outputs": [
        {
          "data": {
            "text/plain": [
              "(1, 'sandeep', 4)"
            ]
          },
          "execution_count": 94,
          "metadata": {},
          "output_type": "execute_result"
        }
      ],
      "source": [
        "tup"
      ]
    },
    {
      "cell_type": "code",
      "execution_count": null,
      "metadata": {
        "id": "pg95kdBHJx3a"
      },
      "outputs": [],
      "source": [
        "d = {\"name\":\"sandeep\"}"
      ]
    },
    {
      "cell_type": "code",
      "execution_count": null,
      "metadata": {
        "id": "aCx7vSznJx3a",
        "outputId": "e8044883-c204-4f0f-c926-619ee9cff547"
      },
      "outputs": [
        {
          "data": {
            "text/plain": [
              "{'name': 'sandeep'}"
            ]
          },
          "execution_count": 96,
          "metadata": {},
          "output_type": "execute_result"
        }
      ],
      "source": [
        "d"
      ]
    },
    {
      "cell_type": "code",
      "execution_count": null,
      "metadata": {
        "id": "uEYZsbgKJx3a"
      },
      "outputs": [],
      "source": [
        "class MyClass:\n",
        "    i = 12345\n",
        "\n",
        "    def f(o):\n",
        "        return 'hello world'"
      ]
    },
    {
      "cell_type": "code",
      "execution_count": null,
      "metadata": {
        "id": "iXVn5BDwJx3a"
      },
      "outputs": [],
      "source": [
        "o1 = MyClass()"
      ]
    },
    {
      "cell_type": "code",
      "execution_count": null,
      "metadata": {
        "id": "8nHVa1lHJx3a",
        "outputId": "b574e8f5-a868-4506-975c-13cb153db9c1"
      },
      "outputs": [
        {
          "data": {
            "text/plain": [
              "12345"
            ]
          },
          "execution_count": 101,
          "metadata": {},
          "output_type": "execute_result"
        }
      ],
      "source": [
        "o1.i"
      ]
    },
    {
      "cell_type": "code",
      "execution_count": null,
      "metadata": {
        "id": "XD681p3uJx3b"
      },
      "outputs": [],
      "source": [
        "o2 = MyClass()"
      ]
    },
    {
      "cell_type": "code",
      "execution_count": null,
      "metadata": {
        "id": "dAzpgmGWJx3g"
      },
      "outputs": [],
      "source": [
        "o2.i = 10"
      ]
    },
    {
      "cell_type": "code",
      "execution_count": null,
      "metadata": {
        "id": "Cu1jsBa7Jx3g",
        "outputId": "1c590dff-7b01-4899-86c1-8c28f5622854"
      },
      "outputs": [
        {
          "data": {
            "text/plain": [
              "10"
            ]
          },
          "execution_count": 106,
          "metadata": {},
          "output_type": "execute_result"
        }
      ],
      "source": [
        "o2.i"
      ]
    },
    {
      "cell_type": "code",
      "execution_count": null,
      "metadata": {
        "id": "atAChBNqJx3g",
        "outputId": "91f5f188-4a98-44ff-dd5a-99cd2f99f431"
      },
      "outputs": [
        {
          "data": {
            "text/plain": [
              "12345"
            ]
          },
          "execution_count": 107,
          "metadata": {},
          "output_type": "execute_result"
        }
      ],
      "source": [
        "o1.i"
      ]
    },
    {
      "cell_type": "code",
      "execution_count": null,
      "metadata": {
        "id": "jTvSOZqrJx3g"
      },
      "outputs": [],
      "source": [
        "class Point:\n",
        "    x = 0\n",
        "    y = 0\n",
        "    def add(self, p):\n",
        "        self.x += p.x\n",
        "        self.y += p.y"
      ]
    },
    {
      "cell_type": "code",
      "execution_count": null,
      "metadata": {
        "id": "iflRnCAWJx3g"
      },
      "outputs": [],
      "source": [
        "p1 = Point()\n",
        "p1.x = 10\n",
        "p1.y = 20"
      ]
    },
    {
      "cell_type": "code",
      "execution_count": null,
      "metadata": {
        "id": "Omqg2hsEJx3g"
      },
      "outputs": [],
      "source": [
        "p2 = Point()\n",
        "p2.x = 40\n",
        "p2.y = 50\n"
      ]
    },
    {
      "cell_type": "code",
      "execution_count": null,
      "metadata": {
        "id": "1hxyho6rJx3g"
      },
      "outputs": [],
      "source": [
        "p1.add(p2)"
      ]
    },
    {
      "cell_type": "code",
      "execution_count": null,
      "metadata": {
        "id": "w0bGZ0OPJx3g",
        "outputId": "3550371f-64a7-4ac8-be90-5c80d4f973bf"
      },
      "outputs": [
        {
          "data": {
            "text/plain": [
              "50"
            ]
          },
          "execution_count": 120,
          "metadata": {},
          "output_type": "execute_result"
        }
      ],
      "source": [
        "p1.x"
      ]
    },
    {
      "cell_type": "code",
      "execution_count": null,
      "metadata": {
        "id": "R0taAienJx3g",
        "outputId": "29087ac7-e1b5-47ad-a9eb-7bb086b4beba"
      },
      "outputs": [
        {
          "data": {
            "text/plain": [
              "70"
            ]
          },
          "execution_count": 121,
          "metadata": {},
          "output_type": "execute_result"
        }
      ],
      "source": [
        "p1.y"
      ]
    },
    {
      "cell_type": "code",
      "execution_count": null,
      "metadata": {
        "id": "7Qh0iy0FJx3g"
      },
      "outputs": [],
      "source": [
        "class Dog:\n",
        "    name = 'No Name Dog'\n",
        "    def bark(self):\n",
        "        print(f\"{self.name} is barking\")"
      ]
    },
    {
      "cell_type": "code",
      "execution_count": null,
      "metadata": {
        "id": "XSH42aohJx3g",
        "outputId": "3d34d386-733e-4a1f-832e-e6c2606d341f"
      },
      "outputs": [
        {
          "name": "stdout",
          "output_type": "stream",
          "text": [
            "No Name Dog is barking\n"
          ]
        }
      ],
      "source": [
        "tommy = Dog()\n",
        "tommy.bark()"
      ]
    },
    {
      "cell_type": "code",
      "execution_count": null,
      "metadata": {
        "id": "0RlIG5QXJx3g",
        "outputId": "67b6eeec-a350-4c7b-a5e3-c87cae1f2dbe"
      },
      "outputs": [
        {
          "name": "stdout",
          "output_type": "stream",
          "text": [
            "Tommy is barking\n"
          ]
        }
      ],
      "source": [
        "tommy.name = 'Tommy'\n",
        "tommy.bark()"
      ]
    },
    {
      "cell_type": "code",
      "execution_count": null,
      "metadata": {
        "id": "6s-Un5ZqJx3g",
        "outputId": "ea9c0cdb-e5ae-4541-bdbc-210de0eec42d"
      },
      "outputs": [
        {
          "name": "stdout",
          "output_type": "stream",
          "text": [
            "Jerry is barking\n"
          ]
        }
      ],
      "source": [
        "jerry = Dog()\n",
        "jerry.name = 'Jerry'\n",
        "jerry.bark()"
      ]
    },
    {
      "cell_type": "code",
      "execution_count": null,
      "metadata": {
        "id": "cyaJqeCxJx3h",
        "outputId": "52aa30a7-9eed-4fa0-cc72-ab496822ac24"
      },
      "outputs": [
        {
          "name": "stdout",
          "output_type": "stream",
          "text": [
            "Tommy is barking\n",
            "Jerry is barking\n"
          ]
        },
        {
          "data": {
            "text/plain": [
              "(None, None)"
            ]
          },
          "execution_count": 129,
          "metadata": {},
          "output_type": "execute_result"
        }
      ],
      "source": [
        "tommy.bark(), jerry.bark()"
      ]
    },
    {
      "cell_type": "code",
      "execution_count": null,
      "metadata": {
        "id": "PNzKGAftJx3h"
      },
      "outputs": [],
      "source": [
        "class Dog:\n",
        "    name = 'No Name Dog'\n",
        "    def __init__(self, name):\n",
        "        self.name = name\n",
        "    def bark(self):\n",
        "        print(f\"{self.name} is barking\")"
      ]
    },
    {
      "cell_type": "code",
      "execution_count": null,
      "metadata": {
        "id": "mdLQfQ3wJx3h"
      },
      "outputs": [],
      "source": [
        "class Animal:\n",
        "    name = 'No name'\n",
        "    hunger = 10\n",
        "    def eat(self, food): #object level\n",
        "        self.hunger -= food\n",
        "        print(f\"{self.name} ate {food}. Now, hunger: {self.hunger}\")\n",
        "    def speak(): # class level\n",
        "        print(\".\")"
      ]
    },
    {
      "cell_type": "code",
      "execution_count": null,
      "metadata": {
        "id": "kQtr_2S8Jx3h"
      },
      "outputs": [],
      "source": [
        "a = Animal()"
      ]
    },
    {
      "cell_type": "code",
      "execution_count": null,
      "metadata": {
        "id": "6bPp8MiMJx3h",
        "outputId": "f52dbce4-506f-4e11-feb7-314300f9dc41"
      },
      "outputs": [
        {
          "name": "stdout",
          "output_type": "stream",
          "text": [
            "No name ate 10. Now, hunger: 0\n"
          ]
        }
      ],
      "source": [
        "a.eat(10)"
      ]
    },
    {
      "cell_type": "code",
      "execution_count": null,
      "metadata": {
        "id": "vwevflYlJx3h",
        "outputId": "f4902d28-9eb3-49b4-e8e1-22eac7857499"
      },
      "outputs": [
        {
          "data": {
            "text/plain": [
              "0"
            ]
          },
          "execution_count": 167,
          "metadata": {},
          "output_type": "execute_result"
        }
      ],
      "source": [
        "a.hunger"
      ]
    },
    {
      "cell_type": "code",
      "execution_count": null,
      "metadata": {
        "id": "GVhsIRCuJx3h"
      },
      "outputs": [],
      "source": [
        "b = Animal()"
      ]
    },
    {
      "cell_type": "code",
      "execution_count": null,
      "metadata": {
        "id": "_HEmVZCMJx3h",
        "outputId": "90f1555f-6fbc-4a0a-e955-4193ca6adad2"
      },
      "outputs": [
        {
          "data": {
            "text/plain": [
              "10"
            ]
          },
          "execution_count": 169,
          "metadata": {},
          "output_type": "execute_result"
        }
      ],
      "source": [
        "b.hunger"
      ]
    },
    {
      "cell_type": "code",
      "execution_count": null,
      "metadata": {
        "id": "51d13k9WJx3h",
        "outputId": "23ae8550-4544-48dc-b66b-053d5b34eb16"
      },
      "outputs": [
        {
          "ename": "TypeError",
          "evalue": "speak() takes 0 positional arguments but 1 was given",
          "output_type": "error",
          "traceback": [
            "\u001b[0;31m---------------------------------------------------------------------------\u001b[0m",
            "\u001b[0;31mTypeError\u001b[0m                                 Traceback (most recent call last)",
            "\u001b[0;32m<ipython-input-170-f2129e1a35b1>\u001b[0m in \u001b[0;36m<module>\u001b[0;34m\u001b[0m\n\u001b[0;32m----> 1\u001b[0;31m \u001b[0ma\u001b[0m\u001b[0;34m.\u001b[0m\u001b[0mspeak\u001b[0m\u001b[0;34m(\u001b[0m\u001b[0;34m)\u001b[0m \u001b[0;31m# speak(a)\u001b[0m\u001b[0;34m\u001b[0m\u001b[0;34m\u001b[0m\u001b[0m\n\u001b[0m",
            "\u001b[0;31mTypeError\u001b[0m: speak() takes 0 positional arguments but 1 was given"
          ]
        }
      ],
      "source": [
        "a.speak() # speak(a)"
      ]
    },
    {
      "cell_type": "code",
      "execution_count": null,
      "metadata": {
        "id": "irrXZ0yyJx3h",
        "outputId": "0f389343-e2de-4a4c-ea65-132a07cb41be"
      },
      "outputs": [
        {
          "name": "stdout",
          "output_type": "stream",
          "text": [
            ".\n"
          ]
        }
      ],
      "source": [
        "Animal.speak()"
      ]
    },
    {
      "cell_type": "code",
      "execution_count": null,
      "metadata": {
        "id": "RlqU1Sd6Jx3h",
        "outputId": "e94d1581-9b18-429f-bdac-771ac55d301a"
      },
      "outputs": [
        {
          "name": "stdout",
          "output_type": "stream",
          "text": [
            "No name ate 100. Now, hunger: -90\n"
          ]
        }
      ],
      "source": [
        "a = Animal()\n",
        "Animal.eat(a, 100)"
      ]
    },
    {
      "cell_type": "code",
      "execution_count": null,
      "metadata": {
        "id": "e0G65WsPJx3h",
        "outputId": "0623e409-9a9f-4156-8c23-11963a536b64"
      },
      "outputs": [
        {
          "name": "stdout",
          "output_type": "stream",
          "text": [
            "No name ate 100. Now, hunger: -90\n"
          ]
        }
      ],
      "source": [
        "b = Animal()\n",
        "b.eat(100)"
      ]
    },
    {
      "cell_type": "code",
      "execution_count": null,
      "metadata": {
        "id": "sUrhNdgZJx3h"
      },
      "outputs": [],
      "source": [
        "class EightQueenSolver:\n",
        "    board = []\n",
        "    def __init__():\n",
        "        ...\n",
        "    def solve(self):\n",
        "        self.board.."
      ]
    },
    {
      "cell_type": "code",
      "execution_count": null,
      "metadata": {
        "id": "M8PNvT1uJx3h"
      },
      "outputs": [],
      "source": [
        "class Dog:\n",
        "    def __init__(self, name, breed, age):\n",
        "        self.name = name.upper()\n",
        "        self.breed = breed\n",
        "        self.age = age + 3\n",
        "    def bark(self):\n",
        "        print(f\"{self.name} is barking\")\n",
        "    def __repr__(s):\n",
        "        return f\"{s.name} / {s.age} / {s.breed}\""
      ]
    },
    {
      "cell_type": "code",
      "execution_count": null,
      "metadata": {
        "id": "iBYGI7e1Jx3h",
        "outputId": "e3b2d2f4-3001-49df-9db0-bfe8697b0081"
      },
      "outputs": [
        {
          "data": {
            "text/plain": [
              "'TOMMY'"
            ]
          },
          "execution_count": 224,
          "metadata": {},
          "output_type": "execute_result"
        }
      ],
      "source": [
        "tommy = Dog('Tommy', 'p', 10)\n",
        "tommy.name"
      ]
    },
    {
      "cell_type": "code",
      "execution_count": null,
      "metadata": {
        "id": "8vMKGosMJx3h",
        "outputId": "b084032c-9a87-4659-bccf-d876d831965c"
      },
      "outputs": [
        {
          "data": {
            "text/plain": [
              "'p'"
            ]
          },
          "execution_count": 225,
          "metadata": {},
          "output_type": "execute_result"
        }
      ],
      "source": [
        "tommy.breed"
      ]
    },
    {
      "cell_type": "code",
      "execution_count": null,
      "metadata": {
        "id": "qjgoFdTpJx3i",
        "outputId": "a0355f60-b55e-4fdf-ee50-eae0cac366eb"
      },
      "outputs": [
        {
          "data": {
            "text/plain": [
              "13"
            ]
          },
          "execution_count": 226,
          "metadata": {},
          "output_type": "execute_result"
        }
      ],
      "source": [
        "tommy.age"
      ]
    },
    {
      "cell_type": "code",
      "execution_count": null,
      "metadata": {
        "id": "HZMPTFYBJx3i",
        "outputId": "6f9da8b4-aacd-4bf8-e860-9e1e3fcae1c5"
      },
      "outputs": [
        {
          "data": {
            "text/plain": [
              "TOMMY / 13 / p"
            ]
          },
          "execution_count": 227,
          "metadata": {},
          "output_type": "execute_result"
        }
      ],
      "source": [
        "tommy"
      ]
    },
    {
      "cell_type": "code",
      "execution_count": null,
      "metadata": {
        "id": "sti4P4IMJx3i",
        "outputId": "2d2163c7-d7ef-45dd-9ae4-d3570df285e9"
      },
      "outputs": [
        {
          "data": {
            "text/plain": [
              "'TOMMY / 13 / p'"
            ]
          },
          "execution_count": 228,
          "metadata": {},
          "output_type": "execute_result"
        }
      ],
      "source": [
        "str(tommy)"
      ]
    },
    {
      "cell_type": "code",
      "execution_count": null,
      "metadata": {
        "id": "tKA5LjoiJx3i",
        "outputId": "5034457b-0c88-4e57-9b04-e15c41ff693e"
      },
      "outputs": [
        {
          "data": {
            "text/plain": [
              "['__class__',\n",
              " '__delattr__',\n",
              " '__dict__',\n",
              " '__dir__',\n",
              " '__doc__',\n",
              " '__eq__',\n",
              " '__format__',\n",
              " '__ge__',\n",
              " '__getattribute__',\n",
              " '__gt__',\n",
              " '__hash__',\n",
              " '__init__',\n",
              " '__init_subclass__',\n",
              " '__le__',\n",
              " '__lt__',\n",
              " '__module__',\n",
              " '__ne__',\n",
              " '__new__',\n",
              " '__reduce__',\n",
              " '__reduce_ex__',\n",
              " '__repr__',\n",
              " '__setattr__',\n",
              " '__sizeof__',\n",
              " '__str__',\n",
              " '__subclasshook__',\n",
              " '__weakref__',\n",
              " 'age',\n",
              " 'bark',\n",
              " 'breed',\n",
              " 'name']"
            ]
          },
          "execution_count": 222,
          "metadata": {},
          "output_type": "execute_result"
        }
      ],
      "source": [
        "dir(tommy)"
      ]
    },
    {
      "cell_type": "code",
      "execution_count": null,
      "metadata": {
        "id": "IvoSZsR2Jx3i"
      },
      "outputs": [],
      "source": [
        "class Animal:\n",
        "    name = 'No name'\n",
        "    hunger = 10\n",
        "    def eat(self, food): #object level\n",
        "        self.hunger -= food\n",
        "        print(f\"{self.name} ate {food}. Now, hunger: {self.hunger}\")\n",
        "    def speak(self):\n",
        "        print(None)"
      ]
    },
    {
      "cell_type": "code",
      "execution_count": null,
      "metadata": {
        "id": "_nObjRTYJx3i"
      },
      "outputs": [],
      "source": [
        "class Dog(Animal):\n",
        "    def __init__(self, name, breed, age):\n",
        "        self.name = name.upper()\n",
        "        self.breed = breed\n",
        "        self.age = age + 3\n",
        "    def bark(self):\n",
        "        print(f\"{self.name} is barking\")\n",
        "    def speak(self):\n",
        "        self.bark()\n",
        "    def __repr__(s):\n",
        "        return f\"{s.name} / {s.age} / {s.breed}\""
      ]
    },
    {
      "cell_type": "code",
      "execution_count": null,
      "metadata": {
        "id": "Kjedlwh-Jx3i"
      },
      "outputs": [],
      "source": [
        "# Inheritance"
      ]
    },
    {
      "cell_type": "code",
      "execution_count": null,
      "metadata": {
        "id": "KgwzbAawJx3i"
      },
      "outputs": [],
      "source": [
        "d = Dog('Tommy', 'B', 10)"
      ]
    },
    {
      "cell_type": "code",
      "execution_count": null,
      "metadata": {
        "id": "gzzkOBYzJx3i",
        "outputId": "cb1058d3-760e-4a56-d034-3054c0df83a5"
      },
      "outputs": [
        {
          "data": {
            "text/plain": [
              "'TOMMY'"
            ]
          },
          "execution_count": 259,
          "metadata": {},
          "output_type": "execute_result"
        }
      ],
      "source": [
        "d.name"
      ]
    },
    {
      "cell_type": "code",
      "execution_count": null,
      "metadata": {
        "id": "hM2i4sAVJx3i",
        "outputId": "227a2c22-36dd-446c-ac24-e81cc9ae72b6"
      },
      "outputs": [
        {
          "data": {
            "text/plain": [
              "10"
            ]
          },
          "execution_count": 260,
          "metadata": {},
          "output_type": "execute_result"
        }
      ],
      "source": [
        "d.hunger"
      ]
    },
    {
      "cell_type": "code",
      "execution_count": null,
      "metadata": {
        "id": "sD8HmPpyJx3i",
        "outputId": "3d67ff3a-e5f3-4c7d-840a-a93299195aab"
      },
      "outputs": [
        {
          "name": "stdout",
          "output_type": "stream",
          "text": [
            "TOMMY ate 5. Now, hunger: 5\n"
          ]
        }
      ],
      "source": [
        "d.eat(5)"
      ]
    },
    {
      "cell_type": "code",
      "execution_count": null,
      "metadata": {
        "id": "mXbSHNHyJx3i",
        "outputId": "1841fb1c-0d31-491b-f0c0-9e56dc117b1f"
      },
      "outputs": [
        {
          "ename": "TypeError",
          "evalue": "speak() missing 1 required positional argument: 'self'",
          "output_type": "error",
          "traceback": [
            "\u001b[0;31m---------------------------------------------------------------------------\u001b[0m",
            "\u001b[0;31mTypeError\u001b[0m                                 Traceback (most recent call last)",
            "\u001b[0;32m<ipython-input-262-3553febd85a6>\u001b[0m in \u001b[0;36m<module>\u001b[0;34m\u001b[0m\n\u001b[0;32m----> 1\u001b[0;31m \u001b[0mDog\u001b[0m\u001b[0;34m.\u001b[0m\u001b[0mspeak\u001b[0m\u001b[0;34m(\u001b[0m\u001b[0;34m)\u001b[0m\u001b[0;34m\u001b[0m\u001b[0;34m\u001b[0m\u001b[0m\n\u001b[0m",
            "\u001b[0;31mTypeError\u001b[0m: speak() missing 1 required positional argument: 'self'"
          ]
        }
      ],
      "source": [
        "Dog.speak()"
      ]
    },
    {
      "cell_type": "code",
      "execution_count": null,
      "metadata": {
        "id": "EmH5FvEgJx3i"
      },
      "outputs": [],
      "source": [
        "class Cat(Animal):\n",
        "    def __init__(self, name, owner, age):\n",
        "        self.name = name.upper()\n",
        "        self.owner = owner\n",
        "        self.age = age + 1\n",
        "    def purr(self):\n",
        "        print(f\"{self.name} is purring\")\n",
        "    def speak(self):\n",
        "        self.purr()"
      ]
    },
    {
      "cell_type": "code",
      "execution_count": null,
      "metadata": {
        "id": "VaTvs1FaJx3i",
        "outputId": "176b2686-415b-46f0-a586-df47dfa63550"
      },
      "outputs": [
        {
          "data": {
            "text/plain": [
              "<__main__.Cat at 0x7fa7eec31dd8>"
            ]
          },
          "execution_count": 264,
          "metadata": {},
          "output_type": "execute_result"
        }
      ],
      "source": [
        "c = Cat('tom', 'SG', 1)\n",
        "c"
      ]
    },
    {
      "cell_type": "code",
      "execution_count": null,
      "metadata": {
        "id": "x8Ke7sIVJx3i",
        "outputId": "dc2bf486-231f-4a9e-8fbb-2367fa9d35ba"
      },
      "outputs": [
        {
          "data": {
            "text/plain": [
              "TOMMY / 13 / B"
            ]
          },
          "execution_count": 265,
          "metadata": {},
          "output_type": "execute_result"
        }
      ],
      "source": [
        "d"
      ]
    },
    {
      "cell_type": "code",
      "execution_count": null,
      "metadata": {
        "id": "GZY7eeq7Jx3i",
        "outputId": "8ef93328-345d-49b7-c12a-29cbebe98e37"
      },
      "outputs": [
        {
          "name": "stdout",
          "output_type": "stream",
          "text": [
            "TOM ate 10. Now, hunger: 0\n",
            "TOM is purring\n",
            "TOMMY ate 10. Now, hunger: -5\n",
            "TOMMY is barking\n"
          ]
        }
      ],
      "source": [
        "animals = [c, d]\n",
        "for animal in animals:\n",
        "    animal.eat(10)\n",
        "    if isinstance(animal, Dog):\n",
        "        animal.bark()\n",
        "    else:\n",
        "        animal.purr()"
      ]
    },
    {
      "cell_type": "code",
      "execution_count": null,
      "metadata": {
        "id": "rm0q1-yWJx3j",
        "outputId": "86e92255-f0bb-4518-e5d2-9c7e67aa94ac"
      },
      "outputs": [
        {
          "data": {
            "text/plain": [
              "(__main__.Cat, __main__.Dog)"
            ]
          },
          "execution_count": 267,
          "metadata": {},
          "output_type": "execute_result"
        }
      ],
      "source": [
        "type(c), type(d)"
      ]
    },
    {
      "cell_type": "code",
      "execution_count": null,
      "metadata": {
        "id": "rWjh8IA-Jx3j",
        "outputId": "350851be-600c-4a5b-c679-658c6281d46e"
      },
      "outputs": [
        {
          "data": {
            "text/plain": [
              "True"
            ]
          },
          "execution_count": 250,
          "metadata": {},
          "output_type": "execute_result"
        }
      ],
      "source": []
    },
    {
      "cell_type": "code",
      "execution_count": null,
      "metadata": {
        "id": "97FO3t8qJx3j",
        "outputId": "1d63e6e7-1ede-4abc-c037-e2ab94e32147"
      },
      "outputs": [
        {
          "name": "stdout",
          "output_type": "stream",
          "text": [
            "TOM ate 10. Now, hunger: -10\n",
            "TOM is purring\n",
            "TOMMY ate 10. Now, hunger: -15\n",
            "TOMMY is barking\n"
          ]
        }
      ],
      "source": [
        "animals = [c, d]\n",
        "for animal in animals:\n",
        "    animal.eat(10)\n",
        "    animal.speak()"
      ]
    },
    {
      "cell_type": "code",
      "execution_count": null,
      "metadata": {
        "id": "pKSgcxlKJx3j",
        "outputId": "c43b76ba-b2c2-493f-928d-7d11e24cac64"
      },
      "outputs": [
        {
          "name": "stdout",
          "output_type": "stream",
          "text": [
            "__main__\n"
          ]
        }
      ],
      "source": [
        "print(__name__)"
      ]
    },
    {
      "cell_type": "code",
      "execution_count": null,
      "metadata": {
        "id": "FJJFZplJJx3j"
      },
      "outputs": [],
      "source": [
        "class Node:\n",
        "    def __init__(self, val):\n",
        "        self.data = val\n",
        "        self.L = None\n",
        "        self.R = None"
      ]
    },
    {
      "cell_type": "code",
      "execution_count": null,
      "metadata": {
        "id": "vNXpHlpcJx3j"
      },
      "outputs": [],
      "source": [
        "root = Node(10)"
      ]
    },
    {
      "cell_type": "code",
      "execution_count": null,
      "metadata": {
        "id": "D8AFvTLOJx3j",
        "outputId": "1b2d299b-1ae4-4abc-ab03-08e95e10018a"
      },
      "outputs": [
        {
          "data": {
            "text/plain": [
              "10"
            ]
          },
          "execution_count": 275,
          "metadata": {},
          "output_type": "execute_result"
        }
      ],
      "source": [
        "root.data"
      ]
    },
    {
      "cell_type": "code",
      "execution_count": null,
      "metadata": {
        "id": "Rk0M5sTzJx3j"
      },
      "outputs": [],
      "source": [
        "_1 = Node(-1)\n",
        "_2 = Node(-30)"
      ]
    },
    {
      "cell_type": "code",
      "execution_count": null,
      "metadata": {
        "id": "9YEcnXb5Jx3j"
      },
      "outputs": [],
      "source": [
        "root.L = _1\n",
        "root.R = _2"
      ]
    },
    {
      "cell_type": "code",
      "execution_count": null,
      "metadata": {
        "id": "M9SzYctZJx3j",
        "outputId": "0181b5dc-e379-419f-db0f-77f528a9ad91"
      },
      "outputs": [
        {
          "data": {
            "text/plain": [
              "10"
            ]
          },
          "execution_count": 279,
          "metadata": {},
          "output_type": "execute_result"
        }
      ],
      "source": [
        "root.data"
      ]
    },
    {
      "cell_type": "code",
      "execution_count": null,
      "metadata": {
        "id": "PPJCXN1EJx3j",
        "outputId": "24c1b002-6538-4038-dba3-6be86e6c883c"
      },
      "outputs": [
        {
          "data": {
            "text/plain": [
              "-1"
            ]
          },
          "execution_count": 280,
          "metadata": {},
          "output_type": "execute_result"
        }
      ],
      "source": [
        "root.L.data"
      ]
    },
    {
      "cell_type": "code",
      "execution_count": null,
      "metadata": {
        "id": "XdBdXZ1MJx3j",
        "outputId": "f1993cb8-80dd-46bf-ed29-3ecdd127b0ce"
      },
      "outputs": [
        {
          "data": {
            "text/plain": [
              "-30"
            ]
          },
          "execution_count": 281,
          "metadata": {},
          "output_type": "execute_result"
        }
      ],
      "source": [
        "root.R.data"
      ]
    },
    {
      "cell_type": "code",
      "execution_count": null,
      "metadata": {
        "id": "SFWVvzrjJx3j"
      },
      "outputs": [],
      "source": [
        "_1.L = Node(15)\n",
        "_1.R = Node(20)"
      ]
    },
    {
      "cell_type": "code",
      "execution_count": null,
      "metadata": {
        "id": "xiMoAIJDJx3k",
        "outputId": "f3f65c3c-295b-46b4-8bb5-849b722e6534"
      },
      "outputs": [
        {
          "data": {
            "text/plain": [
              "<__main__.Node at 0x7fa7eebc1668>"
            ]
          },
          "execution_count": 283,
          "metadata": {},
          "output_type": "execute_result"
        }
      ],
      "source": [
        "root"
      ]
    },
    {
      "cell_type": "code",
      "execution_count": null,
      "metadata": {
        "id": "ghnFS_ZsJx3k",
        "outputId": "c2b2e6b5-bf37-468f-b999-1be8df47552d"
      },
      "outputs": [
        {
          "data": {
            "text/plain": [
              "10"
            ]
          },
          "execution_count": 284,
          "metadata": {},
          "output_type": "execute_result"
        }
      ],
      "source": [
        "root.data"
      ]
    },
    {
      "cell_type": "code",
      "execution_count": null,
      "metadata": {
        "id": "kqPUT0KdJx3k",
        "outputId": "221b2f1b-3a28-4268-a2bb-bde45be9340a"
      },
      "outputs": [
        {
          "data": {
            "text/plain": [
              "-1"
            ]
          },
          "execution_count": 287,
          "metadata": {},
          "output_type": "execute_result"
        }
      ],
      "source": [
        "root.L.data"
      ]
    },
    {
      "cell_type": "code",
      "execution_count": null,
      "metadata": {
        "id": "67-qCvABJx3k",
        "outputId": "1111cd0a-708b-441b-f80b-67decc44c2ac"
      },
      "outputs": [
        {
          "data": {
            "text/plain": [
              "15"
            ]
          },
          "execution_count": 288,
          "metadata": {},
          "output_type": "execute_result"
        }
      ],
      "source": [
        "root.L.L.data"
      ]
    },
    {
      "cell_type": "code",
      "execution_count": null,
      "metadata": {
        "id": "H9nPmBlrJx3k"
      },
      "outputs": [],
      "source": [
        "root.L.R.data"
      ]
    },
    {
      "cell_type": "code",
      "execution_count": null,
      "metadata": {
        "id": "mQjIp20kJx3k"
      },
      "outputs": [],
      "source": [
        "root.printtree()"
      ]
    },
    {
      "cell_type": "code",
      "execution_count": null,
      "metadata": {
        "id": "YmHgYY0SJx3k"
      },
      "outputs": [],
      "source": [
        "class Node:\n",
        "    def __init__(self, val):\n",
        "        self.data = val\n",
        "        self.L = None\n",
        "        self.R = None\n",
        "    def printtree(self):\n",
        "        if self.L != None:\n",
        "            self.L.printtree()\n",
        "        print(self.data)\n",
        "        if self.R != None:\n",
        "            self.R.printtree()\n",
        "    def minval(self):\n",
        "        # TODO:\n",
        "    def maxval(self):\n",
        "        # TODO:"
      ]
    },
    {
      "cell_type": "code",
      "execution_count": null,
      "metadata": {
        "id": "HXxSyLLqJx3k"
      },
      "outputs": [],
      "source": [
        "root = Node(10)\n",
        "_1 = Node(-1)\n",
        "_1.L = Node(15)\n",
        "_1.R = Node(20)\n",
        "\n",
        "_2 = Node(-30)\n",
        "root.L = _1\n",
        "root.R = _2\n"
      ]
    },
    {
      "cell_type": "code",
      "execution_count": null,
      "metadata": {
        "id": "P01Rm6gGJx3k",
        "outputId": "16020549-7c43-4a2b-a4f5-8578b2be2452"
      },
      "outputs": [
        {
          "name": "stdout",
          "output_type": "stream",
          "text": [
            "15\n",
            "-1\n",
            "20\n",
            "10\n",
            "-30\n"
          ]
        }
      ],
      "source": [
        "root.printtree()"
      ]
    },
    {
      "cell_type": "code",
      "execution_count": null,
      "metadata": {
        "id": "3aW73V5GJx3k"
      },
      "outputs": [],
      "source": [
        "# A decision Tree is a tool to help you make decision"
      ]
    },
    {
      "cell_type": "code",
      "execution_count": null,
      "metadata": {
        "id": "0rH135IRJx3k"
      },
      "outputs": [],
      "source": [
        "# Create a decision tree to select or reject a job offer.\n",
        "# A job offer has criterias: salary=456, distance=45, cofee=1, is nightshift\n",
        "# Every Node is either a decision Yes or No\n",
        "# Or the node boundary:\n",
        "    criteria - salary\n",
        "    value   - 1000\n",
        "# You go to left side of the node, if criteria <= value\n",
        "# You go to the fight of the node, if criteria > value\n",
        "\n",
        "dt = DecisionTreeNode()\n",
        "dt.boundary = \"salary\"\n",
        "dr.boundary_value = 1000\n",
        "dt.left = NO()\n",
        "minimal_job = DecisionTreeNode()\n",
        "dt.right = minimal_job\n",
        "minimal_job.boundary = 'distance'\n",
        "minimal_job.boundary_value = 40\n",
        "minimal_job.left = YES()\n",
        "minimal_job.right = NO()\n",
        "...\n",
        "...\n",
        "\n",
        "job_description = {\n",
        "    \"salary\": 1000,\n",
        "    \"distance\": 45,\n",
        "    \"coffe\": 1\n",
        "}\n",
        "job_dt.check(job_desciption) # Return True or False\n"
      ]
    }
  ],
  "metadata": {
    "kernelspec": {
      "display_name": "Python 3",
      "language": "python",
      "name": "python3"
    },
    "language_info": {
      "codemirror_mode": {
        "name": "ipython",
        "version": 3
      },
      "file_extension": ".py",
      "mimetype": "text/x-python",
      "name": "python",
      "nbconvert_exporter": "python",
      "pygments_lexer": "ipython3",
      "version": "3.6.8"
    },
    "toc": {
      "base_numbering": 1,
      "nav_menu": {},
      "number_sections": true,
      "sideBar": true,
      "skip_h1_title": false,
      "title_cell": "Table of Contents",
      "title_sidebar": "Contents",
      "toc_cell": false,
      "toc_position": {},
      "toc_section_display": true,
      "toc_window_display": false
    },
    "colab": {
      "provenance": []
    }
  },
  "nbformat": 4,
  "nbformat_minor": 0
}