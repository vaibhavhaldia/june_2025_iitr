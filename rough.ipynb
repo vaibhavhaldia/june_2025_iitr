{
 "cells": [
  {
   "cell_type": "code",
   "execution_count": 1,
   "id": "96c69a8c",
   "metadata": {},
   "outputs": [],
   "source": [
    "def sort_colors(arr):\n",
    "\tcount = {'red': 0, 'green': 0, 'blue': 0}\n",
    "\tfor i in arr:\n",
    "\t\tif i == 0:\n",
    "\t\t\tcount['red'] += 1\n",
    "\t\telif i == 1:\n",
    "\t\t\tcount['green'] += 1\n",
    "\t\telif i == 2:\n",
    "\t\t\tcount['blue'] += 1\n",
    "\t\n",
    "\t# fill the arr with the sorted colors\n",
    "\tindex = 0\n",
    "\tfor color, num in count.items():\n",
    "\t\tfor _ in range(num):\n",
    "\t\t\tif color == 'red':\n",
    "\t\t\t\tarr[index] = 0\n",
    "\t\t\telif color == 'green':\n",
    "\t\t\t\tarr[index] = 1\n",
    "\t\t\telif color == 'blue':\n",
    "\t\t\t\tarr[index] = 2\n",
    "\t\t\tindex += 1\n",
    "\treturn arr\n",
    "\n",
    "\n",
    "    # now i have to sort the colors in the arr and fill the arr with the sorted colors\n",
    "\t"
   ]
  },
  {
   "cell_type": "code",
   "execution_count": 2,
   "id": "ad7f6d4b",
   "metadata": {},
   "outputs": [
    {
     "data": {
      "text/plain": [
       "[0, 0, 0, 1, 1, 2, 2]"
      ]
     },
     "execution_count": 2,
     "metadata": {},
     "output_type": "execute_result"
    }
   ],
   "source": [
    "sort_colors([0, 1, 2, 0, 1, 2, 0])  # Example usage, should return {'red': 3, 'green': 2, 'blue': 2}"
   ]
  },
  {
   "cell_type": "code",
   "execution_count": null,
   "id": "781c4826",
   "metadata": {},
   "outputs": [],
   "source": []
  }
 ],
 "metadata": {
  "kernelspec": {
   "display_name": "base",
   "language": "python",
   "name": "python3"
  },
  "language_info": {
   "codemirror_mode": {
    "name": "ipython",
    "version": 3
   },
   "file_extension": ".py",
   "mimetype": "text/x-python",
   "name": "python",
   "nbconvert_exporter": "python",
   "pygments_lexer": "ipython3",
   "version": "3.13.5"
  }
 },
 "nbformat": 4,
 "nbformat_minor": 5
}
